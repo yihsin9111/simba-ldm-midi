{
 "cells": [
  {
   "cell_type": "code",
   "execution_count": 1,
   "metadata": {},
   "outputs": [],
   "source": [
    "# set cuda visible device\n",
    "import os\n",
    "os.environ[\"CUDA_VISIBLE_DEVICES\"] = \"2\"  # or \"1\", \"0,1\", etc."
   ]
  },
  {
   "cell_type": "markdown",
   "metadata": {},
   "source": [
    "### Clean Path and Import"
   ]
  },
  {
   "cell_type": "code",
   "execution_count": 2,
   "metadata": {},
   "outputs": [],
   "source": [
    "def switch_to_mamba_only():\n",
    "    import sys\n",
    "\n",
    "    desired_path = \"/home/yihsin/simba-ldm-midi\"\n",
    "    unwanted_path = \"/home/yihsin/mamba\"\n",
    "\n",
    "    # Remove unwanted path\n",
    "    if unwanted_path in sys.path:\n",
    "        sys.path.remove(unwanted_path)\n",
    "\n",
    "    # Remove any cached modules from unwanted path\n",
    "    for name, module in list(sys.modules.items()):\n",
    "        if hasattr(module, '__file__') and module.__file__ and unwanted_path in module.__file__:\n",
    "            del sys.modules[name]\n",
    "\n",
    "    # Add desired path if not already\n",
    "    if desired_path not in sys.path:\n",
    "        sys.path.insert(0, desired_path)\n",
    "\n",
    "switch_to_mamba_only()"
   ]
  },
  {
   "cell_type": "code",
   "execution_count": 3,
   "metadata": {},
   "outputs": [],
   "source": [
    "# python \n",
    "import json\n",
    "import random\n",
    "from tqdm import tqdm\n",
    "\n",
    "# pytorch\n",
    "import torch\n",
    "from torch import nn\n",
    "import torch.nn.functional as F\n",
    "from torch.utils.data import Dataset, DataLoader\n",
    "\n",
    "# custom model\n",
    "\n",
    "from pl_model import Text_Mmamba_pl"
   ]
  },
  {
   "cell_type": "markdown",
   "metadata": {},
   "source": [
    "### Util Functions (pre-defined)"
   ]
  },
  {
   "cell_type": "code",
   "execution_count": 12,
   "metadata": {},
   "outputs": [],
   "source": [
    "import os\n",
    "import pickle\n",
    "\n",
    "def write_pkl(obj, filename):\n",
    "    with open(filename, 'wb') as f:\n",
    "        pickle.dump(obj, f)\n",
    "\n",
    "def read_pkl(filename):\n",
    "    with open(filename, 'rb') as f:\n",
    "        return pickle.load(f)\n",
    "\n",
    "def get_dict(dict_path=\"/home/yihsin/mamba/vocab/skyline2midi_vocab.pkl\"):\n",
    "    return read_pkl(dict_path)"
   ]
  },
  {
   "cell_type": "code",
   "execution_count": 13,
   "metadata": {},
   "outputs": [
    {
     "name": "stderr",
     "output_type": "stream",
     "text": [
      "/home/yihsin/miniforge3/envs/mmpy11/lib/python3.11/site-packages/miditok/tokenizations/remi.py:88: UserWarning: Attribute controls are not compatible with 'config.one_token_stream_for_programs' and multi-vocabulary tokenizers. Disabling them from the config.\n",
      "  super().__init__(tokenizer_config, params)\n"
     ]
    }
   ],
   "source": [
    "# define tokenizer\n",
    "from miditok import REMI, TokenizerConfig  # here we choose to use REMI\n",
    "\n",
    "# Our parameters <- use default tokens & remi+ for first trial\n",
    "TOKENIZER_PARAMS = {\n",
    "    \"pitch_range\": (21, 109),\n",
    "    \"beat_res\": {(0, 4): 8, (4, 12): 4},\n",
    "    \"num_velocities\": 32,\n",
    "    \"special_tokens\": [\"PAD\", \"BOS\", \"EOS\", \"MASK\"],\n",
    "    \"use_chords\": True,\n",
    "    \"use_rests\": False,\n",
    "    \"use_tempos\": True,\n",
    "    \"use_time_signatures\": True, #remi+\n",
    "    \"use_programs\": True,        #remi+\n",
    "    \"num_tempos\": 32,  # number of tempo bins\n",
    "    \"tempo_range\": (40, 250),  # (min, max)\n",
    "    \"one_token_stream_for_programs\": True\n",
    "}\n",
    "config = TokenizerConfig(**TOKENIZER_PARAMS)\n",
    "\n",
    "# Creates the tokenizer\n",
    "tokenizer = REMI(config)\n",
    "event2idx = tokenizer.vocab\n",
    "# idx2event[i] = event corresponding to index i\n",
    "idx2event = [event for event, idx in sorted(event2idx.items(), key=lambda x: x[1])]"
   ]
  },
  {
   "cell_type": "markdown",
   "metadata": {},
   "source": [
    "### Util Functions (Custom)"
   ]
  },
  {
   "cell_type": "code",
   "execution_count": 14,
   "metadata": {},
   "outputs": [],
   "source": [
    "# model set up\n",
    "import torch\n",
    "from tqdm import tqdm\n",
    "\n",
    "def top_k_logits(logits, k):\n",
    "    \"\"\"Keep only top k logits.\"\"\"\n",
    "    v, ix = torch.topk(logits, k)\n",
    "    mask = logits < v[..., -1, None]\n",
    "    logits[mask] = -float('Inf')\n",
    "    return logits\n",
    "\n",
    "def top_p_logits(logits, p=0.9):\n",
    "    \"\"\"Nucleus (top-p) filtering\"\"\"\n",
    "    sorted_logits, sorted_indices = torch.sort(logits, descending=True)\n",
    "    cumulative_probs = torch.cumsum(torch.softmax(sorted_logits, dim=-1), dim=-1)\n",
    "\n",
    "    sorted_mask = cumulative_probs > p\n",
    "    # Shift mask to include the first token above p\n",
    "    sorted_mask[..., 1:] = sorted_mask[..., :-1].clone()\n",
    "    sorted_mask[..., 0] = 0\n",
    "\n",
    "    # Scatter back to original ordering\n",
    "    mask = torch.zeros_like(logits, dtype=torch.bool).scatter_(-1, sorted_indices, sorted_mask)\n",
    "    logits[mask] = -float('Inf')\n",
    "    return logits\n",
    "\n",
    "@torch.no_grad()\n",
    "def generate_autoregressively(\n",
    "    model,\n",
    "    seq_len=100,\n",
    "    codec_layer=1,\n",
    "    temperature=1.0,\n",
    "    sample=True,\n",
    "    prompt=None,\n",
    "    top_k=None,\n",
    "    top_p=None\n",
    "):\n",
    "    device = next(model.parameters()).device\n",
    "\n",
    "    if prompt is None:\n",
    "        # Default start: token 0, shape [1, codec_layer, 10]\n",
    "        generated = torch.zeros((1, codec_layer, 10), dtype=torch.long, device=device)\n",
    "    else:\n",
    "        generated = torch.tensor(prompt, device=device).unsqueeze(0).unsqueeze(0)\n",
    "\n",
    "    for _ in tqdm(range(seq_len), desc=\"Generating\"):\n",
    "        # output = model(generated, [], [])  # shape: [1, codec_layer, seq_len, vocab_size]\n",
    "        output = model.forward(generated.squeeze(1)).unsqueeze(1)\n",
    "        logits = output[:, :, -1:, :]  # shape: [1, codec_layer, 1, vocab_size]\n",
    "        logits = logits / temperature\n",
    "\n",
    "        if top_k is not None:\n",
    "            logits = top_k_logits(logits, top_k)\n",
    "        if top_p is not None:\n",
    "            logits = top_p_logits(logits, top_p)\n",
    "\n",
    "        probs = torch.softmax(logits, dim=-1)\n",
    "\n",
    "        if sample:\n",
    "            next_token = torch.multinomial(probs.view(-1, probs.shape[-1]), num_samples=1)\n",
    "        else:\n",
    "            next_token = torch.argmax(probs, dim=-1).view(-1, 1)\n",
    "\n",
    "        next_token = next_token.unsqueeze(0)  # shape: [1, codec_layer, 1]\n",
    "        generated = torch.cat([generated, next_token], dim=2)\n",
    "\n",
    "    return generated"
   ]
  },
  {
   "cell_type": "markdown",
   "metadata": {},
   "source": [
    "### Start Generation"
   ]
  },
  {
   "cell_type": "code",
   "execution_count": 4,
   "metadata": {},
   "outputs": [],
   "source": [
    "# path and dictionary setups\n",
    "# event2idx, idx2event = get_dict()\n",
    "dataset_path = \"/home/yihsin/midicaps-mini-parsed\""
   ]
  },
  {
   "cell_type": "code",
   "execution_count": 5,
   "metadata": {},
   "outputs": [],
   "source": [
    "# model setup\n",
    "model_path = \"/home/yihsin/simba-ldm-midi/midicaps-gen/r9ka35jh/checkpoints/epoch=83-step=11000.ckpt\"\n",
    "config_path = \"/home/yihsin/simba-ldm-midi/0530-simple-trial/new_project/config.json\"\n",
    "generation_root = \"./generation_0507_step11000_test\""
   ]
  },
  {
   "cell_type": "code",
   "execution_count": 6,
   "metadata": {},
   "outputs": [
    {
     "name": "stderr",
     "output_type": "stream",
     "text": [
      "You are using the default legacy behaviour of the <class 'transformers.models.t5.tokenization_t5.T5Tokenizer'>. This is expected, and simply means that the `legacy` (previous) behavior will be used so nothing changes for you. If you want to use the new behaviour, set `legacy=False`. This should only be set if you understand what it means, and thoroughly read the reason why this was added as explained in https://github.com/huggingface/transformers/pull/24565\n"
     ]
    },
    {
     "name": "stdout",
     "output_type": "stream",
     "text": [
      "[simba] not in-context, use cross attention\n"
     ]
    }
   ],
   "source": [
    "with open(config_path) as f:\n",
    "    config = json.load(f)\n",
    "\n",
    "model = Text_Mmamba_pl.load_from_checkpoint(model_path, config)\n",
    "device = 'cuda' if torch.cuda.is_available() else 'cpu'\n",
    "model = model.to(device)\n",
    "model.eval()\n",
    "model.freeze()"
   ]
  },
  {
   "cell_type": "code",
   "execution_count": 7,
   "metadata": {},
   "outputs": [
    {
     "name": "stdout",
     "output_type": "stream",
     "text": [
      "[dataloader] valid set initialization done with 168 files.\n"
     ]
    }
   ],
   "source": [
    "from dataloader import *\n",
    "train_data = MIDICaps_Dataset(\n",
    "    root_path = dataset_path, \n",
    "    trv = \"valid\",\n",
    "    codec_layer=1, \n",
    "    is_incontext = False\n",
    ")\n",
    "loader = DataLoader(dataset=train_data, batch_size = 1, shuffle=True, num_workers=4, pin_memory=True)"
   ]
  },
  {
   "cell_type": "code",
   "execution_count": 8,
   "metadata": {},
   "outputs": [],
   "source": [
    "import random\n",
    "\n",
    "# Convert DataLoader to a list to access individual samples (careful with large datasets)\n",
    "samples = list(loader)\n",
    "\n",
    "# Randomly choose 3 samples\n",
    "chosen_samples = random.sample(samples, 3)\n",
    "\n",
    "# Iterate through them"
   ]
  },
  {
   "cell_type": "code",
   "execution_count": 9,
   "metadata": {},
   "outputs": [
    {
     "name": "stdout",
     "output_type": "stream",
     "text": [
      "Sample 1:\n",
      "['A melodic and relaxing jazz song featuring acoustic guitar, piano, acoustic bass, and drums, perfect for the Christmas season or as background music for a documentary. Set in the key of F major with a 4/4 time signature, it maintains an Allegro tempo throughout its duration.']\n"
     ]
    },
    {
     "name": "stderr",
     "output_type": "stream",
     "text": [
      "100%|██████████| 872/872 [01:33<00:00,  9.31it/s]\n"
     ]
    },
    {
     "name": "stdout",
     "output_type": "stream",
     "text": [
      "Sample 2:\n",
      "['A melodic rock song with electronic elements, featuring a clean electric guitar playing the lead, accompanied by a string ensemble, fretless bass, and voice oohs. Set in the key of F minor with a 4/4 time signature, it moves at an Andante tempo, creating a relaxing and somewhat dark atmosphere. The chord progression of C#, Eb, and Fm is prominent throughout the piece, adding to its emotive quality.']\n"
     ]
    },
    {
     "name": "stderr",
     "output_type": "stream",
     "text": [
      "100%|██████████| 872/872 [01:24<00:00, 10.29it/s]\n"
     ]
    },
    {
     "name": "stdout",
     "output_type": "stream",
     "text": [
      "Sample 3:\n",
      "[\"This lengthy pop composition exudes a joyful and melodic energy, driven by a dynamic blend of drums, piano, brass section, alto saxophone, and electric bass. Set in A minor and maintaining a moderate 4/4 tempo, it's an uplifting piece that's well-suited for corporate or background settings.\"]\n"
     ]
    },
    {
     "name": "stderr",
     "output_type": "stream",
     "text": [
      "100%|██████████| 872/872 [01:28<00:00,  9.83it/s]\n"
     ]
    }
   ],
   "source": [
    "L = 2588//3\n",
    "prompt_seqs = []\n",
    "with torch.autocast(device_type=\"cuda\", dtype=torch.float32):\n",
    "    with torch.no_grad():\n",
    "        device = 'cuda'\n",
    "        for i, sample in enumerate(chosen_samples):\n",
    "            print(f\"Sample {i + 1}:\")\n",
    "            # assuming sample is (input, label)\n",
    "            x, mask, y, des = sample\n",
    "            print(des[\"description\"])\n",
    "            prompt_seq = model(description=des[\"description\"], length=L, g_scale=3)\n",
    "            prompt_seqs.append(prompt_seq)"
   ]
  },
  {
   "cell_type": "code",
   "execution_count": 19,
   "metadata": {},
   "outputs": [],
   "source": [
    "tokens = prompt_seqs[1].reshape(-1)\n",
    "tokens = tokens[tokens != 530]\n",
    "generated_midi = tokenizer(tokens)  # MidiTok can handle PyTorch/Numpy/Tensorflow tensors\n",
    "generated_midi.dump_midi(\"./decoded_midi.mid\")"
   ]
  },
  {
   "cell_type": "code",
   "execution_count": null,
   "metadata": {},
   "outputs": [],
   "source": [
    "# test different configurations\n",
    "test_tempatures = [0.9,1.2,1.5]\n",
    "test_p = [0.9]\n",
    "test_k = [5]"
   ]
  },
  {
   "cell_type": "code",
   "execution_count": null,
   "metadata": {},
   "outputs": [
    {
     "name": "stdout",
     "output_type": "stream",
     "text": [
      "--- sample 004_740 ---\n",
      "[Event(name: Bar | value: None), Event(name: Beat | value: 0), Event(name: Tempo | value: 143), Event(name: Chord | value: None_None), Event(name: Beat | value: 8), Event(name: Tempo | value: Conti), Event(name: Chord | value: Conti_Conti), Event(name: Beat | value: 12), Event(name: Tempo | value: Conti), Event(name: Chord | value: Conti_Conti), Event(name: Bar | value: None), Event(name: Beat | value: 0), Event(name: Tempo | value: 146), Event(name: Chord | value: 11_sus2), Event(name: Note_Pitch | value: 71), Event(name: Note_Duration | value: 1080), Event(name: Note_Velocity | value: 67), Event(name: Beat | value: 4), Event(name: Tempo | value: 143), Event(name: Chord | value: Conti_Conti)]\n",
      "# tempo changes: 19 | # notes: 21\n",
      "start generation of 004_740_t=0.9_k=5_p=0.9.mid\n"
     ]
    },
    {
     "name": "stderr",
     "output_type": "stream",
     "text": [
      "Generating:   0%|          | 0/2000 [00:00<?, ?it/s]"
     ]
    },
    {
     "name": "stderr",
     "output_type": "stream",
     "text": [
      "Generating: 100%|██████████| 2000/2000 [01:06<00:00, 29.88it/s]\n"
     ]
    },
    {
     "name": "stdout",
     "output_type": "stream",
     "text": [
      "[Event(name: Bar | value: None), Event(name: Beat | value: 0), Event(name: Tempo | value: 143), Event(name: Chord | value: None_None), Event(name: Beat | value: 8), Event(name: Tempo | value: Conti), Event(name: Chord | value: Conti_Conti), Event(name: Beat | value: 12), Event(name: Tempo | value: Conti), Event(name: Chord | value: Conti_Conti), Event(name: Bar | value: None), Event(name: Beat | value: 0), Event(name: Tempo | value: 146), Event(name: Chord | value: 11_sus2), Event(name: Note_Pitch | value: 71), Event(name: Note_Duration | value: 1080), Event(name: Note_Velocity | value: 67), Event(name: Beat | value: 4), Event(name: Tempo | value: 143), Event(name: Chord | value: Conti_Conti)]\n",
      "# tempo changes: 53 | # notes: 377\n",
      "start generation of 004_740_t=1.2_k=5_p=0.9.mid\n"
     ]
    },
    {
     "name": "stderr",
     "output_type": "stream",
     "text": [
      "Generating: 100%|██████████| 2000/2000 [01:05<00:00, 30.35it/s]\n"
     ]
    },
    {
     "name": "stdout",
     "output_type": "stream",
     "text": [
      "[Event(name: Bar | value: None), Event(name: Beat | value: 0), Event(name: Tempo | value: 143), Event(name: Chord | value: None_None), Event(name: Beat | value: 8), Event(name: Tempo | value: Conti), Event(name: Chord | value: Conti_Conti), Event(name: Beat | value: 12), Event(name: Tempo | value: Conti), Event(name: Chord | value: Conti_Conti), Event(name: Bar | value: None), Event(name: Beat | value: 0), Event(name: Tempo | value: 146), Event(name: Chord | value: 11_sus2), Event(name: Note_Pitch | value: 71), Event(name: Note_Duration | value: 1080), Event(name: Note_Velocity | value: 67), Event(name: Beat | value: 4), Event(name: Tempo | value: 143), Event(name: Chord | value: Conti_Conti)]\n",
      "# tempo changes: 248 | # notes: 331\n",
      "start generation of 004_740_t=1.5_k=5_p=0.9.mid\n"
     ]
    },
    {
     "name": "stderr",
     "output_type": "stream",
     "text": [
      "Generating: 100%|██████████| 2000/2000 [01:04<00:00, 30.89it/s]\n"
     ]
    },
    {
     "name": "stdout",
     "output_type": "stream",
     "text": [
      "[Event(name: Bar | value: None), Event(name: Beat | value: 0), Event(name: Tempo | value: 143), Event(name: Chord | value: None_None), Event(name: Beat | value: 8), Event(name: Tempo | value: Conti), Event(name: Chord | value: Conti_Conti), Event(name: Beat | value: 12), Event(name: Tempo | value: Conti), Event(name: Chord | value: Conti_Conti), Event(name: Bar | value: None), Event(name: Beat | value: 0), Event(name: Tempo | value: 146), Event(name: Chord | value: 11_sus2), Event(name: Note_Pitch | value: 71), Event(name: Note_Duration | value: 1080), Event(name: Note_Velocity | value: 67), Event(name: Beat | value: 4), Event(name: Tempo | value: 143), Event(name: Chord | value: Conti_Conti)]\n",
      "# tempo changes: 227 | # notes: 334\n"
     ]
    },
    {
     "name": "stderr",
     "output_type": "stream",
     "text": [
      "Generating: 100%|██████████| 2000/2000 [01:04<00:00, 31.06it/s]\n"
     ]
    },
    {
     "name": "stdout",
     "output_type": "stream",
     "text": [
      "[Event(name: Bar | value: None), Event(name: Beat | value: 0), Event(name: Tempo | value: 143), Event(name: Chord | value: None_None), Event(name: Beat | value: 8), Event(name: Tempo | value: Conti), Event(name: Chord | value: Conti_Conti), Event(name: Beat | value: 12), Event(name: Tempo | value: Conti), Event(name: Chord | value: Conti_Conti), Event(name: Bar | value: None), Event(name: Beat | value: 0), Event(name: Tempo | value: 146), Event(name: Chord | value: 11_sus2), Event(name: Note_Pitch | value: 71), Event(name: Note_Duration | value: 1080), Event(name: Note_Velocity | value: 67), Event(name: Beat | value: 4), Event(name: Tempo | value: 143), Event(name: Chord | value: Conti_Conti)]\n",
      "# tempo changes: 142 | # notes: 342\n",
      "--- sample 004_878 ---\n",
      "[Event(name: Bar | value: None), Event(name: Beat | value: 0), Event(name: Tempo | value: 89), Event(name: Chord | value: None_None), Event(name: Beat | value: 8), Event(name: Tempo | value: Conti), Event(name: Chord | value: Conti_Conti), Event(name: Beat | value: 12), Event(name: Tempo | value: Conti), Event(name: Chord | value: Conti_Conti), Event(name: Bar | value: None), Event(name: Beat | value: 0), Event(name: Tempo | value: 92), Event(name: Chord | value: 0_M), Event(name: Note_Pitch | value: 60), Event(name: Note_Duration | value: 600), Event(name: Note_Velocity | value: 52), Event(name: Note_Pitch | value: 55), Event(name: Note_Duration | value: 720), Event(name: Note_Velocity | value: 46)]\n",
      "# tempo changes: 10 | # notes: 30\n",
      "start generation of 004_878_t=0.9_k=5_p=0.9.mid\n"
     ]
    },
    {
     "name": "stderr",
     "output_type": "stream",
     "text": [
      "Generating: 100%|██████████| 2000/2000 [01:05<00:00, 30.53it/s]\n"
     ]
    },
    {
     "name": "stdout",
     "output_type": "stream",
     "text": [
      "[Event(name: Bar | value: None), Event(name: Beat | value: 0), Event(name: Tempo | value: 89), Event(name: Chord | value: None_None), Event(name: Beat | value: 8), Event(name: Tempo | value: Conti), Event(name: Chord | value: Conti_Conti), Event(name: Beat | value: 12), Event(name: Tempo | value: Conti), Event(name: Chord | value: Conti_Conti), Event(name: Bar | value: None), Event(name: Beat | value: 0), Event(name: Tempo | value: 92), Event(name: Chord | value: 0_M), Event(name: Note_Pitch | value: 60), Event(name: Note_Duration | value: 600), Event(name: Note_Velocity | value: 52), Event(name: Note_Pitch | value: 55), Event(name: Note_Duration | value: 720), Event(name: Note_Velocity | value: 46)]\n",
      "# tempo changes: 17 | # notes: 596\n",
      "start generation of 004_878_t=1.2_k=5_p=0.9.mid\n"
     ]
    },
    {
     "name": "stderr",
     "output_type": "stream",
     "text": [
      "Generating: 100%|██████████| 2000/2000 [01:05<00:00, 30.38it/s]\n"
     ]
    },
    {
     "name": "stdout",
     "output_type": "stream",
     "text": [
      "[Event(name: Bar | value: None), Event(name: Beat | value: 0), Event(name: Tempo | value: 89), Event(name: Chord | value: None_None), Event(name: Beat | value: 8), Event(name: Tempo | value: Conti), Event(name: Chord | value: Conti_Conti), Event(name: Beat | value: 12), Event(name: Tempo | value: Conti), Event(name: Chord | value: Conti_Conti), Event(name: Bar | value: None), Event(name: Beat | value: 0), Event(name: Tempo | value: 92), Event(name: Chord | value: 0_M), Event(name: Note_Pitch | value: 60), Event(name: Note_Duration | value: 600), Event(name: Note_Velocity | value: 52), Event(name: Note_Pitch | value: 55), Event(name: Note_Duration | value: 720), Event(name: Note_Velocity | value: 46)]\n",
      "# tempo changes: 87 | # notes: 543\n",
      "start generation of 004_878_t=1.5_k=5_p=0.9.mid\n"
     ]
    },
    {
     "name": "stderr",
     "output_type": "stream",
     "text": [
      "Generating: 100%|██████████| 2000/2000 [01:05<00:00, 30.59it/s]\n"
     ]
    },
    {
     "name": "stdout",
     "output_type": "stream",
     "text": [
      "[Event(name: Bar | value: None), Event(name: Beat | value: 0), Event(name: Tempo | value: 89), Event(name: Chord | value: None_None), Event(name: Beat | value: 8), Event(name: Tempo | value: Conti), Event(name: Chord | value: Conti_Conti), Event(name: Beat | value: 12), Event(name: Tempo | value: Conti), Event(name: Chord | value: Conti_Conti), Event(name: Bar | value: None), Event(name: Beat | value: 0), Event(name: Tempo | value: 92), Event(name: Chord | value: 0_M), Event(name: Note_Pitch | value: 60), Event(name: Note_Duration | value: 600), Event(name: Note_Velocity | value: 52), Event(name: Note_Pitch | value: 55), Event(name: Note_Duration | value: 720), Event(name: Note_Velocity | value: 46)]\n",
      "# tempo changes: 52 | # notes: 620\n"
     ]
    },
    {
     "name": "stderr",
     "output_type": "stream",
     "text": [
      "Generating: 100%|██████████| 2000/2000 [01:04<00:00, 31.17it/s]\n"
     ]
    },
    {
     "name": "stdout",
     "output_type": "stream",
     "text": [
      "[Event(name: Bar | value: None), Event(name: Beat | value: 0), Event(name: Tempo | value: 89), Event(name: Chord | value: None_None), Event(name: Beat | value: 8), Event(name: Tempo | value: Conti), Event(name: Chord | value: Conti_Conti), Event(name: Beat | value: 12), Event(name: Tempo | value: Conti), Event(name: Chord | value: Conti_Conti), Event(name: Bar | value: None), Event(name: Beat | value: 0), Event(name: Tempo | value: 92), Event(name: Chord | value: 0_M), Event(name: Note_Pitch | value: 60), Event(name: Note_Duration | value: 600), Event(name: Note_Velocity | value: 52), Event(name: Note_Pitch | value: 55), Event(name: Note_Duration | value: 720), Event(name: Note_Velocity | value: 46)]\n",
      "# tempo changes: 23 | # notes: 682\n",
      "--- sample 002_253 ---\n",
      "[Event(name: Bar | value: None), Event(name: Beat | value: 0), Event(name: Tempo | value: 92), Event(name: Chord | value: None_None), Event(name: Beat | value: 8), Event(name: Tempo | value: Conti), Event(name: Chord | value: Conti_Conti), Event(name: Beat | value: 12), Event(name: Tempo | value: Conti), Event(name: Chord | value: Conti_Conti), Event(name: Bar | value: None), Event(name: Beat | value: 0), Event(name: Tempo | value: 89), Event(name: Chord | value: 10_m7), Event(name: Note_Pitch | value: 58), Event(name: Note_Duration | value: 240), Event(name: Note_Velocity | value: 43), Event(name: Note_Pitch | value: 53), Event(name: Note_Duration | value: 360), Event(name: Note_Velocity | value: 37)]\n",
      "# tempo changes: 6 | # notes: 34\n",
      "start generation of 002_253_t=0.9_k=5_p=0.9.mid\n"
     ]
    },
    {
     "name": "stderr",
     "output_type": "stream",
     "text": [
      "Generating: 100%|██████████| 2000/2000 [01:05<00:00, 30.31it/s]\n"
     ]
    },
    {
     "name": "stdout",
     "output_type": "stream",
     "text": [
      "[Event(name: Bar | value: None), Event(name: Beat | value: 0), Event(name: Tempo | value: 92), Event(name: Chord | value: None_None), Event(name: Beat | value: 8), Event(name: Tempo | value: Conti), Event(name: Chord | value: Conti_Conti), Event(name: Beat | value: 12), Event(name: Tempo | value: Conti), Event(name: Chord | value: Conti_Conti), Event(name: Bar | value: None), Event(name: Beat | value: 0), Event(name: Tempo | value: 89), Event(name: Chord | value: 10_m7), Event(name: Note_Pitch | value: 58), Event(name: Note_Duration | value: 240), Event(name: Note_Velocity | value: 43), Event(name: Note_Pitch | value: 53), Event(name: Note_Duration | value: 360), Event(name: Note_Velocity | value: 37)]\n",
      "# tempo changes: 6 | # notes: 507\n",
      "start generation of 002_253_t=1.2_k=5_p=0.9.mid\n"
     ]
    },
    {
     "name": "stderr",
     "output_type": "stream",
     "text": [
      "Generating: 100%|██████████| 2000/2000 [01:02<00:00, 32.05it/s]\n"
     ]
    },
    {
     "name": "stdout",
     "output_type": "stream",
     "text": [
      "[Event(name: Bar | value: None), Event(name: Beat | value: 0), Event(name: Tempo | value: 92), Event(name: Chord | value: None_None), Event(name: Beat | value: 8), Event(name: Tempo | value: Conti), Event(name: Chord | value: Conti_Conti), Event(name: Beat | value: 12), Event(name: Tempo | value: Conti), Event(name: Chord | value: Conti_Conti), Event(name: Bar | value: None), Event(name: Beat | value: 0), Event(name: Tempo | value: 89), Event(name: Chord | value: 10_m7), Event(name: Note_Pitch | value: 58), Event(name: Note_Duration | value: 240), Event(name: Note_Velocity | value: 43), Event(name: Note_Pitch | value: 53), Event(name: Note_Duration | value: 360), Event(name: Note_Velocity | value: 37)]\n",
      "# tempo changes: 97 | # notes: 519\n",
      "start generation of 002_253_t=1.5_k=5_p=0.9.mid\n"
     ]
    },
    {
     "name": "stderr",
     "output_type": "stream",
     "text": [
      "Generating: 100%|██████████| 2000/2000 [01:05<00:00, 30.67it/s]\n"
     ]
    },
    {
     "name": "stdout",
     "output_type": "stream",
     "text": [
      "[Event(name: Bar | value: None), Event(name: Beat | value: 0), Event(name: Tempo | value: 92), Event(name: Chord | value: None_None), Event(name: Beat | value: 8), Event(name: Tempo | value: Conti), Event(name: Chord | value: Conti_Conti), Event(name: Beat | value: 12), Event(name: Tempo | value: Conti), Event(name: Chord | value: Conti_Conti), Event(name: Bar | value: None), Event(name: Beat | value: 0), Event(name: Tempo | value: 89), Event(name: Chord | value: 10_m7), Event(name: Note_Pitch | value: 58), Event(name: Note_Duration | value: 240), Event(name: Note_Velocity | value: 43), Event(name: Note_Pitch | value: 53), Event(name: Note_Duration | value: 360), Event(name: Note_Velocity | value: 37)]\n",
      "# tempo changes: 105 | # notes: 509\n"
     ]
    },
    {
     "name": "stderr",
     "output_type": "stream",
     "text": [
      "Generating: 100%|██████████| 2000/2000 [01:04<00:00, 31.17it/s]\n"
     ]
    },
    {
     "name": "stdout",
     "output_type": "stream",
     "text": [
      "[Event(name: Bar | value: None), Event(name: Beat | value: 0), Event(name: Tempo | value: 92), Event(name: Chord | value: None_None), Event(name: Beat | value: 8), Event(name: Tempo | value: Conti), Event(name: Chord | value: Conti_Conti), Event(name: Beat | value: 12), Event(name: Tempo | value: Conti), Event(name: Chord | value: Conti_Conti), Event(name: Bar | value: None), Event(name: Beat | value: 0), Event(name: Tempo | value: 89), Event(name: Chord | value: 10_m7), Event(name: Note_Pitch | value: 58), Event(name: Note_Duration | value: 240), Event(name: Note_Velocity | value: 43), Event(name: Note_Pitch | value: 53), Event(name: Note_Duration | value: 360), Event(name: Note_Velocity | value: 37)]\n",
      "# tempo changes: 6 | # notes: 698\n"
     ]
    }
   ],
   "source": [
    "if not os.path.exists(generation_root):\n",
    "    os.makedirs(generation_root)\n",
    "\n",
    "for sample in samples:\n",
    "    sample_idx = sample.split(\".\")[0]\n",
    "    print(f\"--- sample {sample_idx} ---\")\n",
    "    sample_save_dir = os.path.join(generation_root,sample_idx)\n",
    "    if not os.path.exists(sample_save_dir):\n",
    "        os.makedirs(sample_save_dir)\n",
    "\n",
    "    # save prompt for reference\n",
    "    test_sample = os.path.join(dataset_path,sample)\n",
    "    idxs = read_pkl(test_sample)[:150]\n",
    "    events = [idx2event[i] for i in idxs if i<366]\n",
    "    event_to_midi(events,'full',output_midi_path=os.path.join(sample_save_dir,f\"{sample_idx}_orig.mid\"))\n",
    "    prompt = idxs\n",
    "\n",
    "    # test generation of different configurations\n",
    "    for tt in test_tempatures:\n",
    "        for tp in test_p:\n",
    "            for tk in test_k:\n",
    "                print(f\"start generation of {sample_idx}_t={tt}_k={tk}_p={tp}.mid\")\n",
    "                gen = generate_autoregressively(\n",
    "                    model.music_model, \n",
    "                    seq_len=2000, \n",
    "                    codec_layer=1, \n",
    "                    temperature=tt, \n",
    "                    top_k = tk,\n",
    "                    top_p = tp,\n",
    "                    sample=True, \n",
    "                    prompt=prompt\n",
    "                )\n",
    "                flat_list = gen.view(-1).tolist()  # or tensor.squeeze().tolist()\n",
    "                events = [idx2event[i] for i in flat_list if i<366]\n",
    "                event_to_midi(events,'full',output_midi_path=os.path.join(sample_save_dir,f\"{sample_idx}_t={tt}_k={tk}_p={tp}.mid\"))\n",
    "\n",
    "    # test generation arg_max\n",
    "    gen = generate_autoregressively(model.music_model, seq_len=2000, sample=False, prompt=prompt)\n",
    "    flat_list = gen.view(-1).tolist()  \n",
    "    events = [idx2event[i] for i in flat_list if i<366]\n",
    "    event_to_midi(events,'full',output_midi_path=os.path.join(sample_save_dir,f\"{sample_idx}_argmax.mid\"))\n"
   ]
  },
  {
   "cell_type": "code",
   "execution_count": null,
   "metadata": {},
   "outputs": [],
   "source": [
    "test_sample = dataset_path + \"002_049.pkl\"\n",
    "idxs = read_pkl(prompt_path)[:300]"
   ]
  },
  {
   "cell_type": "code",
   "execution_count": null,
   "metadata": {},
   "outputs": [],
   "source": [
    "gen = generate_autoregressively(model.music_model, seq_len=100, codec_layer=1, temperature=1.5, sample=False, prompt=prompt)\n",
    "flat_list = gen.view(-1).tolist()  # or tensor.squeeze().tolist()\n",
    "events = [idx2event[i] for i in idxs if i<366]\n",
    "event_to_midi(events,'full',output_midi_path=\"test_orig_033.mid\")"
   ]
  },
  {
   "cell_type": "code",
   "execution_count": null,
   "metadata": {},
   "outputs": [
    {
     "name": "stdout",
     "output_type": "stream",
     "text": [
      "['004_740', '004_878', '002_253', '004_602', '004_223', '003_261', '004_768', '004_167', '003_170', '002_361', '004_103', '004_540', '004_447', '003_251', '003_068', '004_880', '004_146', '003_035', '004_893', '002_171', '004_412', '004_939', '002_153']\n"
     ]
    }
   ],
   "source": [
    "directory = \"/home/yihsin/mamba/notebooks/generation_0511_ep400_sa\"\n",
    "subdirs = [d for d in os.listdir(directory) if os.path.isdir(os.path.join(directory, d))]\n",
    "print(subdirs)"
   ]
  },
  {
   "cell_type": "code",
   "execution_count": null,
   "metadata": {},
   "outputs": [],
   "source": [
    "import shutil\n",
    "for subdir in subdirs:\n",
    "    path = os.path.join(directory, subdir)\n",
    "    shutil.move(os.path.join(path, f\"{subdir}_orig.mid\"), \"/home/yihsin/mamba/notebooks/test_samples_0511/original\")\n",
    "    shutil.move(os.path.join(path, f\"{subdir}_t=1.2_k=5_p=0.9.mid\"), \"/home/yihsin/mamba/notebooks/test_samples_0511/generated\")"
   ]
  }
 ],
 "metadata": {
  "kernelspec": {
   "display_name": "mmpy11",
   "language": "python",
   "name": "python3"
  },
  "language_info": {
   "codemirror_mode": {
    "name": "ipython",
    "version": 3
   },
   "file_extension": ".py",
   "mimetype": "text/x-python",
   "name": "python",
   "nbconvert_exporter": "python",
   "pygments_lexer": "ipython3",
   "version": "3.11.12"
  }
 },
 "nbformat": 4,
 "nbformat_minor": 2
}
