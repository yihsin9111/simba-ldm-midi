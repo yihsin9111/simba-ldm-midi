{
 "cells": [
  {
   "cell_type": "markdown",
   "metadata": {},
   "source": [
    "### Test HuggingFace dataset usage"
   ]
  },
  {
   "cell_type": "code",
   "execution_count": 1,
   "metadata": {},
   "outputs": [
    {
     "name": "stderr",
     "output_type": "stream",
     "text": [
      "/home/yihsin/miniforge3/envs/mmpy11/lib/python3.11/site-packages/tqdm/auto.py:21: TqdmWarning: IProgress not found. Please update jupyter and ipywidgets. See https://ipywidgets.readthedocs.io/en/stable/user_install.html\n",
      "  from .autonotebook import tqdm as notebook_tqdm\n",
      "Generating train split: 100%|██████████| 168385/168385 [00:01<00:00, 148497.76 examples/s]\n"
     ]
    }
   ],
   "source": [
    "from datasets import load_dataset\n",
    "\n",
    "# Will download and cache the dataset automatically\n",
    "ds = load_dataset(\"amaai-lab/MidiCaps\")"
   ]
  },
  {
   "cell_type": "code",
   "execution_count": 2,
   "metadata": {},
   "outputs": [
    {
     "name": "stdout",
     "output_type": "stream",
     "text": [
      "DatasetDict({\n",
      "    train: Dataset({\n",
      "        features: ['location', 'caption', 'genre', 'genre_prob', 'mood', 'mood_prob', 'key', 'time_signature', 'tempo', 'tempo_word', 'duration', 'duration_word', 'chord_summary', 'chord_summary_occurence', 'instrument_summary', 'instrument_numbers_sorted', 'all_chords', 'all_chords_timestamps', 'test_set'],\n",
      "        num_rows: 168385\n",
      "    })\n",
      "})\n",
      "{'location': 'lmd_full/1/1a0751ad20e2f82957410a7510a1b13e.mid', 'caption': 'A melodic electronic composition with classical influences, featuring a string ensemble, trumpet, brass section, synth strings, and drums. Set in F# minor with a 4/4 time signature, it moves at an Allegro tempo. The mood evokes a cinematic, spacious, and epic atmosphere while maintaining a sense of relaxation.', 'genre': ['electronic', 'classical'], 'genre_prob': [0.3596, 0.2367], 'mood': ['melodic', 'film', 'space', 'epic', 'relaxing'], 'mood_prob': [0.1228, 0.1114, 0.0917, 0.0828, 0.079], 'key': 'F# minor', 'time_signature': '4/4', 'tempo': 135, 'tempo_word': 'Allegro', 'duration': 59, 'duration_word': 'Short song', 'chord_summary': ['F#m', 'A/E', 'C#'], 'chord_summary_occurence': 2, 'instrument_summary': ['String Ensemble', 'Trumpet', 'Brass Section', 'Synth Strings', 'Drums'], 'instrument_numbers_sorted': [48, 56, 61, 50, 128, 35], 'all_chords': ['F#m', 'A/E', 'C#', 'F#m', 'C#', 'F#m', 'C#', 'D', 'C#', 'Bm', 'F#m', 'Bm', 'C#', 'D', 'Bm', 'C#', 'F#m', 'F#', 'C#', 'B', 'C#', 'F#', 'C#', 'F#', 'F#m', 'A/E', 'C#'], 'all_chords_timestamps': [0.464399092, 5.015510204, 5.758548752, 8.823582766, 10.866938775, 14.210612244, 16.161088435, 19.597641723, 21.362358276, 23.127074829, 24.984671201, 26.656507936, 28.514104308, 30.278820861, 31.950657596, 33.901133786, 35.480090702, 37.337687074, 39.288163265, 40.959999999, 42.817596371, 46.254149659, 48.111746031, 49.783582766, 51.548299319, 54.891972789, 55.542131519], 'test_set': False}\n"
     ]
    }
   ],
   "source": [
    "print(ds)\n",
    "print(ds['train'][0])  # Sample from training set"
   ]
  },
  {
   "cell_type": "code",
   "execution_count": 8,
   "metadata": {},
   "outputs": [],
   "source": [
    "from torch.utils.data import Dataset\n",
    "\n",
    "class MidiCapsDataset(Dataset):\n",
    "    def __init__(self, hf_dataset):\n",
    "        self.data = hf_dataset\n",
    "\n",
    "    def __len__(self):\n",
    "        return len(self.data)\n",
    "\n",
    "    def __getitem__(self, idx):\n",
    "        item = self.data[idx]\n",
    "        # Customize this based on dataset structure\n",
    "        return {\n",
    "            \"input\": item[\"location\"],       # or load/process MIDI here\n",
    "            \"caption\": item[\"caption\"]        # example key\n",
    "        }"
   ]
  },
  {
   "cell_type": "code",
   "execution_count": 9,
   "metadata": {},
   "outputs": [],
   "source": [
    "from torch.utils.data import DataLoader\n",
    "\n",
    "train_dataset = MidiCapsDataset(ds[\"train\"])\n",
    "train_loader = DataLoader(train_dataset, batch_size=16, shuffle=True)"
   ]
  },
  {
   "cell_type": "code",
   "execution_count": 10,
   "metadata": {},
   "outputs": [
    {
     "name": "stdout",
     "output_type": "stream",
     "text": [
      "Batch keys: dict_keys(['input', 'caption'])\n",
      "Input example: lmd_full/1/157e84c82fc923cb4e0ed7ada2fb4df6.mid\n",
      "Caption example: A cheerful pop song with a touch of rock, featuring clean electric guitar, piano, flute, electric bass, and string ensemble, all coming together to create a melodic and motivational atmosphere. Set in the key of E minor with a moderate tempo of 92 beats per minute, this song maintains a 4/4 time signature throughout its duration, with the chords E and A/E providing the harmonic foundation.\n"
     ]
    }
   ],
   "source": [
    "from torch.utils.data import DataLoader\n",
    "\n",
    "# Assuming `train_loader` is already defined:\n",
    "for batch in train_loader:\n",
    "    print(\"Batch keys:\", batch.keys())  # ['input', 'caption'] for example\n",
    "    print(\"Input example:\", batch['input'][0])  # Check first sample input\n",
    "    print(\"Caption example:\", batch['caption'][0])  # Check first sample caption\n",
    "    break  # Remove this to loop over all batches"
   ]
  },
  {
   "cell_type": "markdown",
   "metadata": {},
   "source": [
    "### MMT preprocessing"
   ]
  },
  {
   "cell_type": "markdown",
   "metadata": {},
   "source": [
    "#### Extraction Utils"
   ]
  },
  {
   "cell_type": "code",
   "execution_count": 26,
   "metadata": {},
   "outputs": [],
   "source": [
    "\"\"\"Utility functions.\"\"\"\n",
    "import json\n",
    "import pathlib\n",
    "import warnings\n",
    "\n",
    "import numpy as np\n",
    "\n",
    "\n",
    "def save_args(filename, args):\n",
    "    \"\"\"Save the command-line arguments.\"\"\"\n",
    "    args_dict = {}\n",
    "    for key, value in vars(args).items():\n",
    "        if isinstance(value, pathlib.Path):\n",
    "            args_dict[key] = str(value)\n",
    "        else:\n",
    "            args_dict[key] = value\n",
    "    save_json(filename, args_dict)\n",
    "\n",
    "\n",
    "def inverse_dict(d):\n",
    "    \"\"\"Return the inverse dictionary.\"\"\"\n",
    "    return {v: k for k, v in d.items()}\n",
    "\n",
    "\n",
    "def save_txt(filename, data):\n",
    "    \"\"\"Save a list to a TXT file.\"\"\"\n",
    "    with open(filename, \"w\", encoding=\"utf8\") as f:\n",
    "        for item in data:\n",
    "            f.write(f\"{item}\\n\")\n",
    "\n",
    "\n",
    "def load_txt(filename):\n",
    "    \"\"\"Load a TXT file as a list.\"\"\"\n",
    "    with open(filename, encoding=\"utf8\") as f:\n",
    "        return [line.strip() for line in f]\n",
    "\n",
    "\n",
    "def save_json(filename, data):\n",
    "    \"\"\"Save data as a JSON file.\"\"\"\n",
    "    with open(filename, \"w\", encoding=\"utf8\") as f:\n",
    "        json.dump(data, f)\n",
    "\n",
    "\n",
    "def load_json(filename):\n",
    "    \"\"\"Load data from a JSON file.\"\"\"\n",
    "    with open(filename, encoding=\"utf8\") as f:\n",
    "        return json.load(f)\n",
    "\n",
    "\n",
    "def save_csv(filename, data, header=\"\"):\n",
    "    \"\"\"Save data as a CSV file.\"\"\"\n",
    "    np.savetxt(\n",
    "        filename, data, fmt=\"%d\", delimiter=\",\", header=header, comments=\"\"\n",
    "    )\n",
    "\n",
    "\n",
    "def load_csv(filename, skiprows=1):\n",
    "    \"\"\"Load data from a CSV file.\"\"\"\n",
    "    return np.loadtxt(filename, dtype=int, delimiter=\",\", skiprows=skiprows)\n",
    "\n",
    "\n",
    "def ignore_exceptions(func):\n",
    "    \"\"\"Decorator that ignores all errors and warnings.\"\"\"\n",
    "\n",
    "    def inner(*args, **kwargs):\n",
    "        with warnings.catch_warnings():\n",
    "            warnings.simplefilter(\"ignore\")\n",
    "            try:\n",
    "                return func(*args, **kwargs)\n",
    "            except Exception:\n",
    "                return None\n",
    "\n",
    "    return inner\n",
    "\n",
    "\n",
    "def resolve_paths(func):\n",
    "    \"\"\"Decorator that resolves all paths.\"\"\"\n",
    "\n",
    "    def inner(*args, **kwargs):\n",
    "        parsed = func(*args, **kwargs)\n",
    "        for key in vars(parsed).keys():\n",
    "            if isinstance(getattr(parsed, key), pathlib.Path):\n",
    "                setattr(\n",
    "                    parsed, key, getattr(parsed, key).expanduser().resolve()\n",
    "                )\n",
    "        return parsed\n",
    "\n",
    "    return inner\n"
   ]
  },
  {
   "cell_type": "code",
   "execution_count": 27,
   "metadata": {},
   "outputs": [],
   "source": [
    "\"\"\"Representation utilities.\"\"\"\n",
    "import pathlib\n",
    "import pprint\n",
    "\n",
    "import muspy\n",
    "import numpy as np\n",
    "import pretty_midi\n",
    "\n",
    "# Configuration\n",
    "RESOLUTION = 12\n",
    "MAX_BEAT = 1024\n",
    "MAX_DURATION = 384  # Remember to modify known durations as well!\n",
    "\n",
    "# Dimensions\n",
    "# (NOTE: \"type\" must be the first dimension!)\n",
    "# (NOTE: Remember to modify N_TOKENS as well!)\n",
    "DIMENSIONS = [\"type\", \"beat\", \"position\", \"pitch\", \"duration\", \"instrument\"]\n",
    "assert DIMENSIONS[0] == \"type\"\n",
    "\n",
    "# Type\n",
    "TYPE_CODE_MAP = {\n",
    "    \"start-of-song\": 0,\n",
    "    \"instrument\": 1,\n",
    "    \"start-of-notes\": 2,\n",
    "    \"note\": 3,\n",
    "    \"end-of-song\": 4,\n",
    "}\n",
    "CODE_TYPE_MAP = inverse_dict(TYPE_CODE_MAP)\n",
    "\n",
    "# Beat\n",
    "BEAT_CODE_MAP = {i: i + 1 for i in range(MAX_BEAT + 1)}\n",
    "BEAT_CODE_MAP[None] = 0\n",
    "CODE_BEAT_MAP = inverse_dict(BEAT_CODE_MAP)\n",
    "\n",
    "# Position\n",
    "POSITION_CODE_MAP = {i: i + 1 for i in range(RESOLUTION)}\n",
    "POSITION_CODE_MAP[None] = 0\n",
    "CODE_POSITION_MAP = inverse_dict(POSITION_CODE_MAP)\n",
    "\n",
    "# Pitch\n",
    "PITCH_CODE_MAP = {i: i + 1 for i in range(128)}\n",
    "PITCH_CODE_MAP[None] = 0\n",
    "CODE_PITCH_MAP = inverse_dict(PITCH_CODE_MAP)\n",
    "\n",
    "# Duration\n",
    "KNOWN_DURATIONS = [\n",
    "    1,\n",
    "    2,\n",
    "    3,\n",
    "    4,\n",
    "    5,\n",
    "    6,\n",
    "    7,\n",
    "    8,\n",
    "    9,\n",
    "    10,\n",
    "    11,\n",
    "    12,\n",
    "    15,\n",
    "    16,\n",
    "    18,\n",
    "    20,\n",
    "    21,\n",
    "    24,\n",
    "    30,\n",
    "    36,\n",
    "    40,\n",
    "    42,\n",
    "    48,\n",
    "    60,\n",
    "    72,\n",
    "    84,\n",
    "    96,\n",
    "    120,\n",
    "    144,\n",
    "    168,\n",
    "    192,\n",
    "    384,\n",
    "]\n",
    "DURATION_CODE_MAP = {\n",
    "    i: int(np.argmin(np.abs(np.array(KNOWN_DURATIONS) - i))) + 1\n",
    "    for i in range(MAX_DURATION + 1)\n",
    "}\n",
    "DURATION_CODE_MAP[None] = 0\n",
    "CODE_DURATION_MAP = {\n",
    "    i + 1: duration for i, duration in enumerate(KNOWN_DURATIONS)\n",
    "}\n",
    "\n",
    "# Instrument\n",
    "PROGRAM_INSTRUMENT_MAP = {\n",
    "    # Pianos\n",
    "    0: \"piano\",\n",
    "    1: \"piano\",\n",
    "    2: \"piano\",\n",
    "    3: \"piano\",\n",
    "    4: \"electric-piano\",\n",
    "    5: \"electric-piano\",\n",
    "    6: \"harpsichord\",\n",
    "    7: \"clavinet\",\n",
    "    # Chromatic Percussion\n",
    "    8: \"celesta\",\n",
    "    9: \"glockenspiel\",\n",
    "    10: \"music-box\",\n",
    "    11: \"vibraphone\",\n",
    "    12: \"marimba\",\n",
    "    13: \"xylophone\",\n",
    "    14: \"tubular-bells\",\n",
    "    15: \"dulcimer\",\n",
    "    # Organs\n",
    "    16: \"organ\",\n",
    "    17: \"organ\",\n",
    "    18: \"organ\",\n",
    "    19: \"church-organ\",\n",
    "    20: \"organ\",\n",
    "    21: \"accordion\",\n",
    "    22: \"harmonica\",\n",
    "    23: \"bandoneon\",\n",
    "    # Guitars\n",
    "    24: \"nylon-string-guitar\",\n",
    "    25: \"steel-string-guitar\",\n",
    "    26: \"electric-guitar\",\n",
    "    27: \"electric-guitar\",\n",
    "    28: \"electric-guitar\",\n",
    "    29: \"electric-guitar\",\n",
    "    30: \"electric-guitar\",\n",
    "    31: \"electric-guitar\",\n",
    "    # Basses\n",
    "    32: \"bass\",\n",
    "    33: \"electric-bass\",\n",
    "    34: \"electric-bass\",\n",
    "    35: \"electric-bass\",\n",
    "    36: \"slap-bass\",\n",
    "    37: \"slap-bass\",\n",
    "    38: \"synth-bass\",\n",
    "    39: \"synth-bass\",\n",
    "    # Strings\n",
    "    40: \"violin\",\n",
    "    41: \"viola\",\n",
    "    42: \"cello\",\n",
    "    43: \"contrabass\",\n",
    "    44: \"strings\",\n",
    "    45: \"strings\",\n",
    "    46: \"harp\",\n",
    "    47: \"timpani\",\n",
    "    # Ensemble\n",
    "    48: \"strings\",\n",
    "    49: \"strings\",\n",
    "    50: \"synth-strings\",\n",
    "    51: \"synth-strings\",\n",
    "    52: \"voices\",\n",
    "    53: \"voices\",\n",
    "    54: \"voices\",\n",
    "    55: \"orchestra-hit\",\n",
    "    # Brass\n",
    "    56: \"trumpet\",\n",
    "    57: \"trombone\",\n",
    "    58: \"tuba\",\n",
    "    59: \"trumpet\",\n",
    "    60: \"horn\",\n",
    "    61: \"brasses\",\n",
    "    62: \"synth-brasses\",\n",
    "    63: \"synth-brasses\",\n",
    "    # Reed\n",
    "    64: \"soprano-saxophone\",\n",
    "    65: \"alto-saxophone\",\n",
    "    66: \"tenor-saxophone\",\n",
    "    67: \"baritone-saxophone\",\n",
    "    68: \"oboe\",\n",
    "    69: \"english-horn\",\n",
    "    70: \"bassoon\",\n",
    "    71: \"clarinet\",\n",
    "    # Pipe\n",
    "    72: \"piccolo\",\n",
    "    73: \"flute\",\n",
    "    74: \"recorder\",\n",
    "    75: \"pan-flute\",\n",
    "    76: None,\n",
    "    77: None,\n",
    "    78: None,\n",
    "    79: \"ocarina\",\n",
    "    # Synth Lead\n",
    "    80: \"lead\",\n",
    "    81: \"lead\",\n",
    "    82: \"lead\",\n",
    "    83: \"lead\",\n",
    "    84: \"lead\",\n",
    "    85: \"lead\",\n",
    "    86: \"lead\",\n",
    "    87: \"lead\",\n",
    "    # Synth Pad\n",
    "    88: \"pad\",\n",
    "    89: \"pad\",\n",
    "    90: \"pad\",\n",
    "    91: \"pad\",\n",
    "    92: \"pad\",\n",
    "    93: \"pad\",\n",
    "    94: \"pad\",\n",
    "    95: \"pad\",\n",
    "    # Synth Effects\n",
    "    96: None,\n",
    "    97: None,\n",
    "    98: None,\n",
    "    99: None,\n",
    "    100: None,\n",
    "    101: None,\n",
    "    102: None,\n",
    "    103: None,\n",
    "    # Ethnic\n",
    "    104: \"sitar\",\n",
    "    105: \"banjo\",\n",
    "    106: \"shamisen\",\n",
    "    107: \"koto\",\n",
    "    108: \"kalimba\",\n",
    "    109: \"bag-pipe\",\n",
    "    110: \"violin\",\n",
    "    111: \"shehnai\",\n",
    "    # Percussive\n",
    "    112: None,\n",
    "    113: None,\n",
    "    114: None,\n",
    "    115: None,\n",
    "    116: None,\n",
    "    117: \"melodic-tom\",\n",
    "    118: \"synth-drums\",\n",
    "    119: \"synth-drums\",\n",
    "    # Sound effects\n",
    "    120: None,\n",
    "    121: None,\n",
    "    122: None,\n",
    "    123: None,\n",
    "    124: None,\n",
    "    125: None,\n",
    "    126: None,\n",
    "    127: None,\n",
    "}\n",
    "INSTRUMENT_PROGRAM_MAP = {\n",
    "    # Pianos\n",
    "    \"piano\": 0,\n",
    "    \"electric-piano\": 4,\n",
    "    \"harpsichord\": 6,\n",
    "    \"clavinet\": 7,\n",
    "    # Chromatic Percussion\n",
    "    \"celesta\": 8,\n",
    "    \"glockenspiel\": 9,\n",
    "    \"music-box\": 10,\n",
    "    \"vibraphone\": 11,\n",
    "    \"marimba\": 12,\n",
    "    \"xylophone\": 13,\n",
    "    \"tubular-bells\": 14,\n",
    "    \"dulcimer\": 15,\n",
    "    # Organs\n",
    "    \"organ\": 16,\n",
    "    \"church-organ\": 19,\n",
    "    \"accordion\": 21,\n",
    "    \"harmonica\": 22,\n",
    "    \"bandoneon\": 23,\n",
    "    # Guitars\n",
    "    \"nylon-string-guitar\": 24,\n",
    "    \"steel-string-guitar\": 25,\n",
    "    \"electric-guitar\": 26,\n",
    "    # Basses\n",
    "    \"bass\": 32,\n",
    "    \"electric-bass\": 33,\n",
    "    \"slap-bass\": 36,\n",
    "    \"synth-bass\": 38,\n",
    "    # Strings\n",
    "    \"violin\": 40,\n",
    "    \"viola\": 41,\n",
    "    \"cello\": 42,\n",
    "    \"contrabass\": 43,\n",
    "    \"harp\": 46,\n",
    "    \"timpani\": 47,\n",
    "    # Ensemble\n",
    "    \"strings\": 49,\n",
    "    \"synth-strings\": 50,\n",
    "    \"voices\": 52,\n",
    "    \"orchestra-hit\": 55,\n",
    "    # Brass\n",
    "    \"trumpet\": 56,\n",
    "    \"trombone\": 57,\n",
    "    \"tuba\": 58,\n",
    "    \"horn\": 60,\n",
    "    \"brasses\": 61,\n",
    "    \"synth-brasses\": 62,\n",
    "    # Reed\n",
    "    \"soprano-saxophone\": 64,\n",
    "    \"alto-saxophone\": 65,\n",
    "    \"tenor-saxophone\": 66,\n",
    "    \"baritone-saxophone\": 67,\n",
    "    \"oboe\": 68,\n",
    "    \"english-horn\": 69,\n",
    "    \"bassoon\": 70,\n",
    "    \"clarinet\": 71,\n",
    "    # Pipe\n",
    "    \"piccolo\": 72,\n",
    "    \"flute\": 73,\n",
    "    \"recorder\": 74,\n",
    "    \"pan-flute\": 75,\n",
    "    \"ocarina\": 79,\n",
    "    # Synth Lead\n",
    "    \"lead\": 80,\n",
    "    # Synth Pad\n",
    "    \"pad\": 88,\n",
    "    # Ethnic\n",
    "    \"sitar\": 104,\n",
    "    \"banjo\": 105,\n",
    "    \"shamisen\": 106,\n",
    "    \"koto\": 107,\n",
    "    \"kalimba\": 108,\n",
    "    \"bag-pipe\": 109,\n",
    "    \"shehnai\": 111,\n",
    "    # Percussive\n",
    "    \"melodic-tom\": 117,\n",
    "    \"synth-drums\": 118,\n",
    "}\n",
    "KNOWN_PROGRAMS = list(\n",
    "    k for k, v in PROGRAM_INSTRUMENT_MAP.items() if v is not None\n",
    ")\n",
    "KNOWN_INSTRUMENTS = list(dict.fromkeys(INSTRUMENT_PROGRAM_MAP.keys()))\n",
    "INSTRUMENT_CODE_MAP = {\n",
    "    instrument: i + 1 for i, instrument in enumerate(KNOWN_INSTRUMENTS)\n",
    "}\n",
    "INSTRUMENT_CODE_MAP[None] = 0\n",
    "CODE_INSTRUMENT_MAP = inverse_dict(INSTRUMENT_CODE_MAP)\n",
    "\n",
    "N_TOKENS = [\n",
    "    max(TYPE_CODE_MAP.values()) + 1,\n",
    "    max(BEAT_CODE_MAP.values()) + 1,\n",
    "    max(POSITION_CODE_MAP.values()) + 1,\n",
    "    max(PITCH_CODE_MAP.values()) + 1,\n",
    "    max(DURATION_CODE_MAP.values()) + 1,\n",
    "    max(INSTRUMENT_CODE_MAP.values()) + 1,\n",
    "]\n",
    "\n",
    "\n",
    "def get_encoding():\n",
    "    \"\"\"Return the encoding configurations.\"\"\"\n",
    "    return {\n",
    "        \"resolution\": RESOLUTION,\n",
    "        \"max_beat\": MAX_BEAT,\n",
    "        \"max_duration\": MAX_DURATION,\n",
    "        \"dimensions\": DIMENSIONS,\n",
    "        \"n_tokens\": N_TOKENS,\n",
    "        \"type_code_map\": TYPE_CODE_MAP,\n",
    "        \"beat_code_map\": BEAT_CODE_MAP,\n",
    "        \"position_code_map\": POSITION_CODE_MAP,\n",
    "        \"pitch_code_map\": PITCH_CODE_MAP,\n",
    "        \"duration_code_map\": DURATION_CODE_MAP,\n",
    "        \"instrument_code_map\": INSTRUMENT_CODE_MAP,\n",
    "        \"code_type_map\": CODE_TYPE_MAP,\n",
    "        \"code_beat_map\": CODE_BEAT_MAP,\n",
    "        \"code_position_map\": CODE_POSITION_MAP,\n",
    "        \"code_pitch_map\": CODE_PITCH_MAP,\n",
    "        \"code_duration_map\": CODE_DURATION_MAP,\n",
    "        \"code_instrument_map\": CODE_INSTRUMENT_MAP,\n",
    "        \"program_instrument_map\": PROGRAM_INSTRUMENT_MAP,\n",
    "        \"instrument_program_map\": INSTRUMENT_PROGRAM_MAP,\n",
    "    }\n",
    "\n",
    "\n",
    "def load_encoding(filename):\n",
    "    \"\"\"Load encoding configurations from a JSON file.\"\"\"\n",
    "    encoding = load_json(filename)\n",
    "    for key in (\n",
    "        \"code_type_map\",\n",
    "        \"code_beat_map\",\n",
    "        \"code_position_map\",\n",
    "        \"code_duration_map\",\n",
    "        \"code_pitch_map\",\n",
    "        \"code_instrument_map\",\n",
    "        \"beat_code_map\",\n",
    "        \"position_code_map\",\n",
    "        \"duration_code_map\",\n",
    "        \"pitch_code_map\",\n",
    "        \"program_instrument_map\",\n",
    "    ):\n",
    "        encoding[key] = {\n",
    "            int(k) if k != \"null\" else None: v\n",
    "            for k, v in encoding[key].items()\n",
    "        }\n",
    "    return encoding\n",
    "\n",
    "\n",
    "def extract_notes(music, resolution):\n",
    "    \"\"\"Return a MusPy music object as a note sequence.\n",
    "\n",
    "    Each row of the output is a note specified as follows.\n",
    "\n",
    "        (beat, position, pitch, duration, program)\n",
    "\n",
    "    \"\"\"\n",
    "    # Check resolution\n",
    "    assert music.resolution == resolution\n",
    "\n",
    "    # Extract notes\n",
    "    notes = []\n",
    "    for track in music:\n",
    "        if track.is_drum or track.program not in KNOWN_PROGRAMS:\n",
    "            continue\n",
    "        for note in track:\n",
    "            beat, position = divmod(note.time, resolution)\n",
    "            if note.duration > 1026:\n",
    "                print(\"[extract] note too long, truncate to 1025\")\n",
    "                notes.append(\n",
    "                    (beat, position, note.pitch, 1026, track.program)\n",
    "                )\n",
    "            else:\n",
    "                notes.append(\n",
    "                    (beat, position, note.pitch, note.duration, track.program)\n",
    "                )\n",
    "\n",
    "    # Deduplicate and sort the notes\n",
    "    notes = sorted(set(notes))\n",
    "\n",
    "    return np.array(notes)\n",
    "\n",
    "\n",
    "def encode_notes(notes, encoding):\n",
    "    \"\"\"Encode a note sequence into a sequence of codes.\n",
    "\n",
    "    Each row of the input is a note specified as follows.\n",
    "\n",
    "        (beat, position, pitch, duration, program)\n",
    "\n",
    "    Each row of the output is encoded as follows.\n",
    "\n",
    "        (event_type, beat, position, pitch, duration, instrument)\n",
    "\n",
    "    \"\"\"\n",
    "    # Get variables\n",
    "    max_beat = encoding[\"max_beat\"]\n",
    "    max_duration = encoding[\"max_duration\"]\n",
    "\n",
    "    # Get maps\n",
    "    type_code_map = encoding[\"type_code_map\"]\n",
    "    beat_code_map = encoding[\"beat_code_map\"]\n",
    "    position_code_map = encoding[\"position_code_map\"]\n",
    "    pitch_code_map = encoding[\"pitch_code_map\"]\n",
    "    duration_code_map = encoding[\"duration_code_map\"]\n",
    "    instrument_code_map = encoding[\"instrument_code_map\"]\n",
    "    program_instrument_map = encoding[\"program_instrument_map\"]\n",
    "\n",
    "    # Get the dimension indices\n",
    "    beat_dim = encoding[\"dimensions\"].index(\"beat\")\n",
    "    position_dim = encoding[\"dimensions\"].index(\"position\")\n",
    "    pitch_dim = encoding[\"dimensions\"].index(\"pitch\")\n",
    "    duration_dim = encoding[\"dimensions\"].index(\"duration\")\n",
    "    instrument_dim = encoding[\"dimensions\"].index(\"instrument\")\n",
    "\n",
    "    # Start the codes with an SOS row\n",
    "    codes = [(type_code_map[\"start-of-song\"], 0, 0, 0, 0, 0)]\n",
    "\n",
    "    # Extract instruments\n",
    "    instruments = set(program_instrument_map[note[-1]] for note in notes)\n",
    "\n",
    "    # Encode the instruments\n",
    "    instrument_codes = []\n",
    "    for instrument in instruments:\n",
    "        # Skip unknown instruments\n",
    "        if instrument is None:\n",
    "            continue\n",
    "        row = [type_code_map[\"instrument\"], 0, 0, 0, 0, 0]\n",
    "        row[instrument_dim] = instrument_code_map[instrument]\n",
    "        instrument_codes.append(row)\n",
    "\n",
    "    # Sort the instruments and append them to the code sequence\n",
    "    instrument_codes.sort()\n",
    "    codes.extend(instrument_codes)\n",
    "\n",
    "    # Encode the notes\n",
    "    codes.append((type_code_map[\"start-of-notes\"], 0, 0, 0, 0, 0))\n",
    "    for beat, position, pitch, duration, program in notes:\n",
    "        # Skip if max_beat has reached\n",
    "        if beat > max_beat:\n",
    "            continue\n",
    "        # Skip unknown instruments\n",
    "        instrument = program_instrument_map[program]\n",
    "        if instrument is None:\n",
    "            continue\n",
    "        # Encode the note\n",
    "        row = [type_code_map[\"note\"], 0, 0, 0, 0, 0]\n",
    "        row[beat_dim] = beat_code_map[beat]\n",
    "        row[position_dim] = position_code_map[position]\n",
    "        row[pitch_dim] = pitch_code_map[pitch]\n",
    "        row[duration_dim] = duration_code_map[min(duration, max_duration)]\n",
    "        row[instrument_dim] = instrument_code_map[instrument]\n",
    "        codes.append(row)\n",
    "\n",
    "    # End the codes with an EOS row\n",
    "    codes.append((type_code_map[\"end-of-song\"], 0, 0, 0, 0, 0))\n",
    "\n",
    "    return np.array(codes)\n",
    "\n",
    "\n",
    "def encode(music, encoding):\n",
    "    \"\"\"Encode a MusPy music object into a sequence of codes.\n",
    "\n",
    "    Each row of the input is encoded as follows.\n",
    "\n",
    "        (event_type, beat, position, pitch, duration, instrument)\n",
    "\n",
    "    Each row of the output is a note specified as follows.\n",
    "\n",
    "        (beat, position, pitch, duration, program)\n",
    "\n",
    "    \"\"\"\n",
    "    # Extract notes\n",
    "    notes = extract_notes(music, encoding[\"resolution\"])\n",
    "\n",
    "    # Encode the notes\n",
    "    codes = encode_notes(notes, encoding)\n",
    "\n",
    "    return codes\n",
    "\n",
    "\n",
    "def decode_notes(codes, encoding):\n",
    "    \"\"\"Decode codes into a note sequence.\n",
    "\n",
    "    Each row of the input is encoded as follows.\n",
    "\n",
    "        (event_type, beat, position, pitch, duration, instrument)\n",
    "\n",
    "    \"\"\"\n",
    "    # Get variables and maps\n",
    "    code_type_map = encoding[\"code_type_map\"]\n",
    "    code_beat_map = encoding[\"code_beat_map\"]\n",
    "    code_position_map = encoding[\"code_position_map\"]\n",
    "    code_pitch_map = encoding[\"code_pitch_map\"]\n",
    "    code_duration_map = encoding[\"code_duration_map\"]\n",
    "    code_instrument_map = encoding[\"code_instrument_map\"]\n",
    "    instrument_program_map = encoding[\"instrument_program_map\"]\n",
    "\n",
    "    # Get the dimension indices\n",
    "    beat_dim = encoding[\"dimensions\"].index(\"beat\")\n",
    "    position_dim = encoding[\"dimensions\"].index(\"position\")\n",
    "    pitch_dim = encoding[\"dimensions\"].index(\"pitch\")\n",
    "    duration_dim = encoding[\"dimensions\"].index(\"duration\")\n",
    "    instrument_dim = encoding[\"dimensions\"].index(\"instrument\")\n",
    "\n",
    "    # Decode the codes into a sequence of notes\n",
    "    notes = []\n",
    "    for row in codes:\n",
    "        event_type = code_type_map[int(row[0])]\n",
    "        if event_type in (\"start-of-song\", \"instrument\", \"start-of-notes\"):\n",
    "            continue\n",
    "        elif event_type == \"end-of-song\":\n",
    "            break\n",
    "        elif event_type == \"note\":\n",
    "            beat = code_beat_map[int(row[beat_dim])]\n",
    "            position = code_position_map[int(row[position_dim])]\n",
    "            pitch = code_pitch_map[int(row[pitch_dim])]\n",
    "            duration = code_duration_map[int(row[duration_dim])]\n",
    "            instrument = code_instrument_map[int(row[instrument_dim])]\n",
    "            program = instrument_program_map[instrument]\n",
    "            notes.append((beat, position, pitch, duration, program))\n",
    "        else:\n",
    "            raise ValueError(\"Unknown event type.\")\n",
    "\n",
    "    return notes\n",
    "\n",
    "\n",
    "def reconstruct(notes, resolution):\n",
    "    \"\"\"Reconstruct a note sequence to a MusPy Music object.\"\"\"\n",
    "    # Construct the MusPy Music object\n",
    "    music = muspy.Music(resolution=resolution, tempos=[muspy.Tempo(0, 100)])\n",
    "\n",
    "    # Append the tracks\n",
    "    programs = sorted(set(note[-1] for note in notes))\n",
    "    for program in programs:\n",
    "        music.tracks.append(muspy.Track(program))\n",
    "\n",
    "    # Append the notes\n",
    "    for beat, position, pitch, duration, program in notes:\n",
    "        time = beat * resolution + position\n",
    "        track_idx = programs.index(program)\n",
    "        music[track_idx].notes.append(muspy.Note(time, pitch, duration))\n",
    "\n",
    "    return music\n",
    "\n",
    "\n",
    "def decode(codes, encoding):\n",
    "    \"\"\"Decode codes into a MusPy Music object.\n",
    "\n",
    "    Each row of the input is encoded as follows.\n",
    "\n",
    "        (event_type, beat, position, pitch, duration, instrument)\n",
    "\n",
    "    \"\"\"\n",
    "    # Get resolution\n",
    "    resolution = encoding[\"resolution\"]\n",
    "\n",
    "    # Decode codes into a note sequence\n",
    "    notes = decode_notes(codes, encoding)\n",
    "\n",
    "    # Reconstruct the music object\n",
    "    music = reconstruct(notes, resolution)\n",
    "\n",
    "    return music\n",
    "\n",
    "\n",
    "def dump(data, encoding):\n",
    "    \"\"\"Decode the codes and dump as a string.\"\"\"\n",
    "    # Get maps\n",
    "    code_type_map = encoding[\"code_type_map\"]\n",
    "    code_beat_map = encoding[\"code_beat_map\"]\n",
    "    code_position_map = encoding[\"code_position_map\"]\n",
    "    code_pitch_map = encoding[\"code_pitch_map\"]\n",
    "    code_duration_map = encoding[\"code_duration_map\"]\n",
    "    code_instrument_map = encoding[\"code_instrument_map\"]\n",
    "\n",
    "    # Get the dimension indices\n",
    "    beat_dim = encoding[\"dimensions\"].index(\"beat\")\n",
    "    position_dim = encoding[\"dimensions\"].index(\"position\")\n",
    "    pitch_dim = encoding[\"dimensions\"].index(\"pitch\")\n",
    "    duration_dim = encoding[\"dimensions\"].index(\"duration\")\n",
    "    instrument_dim = encoding[\"dimensions\"].index(\"instrument\")\n",
    "\n",
    "    # Iterate over the rows\n",
    "    lines = []\n",
    "    for row in data:\n",
    "        event_type = code_type_map[int(row[0])]\n",
    "        if event_type == \"start-of-song\":\n",
    "            lines.append(\"Start of song\")\n",
    "        elif event_type == \"end-of-song\":\n",
    "            lines.append(\"End of song\")\n",
    "        elif event_type == \"instrument\":\n",
    "            instrument = code_instrument_map[int(row[instrument_dim])]\n",
    "            lines.append(f\"Instrument: {instrument}\")\n",
    "        elif event_type == \"start-of-notes\":\n",
    "            lines.append(\"Start of notes\")\n",
    "        elif event_type == \"note\":\n",
    "            beat = code_beat_map[int(row[beat_dim])]\n",
    "            position = code_position_map[int(row[position_dim])]\n",
    "            pitch = pretty_midi.note_number_to_name(\n",
    "                code_pitch_map[int(row[pitch_dim])]\n",
    "            )\n",
    "            duration = code_duration_map[int(row[duration_dim])]\n",
    "            instrument = code_instrument_map[int(row[instrument_dim])]\n",
    "            lines.append(\n",
    "                f\"Note: beat={beat}, position={position}, pitch={pitch}, \"\n",
    "                f\"duration={duration}, instrument={instrument}\"\n",
    "            )\n",
    "        else:\n",
    "            raise ValueError(f\"Unknown event type: {event_type}\")\n",
    "\n",
    "    return \"\\n\".join(lines)\n",
    "\n",
    "\n",
    "def save_txt(filename, data, encoding):\n",
    "    \"\"\"Dump the codes into a TXT file.\"\"\"\n",
    "    with open(filename, \"w\") as f:\n",
    "        f.write(dump(data, encoding))\n",
    "\n",
    "\n",
    "def save_csv_notes(filename, data):\n",
    "    \"\"\"Save the representation as a CSV file.\"\"\"\n",
    "    assert data.shape[1] == 5\n",
    "    np.savetxt(\n",
    "        filename,\n",
    "        data,\n",
    "        fmt=\"%d\",\n",
    "        delimiter=\",\",\n",
    "        header=\"beat,position,pitch,duration,program\",\n",
    "        comments=\"\",\n",
    "    )\n",
    "\n",
    "\n",
    "def save_csv_codes(filename, data):\n",
    "    \"\"\"Save the representation as a CSV file.\"\"\"\n",
    "    assert data.shape[1] == 6\n",
    "    np.savetxt(\n",
    "        filename,\n",
    "        data,\n",
    "        fmt=\"%d\",\n",
    "        delimiter=\",\",\n",
    "        header=\"type,beat,position,pitch,duration,instrument\",\n",
    "        comments=\"\",\n",
    "    )"
   ]
  },
  {
   "cell_type": "markdown",
   "metadata": {},
   "source": [
    "#### Preprocessing"
   ]
  },
  {
   "cell_type": "code",
   "execution_count": 28,
   "metadata": {},
   "outputs": [],
   "source": [
    "from pathlib import Path\n",
    "# dim 1->6, train.\n",
    "base_dir = Path(\"/home/yihsin/dataset/midicaps\")\n",
    "output_train = Path(\"/home/yihsin/dataset/midicaps-mini-parsed-mmt/train\")\n",
    "output_valid = Path(\"/home/yihsin/dataset/midicaps-mini-parsed-mmt/valid\")\n",
    "output_train.mkdir(parents=True, exist_ok=True)\n",
    "output_valid.mkdir(parents=True, exist_ok=True)"
   ]
  },
  {
   "cell_type": "code",
   "execution_count": 29,
   "metadata": {},
   "outputs": [
    {
     "name": "stdout",
     "output_type": "stream",
     "text": [
      "Found 168385 MIDI files.\n"
     ]
    }
   ],
   "source": [
    "# get 1/10 of the dataset\n",
    "import random\n",
    "import numpy as np\n",
    "from pathlib import Path\n",
    "\n",
    "# Base directory containing subfolders\n",
    "base_dir = Path(base_dir)\n",
    "\n",
    "# Recursively find all .mid files\n",
    "all_mid_files = list(base_dir.rglob(\"*.mid\"))\n",
    "print(f\"Found {len(all_mid_files)} MIDI files.\")\n",
    "\n",
    "# Randomly pick 1/10 of them\n",
    "sample_size = max(1, len(all_mid_files) // 10)\n",
    "sampled_files = random.sample(all_mid_files, sample_size)\n",
    "\n",
    "# Convert to list of strings (paths)\n",
    "sampled_file_paths = [str(p) for p in sampled_files]"
   ]
  },
  {
   "cell_type": "code",
   "execution_count": 30,
   "metadata": {},
   "outputs": [
    {
     "name": "stdout",
     "output_type": "stream",
     "text": [
      "Found 16838 MIDI files.\n"
     ]
    }
   ],
   "source": [
    "# Find all MIDI files, split train and valid set\n",
    "all_mid_files = sampled_file_paths\n",
    "print(f\"Found {len(all_mid_files)} MIDI files.\")\n",
    "\n",
    "num_valid = max(1, len(all_mid_files) // 500)\n",
    "valid_set = set(all_mid_files[:num_valid])"
   ]
  },
  {
   "cell_type": "code",
   "execution_count": 31,
   "metadata": {},
   "outputs": [],
   "source": [
    "from pathlib import Path\n",
    "import numpy as np\n",
    "import muspy\n",
    "\n",
    "def process_file(mid_path):\n",
    "    try:\n",
    "        pth_obj = Path(mid_path)\n",
    "        relative = pth_obj.relative_to(base_dir)\n",
    "        subfolder = relative.parts[-2]\n",
    "        stem = pth_obj.stem\n",
    "        filename = f\"{subfolder}_{stem}.npy\"\n",
    "\n",
    "        music = muspy.read(mid_path)\n",
    "        resolution = 12\n",
    "        music.adjust_resolution(resolution)\n",
    "\n",
    "        for track in music:\n",
    "            for note in track:\n",
    "                if note.duration == 0:\n",
    "                    note.duration = 1\n",
    "        music.remove_duplicate()\n",
    "\n",
    "        end_time = music.get_end_time()\n",
    "        if end_time > resolution * 4 * 2000 or end_time < resolution * 4 * 10:\n",
    "            return f\"[!] Invalid end time {mid_path}: {end_time}\"\n",
    "\n",
    "        notes = extract_notes(music, resolution)\n",
    "        if len(notes) < 50:\n",
    "            return f\"[!] Not enough notes {mid_path}: {len(notes)}\"\n",
    "\n",
    "        notes[:, 0] = notes[:, 0] - notes[0, 0]\n",
    "\n",
    "        if mid_path in valid_set:\n",
    "            out_path = output_valid / filename\n",
    "        else:\n",
    "            out_path = output_train / filename\n",
    "\n",
    "        np.save(out_path, notes)\n",
    "        return None  # No error\n",
    "    except Exception as e:\n",
    "        return f\"[!] Failed to process {mid_path}: {e}\""
   ]
  },
  {
   "cell_type": "code",
   "execution_count": 32,
   "metadata": {},
   "outputs": [
    {
     "name": "stderr",
     "output_type": "stream",
     "text": [
      "Processing MIDI files:   1%|          | 152/16838 [00:12<14:04, 19.76it/s]"
     ]
    },
    {
     "name": "stdout",
     "output_type": "stream",
     "text": [
      "[extract] note too long, truncate to 1025\n",
      "[extract] note too long, truncate to 1025\n",
      "[extract] note too long, truncate to 1025\n",
      "[extract] note too long, truncate to 1025\n"
     ]
    },
    {
     "name": "stderr",
     "output_type": "stream",
     "text": [
      "Processing MIDI files:   1%|          | 155/16838 [00:13<29:45,  9.34it/s]"
     ]
    },
    {
     "name": "stdout",
     "output_type": "stream",
     "text": [
      "[extract] note too long, truncate to 1025\n",
      "[extract] note too long, truncate to 1025\n",
      "[extract] note too long, truncate to 1025\n",
      "[extract] note too long, truncate to 1025\n",
      "[extract] note too long, truncate to 1025\n",
      "[extract] note too long, truncate to 1025\n",
      "[extract] note too long, truncate to 1025\n",
      "[extract] note too long, truncate to 1025\n",
      "[extract] note too long, truncate to 1025\n",
      "[extract] note too long, truncate to 1025\n",
      "[extract] note too long, truncate to 1025\n"
     ]
    },
    {
     "name": "stderr",
     "output_type": "stream",
     "text": [
      "Processing MIDI files:   1%|          | 158/16838 [00:13<24:54, 11.16it/s]"
     ]
    },
    {
     "name": "stdout",
     "output_type": "stream",
     "text": [
      "[extract] note too long, truncate to 1025\n",
      "[extract] note too long, truncate to 1025\n",
      "[extract] note too long, truncate to 1025\n",
      "[extract] note too long, truncate to 1025\n",
      "[extract] note too long, truncate to 1025\n",
      "[extract] note too long, truncate to 1025\n",
      "[extract] note too long, truncate to 1025\n",
      "[extract] note too long, truncate to 1025\n",
      "[extract] note too long, truncate to 1025\n",
      "[extract] note too long, truncate to 1025\n",
      "[extract] note too long, truncate to 1025\n",
      "[extract] note too long, truncate to 1025\n",
      "[extract] note too long, truncate to 1025\n",
      "[extract] note too long, truncate to 1025"
     ]
    },
    {
     "name": "stderr",
     "output_type": "stream",
     "text": [
      "Processing MIDI files:   1%|          | 160/16838 [00:13<23:13, 11.97it/s]"
     ]
    },
    {
     "name": "stdout",
     "output_type": "stream",
     "text": [
      "\n",
      "[extract] note too long, truncate to 1025\n",
      "[extract] note too long, truncate to 1025\n",
      "[extract] note too long, truncate to 1025\n",
      "[extract] note too long, truncate to 1025\n",
      "[extract] note too long, truncate to 1025\n",
      "[extract] note too long, truncate to 1025\n"
     ]
    },
    {
     "name": "stderr",
     "output_type": "stream",
     "text": [
      "Processing MIDI files:   1%|          | 173/16838 [00:14<31:07,  8.93it/s]"
     ]
    },
    {
     "name": "stdout",
     "output_type": "stream",
     "text": [
      "[extract] note too long, truncate to 1025\n",
      "[extract] note too long, truncate to 1025\n",
      "[extract] note too long, truncate to 1025\n"
     ]
    },
    {
     "name": "stderr",
     "output_type": "stream",
     "text": [
      "Processing MIDI files:   1%|          | 183/16838 [00:15<39:42,  6.99it/s]"
     ]
    },
    {
     "name": "stdout",
     "output_type": "stream",
     "text": [
      "[extract] note too long, truncate to 1025\n",
      "[extract] note too long, truncate to 1025\n",
      "[extract] note too long, truncate to 1025\n"
     ]
    },
    {
     "name": "stderr",
     "output_type": "stream",
     "text": [
      "Processing MIDI files:   1%|          | 185/16838 [00:16<41:31,  6.68it/s]"
     ]
    },
    {
     "name": "stdout",
     "output_type": "stream",
     "text": [
      "[extract] note too long, truncate to 1025\n",
      "[extract] note too long, truncate to 1025\n",
      "[extract] note too long, truncate to 1025\n"
     ]
    },
    {
     "name": "stderr",
     "output_type": "stream",
     "text": [
      "Processing MIDI files:   1%|          | 203/16838 [00:17<20:38, 13.43it/s]"
     ]
    },
    {
     "name": "stdout",
     "output_type": "stream",
     "text": [
      "[extract] note too long, truncate to 1025\n",
      "[extract] note too long, truncate to 1025\n",
      "[extract] note too long, truncate to 1025\n",
      "[extract] note too long, truncate to 1025\n",
      "[extract] note too long, truncate to 1025\n",
      "[extract] note too long, truncate to 1025\n",
      "[extract] note too long, truncate to 1025\n"
     ]
    },
    {
     "name": "stderr",
     "output_type": "stream",
     "text": [
      "Processing MIDI files:   2%|▏         | 306/16838 [00:27<13:19, 20.69it/s]"
     ]
    },
    {
     "name": "stdout",
     "output_type": "stream",
     "text": [
      "[extract] note too long, truncate to 1025\n"
     ]
    },
    {
     "name": "stderr",
     "output_type": "stream",
     "text": [
      "Processing MIDI files:   2%|▏         | 309/16838 [00:27<13:33, 20.32it/s]"
     ]
    },
    {
     "name": "stdout",
     "output_type": "stream",
     "text": [
      "[extract] note too long, truncate to 1025\n",
      "[extract] note too long, truncate to 1025\n"
     ]
    },
    {
     "name": "stderr",
     "output_type": "stream",
     "text": [
      "Processing MIDI files:   2%|▏         | 312/16838 [00:27<13:51, 19.86it/s]"
     ]
    },
    {
     "name": "stdout",
     "output_type": "stream",
     "text": [
      "[extract] note too long, truncate to 1025\n"
     ]
    },
    {
     "name": "stderr",
     "output_type": "stream",
     "text": [
      "Processing MIDI files:   2%|▏         | 336/16838 [00:30<29:20,  9.37it/s]"
     ]
    },
    {
     "name": "stdout",
     "output_type": "stream",
     "text": [
      "[extract] note too long, truncate to 1025\n",
      "[extract] note too long, truncate to 1025\n",
      "[extract] note too long, truncate to 1025\n",
      "[extract] note too long, truncate to 1025\n",
      "[extract] note too long, truncate to 1025\n",
      "[extract] note too long, truncate to 1025\n",
      "[extract] note too long, truncate to 1025\n",
      "[extract] note too long, truncate to 1025\n",
      "[extract] note too long, truncate to 1025\n",
      "[extract] note too long, truncate to 1025\n",
      "[extract] note too long, truncate to 1025"
     ]
    },
    {
     "name": "stderr",
     "output_type": "stream",
     "text": [
      "Processing MIDI files:   2%|▏         | 339/16838 [00:30<23:22, 11.76it/s]"
     ]
    },
    {
     "name": "stdout",
     "output_type": "stream",
     "text": [
      "\n",
      "[extract] note too long, truncate to 1025\n",
      "[extract] note too long, truncate to 1025\n",
      "[extract] note too long, truncate to 1025\n",
      "[extract] note too long, truncate to 1025\n",
      "[extract] note too long, truncate to 1025\n",
      "[extract] note too long, truncate to 1025\n",
      "[extract] note too long, truncate to 1025\n",
      "[extract] note too long, truncate to 1025\n",
      "[extract] note too long, truncate to 1025\n",
      "[extract] note too long, truncate to 1025\n",
      "[extract] note too long, truncate to 1025\n",
      "[extract] note too long, truncate to 1025\n",
      "[extract] note too long, truncate to 1025\n"
     ]
    },
    {
     "name": "stderr",
     "output_type": "stream",
     "text": [
      "Processing MIDI files:   2%|▏         | 341/16838 [00:30<22:05, 12.45it/s]"
     ]
    },
    {
     "name": "stdout",
     "output_type": "stream",
     "text": [
      "[extract] note too long, truncate to 1025\n",
      "[extract] note too long, truncate to 1025\n",
      "[extract] note too long, truncate to 1025\n",
      "[extract] note too long, truncate to 1025\n",
      "[extract] note too long, truncate to 1025\n",
      "[extract] note too long, truncate to 1025\n",
      "[extract] note too long, truncate to 1025\n",
      "[extract] note too long, truncate to 1025\n",
      "[extract] note too long, truncate to 1025\n",
      "[extract] note too long, truncate to 1025\n",
      "[extract] note too long, truncate to 1025\n",
      "[extract] note too long, truncate to 1025\n",
      "[extract] note too long, truncate to 1025\n",
      "[extract] note too long, truncate to 1025\n",
      "[extract] note too long, truncate to 1025\n",
      "[extract] note too long, truncate to 1025\n",
      "[extract] note too long, truncate to 1025\n",
      "[extract] note too long, truncate to 1025\n",
      "[extract] note too long, truncate to 1025\n",
      "[extract] note too long, truncate to 1025\n",
      "[extract] note too long, truncate to 1025\n",
      "[extract] note too long, truncate to 1025\n",
      "[extract] note too long, truncate to 1025\n",
      "[extract] note too long, truncate to 1025\n",
      "[extract] note too long, truncate to 1025\n",
      "[extract] note too long, truncate to 1025\n",
      "[extract] note too long, truncate to 1025\n",
      "[extract] note too long, truncate to 1025\n",
      "[extract] note too long, truncate to 1025\n",
      "[extract] note too long, truncate to 1025\n",
      "[extract] note too long, truncate to 1025"
     ]
    },
    {
     "name": "stderr",
     "output_type": "stream",
     "text": [
      "Processing MIDI files:   2%|▏         | 343/16838 [00:30<24:27, 11.24it/s]"
     ]
    },
    {
     "name": "stdout",
     "output_type": "stream",
     "text": [
      "\n",
      "[extract] note too long, truncate to 1025\n",
      "[extract] note too long, truncate to 1025\n",
      "[extract] note too long, truncate to 1025\n",
      "[extract] note too long, truncate to 1025\n",
      "[extract] note too long, truncate to 1025\n",
      "[extract] note too long, truncate to 1025\n",
      "[extract] note too long, truncate to 1025\n",
      "[extract] note too long, truncate to 1025\n",
      "[extract] note too long, truncate to 1025\n",
      "[extract] note too long, truncate to 1025\n",
      "[extract] note too long, truncate to 1025\n",
      "[extract] note too long, truncate to 1025\n",
      "[extract] note too long, truncate to 1025\n",
      "[extract] note too long, truncate to 1025\n",
      "[extract] note too long, truncate to 1025\n",
      "[extract] note too long, truncate to 1025\n",
      "[extract] note too long, truncate to 1025\n"
     ]
    },
    {
     "name": "stderr",
     "output_type": "stream",
     "text": [
      "Processing MIDI files:   2%|▏         | 347/16838 [00:30<17:52, 15.38it/s]"
     ]
    },
    {
     "name": "stdout",
     "output_type": "stream",
     "text": [
      "[extract] note too long, truncate to 1025\n",
      "[extract] note too long, truncate to 1025\n",
      "[extract] note too long, truncate to 1025\n",
      "[extract] note too long, truncate to 1025\n",
      "[extract] note too long, truncate to 1025\n",
      "[extract] note too long, truncate to 1025\n",
      "[extract] note too long, truncate to 1025\n",
      "[extract] note too long, truncate to 1025\n",
      "[extract] note too long, truncate to 1025\n",
      "[extract] note too long, truncate to 1025\n",
      "[extract] note too long, truncate to 1025\n",
      "[extract] note too long, truncate to 1025\n",
      "[extract] note too long, truncate to 1025\n",
      "[extract] note too long, truncate to 1025\n",
      "[extract] note too long, truncate to 1025\n",
      "[extract] note too long, truncate to 1025\n",
      "[extract] note too long, truncate to 1025\n",
      "[extract] note too long, truncate to 1025\n",
      "[extract] note too long, truncate to 1025\n",
      "[extract] note too long, truncate to 1025\n",
      "[extract] note too long, truncate to 1025\n",
      "[extract] note too long, truncate to 1025\n",
      "[extract] note too long, truncate to 1025\n"
     ]
    },
    {
     "name": "stderr",
     "output_type": "stream",
     "text": [
      "Processing MIDI files:   2%|▏         | 349/16838 [00:30<21:23, 12.85it/s]"
     ]
    },
    {
     "name": "stdout",
     "output_type": "stream",
     "text": [
      "[extract] note too long, truncate to 1025\n",
      "[extract] note too long, truncate to 1025\n",
      "[extract] note too long, truncate to 1025\n",
      "[extract] note too long, truncate to 1025\n",
      "[extract] note too long, truncate to 1025\n",
      "[extract] note too long, truncate to 1025\n",
      "[extract] note too long, truncate to 1025\n",
      "[extract] note too long, truncate to 1025\n",
      "[extract] note too long, truncate to 1025\n",
      "[extract] note too long, truncate to 1025\n",
      "[extract] note too long, truncate to 1025\n",
      "[extract] note too long, truncate to 1025\n",
      "[extract] note too long, truncate to 1025\n",
      "[extract] note too long, truncate to 1025\n",
      "[extract] note too long, truncate to 1025"
     ]
    },
    {
     "name": "stderr",
     "output_type": "stream",
     "text": [
      "Processing MIDI files:   2%|▏         | 351/16838 [00:31<19:48, 13.87it/s]"
     ]
    },
    {
     "name": "stdout",
     "output_type": "stream",
     "text": [
      "\n",
      "[extract] note too long, truncate to 1025\n",
      "[extract] note too long, truncate to 1025\n",
      "[extract] note too long, truncate to 1025\n",
      "[extract] note too long, truncate to 1025\n",
      "[extract] note too long, truncate to 1025\n",
      "[extract] note too long, truncate to 1025\n",
      "[extract] note too long, truncate to 1025\n",
      "[extract] note too long, truncate to 1025\n",
      "[extract] note too long, truncate to 1025\n",
      "[extract] note too long, truncate to 1025\n",
      "[extract] note too long, truncate to 1025\n",
      "[extract] note too long, truncate to 1025\n",
      "[extract] note too long, truncate to 1025\n",
      "[extract] note too long, truncate to 1025\n",
      "[extract] note too long, truncate to 1025\n",
      "[extract] note too long, truncate to 1025\n",
      "[extract] note too long, truncate to 1025\n",
      "[extract] note too long, truncate to 1025\n",
      "[extract] note too long, truncate to 1025\n",
      "[extract] note too long, truncate to 1025\n",
      "[extract] note too long, truncate to 1025\n",
      "[extract] note too long, truncate to 1025\n",
      "[extract] note too long, truncate to 1025\n",
      "[extract] note too long, truncate to 1025\n",
      "[extract] note too long, truncate to 1025\n",
      "[extract] note too long, truncate to 1025\n",
      "[extract] note too long, truncate to 1025\n",
      "[extract] note too long, truncate to 1025\n"
     ]
    },
    {
     "name": "stderr",
     "output_type": "stream",
     "text": [
      "Processing MIDI files:   2%|▏         | 354/16838 [00:31<21:20, 12.87it/s]"
     ]
    },
    {
     "name": "stdout",
     "output_type": "stream",
     "text": [
      "[extract] note too long, truncate to 1025\n",
      "[extract] note too long, truncate to 1025\n",
      "[extract] note too long, truncate to 1025\n",
      "[extract] note too long, truncate to 1025\n",
      "[extract] note too long, truncate to 1025\n",
      "[extract] note too long, truncate to 1025\n",
      "[extract] note too long, truncate to 1025\n",
      "[extract] note too long, truncate to 1025\n",
      "[extract] note too long, truncate to 1025\n",
      "[extract] note too long, truncate to 1025\n",
      "[extract] note too long, truncate to 1025\n",
      "[extract] note too long, truncate to 1025\n",
      "[extract] note too long, truncate to 1025\n",
      "[extract] note too long, truncate to 1025\n",
      "[extract] note too long, truncate to 1025\n",
      "[extract] note too long, truncate to 1025\n",
      "[extract] note too long, truncate to 1025\n",
      "[extract] note too long, truncate to 1025\n",
      "[extract] note too long, truncate to 1025\n",
      "[extract] note too long, truncate to 1025\n",
      "[extract] note too long, truncate to 1025\n",
      "[extract] note too long, truncate to 1025\n",
      "[extract] note too long, truncate to 1025\n",
      "[extract] note too long, truncate to 1025\n",
      "[extract] note too long, truncate to 1025\n",
      "[extract] note too long, truncate to 1025\n",
      "[extract] note too long, truncate to 1025\n",
      "[extract] note too long, truncate to 1025\n",
      "[extract] note too long, truncate to 1025\n",
      "[extract] note too long, truncate to 1025\n",
      "[extract] note too long, truncate to 1025\n",
      "[extract] note too long, truncate to 1025\n",
      "[extract] note too long, truncate to 1025\n",
      "[extract] note too long, truncate to 1025\n",
      "[extract] note too long, truncate to 1025\n",
      "[extract] note too long, truncate to 1025\n",
      "[extract] note too long, truncate to 1025\n",
      "[extract] note too long, truncate to 1025\n"
     ]
    },
    {
     "name": "stderr",
     "output_type": "stream",
     "text": [
      "Processing MIDI files:   2%|▏         | 356/16838 [00:31<26:51, 10.23it/s]"
     ]
    },
    {
     "name": "stdout",
     "output_type": "stream",
     "text": [
      "[extract] note too long, truncate to 1025\n",
      "[extract] note too long, truncate to 1025\n",
      "[extract] note too long, truncate to 1025\n",
      "[extract] note too long, truncate to 1025\n",
      "[extract] note too long, truncate to 1025\n",
      "[extract] note too long, truncate to 1025\n",
      "[extract] note too long, truncate to 1025\n",
      "[extract] note too long, truncate to 1025\n",
      "[extract] note too long, truncate to 1025\n",
      "[extract] note too long, truncate to 1025\n",
      "[extract] note too long, truncate to 1025\n",
      "[extract] note too long, truncate to 1025\n",
      "[extract] note too long, truncate to 1025\n",
      "[extract] note too long, truncate to 1025\n",
      "[extract] note too long, truncate to 1025\n",
      "[extract] note too long, truncate to 1025\n",
      "[extract] note too long, truncate to 1025\n",
      "[extract] note too long, truncate to 1025\n",
      "[extract] note too long, truncate to 1025\n",
      "[extract] note too long, truncate to 1025\n",
      "[extract] note too long, truncate to 1025\n",
      "[extract] note too long, truncate to 1025\n",
      "[extract] note too long, truncate to 1025\n",
      "[extract] note too long, truncate to 1025\n",
      "[extract] note too long, truncate to 1025\n",
      "[extract] note too long, truncate to 1025\n",
      "[extract] note too long, truncate to 1025\n"
     ]
    },
    {
     "name": "stderr",
     "output_type": "stream",
     "text": [
      "Processing MIDI files:   2%|▏         | 358/16838 [00:31<28:38,  9.59it/s]"
     ]
    },
    {
     "name": "stdout",
     "output_type": "stream",
     "text": [
      "[extract] note too long, truncate to 1025\n",
      "[extract] note too long, truncate to 1025\n",
      "[extract] note too long, truncate to 1025\n",
      "[extract] note too long, truncate to 1025\n",
      "[extract] note too long, truncate to 1025\n",
      "[extract] note too long, truncate to 1025\n",
      "[extract] note too long, truncate to 1025\n",
      "[extract] note too long, truncate to 1025\n",
      "[extract] note too long, truncate to 1025\n",
      "[extract] note too long, truncate to 1025\n",
      "[extract] note too long, truncate to 1025\n",
      "[extract] note too long, truncate to 1025\n",
      "[extract] note too long, truncate to 1025\n",
      "[extract] note too long, truncate to 1025\n",
      "[extract] note too long, truncate to 1025\n",
      "[extract] note too long, truncate to 1025\n",
      "[extract] note too long, truncate to 1025\n",
      "[extract] note too long, truncate to 1025\n",
      "[extract] note too long, truncate to 1025\n",
      "[extract] note too long, truncate to 1025\n",
      "[extract] note too long, truncate to 1025\n",
      "[extract] note too long, truncate to 1025\n",
      "[extract] note too long, truncate to 1025\n",
      "[extract] note too long, truncate to 1025\n",
      "[extract] note too long, truncate to 1025\n",
      "[extract] note too long, truncate to 1025\n",
      "[extract] note too long, truncate to 1025\n",
      "[extract] note too long, truncate to 1025"
     ]
    },
    {
     "name": "stderr",
     "output_type": "stream",
     "text": [
      "Processing MIDI files:   2%|▏         | 360/16838 [00:32<28:09,  9.76it/s]"
     ]
    },
    {
     "name": "stdout",
     "output_type": "stream",
     "text": [
      "\n",
      "[extract] note too long, truncate to 1025\n",
      "[extract] note too long, truncate to 1025\n",
      "[extract] note too long, truncate to 1025\n",
      "[extract] note too long, truncate to 1025\n",
      "[extract] note too long, truncate to 1025\n",
      "[extract] note too long, truncate to 1025\n",
      "[extract] note too long, truncate to 1025\n",
      "[extract] note too long, truncate to 1025\n",
      "[extract] note too long, truncate to 1025\n",
      "[extract] note too long, truncate to 1025\n",
      "[extract] note too long, truncate to 1025\n",
      "[extract] note too long, truncate to 1025\n",
      "[extract] note too long, truncate to 1025\n",
      "[extract] note too long, truncate to 1025\n",
      "[extract] note too long, truncate to 1025\n"
     ]
    },
    {
     "name": "stderr",
     "output_type": "stream",
     "text": [
      "Processing MIDI files:   2%|▏         | 363/16838 [00:32<21:58, 12.49it/s]"
     ]
    },
    {
     "name": "stdout",
     "output_type": "stream",
     "text": [
      "[extract] note too long, truncate to 1025\n",
      "[extract] note too long, truncate to 1025\n",
      "[extract] note too long, truncate to 1025\n",
      "[extract] note too long, truncate to 1025\n"
     ]
    },
    {
     "name": "stderr",
     "output_type": "stream",
     "text": [
      "Processing MIDI files:   2%|▏         | 391/16838 [00:34<25:14, 10.86it/s]"
     ]
    },
    {
     "name": "stdout",
     "output_type": "stream",
     "text": [
      "[extract] note too long, truncate to 1025\n",
      "[extract] note too long, truncate to 1025"
     ]
    },
    {
     "name": "stderr",
     "output_type": "stream",
     "text": [
      "Processing MIDI files:   2%|▏         | 394/16838 [00:34<20:42, 13.23it/s]"
     ]
    },
    {
     "name": "stdout",
     "output_type": "stream",
     "text": [
      "\n",
      "[extract] note too long, truncate to 1025\n",
      "[extract] note too long, truncate to 1025\n",
      "[extract] note too long, truncate to 1025\n",
      "[extract] note too long, truncate to 1025\n"
     ]
    },
    {
     "name": "stderr",
     "output_type": "stream",
     "text": [
      "Processing MIDI files:   3%|▎         | 421/16838 [00:36<11:46, 23.24it/s]"
     ]
    },
    {
     "name": "stdout",
     "output_type": "stream",
     "text": [
      "[extract] note too long, truncate to 1025\n",
      "[extract] note too long, truncate to 1025\n"
     ]
    },
    {
     "name": "stderr",
     "output_type": "stream",
     "text": [
      "Processing MIDI files:   3%|▎         | 424/16838 [00:36<15:33, 17.58it/s]"
     ]
    },
    {
     "name": "stdout",
     "output_type": "stream",
     "text": [
      "[extract] note too long, truncate to 1025\n",
      "[extract] note too long, truncate to 1025"
     ]
    },
    {
     "name": "stderr",
     "output_type": "stream",
     "text": [
      "Processing MIDI files:   3%|▎         | 426/16838 [00:36<16:11, 16.89it/s]"
     ]
    },
    {
     "name": "stdout",
     "output_type": "stream",
     "text": [
      "\n",
      "[extract] note too long, truncate to 1025\n",
      "[extract] note too long, truncate to 1025\n",
      "[extract] note too long, truncate to 1025\n",
      "[extract] note too long, truncate to 1025\n",
      "[extract] note too long, truncate to 1025\n",
      "[extract] note too long, truncate to 1025\n",
      "[extract] note too long, truncate to 1025\n",
      "[extract] note too long, truncate to 1025\n",
      "[extract] note too long, truncate to 1025\n",
      "[extract] note too long, truncate to 1025\n",
      "[extract] note too long, truncate to 1025\n",
      "[extract] note too long, truncate to 1025\n",
      "[extract] note too long, truncate to 1025\n",
      "[extract] note too long, truncate to 1025\n",
      "[extract] note too long, truncate to 1025\n",
      "[extract] note too long, truncate to 1025\n",
      "[extract] note too long, truncate to 1025\n",
      "[extract] note too long, truncate to 1025\n",
      "[extract] note too long, truncate to 1025\n",
      "[extract] note too long, truncate to 1025\n",
      "[extract] note too long, truncate to 1025\n",
      "[extract] note too long, truncate to 1025\n",
      "[extract] note too long, truncate to 1025\n",
      "[extract] note too long, truncate to 1025\n",
      "[extract] note too long, truncate to 1025\n"
     ]
    },
    {
     "name": "stderr",
     "output_type": "stream",
     "text": [
      "Processing MIDI files:   3%|▎         | 429/16838 [00:36<21:45, 12.57it/s]"
     ]
    },
    {
     "name": "stdout",
     "output_type": "stream",
     "text": [
      "[extract] note too long, truncate to 1025\n",
      "[extract] note too long, truncate to 1025\n",
      "[extract] note too long, truncate to 1025\n",
      "[extract] note too long, truncate to 1025\n",
      "[extract] note too long, truncate to 1025\n",
      "[extract] note too long, truncate to 1025\n",
      "[extract] note too long, truncate to 1025\n",
      "[extract] note too long, truncate to 1025\n",
      "[extract] note too long, truncate to 1025\n",
      "[extract] note too long, truncate to 1025"
     ]
    },
    {
     "name": "stderr",
     "output_type": "stream",
     "text": [
      "Processing MIDI files:   3%|▎         | 431/16838 [00:36<20:14, 13.51it/s]"
     ]
    },
    {
     "name": "stdout",
     "output_type": "stream",
     "text": [
      "\n",
      "[extract] note too long, truncate to 1025\n",
      "[extract] note too long, truncate to 1025\n",
      "[extract] note too long, truncate to 1025\n",
      "[extract] note too long, truncate to 1025\n",
      "[extract] note too long, truncate to 1025\n",
      "[extract] note too long, truncate to 1025\n",
      "[extract] note too long, truncate to 1025\n",
      "[extract] note too long, truncate to 1025\n",
      "[extract] note too long, truncate to 1025\n",
      "[extract] note too long, truncate to 1025\n",
      "[extract] note too long, truncate to 1025\n",
      "[extract] note too long, truncate to 1025\n",
      "[extract] note too long, truncate to 1025\n",
      "[extract] note too long, truncate to 1025\n",
      "[extract] note too long, truncate to 1025\n",
      "[extract] note too long, truncate to 1025\n",
      "[extract] note too long, truncate to 1025\n",
      "[extract] note too long, truncate to 1025\n",
      "[extract] note too long, truncate to 1025\n",
      "[extract] note too long, truncate to 1025\n",
      "[extract] note too long, truncate to 1025\n",
      "[extract] note too long, truncate to 1025\n"
     ]
    },
    {
     "name": "stderr",
     "output_type": "stream",
     "text": [
      "Processing MIDI files:   3%|▎         | 434/16838 [00:37<19:23, 14.10it/s]"
     ]
    },
    {
     "name": "stdout",
     "output_type": "stream",
     "text": [
      "[extract] note too long, truncate to 1025\n",
      "[extract] note too long, truncate to 1025\n",
      "[extract] note too long, truncate to 1025\n",
      "[extract] note too long, truncate to 1025\n",
      "[extract] note too long, truncate to 1025\n",
      "[extract] note too long, truncate to 1025\n",
      "[extract] note too long, truncate to 1025\n",
      "[extract] note too long, truncate to 1025\n",
      "[extract] note too long, truncate to 1025\n",
      "[extract] note too long, truncate to 1025\n",
      "[extract] note too long, truncate to 1025\n",
      "[extract] note too long, truncate to 1025\n",
      "[extract] note too long, truncate to 1025\n",
      "[extract] note too long, truncate to 1025\n",
      "[extract] note too long, truncate to 1025\n",
      "[extract] note too long, truncate to 1025\n",
      "[extract] note too long, truncate to 1025"
     ]
    },
    {
     "name": "stderr",
     "output_type": "stream",
     "text": [
      "Processing MIDI files:   3%|▎         | 440/16838 [00:37<12:43, 21.48it/s]"
     ]
    },
    {
     "name": "stdout",
     "output_type": "stream",
     "text": [
      "\n",
      "[extract] note too long, truncate to 1025\n",
      "[extract] note too long, truncate to 1025\n",
      "[extract] note too long, truncate to 1025\n",
      "[extract] note too long, truncate to 1025\n",
      "[extract] note too long, truncate to 1025\n",
      "[extract] note too long, truncate to 1025\n",
      "[extract] note too long, truncate to 1025\n"
     ]
    },
    {
     "name": "stderr",
     "output_type": "stream",
     "text": [
      "Processing MIDI files:   3%|▎         | 485/16838 [00:40<17:39, 15.43it/s]"
     ]
    },
    {
     "name": "stdout",
     "output_type": "stream",
     "text": [
      "[extract] note too long, truncate to 1025\n",
      "[extract] note too long, truncate to 1025\n",
      "[extract] note too long, truncate to 1025\n",
      "[extract] note too long, truncate to 1025\n",
      "[extract] note too long, truncate to 1025\n",
      "[extract] note too long, truncate to 1025\n"
     ]
    },
    {
     "name": "stderr",
     "output_type": "stream",
     "text": [
      "Processing MIDI files:   3%|▎         | 537/16838 [00:44<24:38, 11.03it/s]"
     ]
    },
    {
     "name": "stdout",
     "output_type": "stream",
     "text": [
      "[extract] note too long, truncate to 1025\n"
     ]
    },
    {
     "name": "stderr",
     "output_type": "stream",
     "text": [
      "Processing MIDI files:   3%|▎         | 575/16838 [00:48<24:59, 10.84it/s]"
     ]
    },
    {
     "name": "stdout",
     "output_type": "stream",
     "text": [
      "[extract] note too long, truncate to 1025\n"
     ]
    },
    {
     "name": "stderr",
     "output_type": "stream",
     "text": [
      "Processing MIDI files:   3%|▎         | 587/16838 [00:48<16:52, 16.05it/s]"
     ]
    },
    {
     "name": "stdout",
     "output_type": "stream",
     "text": [
      "[extract] note too long, truncate to 1025\n",
      "[extract] note too long, truncate to 1025\n",
      "[extract] note too long, truncate to 1025\n",
      "[extract] note too long, truncate to 1025\n",
      "[extract] note too long, truncate to 1025\n",
      "[extract] note too long, truncate to 1025\n",
      "[extract] note too long, truncate to 1025\n",
      "[extract] note too long, truncate to 1025\n",
      "[extract] note too long, truncate to 1025\n",
      "[extract] note too long, truncate to 1025\n",
      "[extract] note too long, truncate to 1025\n",
      "[extract] note too long, truncate to 1025\n",
      "[extract] note too long, truncate to 1025\n",
      "[extract] note too long, truncate to 1025\n",
      "[extract] note too long, truncate to 1025\n",
      "[extract] note too long, truncate to 1025\n",
      "[extract] note too long, truncate to 1025\n",
      "[extract] note too long, truncate to 1025\n",
      "[extract] note too long, truncate to 1025\n",
      "[extract] note too long, truncate to 1025\n",
      "[extract] note too long, truncate to 1025\n",
      "[extract] note too long, truncate to 1025\n",
      "[extract] note too long, truncate to 1025\n",
      "[extract] note too long, truncate to 1025\n",
      "[extract] note too long, truncate to 1025\n",
      "[extract] note too long, truncate to 1025\n",
      "[extract] note too long, truncate to 1025\n",
      "[extract] note too long, truncate to 1025\n",
      "[extract] note too long, truncate to 1025\n",
      "[extract] note too long, truncate to 1025\n",
      "[extract] note too long, truncate to 1025\n",
      "[extract] note too long, truncate to 1025\n",
      "[extract] note too long, truncate to 1025\n",
      "[extract] note too long, truncate to 1025\n",
      "[extract] note too long, truncate to 1025\n",
      "[extract] note too long, truncate to 1025\n",
      "[extract] note too long, truncate to 1025\n",
      "[extract] note too long, truncate to 1025\n",
      "[extract] note too long, truncate to 1025\n",
      "[extract] note too long, truncate to 1025\n",
      "[extract] note too long, truncate to 1025\n"
     ]
    },
    {
     "name": "stderr",
     "output_type": "stream",
     "text": [
      "Processing MIDI files:   4%|▎         | 590/16838 [00:49<23:36, 11.47it/s]"
     ]
    },
    {
     "name": "stdout",
     "output_type": "stream",
     "text": [
      "[extract] note too long, truncate to 1025\n",
      "[extract] note too long, truncate to 1025\n",
      "[extract] note too long, truncate to 1025\n",
      "[extract] note too long, truncate to 1025\n",
      "[extract] note too long, truncate to 1025\n",
      "[extract] note too long, truncate to 1025\n",
      "[extract] note too long, truncate to 1025\n",
      "[extract] note too long, truncate to 1025\n",
      "[extract] note too long, truncate to 1025\n",
      "[extract] note too long, truncate to 1025\n",
      "[extract] note too long, truncate to 1025\n",
      "[extract] note too long, truncate to 1025\n",
      "[extract] note too long, truncate to 1025\n",
      "[extract] note too long, truncate to 1025\n",
      "[extract] note too long, truncate to 1025\n",
      "[extract] note too long, truncate to 1025\n",
      "[extract] note too long, truncate to 1025\n",
      "[extract] note too long, truncate to 1025\n",
      "[extract] note too long, truncate to 1025\n",
      "[extract] note too long, truncate to 1025\n",
      "[extract] note too long, truncate to 1025\n",
      "[extract] note too long, truncate to 1025\n",
      "[extract] note too long, truncate to 1025\n",
      "[extract] note too long, truncate to 1025\n",
      "[extract] note too long, truncate to 1025\n",
      "[extract] note too long, truncate to 1025\n",
      "[extract] note too long, truncate to 1025\n",
      "[extract] note too long, truncate to 1025\n",
      "[extract] note too long, truncate to 1025\n",
      "[extract] note too long, truncate to 1025\n",
      "[extract] note too long, truncate to 1025\n",
      "[extract] note too long, truncate to 1025\n",
      "[extract] note too long, truncate to 1025\n",
      "[extract] note too long, truncate to 1025\n",
      "[extract] note too long, truncate to 1025\n",
      "[extract] note too long, truncate to 1025\n",
      "[extract] note too long, truncate to 1025\n",
      "[extract] note too long, truncate to 1025\n",
      "[extract] note too long, truncate to 1025\n",
      "[extract] note too long, truncate to 1025\n",
      "[extract] note too long, truncate to 1025\n",
      "[extract] note too long, truncate to 1025\n",
      "[extract] note too long, truncate to 1025\n",
      "[extract] note too long, truncate to 1025\n",
      "[extract] note too long, truncate to 1025\n",
      "[extract] note too long, truncate to 1025\n",
      "[extract] note too long, truncate to 1025\n",
      "[extract] note too long, truncate to 1025\n",
      "[extract] note too long, truncate to 1025\n",
      "[extract] note too long, truncate to 1025\n",
      "[extract] note too long, truncate to 1025\n",
      "[extract] note too long, truncate to 1025"
     ]
    },
    {
     "name": "stderr",
     "output_type": "stream",
     "text": [
      "Processing MIDI files:   4%|▎         | 592/16838 [00:49<30:29,  8.88it/s]"
     ]
    },
    {
     "name": "stdout",
     "output_type": "stream",
     "text": [
      "\n",
      "[extract] note too long, truncate to 1025\n",
      "[extract] note too long, truncate to 1025\n",
      "[extract] note too long, truncate to 1025\n",
      "[extract] note too long, truncate to 1025\n",
      "[extract] note too long, truncate to 1025\n",
      "[extract] note too long, truncate to 1025\n",
      "[extract] note too long, truncate to 1025\n",
      "[extract] note too long, truncate to 1025\n",
      "[extract] note too long, truncate to 1025\n",
      "[extract] note too long, truncate to 1025\n",
      "[extract] note too long, truncate to 1025\n",
      "[extract] note too long, truncate to 1025"
     ]
    },
    {
     "name": "stderr",
     "output_type": "stream",
     "text": [
      "Processing MIDI files:   4%|▎         | 595/16838 [00:49<25:04, 10.79it/s]"
     ]
    },
    {
     "name": "stdout",
     "output_type": "stream",
     "text": [
      "\n",
      "[extract] note too long, truncate to 1025\n",
      "[extract] note too long, truncate to 1025\n",
      "[extract] note too long, truncate to 1025\n",
      "[extract] note too long, truncate to 1025\n",
      "[extract] note too long, truncate to 1025\n",
      "[extract] note too long, truncate to 1025\n",
      "[extract] note too long, truncate to 1025\n",
      "[extract] note too long, truncate to 1025\n",
      "[extract] note too long, truncate to 1025\n",
      "[extract] note too long, truncate to 1025\n",
      "[extract] note too long, truncate to 1025\n",
      "[extract] note too long, truncate to 1025\n",
      "[extract] note too long, truncate to 1025"
     ]
    },
    {
     "name": "stderr",
     "output_type": "stream",
     "text": [
      "Processing MIDI files:   4%|▎         | 601/16838 [00:49<15:36, 17.34it/s]"
     ]
    },
    {
     "name": "stdout",
     "output_type": "stream",
     "text": [
      "\n",
      "[extract] note too long, truncate to 1025\n",
      "[extract] note too long, truncate to 1025\n",
      "[extract] note too long, truncate to 1025\n",
      "[extract] note too long, truncate to 1025\n",
      "[extract] note too long, truncate to 1025\n",
      "[extract] note too long, truncate to 1025\n",
      "[extract] note too long, truncate to 1025\n",
      "[extract] note too long, truncate to 1025\n",
      "[extract] note too long, truncate to 1025\n",
      "[extract] note too long, truncate to 1025\n",
      "[extract] note too long, truncate to 1025\n",
      "[extract] note too long, truncate to 1025\n",
      "[extract] note too long, truncate to 1025\n",
      "[extract] note too long, truncate to 1025\n",
      "[extract] note too long, truncate to 1025\n",
      "[extract] note too long, truncate to 1025\n",
      "[extract] note too long, truncate to 1025\n",
      "[extract] note too long, truncate to 1025\n",
      "[extract] note too long, truncate to 1025\n",
      "[extract] note too long, truncate to 1025\n",
      "[extract] note too long, truncate to 1025\n",
      "[extract] note too long, truncate to 1025\n",
      "[extract] note too long, truncate to 1025[extract] note too long, truncate to 1025\n",
      "\n",
      "[extract] note too long, truncate to 1025\n",
      "[extract] note too long, truncate to 1025[extract] note too long, truncate to 1025\n",
      "\n",
      "[extract] note too long, truncate to 1025[extract] note too long, truncate to 1025\n",
      "\n",
      "[extract] note too long, truncate to 1025[extract] note too long, truncate to 1025\n",
      "\n",
      "[extract] note too long, truncate to 1025[extract] note too long, truncate to 1025\n",
      "\n",
      "[extract] note too long, truncate to 1025[extract] note too long, truncate to 1025\n",
      "\n",
      "[extract] note too long, truncate to 1025[extract] note too long, truncate to 1025\n",
      "\n",
      "[extract] note too long, truncate to 1025[extract] note too long, truncate to 1025\n",
      "\n",
      "[extract] note too long, truncate to 1025\n",
      "[extract] note too long, truncate to 1025\n",
      "[extract] note too long, truncate to 1025\n",
      "[extract] note too long, truncate to 1025\n",
      "[extract] note too long, truncate to 1025\n",
      "[extract] note too long, truncate to 1025\n",
      "[extract] note too long, truncate to 1025\n",
      "[extract] note too long, truncate to 1025\n",
      "[extract] note too long, truncate to 1025\n",
      "[extract] note too long, truncate to 1025\n",
      "[extract] note too long, truncate to 1025[extract] note too long, truncate to 1025\n",
      "\n",
      "[extract] note too long, truncate to 1025"
     ]
    },
    {
     "name": "stderr",
     "output_type": "stream",
     "text": [
      "Processing MIDI files:   4%|▎         | 604/16838 [00:50<21:13, 12.75it/s]"
     ]
    },
    {
     "name": "stdout",
     "output_type": "stream",
     "text": [
      "[extract] note too long, truncate to 1025\n",
      "\n",
      "[extract] note too long, truncate to 1025\n",
      "[extract] note too long, truncate to 1025\n",
      "[extract] note too long, truncate to 1025\n",
      "[extract] note too long, truncate to 1025\n",
      "[extract] note too long, truncate to 1025\n",
      "[extract] note too long, truncate to 1025\n",
      "[extract] note too long, truncate to 1025\n",
      "[extract] note too long, truncate to 1025\n",
      "[extract] note too long, truncate to 1025\n",
      "[extract] note too long, truncate to 1025\n",
      "[extract] note too long, truncate to 1025\n",
      "[extract] note too long, truncate to 1025\n",
      "[extract] note too long, truncate to 1025\n",
      "[extract] note too long, truncate to 1025\n",
      "[extract] note too long, truncate to 1025\n",
      "[extract] note too long, truncate to 1025\n",
      "[extract] note too long, truncate to 1025\n",
      "[extract] note too long, truncate to 1025\n",
      "[extract] note too long, truncate to 1025"
     ]
    },
    {
     "name": "stderr",
     "output_type": "stream",
     "text": [
      "Processing MIDI files:   4%|▎         | 607/16838 [00:50<19:04, 14.18it/s]"
     ]
    },
    {
     "name": "stdout",
     "output_type": "stream",
     "text": [
      "\n",
      "[extract] note too long, truncate to 1025\n",
      "[extract] note too long, truncate to 1025\n",
      "[extract] note too long, truncate to 1025\n",
      "[extract] note too long, truncate to 1025\n",
      "[extract] note too long, truncate to 1025\n",
      "[extract] note too long, truncate to 1025\n",
      "[extract] note too long, truncate to 1025\n",
      "[extract] note too long, truncate to 1025\n",
      "[extract] note too long, truncate to 1025\n",
      "[extract] note too long, truncate to 1025\n",
      "[extract] note too long, truncate to 1025\n",
      "[extract] note too long, truncate to 1025\n",
      "[extract] note too long, truncate to 1025\n",
      "[extract] note too long, truncate to 1025\n",
      "[extract] note too long, truncate to 1025\n",
      "[extract] note too long, truncate to 1025\n",
      "[extract] note too long, truncate to 1025\n",
      "[extract] note too long, truncate to 1025\n",
      "[extract] note too long, truncate to 1025"
     ]
    },
    {
     "name": "stderr",
     "output_type": "stream",
     "text": [
      "Processing MIDI files:   4%|▎         | 610/16838 [00:50<16:56, 15.97it/s]"
     ]
    },
    {
     "name": "stdout",
     "output_type": "stream",
     "text": [
      "\n",
      "[extract] note too long, truncate to 1025\n",
      "[extract] note too long, truncate to 1025\n",
      "[extract] note too long, truncate to 1025\n",
      "[extract] note too long, truncate to 1025\n",
      "[extract] note too long, truncate to 1025\n",
      "[extract] note too long, truncate to 1025\n",
      "[extract] note too long, truncate to 1025\n",
      "[extract] note too long, truncate to 1025\n",
      "[extract] note too long, truncate to 1025\n",
      "[extract] note too long, truncate to 1025\n",
      "[extract] note too long, truncate to 1025\n",
      "[extract] note too long, truncate to 1025\n",
      "[extract] note too long, truncate to 1025\n",
      "[extract] note too long, truncate to 1025\n",
      "[extract] note too long, truncate to 1025[extract] note too long, truncate to 1025\n",
      "\n",
      "[extract] note too long, truncate to 1025\n",
      "[extract] note too long, truncate to 1025\n",
      "[extract] note too long, truncate to 1025\n",
      "[extract] note too long, truncate to 1025\n",
      "[extract] note too long, truncate to 1025"
     ]
    },
    {
     "name": "stderr",
     "output_type": "stream",
     "text": [
      "Processing MIDI files:   4%|▎         | 613/16838 [00:50<17:57, 15.06it/s]"
     ]
    },
    {
     "name": "stdout",
     "output_type": "stream",
     "text": [
      "\n",
      "[extract] note too long, truncate to 1025\n",
      "[extract] note too long, truncate to 1025\n",
      "[extract] note too long, truncate to 1025\n",
      "[extract] note too long, truncate to 1025\n",
      "[extract] note too long, truncate to 1025\n",
      "[extract] note too long, truncate to 1025\n",
      "[extract] note too long, truncate to 1025\n",
      "[extract] note too long, truncate to 1025\n",
      "[extract] note too long, truncate to 1025\n",
      "[extract] note too long, truncate to 1025\n",
      "[extract] note too long, truncate to 1025\n",
      "[extract] note too long, truncate to 1025\n",
      "[extract] note too long, truncate to 1025\n",
      "[extract] note too long, truncate to 1025\n",
      "[extract] note too long, truncate to 1025\n",
      "[extract] note too long, truncate to 1025\n",
      "[extract] note too long, truncate to 1025\n",
      "[extract] note too long, truncate to 1025\n",
      "[extract] note too long, truncate to 1025\n",
      "[extract] note too long, truncate to 1025\n",
      "[extract] note too long, truncate to 1025\n",
      "[extract] note too long, truncate to 1025\n",
      "[extract] note too long, truncate to 1025\n",
      "[extract] note too long, truncate to 1025\n",
      "[extract] note too long, truncate to 1025\n",
      "[extract] note too long, truncate to 1025\n",
      "[extract] note too long, truncate to 1025\n",
      "[extract] note too long, truncate to 1025\n",
      "[extract] note too long, truncate to 1025\n",
      "[extract] note too long, truncate to 1025\n",
      "[extract] note too long, truncate to 1025\n",
      "[extract] note too long, truncate to 1025\n"
     ]
    },
    {
     "name": "stderr",
     "output_type": "stream",
     "text": [
      "Processing MIDI files:   4%|▎         | 615/16838 [00:51<21:57, 12.31it/s]"
     ]
    },
    {
     "name": "stdout",
     "output_type": "stream",
     "text": [
      "[extract] note too long, truncate to 1025\n",
      "[extract] note too long, truncate to 1025\n",
      "[extract] note too long, truncate to 1025\n",
      "[extract] note too long, truncate to 1025\n",
      "[extract] note too long, truncate to 1025\n",
      "[extract] note too long, truncate to 1025\n",
      "[extract] note too long, truncate to 1025\n",
      "[extract] note too long, truncate to 1025\n",
      "[extract] note too long, truncate to 1025\n",
      "[extract] note too long, truncate to 1025\n",
      "[extract] note too long, truncate to 1025\n"
     ]
    },
    {
     "name": "stderr",
     "output_type": "stream",
     "text": [
      "Processing MIDI files:   4%|▎         | 618/16838 [00:51<18:07, 14.92it/s]"
     ]
    },
    {
     "name": "stdout",
     "output_type": "stream",
     "text": [
      "[extract] note too long, truncate to 1025\n",
      "[extract] note too long, truncate to 1025\n",
      "[extract] note too long, truncate to 1025\n",
      "[extract] note too long, truncate to 1025\n",
      "[extract] note too long, truncate to 1025\n",
      "[extract] note too long, truncate to 1025\n",
      "[extract] note too long, truncate to 1025\n",
      "[extract] note too long, truncate to 1025\n",
      "[extract] note too long, truncate to 1025\n",
      "[extract] note too long, truncate to 1025\n",
      "[extract] note too long, truncate to 1025\n",
      "[extract] note too long, truncate to 1025\n",
      "[extract] note too long, truncate to 1025\n",
      "[extract] note too long, truncate to 1025\n",
      "[extract] note too long, truncate to 1025\n",
      "[extract] note too long, truncate to 1025"
     ]
    },
    {
     "name": "stderr",
     "output_type": "stream",
     "text": [
      "Processing MIDI files:   4%|▎         | 620/16838 [00:51<18:57, 14.26it/s]"
     ]
    },
    {
     "name": "stdout",
     "output_type": "stream",
     "text": [
      "\n",
      "[extract] note too long, truncate to 1025\n",
      "[extract] note too long, truncate to 1025\n",
      "[extract] note too long, truncate to 1025\n",
      "[extract] note too long, truncate to 1025\n",
      "[extract] note too long, truncate to 1025\n",
      "[extract] note too long, truncate to 1025\n",
      "[extract] note too long, truncate to 1025\n",
      "[extract] note too long, truncate to 1025\n",
      "[extract] note too long, truncate to 1025\n",
      "[extract] note too long, truncate to 1025\n",
      "[extract] note too long, truncate to 1025\n",
      "[extract] note too long, truncate to 1025\n",
      "[extract] note too long, truncate to 1025\n",
      "[extract] note too long, truncate to 1025\n",
      "[extract] note too long, truncate to 1025\n",
      "[extract] note too long, truncate to 1025\n",
      "[extract] note too long, truncate to 1025\n",
      "[extract] note too long, truncate to 1025\n",
      "[extract] note too long, truncate to 1025\n",
      "[extract] note too long, truncate to 1025\n",
      "[extract] note too long, truncate to 1025\n",
      "[extract] note too long, truncate to 1025\n",
      "[extract] note too long, truncate to 1025\n",
      "[extract] note too long, truncate to 1025\n",
      "[extract] note too long, truncate to 1025\n",
      "[extract] note too long, truncate to 1025\n",
      "[extract] note too long, truncate to 1025\n",
      "[extract] note too long, truncate to 1025\n",
      "[extract] note too long, truncate to 1025\n",
      "[extract] note too long, truncate to 1025\n",
      "[extract] note too long, truncate to 1025\n",
      "[extract] note too long, truncate to 1025\n",
      "[extract] note too long, truncate to 1025\n",
      "[extract] note too long, truncate to 1025\n",
      "[extract] note too long, truncate to 1025\n",
      "[extract] note too long, truncate to 1025\n",
      "[extract] note too long, truncate to 1025\n",
      "[extract] note too long, truncate to 1025\n",
      "[extract] note too long, truncate to 1025[extract] note too long, truncate to 1025\n",
      "\n",
      "[extract] note too long, truncate to 1025\n",
      "[extract] note too long, truncate to 1025\n"
     ]
    },
    {
     "name": "stderr",
     "output_type": "stream",
     "text": [
      "Processing MIDI files:   4%|▎         | 622/16838 [00:51<25:02, 10.79it/s]"
     ]
    },
    {
     "name": "stdout",
     "output_type": "stream",
     "text": [
      "[extract] note too long, truncate to 1025\n",
      "[extract] note too long, truncate to 1025\n",
      "[extract] note too long, truncate to 1025\n",
      "[extract] note too long, truncate to 1025\n",
      "[extract] note too long, truncate to 1025\n",
      "[extract] note too long, truncate to 1025\n",
      "[extract] note too long, truncate to 1025\n",
      "[extract] note too long, truncate to 1025\n",
      "[extract] note too long, truncate to 1025\n",
      "[extract] note too long, truncate to 1025\n",
      "[extract] note too long, truncate to 1025\n",
      "[extract] note too long, truncate to 1025\n",
      "[extract] note too long, truncate to 1025\n",
      "[extract] note too long, truncate to 1025\n",
      "[extract] note too long, truncate to 1025\n",
      "[extract] note too long, truncate to 1025\n",
      "[extract] note too long, truncate to 1025\n",
      "[extract] note too long, truncate to 1025\n",
      "[extract] note too long, truncate to 1025\n",
      "[extract] note too long, truncate to 1025\n",
      "[extract] note too long, truncate to 1025\n",
      "[extract] note too long, truncate to 1025\n",
      "[extract] note too long, truncate to 1025\n",
      "[extract] note too long, truncate to 1025\n",
      "[extract] note too long, truncate to 1025"
     ]
    },
    {
     "name": "stderr",
     "output_type": "stream",
     "text": [
      "Processing MIDI files:   4%|▎         | 624/16838 [00:51<25:31, 10.58it/s]"
     ]
    },
    {
     "name": "stdout",
     "output_type": "stream",
     "text": [
      "\n",
      "[extract] note too long, truncate to 1025\n",
      "[extract] note too long, truncate to 1025\n",
      "[extract] note too long, truncate to 1025\n",
      "[extract] note too long, truncate to 1025\n",
      "[extract] note too long, truncate to 1025\n",
      "[extract] note too long, truncate to 1025\n",
      "[extract] note too long, truncate to 1025\n",
      "[extract] note too long, truncate to 1025\n",
      "[extract] note too long, truncate to 1025\n",
      "[extract] note too long, truncate to 1025\n",
      "[extract] note too long, truncate to 1025\n",
      "[extract] note too long, truncate to 1025\n",
      "[extract] note too long, truncate to 1025\n",
      "[extract] note too long, truncate to 1025\n",
      "[extract] note too long, truncate to 1025\n",
      "[extract] note too long, truncate to 1025\n",
      "[extract] note too long, truncate to 1025\n",
      "[extract] note too long, truncate to 1025\n",
      "[extract] note too long, truncate to 1025\n",
      "[extract] note too long, truncate to 1025\n",
      "[extract] note too long, truncate to 1025\n",
      "[extract] note too long, truncate to 1025\n"
     ]
    },
    {
     "name": "stderr",
     "output_type": "stream",
     "text": [
      "Processing MIDI files:   4%|▎         | 626/16838 [00:52<25:42, 10.51it/s]"
     ]
    },
    {
     "name": "stdout",
     "output_type": "stream",
     "text": [
      "[extract] note too long, truncate to 1025\n",
      "[extract] note too long, truncate to 1025\n",
      "[extract] note too long, truncate to 1025\n",
      "[extract] note too long, truncate to 1025\n",
      "[extract] note too long, truncate to 1025\n",
      "[extract] note too long, truncate to 1025\n",
      "[extract] note too long, truncate to 1025\n",
      "[extract] note too long, truncate to 1025\n",
      "[extract] note too long, truncate to 1025\n",
      "[extract] note too long, truncate to 1025\n",
      "[extract] note too long, truncate to 1025\n",
      "[extract] note too long, truncate to 1025\n",
      "[extract] note too long, truncate to 1025\n",
      "[extract] note too long, truncate to 1025\n",
      "[extract] note too long, truncate to 1025\n",
      "[extract] note too long, truncate to 1025\n",
      "[extract] note too long, truncate to 1025\n",
      "[extract] note too long, truncate to 1025\n",
      "[extract] note too long, truncate to 1025\n",
      "[extract] note too long, truncate to 1025\n",
      "[extract] note too long, truncate to 1025\n",
      "[extract] note too long, truncate to 1025\n"
     ]
    },
    {
     "name": "stderr",
     "output_type": "stream",
     "text": [
      "Processing MIDI files:   4%|▎         | 628/16838 [00:52<26:16, 10.28it/s]"
     ]
    },
    {
     "name": "stdout",
     "output_type": "stream",
     "text": [
      "[extract] note too long, truncate to 1025\n",
      "[extract] note too long, truncate to 1025\n",
      "[extract] note too long, truncate to 1025\n",
      "[extract] note too long, truncate to 1025\n",
      "[extract] note too long, truncate to 1025\n",
      "[extract] note too long, truncate to 1025\n",
      "[extract] note too long, truncate to 1025\n",
      "[extract] note too long, truncate to 1025\n",
      "[extract] note too long, truncate to 1025\n",
      "[extract] note too long, truncate to 1025\n",
      "[extract] note too long, truncate to 1025\n",
      "[extract] note too long, truncate to 1025\n",
      "[extract] note too long, truncate to 1025\n",
      "[extract] note too long, truncate to 1025\n"
     ]
    },
    {
     "name": "stderr",
     "output_type": "stream",
     "text": [
      "Processing MIDI files:   4%|▎         | 630/16838 [00:52<23:22, 11.56it/s]"
     ]
    },
    {
     "name": "stdout",
     "output_type": "stream",
     "text": [
      "[extract] note too long, truncate to 1025\n",
      "[extract] note too long, truncate to 1025\n",
      "[extract] note too long, truncate to 1025\n",
      "[extract] note too long, truncate to 1025\n",
      "[extract] note too long, truncate to 1025\n",
      "[extract] note too long, truncate to 1025\n",
      "[extract] note too long, truncate to 1025\n",
      "[extract] note too long, truncate to 1025\n",
      "[extract] note too long, truncate to 1025\n",
      "[extract] note too long, truncate to 1025\n",
      "[extract] note too long, truncate to 1025\n",
      "[extract] note too long, truncate to 1025\n",
      "[extract] note too long, truncate to 1025\n",
      "[extract] note too long, truncate to 1025\n",
      "[extract] note too long, truncate to 1025\n",
      "[extract] note too long, truncate to 1025\n",
      "[extract] note too long, truncate to 1025\n",
      "[extract] note too long, truncate to 1025\n",
      "[extract] note too long, truncate to 1025\n",
      "[extract] note too long, truncate to 1025\n",
      "[extract] note too long, truncate to 1025\n",
      "[extract] note too long, truncate to 1025\n",
      "[extract] note too long, truncate to 1025\n",
      "[extract] note too long, truncate to 1025\n",
      "[extract] note too long, truncate to 1025\n",
      "[extract] note too long, truncate to 1025\n",
      "[extract] note too long, truncate to 1025\n",
      "[extract] note too long, truncate to 1025\n"
     ]
    },
    {
     "name": "stderr",
     "output_type": "stream",
     "text": [
      "Processing MIDI files:   4%|▍         | 634/16838 [00:52<19:47, 13.64it/s]"
     ]
    },
    {
     "name": "stdout",
     "output_type": "stream",
     "text": [
      "[extract] note too long, truncate to 1025\n",
      "[extract] note too long, truncate to 1025\n",
      "[extract] note too long, truncate to 1025\n",
      "[extract] note too long, truncate to 1025\n",
      "[extract] note too long, truncate to 1025\n",
      "[extract] note too long, truncate to 1025\n",
      "[extract] note too long, truncate to 1025\n",
      "[extract] note too long, truncate to 1025\n",
      "[extract] note too long, truncate to 1025\n",
      "[extract] note too long, truncate to 1025\n",
      "[extract] note too long, truncate to 1025\n",
      "[extract] note too long, truncate to 1025\n",
      "[extract] note too long, truncate to 1025\n",
      "[extract] note too long, truncate to 1025\n",
      "[extract] note too long, truncate to 1025\n",
      "[extract] note too long, truncate to 1025\n",
      "[extract] note too long, truncate to 1025\n",
      "[extract] note too long, truncate to 1025\n",
      "[extract] note too long, truncate to 1025"
     ]
    },
    {
     "name": "stderr",
     "output_type": "stream",
     "text": [
      "Processing MIDI files:   4%|▍         | 636/16838 [00:52<20:10, 13.38it/s]"
     ]
    },
    {
     "name": "stdout",
     "output_type": "stream",
     "text": [
      "\n",
      "[extract] note too long, truncate to 1025\n",
      "[extract] note too long, truncate to 1025\n",
      "[extract] note too long, truncate to 1025\n",
      "[extract] note too long, truncate to 1025\n",
      "[extract] note too long, truncate to 1025\n",
      "[extract] note too long, truncate to 1025\n",
      "[extract] note too long, truncate to 1025\n",
      "[extract] note too long, truncate to 1025\n",
      "[extract] note too long, truncate to 1025\n",
      "[extract] note too long, truncate to 1025\n",
      "[extract] note too long, truncate to 1025\n",
      "[extract] note too long, truncate to 1025\n",
      "[extract] note too long, truncate to 1025\n",
      "[extract] note too long, truncate to 1025\n",
      "[extract] note too long, truncate to 1025\n",
      "[extract] note too long, truncate to 1025\n",
      "[extract] note too long, truncate to 1025\n",
      "[extract] note too long, truncate to 1025\n",
      "[extract] note too long, truncate to 1025\n",
      "[extract] note too long, truncate to 1025\n",
      "[extract] note too long, truncate to 1025\n",
      "[extract] note too long, truncate to 1025\n",
      "[extract] note too long, truncate to 1025\n",
      "[extract] note too long, truncate to 1025\n",
      "[extract] note too long, truncate to 1025\n",
      "[extract] note too long, truncate to 1025\n",
      "[extract] note too long, truncate to 1025\n",
      "[extract] note too long, truncate to 1025\n",
      "[extract] note too long, truncate to 1025\n",
      "[extract] note too long, truncate to 1025\n",
      "[extract] note too long, truncate to 1025\n",
      "[extract] note too long, truncate to 1025\n",
      "[extract] note too long, truncate to 1025\n",
      "[extract] note too long, truncate to 1025\n",
      "[extract] note too long, truncate to 1025\n",
      "[extract] note too long, truncate to 1025\n",
      "[extract] note too long, truncate to 1025\n",
      "[extract] note too long, truncate to 1025\n",
      "[extract] note too long, truncate to 1025\n",
      "[extract] note too long, truncate to 1025\n",
      "[extract] note too long, truncate to 1025\n",
      "[extract] note too long, truncate to 1025\n",
      "[extract] note too long, truncate to 1025\n",
      "[extract] note too long, truncate to 1025\n",
      "[extract] note too long, truncate to 1025\n",
      "[extract] note too long, truncate to 1025\n",
      "[extract] note too long, truncate to 1025\n",
      "[extract] note too long, truncate to 1025\n",
      "[extract] note too long, truncate to 1025\n",
      "[extract] note too long, truncate to 1025\n",
      "[extract] note too long, truncate to 1025\n",
      "[extract] note too long, truncate to 1025\n",
      "[extract] note too long, truncate to 1025\n",
      "[extract] note too long, truncate to 1025\n",
      "[extract] note too long, truncate to 1025\n",
      "[extract] note too long, truncate to 1025\n",
      "[extract] note too long, truncate to 1025\n",
      "[extract] note too long, truncate to 1025\n",
      "[extract] note too long, truncate to 1025\n",
      "[extract] note too long, truncate to 1025\n",
      "[extract] note too long, truncate to 1025\n",
      "[extract] note too long, truncate to 1025\n",
      "[extract] note too long, truncate to 1025\n",
      "[extract] note too long, truncate to 1025\n",
      "[extract] note too long, truncate to 1025\n",
      "[extract] note too long, truncate to 1025\n",
      "[extract] note too long, truncate to 1025\n",
      "[extract] note too long, truncate to 1025\n",
      "[extract] note too long, truncate to 1025\n",
      "[extract] note too long, truncate to 1025\n",
      "[extract] note too long, truncate to 1025\n",
      "[extract] note too long, truncate to 1025\n",
      "[extract] note too long, truncate to 1025\n",
      "[extract] note too long, truncate to 1025\n",
      "[extract] note too long, truncate to 1025\n",
      "[extract] note too long, truncate to 1025\n",
      "[extract] note too long, truncate to 1025\n",
      "[extract] note too long, truncate to 1025\n",
      "[extract] note too long, truncate to 1025\n",
      "[extract] note too long, truncate to 1025\n",
      "[extract] note too long, truncate to 1025\n",
      "[extract] note too long, truncate to 1025\n",
      "[extract] note too long, truncate to 1025\n",
      "[extract] note too long, truncate to 1025\n",
      "[extract] note too long, truncate to 1025\n",
      "[extract] note too long, truncate to 1025\n",
      "[extract] note too long, truncate to 1025\n",
      "[extract] note too long, truncate to 1025\n",
      "[extract] note too long, truncate to 1025\n",
      "[extract] note too long, truncate to 1025\n",
      "[extract] note too long, truncate to 1025\n",
      "[extract] note too long, truncate to 1025\n",
      "[extract] note too long, truncate to 1025\n",
      "[extract] note too long, truncate to 1025\n",
      "[extract] note too long, truncate to 1025"
     ]
    },
    {
     "name": "stderr",
     "output_type": "stream",
     "text": [
      "Processing MIDI files:   4%|▍         | 638/16838 [00:53<40:17,  6.70it/s]"
     ]
    },
    {
     "name": "stdout",
     "output_type": "stream",
     "text": [
      "\n",
      "[extract] note too long, truncate to 1025\n",
      "[extract] note too long, truncate to 1025\n",
      "[extract] note too long, truncate to 1025\n",
      "[extract] note too long, truncate to 1025\n",
      "[extract] note too long, truncate to 1025\n",
      "[extract] note too long, truncate to 1025\n",
      "[extract] note too long, truncate to 1025\n",
      "[extract] note too long, truncate to 1025\n",
      "[extract] note too long, truncate to 1025\n",
      "[extract] note too long, truncate to 1025\n",
      "[extract] note too long, truncate to 1025\n",
      "[extract] note too long, truncate to 1025\n",
      "[extract] note too long, truncate to 1025\n",
      "[extract] note too long, truncate to 1025\n",
      "[extract] note too long, truncate to 1025\n",
      "[extract] note too long, truncate to 1025\n",
      "[extract] note too long, truncate to 1025\n"
     ]
    },
    {
     "name": "stderr",
     "output_type": "stream",
     "text": [
      "Processing MIDI files:   4%|▍         | 641/16838 [00:53<30:21,  8.89it/s]"
     ]
    },
    {
     "name": "stdout",
     "output_type": "stream",
     "text": [
      "[extract] note too long, truncate to 1025\n",
      "[extract] note too long, truncate to 1025\n",
      "[extract] note too long, truncate to 1025\n",
      "[extract] note too long, truncate to 1025\n",
      "[extract] note too long, truncate to 1025\n",
      "[extract] note too long, truncate to 1025\n",
      "[extract] note too long, truncate to 1025\n",
      "[extract] note too long, truncate to 1025\n",
      "[extract] note too long, truncate to 1025\n",
      "[extract] note too long, truncate to 1025\n",
      "[extract] note too long, truncate to 1025\n",
      "[extract] note too long, truncate to 1025\n",
      "[extract] note too long, truncate to 1025\n",
      "[extract] note too long, truncate to 1025\n",
      "[extract] note too long, truncate to 1025\n",
      "[extract] note too long, truncate to 1025\n",
      "\n",
      "[extract] note too long, truncate to 1025"
     ]
    },
    {
     "name": "stderr",
     "output_type": "stream",
     "text": [
      "Processing MIDI files:   4%|▍         | 643/16838 [00:53<27:06,  9.96it/s]"
     ]
    },
    {
     "name": "stdout",
     "output_type": "stream",
     "text": [
      "[extract] note too long, truncate to 1025\n",
      "[extract] note too long, truncate to 1025\n",
      "[extract] note too long, truncate to 1025\n",
      "[extract] note too long, truncate to 1025\n",
      "[extract] note too long, truncate to 1025\n",
      "[extract] note too long, truncate to 1025\n",
      "[extract] note too long, truncate to 1025\n",
      "[extract] note too long, truncate to 1025\n",
      "[extract] note too long, truncate to 1025\n",
      "[extract] note too long, truncate to 1025\n",
      "[extract] note too long, truncate to 1025\n",
      "[extract] note too long, truncate to 1025\n",
      "[extract] note too long, truncate to 1025\n",
      "[extract] note too long, truncate to 1025\n",
      "[extract] note too long, truncate to 1025\n",
      "[extract] note too long, truncate to 1025\n",
      "[extract] note too long, truncate to 1025\n",
      "[extract] note too long, truncate to 1025\n",
      "[extract] note too long, truncate to 1025\n",
      "[extract] note too long, truncate to 1025\n",
      "[extract] note too long, truncate to 1025\n",
      "[extract] note too long, truncate to 1025\n",
      "[extract] note too long, truncate to 1025\n",
      "[extract] note too long, truncate to 1025\n",
      "[extract] note too long, truncate to 1025\n",
      "[extract] note too long, truncate to 1025\n",
      "[extract] note too long, truncate to 1025\n",
      "[extract] note too long, truncate to 1025\n",
      "[extract] note too long, truncate to 1025\n",
      "[extract] note too long, truncate to 1025\n"
     ]
    },
    {
     "name": "stderr",
     "output_type": "stream",
     "text": [
      "Processing MIDI files:   4%|▍         | 685/16838 [00:57<20:55, 12.86it/s]"
     ]
    },
    {
     "name": "stdout",
     "output_type": "stream",
     "text": [
      "[extract] note too long, truncate to 1025\n"
     ]
    },
    {
     "name": "stderr",
     "output_type": "stream",
     "text": [
      "Processing MIDI files:   4%|▍         | 687/16838 [00:57<21:59, 12.24it/s]"
     ]
    },
    {
     "name": "stdout",
     "output_type": "stream",
     "text": [
      "[extract] note too long, truncate to 1025\n"
     ]
    },
    {
     "name": "stderr",
     "output_type": "stream",
     "text": [
      "Processing MIDI files:   5%|▌         | 889/16838 [01:13<26:00, 10.22it/s]"
     ]
    },
    {
     "name": "stdout",
     "output_type": "stream",
     "text": [
      "[extract] note too long, truncate to 1025\n",
      "[extract] note too long, truncate to 1025\n",
      "[extract] note too long, truncate to 1025\n",
      "[extract] note too long, truncate to 1025\n",
      "[extract] note too long, truncate to 1025\n",
      "[extract] note too long, truncate to 1025\n",
      "[extract] note too long, truncate to 1025\n"
     ]
    },
    {
     "name": "stderr",
     "output_type": "stream",
     "text": [
      "Processing MIDI files:   5%|▌         | 925/16838 [01:16<22:47, 11.63it/s]"
     ]
    },
    {
     "name": "stdout",
     "output_type": "stream",
     "text": [
      "[extract] note too long, truncate to 1025\n",
      "[extract] note too long, truncate to 1025\n",
      "[extract] note too long, truncate to 1025\n",
      "[extract] note too long, truncate to 1025\n"
     ]
    },
    {
     "name": "stderr",
     "output_type": "stream",
     "text": [
      "Processing MIDI files:   6%|▌         | 1005/16838 [01:25<33:36,  7.85it/s] "
     ]
    },
    {
     "name": "stdout",
     "output_type": "stream",
     "text": [
      "[extract] note too long, truncate to 1025\n"
     ]
    },
    {
     "name": "stderr",
     "output_type": "stream",
     "text": [
      "Processing MIDI files:   6%|▌         | 1030/16838 [01:27<22:00, 11.97it/s]"
     ]
    },
    {
     "name": "stdout",
     "output_type": "stream",
     "text": [
      "[extract] note too long, truncate to 1025\n"
     ]
    },
    {
     "name": "stderr",
     "output_type": "stream",
     "text": [
      "Processing MIDI files:   6%|▋         | 1093/16838 [01:32<21:07, 12.43it/s]"
     ]
    },
    {
     "name": "stdout",
     "output_type": "stream",
     "text": [
      "[extract] note too long, truncate to 1025\n"
     ]
    },
    {
     "name": "stderr",
     "output_type": "stream",
     "text": [
      "Processing MIDI files:   7%|▋         | 1142/16838 [01:37<29:53,  8.75it/s]"
     ]
    },
    {
     "name": "stdout",
     "output_type": "stream",
     "text": [
      "[extract] note too long, truncate to 1025\n",
      "[extract] note too long, truncate to 1025\n"
     ]
    },
    {
     "name": "stderr",
     "output_type": "stream",
     "text": [
      "Processing MIDI files:   7%|▋         | 1224/16838 [01:44<17:43, 14.68it/s]"
     ]
    },
    {
     "name": "stdout",
     "output_type": "stream",
     "text": [
      "[extract] note too long, truncate to 1025\n",
      "[extract] note too long, truncate to 1025\n",
      "[extract] note too long, truncate to 1025\n",
      "[extract] note too long, truncate to 1025\n",
      "[extract] note too long, truncate to 1025\n",
      "[extract] note too long, truncate to 1025\n",
      "[extract] note too long, truncate to 1025\n",
      "[extract] note too long, truncate to 1025\n",
      "[extract] note too long, truncate to 1025\n",
      "[extract] note too long, truncate to 1025\n"
     ]
    },
    {
     "name": "stderr",
     "output_type": "stream",
     "text": [
      "Processing MIDI files:   8%|▊         | 1266/16838 [01:48<15:42, 16.53it/s]"
     ]
    },
    {
     "name": "stdout",
     "output_type": "stream",
     "text": [
      "[extract] note too long, truncate to 1025\n",
      "[extract] note too long, truncate to 1025\n",
      "[extract] note too long, truncate to 1025\n",
      "[extract] note too long, truncate to 1025\n"
     ]
    },
    {
     "name": "stderr",
     "output_type": "stream",
     "text": [
      "Processing MIDI files:   8%|▊         | 1288/16838 [01:49<24:41, 10.49it/s]"
     ]
    },
    {
     "name": "stdout",
     "output_type": "stream",
     "text": [
      "[extract] note too long, truncate to 1025\n"
     ]
    },
    {
     "name": "stderr",
     "output_type": "stream",
     "text": [
      "Processing MIDI files:   8%|▊         | 1352/16838 [01:56<25:57,  9.94it/s]"
     ]
    },
    {
     "name": "stdout",
     "output_type": "stream",
     "text": [
      "[extract] note too long, truncate to 1025\n",
      "[extract] note too long, truncate to 1025\n"
     ]
    },
    {
     "name": "stderr",
     "output_type": "stream",
     "text": [
      "Processing MIDI files:   9%|▉         | 1565/16838 [02:15<26:22,  9.65it/s]"
     ]
    },
    {
     "name": "stdout",
     "output_type": "stream",
     "text": [
      "[extract] note too long, truncate to 1025\n",
      "[extract] note too long, truncate to 1025\n",
      "[extract] note too long, truncate to 1025\n",
      "[extract] note too long, truncate to 1025\n"
     ]
    },
    {
     "name": "stderr",
     "output_type": "stream",
     "text": [
      "Processing MIDI files:  10%|▉         | 1639/16838 [02:24<26:58,  9.39it/s]"
     ]
    },
    {
     "name": "stdout",
     "output_type": "stream",
     "text": [
      "[extract] note too long, truncate to 1025\n",
      "[extract] note too long, truncate to 1025\n",
      "[extract] note too long, truncate to 1025\n"
     ]
    },
    {
     "name": "stderr",
     "output_type": "stream",
     "text": [
      "Processing MIDI files:  10%|█         | 1739/16838 [02:33<28:14,  8.91it/s]"
     ]
    },
    {
     "name": "stdout",
     "output_type": "stream",
     "text": [
      "[extract] note too long, truncate to 1025\n",
      "[extract] note too long, truncate to 1025\n",
      "[extract] note too long, truncate to 1025\n",
      "[extract] note too long, truncate to 1025\n"
     ]
    },
    {
     "name": "stderr",
     "output_type": "stream",
     "text": [
      "Processing MIDI files:  11%|█         | 1789/16838 [02:38<17:12, 14.57it/s]"
     ]
    },
    {
     "name": "stdout",
     "output_type": "stream",
     "text": [
      "[extract] note too long, truncate to 1025\n"
     ]
    },
    {
     "name": "stderr",
     "output_type": "stream",
     "text": [
      "Processing MIDI files:  11%|█         | 1856/16838 [02:43<13:20, 18.71it/s]"
     ]
    },
    {
     "name": "stdout",
     "output_type": "stream",
     "text": [
      "[extract] note too long, truncate to 1025\n"
     ]
    },
    {
     "name": "stderr",
     "output_type": "stream",
     "text": [
      "Processing MIDI files:  11%|█         | 1882/16838 [02:45<20:00, 12.46it/s]"
     ]
    },
    {
     "name": "stdout",
     "output_type": "stream",
     "text": [
      "[extract] note too long, truncate to 1025\n",
      "[extract] note too long, truncate to 1025\n",
      "[extract] note too long, truncate to 1025\n",
      "[extract] note too long, truncate to 1025\n",
      "[extract] note too long, truncate to 1025\n",
      "[extract] note too long, truncate to 1025\n",
      "[extract] note too long, truncate to 1025\n",
      "[extract] note too long, truncate to 1025\n",
      "[extract] note too long, truncate to 1025\n",
      "[extract] note too long, truncate to 1025\n",
      "[extract] note too long, truncate to 1025\n",
      "[extract] note too long, truncate to 1025\n"
     ]
    },
    {
     "name": "stderr",
     "output_type": "stream",
     "text": [
      "Processing MIDI files:  12%|█▏        | 1948/16838 [02:50<19:58, 12.42it/s]"
     ]
    },
    {
     "name": "stdout",
     "output_type": "stream",
     "text": [
      "[extract] note too long, truncate to 1025\n"
     ]
    },
    {
     "name": "stderr",
     "output_type": "stream",
     "text": [
      "Processing MIDI files:  12%|█▏        | 1954/16838 [02:50<21:21, 11.62it/s]"
     ]
    },
    {
     "name": "stdout",
     "output_type": "stream",
     "text": [
      "[extract] note too long, truncate to 1025\n",
      "[extract] note too long, truncate to 1025\n"
     ]
    },
    {
     "name": "stderr",
     "output_type": "stream",
     "text": [
      "Processing MIDI files:  12%|█▏        | 1999/16838 [02:54<28:21,  8.72it/s]"
     ]
    },
    {
     "name": "stdout",
     "output_type": "stream",
     "text": [
      "[extract] note too long, truncate to 1025\n",
      "[extract] note too long, truncate to 1025\n"
     ]
    },
    {
     "name": "stderr",
     "output_type": "stream",
     "text": [
      "Processing MIDI files:  12%|█▏        | 2005/16838 [02:54<24:13, 10.21it/s]"
     ]
    },
    {
     "name": "stdout",
     "output_type": "stream",
     "text": [
      "[extract] note too long, truncate to 1025\n",
      "[extract] note too long, truncate to 1025\n",
      "[extract] note too long, truncate to 1025\n",
      "[extract] note too long, truncate to 1025\n",
      "[extract] note too long, truncate to 1025\n",
      "[extract] note too long, truncate to 1025\n"
     ]
    },
    {
     "name": "stderr",
     "output_type": "stream",
     "text": [
      "Processing MIDI files:  12%|█▏        | 2010/16838 [02:55<29:04,  8.50it/s]"
     ]
    },
    {
     "name": "stdout",
     "output_type": "stream",
     "text": [
      "[extract] note too long, truncate to 1025\n"
     ]
    },
    {
     "name": "stderr",
     "output_type": "stream",
     "text": [
      "Processing MIDI files:  13%|█▎        | 2140/16838 [03:08<24:33,  9.97it/s]"
     ]
    },
    {
     "name": "stdout",
     "output_type": "stream",
     "text": [
      "[extract] note too long, truncate to 1025\n",
      "[extract] note too long, truncate to 1025\n",
      "[extract] note too long, truncate to 1025\n",
      "[extract] note too long, truncate to 1025\n"
     ]
    },
    {
     "name": "stderr",
     "output_type": "stream",
     "text": [
      "Processing MIDI files:  13%|█▎        | 2152/16838 [03:10<28:05,  8.71it/s]"
     ]
    },
    {
     "name": "stdout",
     "output_type": "stream",
     "text": [
      "[extract] note too long, truncate to 1025\n",
      "[extract] note too long, truncate to 1025\n",
      "[extract] note too long, truncate to 1025\n",
      "[extract] note too long, truncate to 1025\n",
      "[extract] note too long, truncate to 1025\n"
     ]
    },
    {
     "name": "stderr",
     "output_type": "stream",
     "text": [
      "Processing MIDI files:  13%|█▎        | 2154/16838 [03:10<25:01,  9.78it/s]"
     ]
    },
    {
     "name": "stdout",
     "output_type": "stream",
     "text": [
      "[extract] note too long, truncate to 1025\n"
     ]
    },
    {
     "name": "stderr",
     "output_type": "stream",
     "text": [
      "Processing MIDI files:  13%|█▎        | 2177/16838 [03:11<14:34, 16.77it/s]"
     ]
    },
    {
     "name": "stdout",
     "output_type": "stream",
     "text": [
      "[extract] note too long, truncate to 1025\n",
      "[extract] note too long, truncate to 1025\n",
      "[extract] note too long, truncate to 1025\n",
      "[extract] note too long, truncate to 1025\n",
      "[extract] note too long, truncate to 1025\n",
      "[extract] note too long, truncate to 1025\n",
      "[extract] note too long, truncate to 1025\n",
      "[extract] note too long, truncate to 1025\n",
      "[extract] note too long, truncate to 1025\n",
      "[extract] note too long, truncate to 1025\n",
      "[extract] note too long, truncate to 1025\n",
      "[extract] note too long, truncate to 1025\n",
      "[extract] note too long, truncate to 1025\n",
      "[extract] note too long, truncate to 1025\n"
     ]
    },
    {
     "name": "stderr",
     "output_type": "stream",
     "text": [
      "Processing MIDI files:  13%|█▎        | 2188/16838 [03:12<14:50, 16.45it/s]"
     ]
    },
    {
     "name": "stdout",
     "output_type": "stream",
     "text": [
      "[extract] note too long, truncate to 1025\n",
      "[extract] note too long, truncate to 1025\n",
      "[extract] note too long, truncate to 1025\n",
      "[extract] note too long, truncate to 1025\n",
      "[extract] note too long, truncate to 1025\n",
      "[extract] note too long, truncate to 1025\n"
     ]
    },
    {
     "name": "stderr",
     "output_type": "stream",
     "text": [
      "Processing MIDI files:  13%|█▎        | 2192/16838 [03:12<15:27, 15.80it/s]"
     ]
    },
    {
     "name": "stdout",
     "output_type": "stream",
     "text": [
      "[extract] note too long, truncate to 1025\n",
      "[extract] note too long, truncate to 1025\n",
      "[extract] note too long, truncate to 1025\n",
      "[extract] note too long, truncate to 1025\n",
      "[extract] note too long, truncate to 1025\n",
      "[extract] note too long, truncate to 1025\n",
      "[extract] note too long, truncate to 1025\n",
      "[extract] note too long, truncate to 1025\n",
      "[extract] note too long, truncate to 1025\n"
     ]
    },
    {
     "name": "stderr",
     "output_type": "stream",
     "text": [
      "Processing MIDI files:  13%|█▎        | 2198/16838 [03:12<10:52, 22.45it/s]"
     ]
    },
    {
     "name": "stdout",
     "output_type": "stream",
     "text": [
      "[extract] note too long, truncate to 1025\n",
      "[extract] note too long, truncate to 1025\n",
      "[extract] note too long, truncate to 1025\n"
     ]
    },
    {
     "name": "stderr",
     "output_type": "stream",
     "text": [
      "Processing MIDI files:  14%|█▎        | 2288/16838 [03:20<20:55, 11.59it/s]"
     ]
    },
    {
     "name": "stdout",
     "output_type": "stream",
     "text": [
      "[extract] note too long, truncate to 1025\n"
     ]
    },
    {
     "name": "stderr",
     "output_type": "stream",
     "text": [
      "Processing MIDI files:  14%|█▍        | 2317/16838 [03:23<31:08,  7.77it/s]"
     ]
    },
    {
     "name": "stdout",
     "output_type": "stream",
     "text": [
      "[extract] note too long, truncate to 1025\n"
     ]
    },
    {
     "name": "stderr",
     "output_type": "stream",
     "text": [
      "Processing MIDI files:  15%|█▌        | 2608/16838 [03:54<22:49, 10.39it/s]"
     ]
    },
    {
     "name": "stdout",
     "output_type": "stream",
     "text": [
      "[extract] note too long, truncate to 1025\n"
     ]
    },
    {
     "name": "stderr",
     "output_type": "stream",
     "text": [
      "Processing MIDI files:  16%|█▋        | 2739/16838 [04:05<14:26, 16.27it/s]"
     ]
    },
    {
     "name": "stdout",
     "output_type": "stream",
     "text": [
      "[extract] note too long, truncate to 1025\n"
     ]
    },
    {
     "name": "stderr",
     "output_type": "stream",
     "text": [
      "Processing MIDI files:  16%|█▋        | 2778/16838 [04:09<27:58,  8.37it/s]"
     ]
    },
    {
     "name": "stdout",
     "output_type": "stream",
     "text": [
      "[extract] note too long, truncate to 1025\n"
     ]
    },
    {
     "name": "stderr",
     "output_type": "stream",
     "text": [
      "Processing MIDI files:  17%|█▋        | 2782/16838 [04:09<20:09, 11.63it/s]"
     ]
    },
    {
     "name": "stdout",
     "output_type": "stream",
     "text": [
      "[extract] note too long, truncate to 1025\n",
      "[extract] note too long, truncate to 1025\n"
     ]
    },
    {
     "name": "stderr",
     "output_type": "stream",
     "text": [
      "Processing MIDI files:  17%|█▋        | 2792/16838 [04:10<27:54,  8.39it/s]"
     ]
    },
    {
     "name": "stdout",
     "output_type": "stream",
     "text": [
      "[extract] note too long, truncate to 1025\n",
      "[extract] note too long, truncate to 1025\n",
      "[extract] note too long, truncate to 1025\n",
      "[extract] note too long, truncate to 1025\n"
     ]
    },
    {
     "name": "stderr",
     "output_type": "stream",
     "text": [
      "Processing MIDI files:  17%|█▋        | 2793/16838 [04:11<29:37,  7.90it/s]"
     ]
    },
    {
     "name": "stdout",
     "output_type": "stream",
     "text": [
      "[extract] note too long, truncate to 1025\n",
      "[extract] note too long, truncate to 1025\n",
      "[extract] note too long, truncate to 1025\n",
      "[extract] note too long, truncate to 1025\n",
      "[extract] note too long, truncate to 1025\n",
      "[extract] note too long, truncate to 1025\n",
      "[extract] note too long, truncate to 1025\n",
      "[extract] note too long, truncate to 1025\n",
      "[extract] note too long, truncate to 1025\n",
      "[extract] note too long, truncate to 1025\n"
     ]
    },
    {
     "name": "stderr",
     "output_type": "stream",
     "text": [
      "Processing MIDI files:  17%|█▋        | 2826/16838 [04:14<24:58,  9.35it/s]"
     ]
    },
    {
     "name": "stdout",
     "output_type": "stream",
     "text": [
      "[extract] note too long, truncate to 1025\n",
      "[extract] note too long, truncate to 1025\n",
      "[extract] note too long, truncate to 1025\n",
      "[extract] note too long, truncate to 1025\n",
      "[extract] note too long, truncate to 1025\n",
      "[extract] note too long, truncate to 1025\n",
      "[extract] note too long, truncate to 1025\n",
      "[extract] note too long, truncate to 1025\n",
      "[extract] note too long, truncate to 1025\n",
      "[extract] note too long, truncate to 1025\n",
      "[extract] note too long, truncate to 1025\n",
      "[extract] note too long, truncate to 1025\n",
      "[extract] note too long, truncate to 1025\n",
      "[extract] note too long, truncate to 1025\n"
     ]
    },
    {
     "name": "stderr",
     "output_type": "stream",
     "text": [
      "Processing MIDI files:  17%|█▋        | 2848/16838 [04:17<41:08,  5.67it/s]"
     ]
    },
    {
     "name": "stdout",
     "output_type": "stream",
     "text": [
      "[extract] note too long, truncate to 1025\n"
     ]
    },
    {
     "name": "stderr",
     "output_type": "stream",
     "text": [
      "Processing MIDI files:  17%|█▋        | 2859/16838 [04:19<29:37,  7.86it/s]"
     ]
    },
    {
     "name": "stdout",
     "output_type": "stream",
     "text": [
      "[extract] note too long, truncate to 1025\n"
     ]
    },
    {
     "name": "stderr",
     "output_type": "stream",
     "text": [
      "Processing MIDI files:  17%|█▋        | 2909/16838 [04:24<12:25, 18.68it/s]"
     ]
    },
    {
     "name": "stdout",
     "output_type": "stream",
     "text": [
      "[extract] note too long, truncate to 1025\n",
      "[extract] note too long, truncate to 1025\n",
      "[extract] note too long, truncate to 1025\n"
     ]
    },
    {
     "name": "stderr",
     "output_type": "stream",
     "text": [
      "Processing MIDI files:  18%|█▊        | 2976/16838 [04:29<13:50, 16.69it/s]"
     ]
    },
    {
     "name": "stdout",
     "output_type": "stream",
     "text": [
      "[extract] note too long, truncate to 1025\n",
      "[extract] note too long, truncate to 1025\n",
      "[extract] note too long, truncate to 1025\n"
     ]
    },
    {
     "name": "stderr",
     "output_type": "stream",
     "text": [
      "Processing MIDI files:  18%|█▊        | 2980/16838 [04:30<22:32, 10.25it/s]"
     ]
    },
    {
     "name": "stdout",
     "output_type": "stream",
     "text": [
      "[extract] note too long, truncate to 1025\n",
      "[extract] note too long, truncate to 1025\n",
      "[extract] note too long, truncate to 1025\n",
      "[extract] note too long, truncate to 1025\n",
      "[extract] note too long, truncate to 1025\n"
     ]
    },
    {
     "name": "stderr",
     "output_type": "stream",
     "text": [
      "Processing MIDI files:  19%|█▊        | 3118/16838 [04:42<20:59, 10.89it/s]"
     ]
    },
    {
     "name": "stdout",
     "output_type": "stream",
     "text": [
      "[extract] note too long, truncate to 1025\n",
      "[extract] note too long, truncate to 1025\n"
     ]
    },
    {
     "name": "stderr",
     "output_type": "stream",
     "text": [
      "Processing MIDI files:  19%|█▉        | 3186/16838 [04:49<16:51, 13.50it/s]"
     ]
    },
    {
     "name": "stdout",
     "output_type": "stream",
     "text": [
      "[extract] note too long, truncate to 1025\n",
      "[extract] note too long, truncate to 1025\n"
     ]
    },
    {
     "name": "stderr",
     "output_type": "stream",
     "text": [
      "Processing MIDI files:  19%|█▉        | 3199/16838 [04:49<12:04, 18.84it/s]"
     ]
    },
    {
     "name": "stdout",
     "output_type": "stream",
     "text": [
      "[extract] note too long, truncate to 1025\n",
      "[extract] note too long, truncate to 1025\n",
      "[extract] note too long, truncate to 1025\n",
      "[extract] note too long, truncate to 1025\n",
      "[extract] note too long, truncate to 1025\n",
      "[extract] note too long, truncate to 1025\n",
      "[extract] note too long, truncate to 1025\n",
      "[extract] note too long, truncate to 1025\n",
      "[extract] note too long, truncate to 1025\n",
      "[extract] note too long, truncate to 1025\n"
     ]
    },
    {
     "name": "stderr",
     "output_type": "stream",
     "text": [
      "Processing MIDI files:  19%|█▉        | 3245/16838 [04:54<21:43, 10.42it/s]"
     ]
    },
    {
     "name": "stdout",
     "output_type": "stream",
     "text": [
      "[extract] note too long, truncate to 1025\n",
      "[extract] note too long, truncate to 1025\n"
     ]
    },
    {
     "name": "stderr",
     "output_type": "stream",
     "text": [
      "Processing MIDI files:  19%|█▉        | 3247/16838 [04:54<20:25, 11.09it/s]"
     ]
    },
    {
     "name": "stdout",
     "output_type": "stream",
     "text": [
      "[extract] note too long, truncate to 1025\n",
      "[extract] note too long, truncate to 1025\n"
     ]
    },
    {
     "name": "stderr",
     "output_type": "stream",
     "text": [
      "Processing MIDI files:  20%|██        | 3407/16838 [05:08<26:10,  8.55it/s]"
     ]
    },
    {
     "name": "stdout",
     "output_type": "stream",
     "text": [
      "[extract] note too long, truncate to 1025\n",
      "[extract] note too long, truncate to 1025\n"
     ]
    },
    {
     "name": "stderr",
     "output_type": "stream",
     "text": [
      "Processing MIDI files:  20%|██        | 3411/16838 [05:08<29:42,  7.53it/s]"
     ]
    },
    {
     "name": "stdout",
     "output_type": "stream",
     "text": [
      "[extract] note too long, truncate to 1025\n"
     ]
    },
    {
     "name": "stderr",
     "output_type": "stream",
     "text": [
      "Processing MIDI files:  20%|██        | 3432/16838 [05:10<21:36, 10.34it/s]"
     ]
    },
    {
     "name": "stdout",
     "output_type": "stream",
     "text": [
      "[extract] note too long, truncate to 1025\n",
      "[extract] note too long, truncate to 1025\n",
      "[extract] note too long, truncate to 1025\n"
     ]
    },
    {
     "name": "stderr",
     "output_type": "stream",
     "text": [
      "Processing MIDI files:  20%|██        | 3434/16838 [05:10<19:09, 11.66it/s]"
     ]
    },
    {
     "name": "stdout",
     "output_type": "stream",
     "text": [
      "[extract] note too long, truncate to 1025\n",
      "[extract] note too long, truncate to 1025\n",
      "[extract] note too long, truncate to 1025\n",
      "[extract] note too long, truncate to 1025\n",
      "[extract] note too long, truncate to 1025\n",
      "[extract] note too long, truncate to 1025\n",
      "[extract] note too long, truncate to 1025\n",
      "[extract] note too long, truncate to 1025\n",
      "[extract] note too long, truncate to 1025\n",
      "[extract] note too long, truncate to 1025\n",
      "[extract] note too long, truncate to 1025\n",
      "[extract] note too long, truncate to 1025\n",
      "[extract] note too long, truncate to 1025\n",
      "[extract] note too long, truncate to 1025\n",
      "[extract] note too long, truncate to 1025\n",
      "[extract] note too long, truncate to 1025\n",
      "[extract] note too long, truncate to 1025\n",
      "[extract] note too long, truncate to 1025\n",
      "[extract] note too long, truncate to 1025\n",
      "[extract] note too long, truncate to 1025\n",
      "[extract] note too long, truncate to 1025\n",
      "[extract] note too long, truncate to 1025\n",
      "[extract] note too long, truncate to 1025\n",
      "[extract] note too long, truncate to 1025\n",
      "[extract] note too long, truncate to 1025\n"
     ]
    },
    {
     "name": "stderr",
     "output_type": "stream",
     "text": [
      "Processing MIDI files:  21%|██        | 3575/16838 [05:27<27:35,  8.01it/s]  "
     ]
    },
    {
     "name": "stdout",
     "output_type": "stream",
     "text": [
      "[extract] note too long, truncate to 1025\n",
      "[extract] note too long, truncate to 1025\n"
     ]
    },
    {
     "name": "stderr",
     "output_type": "stream",
     "text": [
      "Processing MIDI files:  21%|██▏       | 3582/16838 [05:28<26:23,  8.37it/s]"
     ]
    },
    {
     "name": "stdout",
     "output_type": "stream",
     "text": [
      "[extract] note too long, truncate to 1025\n",
      "[extract] note too long, truncate to 1025\n",
      "[extract] note too long, truncate to 1025\n"
     ]
    },
    {
     "name": "stderr",
     "output_type": "stream",
     "text": [
      "Processing MIDI files:  22%|██▏       | 3633/16838 [05:33<14:46, 14.90it/s]"
     ]
    },
    {
     "name": "stdout",
     "output_type": "stream",
     "text": [
      "[extract] note too long, truncate to 1025\n",
      "[extract] note too long, truncate to 1025\n",
      "[extract] note too long, truncate to 1025\n",
      "[extract] note too long, truncate to 1025\n",
      "[extract] note too long, truncate to 1025\n",
      "[extract] note too long, truncate to 1025\n",
      "[extract] note too long, truncate to 1025\n"
     ]
    },
    {
     "name": "stderr",
     "output_type": "stream",
     "text": [
      "Processing MIDI files:  22%|██▏       | 3639/16838 [05:33<17:40, 12.44it/s]"
     ]
    },
    {
     "name": "stdout",
     "output_type": "stream",
     "text": [
      "[extract] note too long, truncate to 1025\n"
     ]
    },
    {
     "name": "stderr",
     "output_type": "stream",
     "text": [
      "Processing MIDI files:  22%|██▏       | 3714/16838 [05:39<13:50, 15.81it/s]"
     ]
    },
    {
     "name": "stdout",
     "output_type": "stream",
     "text": [
      "[extract] note too long, truncate to 1025\n",
      "[extract] note too long, truncate to 1025\n"
     ]
    },
    {
     "name": "stderr",
     "output_type": "stream",
     "text": [
      "Processing MIDI files:  22%|██▏       | 3721/16838 [05:39<13:15, 16.49it/s]"
     ]
    },
    {
     "name": "stdout",
     "output_type": "stream",
     "text": [
      "[extract] note too long, truncate to 1025\n",
      "[extract] note too long, truncate to 1025\n"
     ]
    },
    {
     "name": "stderr",
     "output_type": "stream",
     "text": [
      "Processing MIDI files:  22%|██▏       | 3731/16838 [05:40<15:13, 14.35it/s]"
     ]
    },
    {
     "name": "stdout",
     "output_type": "stream",
     "text": [
      "[extract] note too long, truncate to 1025\n",
      "[extract] note too long, truncate to 1025\n"
     ]
    },
    {
     "name": "stderr",
     "output_type": "stream",
     "text": [
      "Processing MIDI files:  22%|██▏       | 3759/16838 [05:43<17:57, 12.13it/s]"
     ]
    },
    {
     "name": "stdout",
     "output_type": "stream",
     "text": [
      "[extract] note too long, truncate to 1025\n",
      "[extract] note too long, truncate to 1025\n",
      "[extract] note too long, truncate to 1025\n"
     ]
    },
    {
     "name": "stderr",
     "output_type": "stream",
     "text": [
      "Processing MIDI files:  22%|██▏       | 3771/16838 [05:44<22:09,  9.83it/s]"
     ]
    },
    {
     "name": "stdout",
     "output_type": "stream",
     "text": [
      "[extract] note too long, truncate to 1025\n",
      "[extract] note too long, truncate to 1025\n",
      "[extract] note too long, truncate to 1025\n"
     ]
    },
    {
     "name": "stderr",
     "output_type": "stream",
     "text": [
      "Processing MIDI files:  22%|██▏       | 3784/16838 [05:46<18:37, 11.68it/s]"
     ]
    },
    {
     "name": "stdout",
     "output_type": "stream",
     "text": [
      "[extract] note too long, truncate to 1025\n",
      "[extract] note too long, truncate to 1025\n"
     ]
    },
    {
     "name": "stderr",
     "output_type": "stream",
     "text": [
      "Processing MIDI files:  23%|██▎       | 3900/16838 [06:01<28:36,  7.54it/s]  "
     ]
    },
    {
     "name": "stdout",
     "output_type": "stream",
     "text": [
      "[extract] note too long, truncate to 1025\n"
     ]
    },
    {
     "name": "stderr",
     "output_type": "stream",
     "text": [
      "Processing MIDI files:  23%|██▎       | 3934/16838 [06:04<16:08, 13.33it/s]"
     ]
    },
    {
     "name": "stdout",
     "output_type": "stream",
     "text": [
      "[extract] note too long, truncate to 1025\n"
     ]
    },
    {
     "name": "stderr",
     "output_type": "stream",
     "text": [
      "Processing MIDI files:  24%|██▎       | 3974/16838 [06:08<30:00,  7.15it/s]"
     ]
    },
    {
     "name": "stdout",
     "output_type": "stream",
     "text": [
      "[extract] note too long, truncate to 1025\n",
      "[extract] note too long, truncate to 1025\n"
     ]
    },
    {
     "name": "stderr",
     "output_type": "stream",
     "text": [
      "Processing MIDI files:  24%|██▎       | 3978/16838 [06:08<27:22,  7.83it/s]"
     ]
    },
    {
     "name": "stdout",
     "output_type": "stream",
     "text": [
      "[extract] note too long, truncate to 1025\n"
     ]
    },
    {
     "name": "stderr",
     "output_type": "stream",
     "text": [
      "Processing MIDI files:  24%|██▍       | 4005/16838 [06:10<12:35, 16.99it/s]"
     ]
    },
    {
     "name": "stdout",
     "output_type": "stream",
     "text": [
      "[extract] note too long, truncate to 1025\n",
      "[extract] note too long, truncate to 1025\n"
     ]
    },
    {
     "name": "stderr",
     "output_type": "stream",
     "text": [
      "Processing MIDI files:  24%|██▍       | 4015/16838 [06:11<24:02,  8.89it/s]"
     ]
    },
    {
     "name": "stdout",
     "output_type": "stream",
     "text": [
      "[extract] note too long, truncate to 1025"
     ]
    },
    {
     "name": "stderr",
     "output_type": "stream",
     "text": [
      "Processing MIDI files:  24%|██▍       | 4017/16838 [06:11<21:37,  9.88it/s]"
     ]
    },
    {
     "name": "stdout",
     "output_type": "stream",
     "text": [
      "\n",
      "[extract] note too long, truncate to 1025\n"
     ]
    },
    {
     "name": "stderr",
     "output_type": "stream",
     "text": [
      "Processing MIDI files:  25%|██▍       | 4178/16838 [06:25<40:10,  5.25it/s]"
     ]
    },
    {
     "name": "stdout",
     "output_type": "stream",
     "text": [
      "[extract] note too long, truncate to 1025\n",
      "[extract] note too long, truncate to 1025"
     ]
    },
    {
     "name": "stderr",
     "output_type": "stream",
     "text": [
      "Processing MIDI files:  25%|██▍       | 4180/16838 [06:25<41:44,  5.05it/s]"
     ]
    },
    {
     "name": "stdout",
     "output_type": "stream",
     "text": [
      "\n",
      "[extract] note too long, truncate to 1025\n",
      "[extract] note too long, truncate to 1025\n",
      "[extract] note too long, truncate to 1025\n",
      "[extract] note too long, truncate to 1025\n"
     ]
    },
    {
     "name": "stderr",
     "output_type": "stream",
     "text": [
      "Processing MIDI files:  25%|██▍       | 4195/16838 [06:27<22:43,  9.27it/s]"
     ]
    },
    {
     "name": "stdout",
     "output_type": "stream",
     "text": [
      "[extract] note too long, truncate to 1025\n"
     ]
    },
    {
     "name": "stderr",
     "output_type": "stream",
     "text": [
      "Processing MIDI files:  25%|██▌       | 4272/16838 [06:34<13:21, 15.68it/s]"
     ]
    },
    {
     "name": "stdout",
     "output_type": "stream",
     "text": [
      "[extract] note too long, truncate to 1025\n",
      "[extract] note too long, truncate to 1025\n",
      "[extract] note too long, truncate to 1025\n"
     ]
    },
    {
     "name": "stderr",
     "output_type": "stream",
     "text": [
      "Processing MIDI files:  26%|██▌       | 4363/16838 [06:42<30:04,  6.91it/s]"
     ]
    },
    {
     "name": "stdout",
     "output_type": "stream",
     "text": [
      "[extract] note too long, truncate to 1025\n"
     ]
    },
    {
     "name": "stderr",
     "output_type": "stream",
     "text": [
      "Processing MIDI files:  26%|██▌       | 4386/16838 [06:45<34:49,  5.96it/s]"
     ]
    },
    {
     "name": "stdout",
     "output_type": "stream",
     "text": [
      "[extract] note too long, truncate to 1025\n"
     ]
    },
    {
     "name": "stderr",
     "output_type": "stream",
     "text": [
      "Processing MIDI files:  26%|██▌       | 4403/16838 [06:47<20:17, 10.22it/s]"
     ]
    },
    {
     "name": "stdout",
     "output_type": "stream",
     "text": [
      "[extract] note too long, truncate to 1025\n",
      "[extract] note too long, truncate to 1025\n"
     ]
    },
    {
     "name": "stderr",
     "output_type": "stream",
     "text": [
      "Processing MIDI files:  26%|██▋       | 4459/16838 [06:55<30:58,  6.66it/s]"
     ]
    },
    {
     "name": "stdout",
     "output_type": "stream",
     "text": [
      "[extract] note too long, truncate to 1025\n",
      "[extract] note too long, truncate to 1025\n",
      "[extract] note too long, truncate to 1025\n",
      "[extract] note too long, truncate to 1025\n",
      "[extract] note too long, truncate to 1025\n",
      "[extract] note too long, truncate to 1025\n",
      "[extract] note too long, truncate to 1025\n",
      "[extract] note too long, truncate to 1025\n"
     ]
    },
    {
     "name": "stderr",
     "output_type": "stream",
     "text": [
      "Processing MIDI files:  27%|██▋       | 4479/16838 [06:57<11:00, 18.70it/s]"
     ]
    },
    {
     "name": "stdout",
     "output_type": "stream",
     "text": [
      "[extract] note too long, truncate to 1025\n",
      "[extract] note too long, truncate to 1025\n",
      "[extract] note too long, truncate to 1025\n"
     ]
    },
    {
     "name": "stderr",
     "output_type": "stream",
     "text": [
      "Processing MIDI files:  27%|██▋       | 4490/16838 [06:58<28:25,  7.24it/s]"
     ]
    },
    {
     "name": "stdout",
     "output_type": "stream",
     "text": [
      "[extract] note too long, truncate to 1025\n",
      "[extract] note too long, truncate to 1025\n"
     ]
    },
    {
     "name": "stderr",
     "output_type": "stream",
     "text": [
      "Processing MIDI files:  27%|██▋       | 4621/16838 [07:16<21:25,  9.50it/s]"
     ]
    },
    {
     "name": "stdout",
     "output_type": "stream",
     "text": [
      "[extract] note too long, truncate to 1025\n",
      "[extract] note too long, truncate to 1025\n",
      "[extract] note too long, truncate to 1025\n"
     ]
    },
    {
     "name": "stderr",
     "output_type": "stream",
     "text": [
      "Processing MIDI files:  27%|██▋       | 4623/16838 [07:16<25:40,  7.93it/s]"
     ]
    },
    {
     "name": "stdout",
     "output_type": "stream",
     "text": [
      "[extract] note too long, truncate to 1025\n",
      "[extract] note too long, truncate to 1025\n"
     ]
    },
    {
     "name": "stderr",
     "output_type": "stream",
     "text": [
      "Processing MIDI files:  28%|██▊       | 4712/16838 [07:26<28:01,  7.21it/s]"
     ]
    },
    {
     "name": "stdout",
     "output_type": "stream",
     "text": [
      "[extract] note too long, truncate to 1025\n"
     ]
    },
    {
     "name": "stderr",
     "output_type": "stream",
     "text": [
      "Processing MIDI files:  28%|██▊       | 4761/16838 [07:31<15:31, 12.96it/s]"
     ]
    },
    {
     "name": "stdout",
     "output_type": "stream",
     "text": [
      "[extract] note too long, truncate to 1025\n"
     ]
    },
    {
     "name": "stderr",
     "output_type": "stream",
     "text": [
      "Processing MIDI files:  29%|██▊       | 4809/16838 [07:36<17:32, 11.43it/s]"
     ]
    },
    {
     "name": "stdout",
     "output_type": "stream",
     "text": [
      "[extract] note too long, truncate to 1025\n",
      "[extract] note too long, truncate to 1025\n"
     ]
    },
    {
     "name": "stderr",
     "output_type": "stream",
     "text": [
      "Processing MIDI files:  29%|██▊       | 4811/16838 [07:37<26:50,  7.47it/s]"
     ]
    },
    {
     "name": "stdout",
     "output_type": "stream",
     "text": [
      "[extract] note too long, truncate to 1025\n",
      "[extract] note too long, truncate to 1025\n",
      "[extract] note too long, truncate to 1025\n",
      "[extract] note too long, truncate to 1025"
     ]
    },
    {
     "name": "stderr",
     "output_type": "stream",
     "text": [
      "Processing MIDI files:  29%|██▊       | 4814/16838 [07:37<20:00, 10.02it/s]"
     ]
    },
    {
     "name": "stdout",
     "output_type": "stream",
     "text": [
      "\n",
      "[extract] note too long, truncate to 1025\n",
      "[extract] note too long, truncate to 1025\n",
      "[extract] note too long, truncate to 1025\n",
      "[extract] note too long, truncate to 1025\n",
      "[extract] note too long, truncate to 1025\n",
      "[extract] note too long, truncate to 1025\n",
      "[extract] note too long, truncate to 1025\n",
      "[extract] note too long, truncate to 1025\n",
      "[extract] note too long, truncate to 1025\n",
      "[extract] note too long, truncate to 1025\n",
      "[extract] note too long, truncate to 1025\n",
      "[extract] note too long, truncate to 1025\n"
     ]
    },
    {
     "name": "stderr",
     "output_type": "stream",
     "text": [
      "Processing MIDI files:  30%|██▉       | 4986/16838 [07:52<16:08, 12.24it/s]"
     ]
    },
    {
     "name": "stdout",
     "output_type": "stream",
     "text": [
      "[extract] note too long, truncate to 1025\n"
     ]
    },
    {
     "name": "stderr",
     "output_type": "stream",
     "text": [
      "Processing MIDI files:  30%|██▉       | 5007/16838 [07:55<18:28, 10.67it/s]"
     ]
    },
    {
     "name": "stdout",
     "output_type": "stream",
     "text": [
      "[extract] note too long, truncate to 1025\n"
     ]
    },
    {
     "name": "stderr",
     "output_type": "stream",
     "text": [
      "Processing MIDI files:  30%|██▉       | 5021/16838 [07:57<20:11,  9.75it/s]"
     ]
    },
    {
     "name": "stdout",
     "output_type": "stream",
     "text": [
      "[extract] note too long, truncate to 1025\n",
      "[extract] note too long, truncate to 1025\n"
     ]
    },
    {
     "name": "stderr",
     "output_type": "stream",
     "text": [
      "Processing MIDI files:  30%|███       | 5098/16838 [08:03<22:18,  8.77it/s]"
     ]
    },
    {
     "name": "stdout",
     "output_type": "stream",
     "text": [
      "[extract] note too long, truncate to 1025\n"
     ]
    },
    {
     "name": "stderr",
     "output_type": "stream",
     "text": [
      "Processing MIDI files:  30%|███       | 5117/16838 [08:05<11:10, 17.49it/s]"
     ]
    },
    {
     "name": "stdout",
     "output_type": "stream",
     "text": [
      "[extract] note too long, truncate to 1025"
     ]
    },
    {
     "name": "stderr",
     "output_type": "stream",
     "text": [
      "Processing MIDI files:  30%|███       | 5125/16838 [08:05<06:46, 28.83it/s]"
     ]
    },
    {
     "name": "stdout",
     "output_type": "stream",
     "text": [
      "\n",
      "[extract] note too long, truncate to 1025\n",
      "[extract] note too long, truncate to 1025"
     ]
    },
    {
     "name": "stderr",
     "output_type": "stream",
     "text": [
      "Processing MIDI files:  30%|███       | 5129/16838 [08:05<08:29, 22.96it/s]"
     ]
    },
    {
     "name": "stdout",
     "output_type": "stream",
     "text": [
      "\n"
     ]
    },
    {
     "name": "stderr",
     "output_type": "stream",
     "text": [
      "Processing MIDI files:  31%|███       | 5178/16838 [08:09<16:20, 11.89it/s]"
     ]
    },
    {
     "name": "stdout",
     "output_type": "stream",
     "text": [
      "[extract] note too long, truncate to 1025\n",
      "[extract] note too long, truncate to 1025\n"
     ]
    },
    {
     "name": "stderr",
     "output_type": "stream",
     "text": [
      "Processing MIDI files:  31%|███       | 5205/16838 [08:13<26:17,  7.37it/s]"
     ]
    },
    {
     "name": "stdout",
     "output_type": "stream",
     "text": [
      "[extract] note too long, truncate to 1025\n",
      "[extract] note too long, truncate to 1025\n",
      "[extract] note too long, truncate to 1025\n",
      "[extract] note too long, truncate to 1025\n",
      "[extract] note too long, truncate to 1025\n"
     ]
    },
    {
     "name": "stderr",
     "output_type": "stream",
     "text": [
      "Processing MIDI files:  31%|███       | 5213/16838 [08:13<18:15, 10.61it/s]"
     ]
    },
    {
     "name": "stdout",
     "output_type": "stream",
     "text": [
      "[extract] note too long, truncate to 1025\n",
      "[extract] note too long, truncate to 1025\n",
      "[extract] note too long, truncate to 1025\n",
      "[extract] note too long, truncate to 1025\n",
      "[extract] note too long, truncate to 1025\n",
      "[extract] note too long, truncate to 1025\n"
     ]
    },
    {
     "name": "stderr",
     "output_type": "stream",
     "text": [
      "Processing MIDI files:  31%|███       | 5230/16838 [08:15<21:10,  9.13it/s]"
     ]
    },
    {
     "name": "stdout",
     "output_type": "stream",
     "text": [
      "[extract] note too long, truncate to 1025\n",
      "[extract] note too long, truncate to 1025\n"
     ]
    },
    {
     "name": "stderr",
     "output_type": "stream",
     "text": [
      "Processing MIDI files:  31%|███▏      | 5262/16838 [08:17<15:34, 12.39it/s]"
     ]
    },
    {
     "name": "stdout",
     "output_type": "stream",
     "text": [
      "[extract] note too long, truncate to 1025\n"
     ]
    },
    {
     "name": "stderr",
     "output_type": "stream",
     "text": [
      "Processing MIDI files:  31%|███▏      | 5280/16838 [08:19<19:03, 10.10it/s]"
     ]
    },
    {
     "name": "stdout",
     "output_type": "stream",
     "text": [
      "[extract] note too long, truncate to 1025\n"
     ]
    },
    {
     "name": "stderr",
     "output_type": "stream",
     "text": [
      "Processing MIDI files:  32%|███▏      | 5319/16838 [08:23<20:23,  9.41it/s]"
     ]
    },
    {
     "name": "stdout",
     "output_type": "stream",
     "text": [
      "[extract] note too long, truncate to 1025\n",
      "[extract] note too long, truncate to 1025\n",
      "[extract] note too long, truncate to 1025\n"
     ]
    },
    {
     "name": "stderr",
     "output_type": "stream",
     "text": [
      "Processing MIDI files:  32%|███▏      | 5329/16838 [08:24<16:35, 11.56it/s]"
     ]
    },
    {
     "name": "stdout",
     "output_type": "stream",
     "text": [
      "[extract] note too long, truncate to 1025\n"
     ]
    },
    {
     "name": "stderr",
     "output_type": "stream",
     "text": [
      "Processing MIDI files:  32%|███▏      | 5382/16838 [08:29<21:43,  8.79it/s]"
     ]
    },
    {
     "name": "stdout",
     "output_type": "stream",
     "text": [
      "[extract] note too long, truncate to 1025\n"
     ]
    },
    {
     "name": "stderr",
     "output_type": "stream",
     "text": [
      "Processing MIDI files:  32%|███▏      | 5453/16838 [08:34<14:39, 12.94it/s]"
     ]
    },
    {
     "name": "stdout",
     "output_type": "stream",
     "text": [
      "[extract] note too long, truncate to 1025\n",
      "[extract] note too long, truncate to 1025\n"
     ]
    },
    {
     "name": "stderr",
     "output_type": "stream",
     "text": [
      "Processing MIDI files:  32%|███▏      | 5455/16838 [08:34<15:04, 12.59it/s]"
     ]
    },
    {
     "name": "stdout",
     "output_type": "stream",
     "text": [
      "[extract] note too long, truncate to 1025\n",
      "[extract] note too long, truncate to 1025\n"
     ]
    },
    {
     "name": "stderr",
     "output_type": "stream",
     "text": [
      "Processing MIDI files:  33%|███▎      | 5538/16838 [08:41<24:19,  7.74it/s]"
     ]
    },
    {
     "name": "stdout",
     "output_type": "stream",
     "text": [
      "[extract] note too long, truncate to 1025\n",
      "[extract] note too long, truncate to 1025\n",
      "[extract] note too long, truncate to 1025\n"
     ]
    },
    {
     "name": "stderr",
     "output_type": "stream",
     "text": [
      "Processing MIDI files:  33%|███▎      | 5545/16838 [08:42<27:13,  6.91it/s]"
     ]
    },
    {
     "name": "stdout",
     "output_type": "stream",
     "text": [
      "[extract] note too long, truncate to 1025\n",
      "[extract] note too long, truncate to 1025\n",
      "[extract] note too long, truncate to 1025\n",
      "[extract] note too long, truncate to 1025"
     ]
    },
    {
     "name": "stderr",
     "output_type": "stream",
     "text": [
      "Processing MIDI files:  33%|███▎      | 5547/16838 [08:43<22:00,  8.55it/s]"
     ]
    },
    {
     "name": "stdout",
     "output_type": "stream",
     "text": [
      "\n",
      "[extract] note too long, truncate to 1025\n",
      "[extract] note too long, truncate to 1025\n",
      "[extract] note too long, truncate to 1025\n",
      "[extract] note too long, truncate to 1025\n",
      "[extract] note too long, truncate to 1025\n",
      "[extract] note too long, truncate to 1025\n",
      "[extract] note too long, truncate to 1025\n",
      "[extract] note too long, truncate to 1025\n",
      "[extract] note too long, truncate to 1025\n",
      "[extract] note too long, truncate to 1025\n",
      "[extract] note too long, truncate to 1025\n",
      "[extract] note too long, truncate to 1025\n",
      "[extract] note too long, truncate to 1025\n",
      "[extract] note too long, truncate to 1025\n",
      "[extract] note too long, truncate to 1025\n",
      "[extract] note too long, truncate to 1025\n",
      "[extract] note too long, truncate to 1025\n",
      "[extract] note too long, truncate to 1025\n",
      "[extract] note too long, truncate to 1025\n",
      "[extract] note too long, truncate to 1025\n",
      "[extract] note too long, truncate to 1025\n"
     ]
    },
    {
     "name": "stderr",
     "output_type": "stream",
     "text": [
      "Processing MIDI files:  33%|███▎      | 5557/16838 [08:44<32:49,  5.73it/s]"
     ]
    },
    {
     "name": "stdout",
     "output_type": "stream",
     "text": [
      "[extract] note too long, truncate to 1025\n",
      "[extract] note too long, truncate to 1025\n",
      "[extract] note too long, truncate to 1025\n",
      "[extract] note too long, truncate to 1025\n"
     ]
    },
    {
     "name": "stderr",
     "output_type": "stream",
     "text": [
      "Processing MIDI files:  33%|███▎      | 5580/16838 [08:46<11:31, 16.27it/s]"
     ]
    },
    {
     "name": "stdout",
     "output_type": "stream",
     "text": [
      "[extract] note too long, truncate to 1025\n",
      "[extract] note too long, truncate to 1025\n"
     ]
    },
    {
     "name": "stderr",
     "output_type": "stream",
     "text": [
      "Processing MIDI files:  33%|███▎      | 5621/16838 [08:50<20:11,  9.26it/s]"
     ]
    },
    {
     "name": "stdout",
     "output_type": "stream",
     "text": [
      "[extract] note too long, truncate to 1025\n",
      "[extract] note too long, truncate to 1025\n",
      "[extract] note too long, truncate to 1025\n"
     ]
    },
    {
     "name": "stderr",
     "output_type": "stream",
     "text": [
      "Processing MIDI files:  34%|███▎      | 5643/16838 [08:53<26:44,  6.98it/s]"
     ]
    },
    {
     "name": "stdout",
     "output_type": "stream",
     "text": [
      "[extract] note too long, truncate to 1025\n",
      "[extract] note too long, truncate to 1025\n",
      "[extract] note too long, truncate to 1025\n"
     ]
    },
    {
     "name": "stderr",
     "output_type": "stream",
     "text": [
      "Processing MIDI files:  34%|███▍      | 5692/16838 [08:58<17:04, 10.88it/s]"
     ]
    },
    {
     "name": "stdout",
     "output_type": "stream",
     "text": [
      "[extract] note too long, truncate to 1025\n",
      "[extract] note too long, truncate to 1025\n",
      "[extract] note too long, truncate to 1025\n",
      "[extract] note too long, truncate to 1025\n",
      "[extract] note too long, truncate to 1025\n"
     ]
    },
    {
     "name": "stderr",
     "output_type": "stream",
     "text": [
      "Processing MIDI files:  34%|███▍      | 5700/16838 [08:58<16:53, 10.99it/s]"
     ]
    },
    {
     "name": "stdout",
     "output_type": "stream",
     "text": [
      "[extract] note too long, truncate to 1025\n",
      "[extract] note too long, truncate to 1025\n",
      "[extract] note too long, truncate to 1025\n",
      "[extract] note too long, truncate to 1025\n"
     ]
    },
    {
     "name": "stderr",
     "output_type": "stream",
     "text": [
      "Processing MIDI files:  34%|███▍      | 5774/16838 [09:05<20:13,  9.11it/s]"
     ]
    },
    {
     "name": "stdout",
     "output_type": "stream",
     "text": [
      "[extract] note too long, truncate to 1025\n"
     ]
    },
    {
     "name": "stderr",
     "output_type": "stream",
     "text": [
      "Processing MIDI files:  34%|███▍      | 5778/16838 [09:06<19:22,  9.51it/s]"
     ]
    },
    {
     "name": "stdout",
     "output_type": "stream",
     "text": [
      "[extract] note too long, truncate to 1025\n",
      "[extract] note too long, truncate to 1025\n",
      "[extract] note too long, truncate to 1025\n"
     ]
    },
    {
     "name": "stderr",
     "output_type": "stream",
     "text": [
      "Processing MIDI files:  34%|███▍      | 5784/16838 [09:07<21:55,  8.40it/s]"
     ]
    },
    {
     "name": "stdout",
     "output_type": "stream",
     "text": [
      "[extract] note too long, truncate to 1025\n",
      "[extract] note too long, truncate to 1025"
     ]
    },
    {
     "name": "stderr",
     "output_type": "stream",
     "text": [
      "Processing MIDI files:  34%|███▍      | 5786/16838 [09:07<20:28,  8.99it/s]"
     ]
    },
    {
     "name": "stdout",
     "output_type": "stream",
     "text": [
      "\n",
      "[extract] note too long, truncate to 1025\n"
     ]
    },
    {
     "name": "stderr",
     "output_type": "stream",
     "text": [
      "Processing MIDI files:  35%|███▍      | 5814/16838 [09:09<11:55, 15.40it/s]"
     ]
    },
    {
     "name": "stdout",
     "output_type": "stream",
     "text": [
      "[extract] note too long, truncate to 1025\n"
     ]
    },
    {
     "name": "stderr",
     "output_type": "stream",
     "text": [
      "Processing MIDI files:  35%|███▍      | 5816/16838 [09:09<13:29, 13.62it/s]"
     ]
    },
    {
     "name": "stdout",
     "output_type": "stream",
     "text": [
      "[extract] note too long, truncate to 1025\n",
      "[extract] note too long, truncate to 1025\n",
      "[extract] note too long, truncate to 1025\n",
      "[extract] note too long, truncate to 1025\n",
      "[extract] note too long, truncate to 1025\n",
      "[extract] note too long, truncate to 1025\n"
     ]
    },
    {
     "name": "stderr",
     "output_type": "stream",
     "text": [
      "Processing MIDI files:  35%|███▌      | 5902/16838 [09:15<14:27, 12.60it/s]"
     ]
    },
    {
     "name": "stdout",
     "output_type": "stream",
     "text": [
      "[extract] note too long, truncate to 1025\n",
      "[extract] note too long, truncate to 1025\n",
      "[extract] note too long, truncate to 1025\n"
     ]
    },
    {
     "name": "stderr",
     "output_type": "stream",
     "text": [
      "Processing MIDI files:  36%|███▌      | 6032/16838 [09:30<15:52, 11.34it/s]"
     ]
    },
    {
     "name": "stdout",
     "output_type": "stream",
     "text": [
      "[extract] note too long, truncate to 1025\n"
     ]
    },
    {
     "name": "stderr",
     "output_type": "stream",
     "text": [
      "Processing MIDI files:  36%|███▌      | 6054/16838 [09:32<20:40,  8.69it/s]"
     ]
    },
    {
     "name": "stdout",
     "output_type": "stream",
     "text": [
      "[extract] note too long, truncate to 1025\n",
      "[extract] note too long, truncate to 1025\n"
     ]
    },
    {
     "name": "stderr",
     "output_type": "stream",
     "text": [
      "Processing MIDI files:  37%|███▋      | 6159/16838 [09:42<17:14, 10.32it/s]"
     ]
    },
    {
     "name": "stdout",
     "output_type": "stream",
     "text": [
      "[extract] note too long, truncate to 1025\n",
      "[extract] note too long, truncate to 1025\n",
      "[extract] note too long, truncate to 1025\n"
     ]
    },
    {
     "name": "stderr",
     "output_type": "stream",
     "text": [
      "Processing MIDI files:  37%|███▋      | 6167/16838 [09:42<09:23, 18.94it/s]"
     ]
    },
    {
     "name": "stdout",
     "output_type": "stream",
     "text": [
      "[extract] note too long, truncate to 1025\n"
     ]
    },
    {
     "name": "stderr",
     "output_type": "stream",
     "text": [
      "Processing MIDI files:  37%|███▋      | 6209/16838 [09:46<18:20,  9.66it/s]"
     ]
    },
    {
     "name": "stdout",
     "output_type": "stream",
     "text": [
      "[extract] note too long, truncate to 1025\n",
      "[extract] note too long, truncate to 1025\n"
     ]
    },
    {
     "name": "stderr",
     "output_type": "stream",
     "text": [
      "Processing MIDI files:  37%|███▋      | 6236/16838 [09:48<16:38, 10.61it/s]"
     ]
    },
    {
     "name": "stdout",
     "output_type": "stream",
     "text": [
      "[extract] note too long, truncate to 1025\n",
      "[extract] note too long, truncate to 1025\n",
      "[extract] note too long, truncate to 1025\n",
      "[extract] note too long, truncate to 1025\n",
      "[extract] note too long, truncate to 1025\n",
      "[extract] note too long, truncate to 1025\n"
     ]
    },
    {
     "name": "stderr",
     "output_type": "stream",
     "text": [
      "Processing MIDI files:  38%|███▊      | 6393/16838 [10:01<11:07, 15.66it/s]"
     ]
    },
    {
     "name": "stdout",
     "output_type": "stream",
     "text": [
      "[extract] note too long, truncate to 1025\n",
      "[extract] note too long, truncate to 1025\n"
     ]
    },
    {
     "name": "stderr",
     "output_type": "stream",
     "text": [
      "Processing MIDI files:  38%|███▊      | 6404/16838 [10:02<16:40, 10.43it/s]"
     ]
    },
    {
     "name": "stdout",
     "output_type": "stream",
     "text": [
      "[extract] note too long, truncate to 1025\n"
     ]
    },
    {
     "name": "stderr",
     "output_type": "stream",
     "text": [
      "Processing MIDI files:  38%|███▊      | 6448/16838 [10:07<20:51,  8.30it/s]"
     ]
    },
    {
     "name": "stdout",
     "output_type": "stream",
     "text": [
      "[extract] note too long, truncate to 1025\n"
     ]
    },
    {
     "name": "stderr",
     "output_type": "stream",
     "text": [
      "Processing MIDI files:  38%|███▊      | 6458/16838 [10:07<11:54, 14.54it/s]"
     ]
    },
    {
     "name": "stdout",
     "output_type": "stream",
     "text": [
      "[extract] note too long, truncate to 1025\n",
      "[extract] note too long, truncate to 1025\n"
     ]
    },
    {
     "name": "stderr",
     "output_type": "stream",
     "text": [
      "Processing MIDI files:  39%|███▉      | 6573/16838 [10:19<17:34,  9.73it/s]"
     ]
    },
    {
     "name": "stdout",
     "output_type": "stream",
     "text": [
      "[extract] note too long, truncate to 1025\n",
      "[extract] note too long, truncate to 1025\n",
      "[extract] note too long, truncate to 1025\n",
      "[extract] note too long, truncate to 1025\n",
      "[extract] note too long, truncate to 1025\n",
      "[extract] note too long, truncate to 1025\n"
     ]
    },
    {
     "name": "stderr",
     "output_type": "stream",
     "text": [
      "Processing MIDI files:  39%|███▉      | 6577/16838 [10:19<15:26, 11.07it/s]"
     ]
    },
    {
     "name": "stdout",
     "output_type": "stream",
     "text": [
      "[extract] note too long, truncate to 1025\n"
     ]
    },
    {
     "name": "stderr",
     "output_type": "stream",
     "text": [
      "Processing MIDI files:  40%|███▉      | 6652/16838 [10:25<08:46, 19.36it/s]"
     ]
    },
    {
     "name": "stdout",
     "output_type": "stream",
     "text": [
      "[extract] note too long, truncate to 1025\n",
      "[extract] note too long, truncate to 1025"
     ]
    },
    {
     "name": "stderr",
     "output_type": "stream",
     "text": [
      "Processing MIDI files:  40%|███▉      | 6655/16838 [10:25<08:57, 18.95it/s]"
     ]
    },
    {
     "name": "stdout",
     "output_type": "stream",
     "text": [
      "\n"
     ]
    },
    {
     "name": "stderr",
     "output_type": "stream",
     "text": [
      "Processing MIDI files:  40%|███▉      | 6709/16838 [10:31<15:00, 11.24it/s]"
     ]
    },
    {
     "name": "stdout",
     "output_type": "stream",
     "text": [
      "[extract] note too long, truncate to 1025\n",
      "[extract] note too long, truncate to 1025\n",
      "[extract] note too long, truncate to 1025\n",
      "[extract] note too long, truncate to 1025\n",
      "[extract] note too long, truncate to 1025\n",
      "[extract] note too long, truncate to 1025\n"
     ]
    },
    {
     "name": "stderr",
     "output_type": "stream",
     "text": [
      "Processing MIDI files:  40%|███▉      | 6720/16838 [10:32<11:44, 14.35it/s]"
     ]
    },
    {
     "name": "stdout",
     "output_type": "stream",
     "text": [
      "[extract] note too long, truncate to 1025\n",
      "[extract] note too long, truncate to 1025\n",
      "[extract] note too long, truncate to 1025\n",
      "[extract] note too long, truncate to 1025\n",
      "[extract] note too long, truncate to 1025\n"
     ]
    },
    {
     "name": "stderr",
     "output_type": "stream",
     "text": [
      "Processing MIDI files:  40%|████      | 6804/16838 [10:39<12:14, 13.66it/s]"
     ]
    },
    {
     "name": "stdout",
     "output_type": "stream",
     "text": [
      "[extract] note too long, truncate to 1025\n"
     ]
    },
    {
     "name": "stderr",
     "output_type": "stream",
     "text": [
      "Processing MIDI files:  41%|████      | 6871/16838 [10:46<36:24,  4.56it/s]"
     ]
    },
    {
     "name": "stdout",
     "output_type": "stream",
     "text": [
      "[extract] note too long, truncate to 1025\n"
     ]
    },
    {
     "name": "stderr",
     "output_type": "stream",
     "text": [
      "Processing MIDI files:  41%|████▏     | 6969/16838 [10:57<20:48,  7.90it/s]"
     ]
    },
    {
     "name": "stdout",
     "output_type": "stream",
     "text": [
      "[extract] note too long, truncate to 1025\n",
      "[extract] note too long, truncate to 1025\n",
      "[extract] note too long, truncate to 1025\n",
      "[extract] note too long, truncate to 1025\n",
      "[extract] note too long, truncate to 1025\n",
      "[extract] note too long, truncate to 1025\n",
      "[extract] note too long, truncate to 1025\n"
     ]
    },
    {
     "name": "stderr",
     "output_type": "stream",
     "text": [
      "Processing MIDI files:  41%|████▏     | 6976/16838 [10:57<11:54, 13.80it/s]"
     ]
    },
    {
     "name": "stdout",
     "output_type": "stream",
     "text": [
      "[extract] note too long, truncate to 1025\n"
     ]
    },
    {
     "name": "stderr",
     "output_type": "stream",
     "text": [
      "Processing MIDI files:  42%|████▏     | 6993/16838 [10:58<13:34, 12.08it/s]"
     ]
    },
    {
     "name": "stdout",
     "output_type": "stream",
     "text": [
      "[extract] note too long, truncate to 1025\n"
     ]
    },
    {
     "name": "stderr",
     "output_type": "stream",
     "text": [
      "Processing MIDI files:  42%|████▏     | 7018/16838 [11:00<17:20,  9.44it/s]"
     ]
    },
    {
     "name": "stdout",
     "output_type": "stream",
     "text": [
      "[extract] note too long, truncate to 1025\n",
      "[extract] note too long, truncate to 1025\n"
     ]
    },
    {
     "name": "stderr",
     "output_type": "stream",
     "text": [
      "Processing MIDI files:  42%|████▏     | 7072/16838 [11:05<11:31, 14.12it/s]"
     ]
    },
    {
     "name": "stdout",
     "output_type": "stream",
     "text": [
      "[extract] note too long, truncate to 1025\n",
      "[extract] note too long, truncate to 1025\n",
      "[extract] note too long, truncate to 1025\n",
      "[extract] note too long, truncate to 1025\n"
     ]
    },
    {
     "name": "stderr",
     "output_type": "stream",
     "text": [
      "Processing MIDI files:  42%|████▏     | 7121/16838 [11:09<12:39, 12.79it/s]"
     ]
    },
    {
     "name": "stdout",
     "output_type": "stream",
     "text": [
      "[extract] note too long, truncate to 1025\n"
     ]
    },
    {
     "name": "stderr",
     "output_type": "stream",
     "text": [
      "Processing MIDI files:  42%|████▏     | 7134/16838 [11:11<25:27,  6.35it/s]"
     ]
    },
    {
     "name": "stdout",
     "output_type": "stream",
     "text": [
      "[extract] note too long, truncate to 1025\n"
     ]
    },
    {
     "name": "stderr",
     "output_type": "stream",
     "text": [
      "Processing MIDI files:  43%|████▎     | 7231/16838 [11:22<15:13, 10.52it/s]"
     ]
    },
    {
     "name": "stdout",
     "output_type": "stream",
     "text": [
      "[extract] note too long, truncate to 1025\n"
     ]
    },
    {
     "name": "stderr",
     "output_type": "stream",
     "text": [
      "Processing MIDI files:  43%|████▎     | 7239/16838 [11:22<13:58, 11.44it/s]"
     ]
    },
    {
     "name": "stdout",
     "output_type": "stream",
     "text": [
      "[extract] note too long, truncate to 1025\n",
      "[extract] note too long, truncate to 1025\n"
     ]
    },
    {
     "name": "stderr",
     "output_type": "stream",
     "text": [
      "Processing MIDI files:  43%|████▎     | 7241/16838 [11:23<20:22,  7.85it/s]"
     ]
    },
    {
     "name": "stdout",
     "output_type": "stream",
     "text": [
      "[extract] note too long, truncate to 1025\n"
     ]
    },
    {
     "name": "stderr",
     "output_type": "stream",
     "text": [
      "Processing MIDI files:  43%|████▎     | 7250/16838 [11:23<14:06, 11.32it/s]"
     ]
    },
    {
     "name": "stdout",
     "output_type": "stream",
     "text": [
      "[extract] note too long, truncate to 1025\n",
      "[extract] note too long, truncate to 1025\n"
     ]
    },
    {
     "name": "stderr",
     "output_type": "stream",
     "text": [
      "Processing MIDI files:  44%|████▎     | 7362/16838 [11:33<15:24, 10.25it/s]"
     ]
    },
    {
     "name": "stdout",
     "output_type": "stream",
     "text": [
      "[extract] note too long, truncate to 1025\n",
      "[extract] note too long, truncate to 1025\n",
      "[extract] note too long, truncate to 1025\n",
      "[extract] note too long, truncate to 1025\n",
      "[extract] note too long, truncate to 1025\n",
      "[extract] note too long, truncate to 1025\n"
     ]
    },
    {
     "name": "stderr",
     "output_type": "stream",
     "text": [
      "Processing MIDI files:  44%|████▍     | 7433/16838 [11:38<11:46, 13.31it/s]"
     ]
    },
    {
     "name": "stdout",
     "output_type": "stream",
     "text": [
      "[extract] note too long, truncate to 1025\n"
     ]
    },
    {
     "name": "stderr",
     "output_type": "stream",
     "text": [
      "Processing MIDI files:  44%|████▍     | 7460/16838 [11:41<13:01, 12.00it/s]"
     ]
    },
    {
     "name": "stdout",
     "output_type": "stream",
     "text": [
      "[extract] note too long, truncate to 1025\n"
     ]
    },
    {
     "name": "stderr",
     "output_type": "stream",
     "text": [
      "Processing MIDI files:  44%|████▍     | 7471/16838 [11:43<28:45,  5.43it/s]"
     ]
    },
    {
     "name": "stdout",
     "output_type": "stream",
     "text": [
      "[extract] note too long, truncate to 1025\n",
      "[extract] note too long, truncate to 1025\n",
      "[extract] note too long, truncate to 1025\n"
     ]
    },
    {
     "name": "stderr",
     "output_type": "stream",
     "text": [
      "Processing MIDI files:  44%|████▍     | 7489/16838 [11:45<13:12, 11.80it/s]"
     ]
    },
    {
     "name": "stdout",
     "output_type": "stream",
     "text": [
      "[extract] note too long, truncate to 1025\n",
      "[extract] note too long, truncate to 1025\n"
     ]
    },
    {
     "name": "stderr",
     "output_type": "stream",
     "text": [
      "Processing MIDI files:  45%|████▍     | 7506/16838 [11:47<30:30,  5.10it/s]"
     ]
    },
    {
     "name": "stdout",
     "output_type": "stream",
     "text": [
      "[extract] note too long, truncate to 1025\n",
      "[extract] note too long, truncate to 1025\n"
     ]
    },
    {
     "name": "stderr",
     "output_type": "stream",
     "text": [
      "Processing MIDI files:  45%|████▌     | 7590/16838 [11:54<10:40, 14.43it/s]"
     ]
    },
    {
     "name": "stdout",
     "output_type": "stream",
     "text": [
      "[extract] note too long, truncate to 1025\n"
     ]
    },
    {
     "name": "stderr",
     "output_type": "stream",
     "text": [
      "Processing MIDI files:  45%|████▌     | 7594/16838 [11:54<10:54, 14.13it/s]"
     ]
    },
    {
     "name": "stdout",
     "output_type": "stream",
     "text": [
      "[extract] note too long, truncate to 1025\n",
      "[extract] note too long, truncate to 1025\n",
      "[extract] note too long, truncate to 1025\n",
      "[extract] note too long, truncate to 1025\n",
      "[extract] note too long, truncate to 1025\n",
      "[extract] note too long, truncate to 1025\n"
     ]
    },
    {
     "name": "stderr",
     "output_type": "stream",
     "text": [
      "Processing MIDI files:  45%|████▌     | 7597/16838 [11:54<09:58, 15.45it/s]"
     ]
    },
    {
     "name": "stdout",
     "output_type": "stream",
     "text": [
      "[extract] note too long, truncate to 1025\n",
      "[extract] note too long, truncate to 1025\n"
     ]
    },
    {
     "name": "stderr",
     "output_type": "stream",
     "text": [
      "Processing MIDI files:  46%|████▌     | 7672/16838 [12:01<10:05, 15.15it/s]"
     ]
    },
    {
     "name": "stdout",
     "output_type": "stream",
     "text": [
      "[extract] note too long, truncate to 1025\n",
      "[extract] note too long, truncate to 1025\n"
     ]
    },
    {
     "name": "stderr",
     "output_type": "stream",
     "text": [
      "Processing MIDI files:  46%|████▌     | 7719/16838 [12:03<09:14, 16.44it/s]"
     ]
    },
    {
     "name": "stdout",
     "output_type": "stream",
     "text": [
      "[extract] note too long, truncate to 1025\n",
      "[extract] note too long, truncate to 1025\n",
      "[extract] note too long, truncate to 1025\n",
      "[extract] note too long, truncate to 1025\n",
      "[extract] note too long, truncate to 1025\n",
      "[extract] note too long, truncate to 1025\n",
      "[extract] note too long, truncate to 1025\n",
      "[extract] note too long, truncate to 1025\n",
      "[extract] note too long, truncate to 1025\n",
      "[extract] note too long, truncate to 1025\n",
      "[extract] note too long, truncate to 1025\n",
      "[extract] note too long, truncate to 1025\n",
      "[extract] note too long, truncate to 1025\n",
      "[extract] note too long, truncate to 1025\n"
     ]
    },
    {
     "name": "stderr",
     "output_type": "stream",
     "text": [
      "Processing MIDI files:  46%|████▌     | 7721/16838 [12:03<09:03, 16.79it/s]"
     ]
    },
    {
     "name": "stdout",
     "output_type": "stream",
     "text": [
      "[extract] note too long, truncate to 1025\n",
      "[extract] note too long, truncate to 1025\n",
      "[extract] note too long, truncate to 1025\n"
     ]
    },
    {
     "name": "stderr",
     "output_type": "stream",
     "text": [
      "Processing MIDI files:  47%|████▋     | 7886/16838 [12:16<11:17, 13.22it/s]"
     ]
    },
    {
     "name": "stdout",
     "output_type": "stream",
     "text": [
      "[extract] note too long, truncate to 1025\n",
      "[extract] note too long, truncate to 1025\n"
     ]
    },
    {
     "name": "stderr",
     "output_type": "stream",
     "text": [
      "Processing MIDI files:  47%|████▋     | 7971/16838 [12:23<13:00, 11.35it/s]"
     ]
    },
    {
     "name": "stdout",
     "output_type": "stream",
     "text": [
      "[extract] note too long, truncate to 1025\n"
     ]
    },
    {
     "name": "stderr",
     "output_type": "stream",
     "text": [
      "Processing MIDI files:  48%|████▊     | 8004/16838 [12:26<12:12, 12.06it/s]"
     ]
    },
    {
     "name": "stdout",
     "output_type": "stream",
     "text": [
      "[extract] note too long, truncate to 1025\n",
      "[extract] note too long, truncate to 1025\n",
      "[extract] note too long, truncate to 1025\n",
      "[extract] note too long, truncate to 1025\n",
      "[extract] note too long, truncate to 1025\n",
      "[extract] note too long, truncate to 1025\n",
      "[extract] note too long, truncate to 1025\n",
      "[extract] note too long, truncate to 1025\n",
      "[extract] note too long, truncate to 1025\n",
      "[extract] note too long, truncate to 1025\n",
      "[extract] note too long, truncate to 1025\n"
     ]
    },
    {
     "name": "stderr",
     "output_type": "stream",
     "text": [
      "Processing MIDI files:  48%|████▊     | 8006/16838 [12:27<21:18,  6.91it/s]"
     ]
    },
    {
     "name": "stdout",
     "output_type": "stream",
     "text": [
      "[extract] note too long, truncate to 1025\n",
      "[extract] note too long, truncate to 1025\n",
      "[extract] note too long, truncate to 1025\n",
      "[extract] note too long, truncate to 1025\n",
      "[extract] note too long, truncate to 1025\n",
      "[extract] note too long, truncate to 1025\n",
      "[extract] note too long, truncate to 1025\n",
      "[extract] note too long, truncate to 1025\n"
     ]
    },
    {
     "name": "stderr",
     "output_type": "stream",
     "text": [
      "Processing MIDI files:  48%|████▊     | 8036/16838 [12:30<09:43, 15.08it/s]"
     ]
    },
    {
     "name": "stdout",
     "output_type": "stream",
     "text": [
      "[extract] note too long, truncate to 1025\n"
     ]
    },
    {
     "name": "stderr",
     "output_type": "stream",
     "text": [
      "Processing MIDI files:  49%|████▉     | 8224/16838 [12:45<08:31, 16.84it/s]"
     ]
    },
    {
     "name": "stdout",
     "output_type": "stream",
     "text": [
      "[extract] note too long, truncate to 1025\n",
      "[extract] note too long, truncate to 1025\n",
      "[extract] note too long, truncate to 1025\n"
     ]
    },
    {
     "name": "stderr",
     "output_type": "stream",
     "text": [
      "Processing MIDI files:  49%|████▉     | 8270/16838 [12:50<12:36, 11.32it/s]"
     ]
    },
    {
     "name": "stdout",
     "output_type": "stream",
     "text": [
      "[extract] note too long, truncate to 1025\n",
      "[extract] note too long, truncate to 1025\n",
      "[extract] note too long, truncate to 1025\n",
      "[extract] note too long, truncate to 1025\n"
     ]
    },
    {
     "name": "stderr",
     "output_type": "stream",
     "text": [
      "Processing MIDI files:  49%|████▉     | 8303/16838 [12:52<09:22, 15.17it/s]"
     ]
    },
    {
     "name": "stdout",
     "output_type": "stream",
     "text": [
      "[extract] note too long, truncate to 1025\n"
     ]
    },
    {
     "name": "stderr",
     "output_type": "stream",
     "text": [
      "Processing MIDI files:  50%|████▉     | 8347/16838 [12:57<13:40, 10.35it/s]"
     ]
    },
    {
     "name": "stdout",
     "output_type": "stream",
     "text": [
      "[extract] note too long, truncate to 1025\n",
      "[extract] note too long, truncate to 1025\n",
      "[extract] note too long, truncate to 1025\n",
      "[extract] note too long, truncate to 1025\n",
      "[extract] note too long, truncate to 1025"
     ]
    },
    {
     "name": "stderr",
     "output_type": "stream",
     "text": [
      "Processing MIDI files:  50%|████▉     | 8349/16838 [12:58<16:01,  8.83it/s]"
     ]
    },
    {
     "name": "stdout",
     "output_type": "stream",
     "text": [
      "\n",
      "[extract] note too long, truncate to 1025\n",
      "[extract] note too long, truncate to 1025\n"
     ]
    },
    {
     "name": "stderr",
     "output_type": "stream",
     "text": [
      "Processing MIDI files:  50%|████▉     | 8400/16838 [13:02<14:15,  9.87it/s]"
     ]
    },
    {
     "name": "stdout",
     "output_type": "stream",
     "text": [
      "[extract] note too long, truncate to 1025\n",
      "[extract] note too long, truncate to 1025\n",
      "[extract] note too long, truncate to 1025\n",
      "[extract] note too long, truncate to 1025\n",
      "[extract] note too long, truncate to 1025\n"
     ]
    },
    {
     "name": "stderr",
     "output_type": "stream",
     "text": [
      "Processing MIDI files:  50%|█████     | 8437/16838 [13:05<12:47, 10.95it/s]"
     ]
    },
    {
     "name": "stdout",
     "output_type": "stream",
     "text": [
      "[extract] note too long, truncate to 1025\n"
     ]
    },
    {
     "name": "stderr",
     "output_type": "stream",
     "text": [
      "Processing MIDI files:  50%|█████     | 8439/16838 [13:06<15:24,  9.09it/s]"
     ]
    },
    {
     "name": "stdout",
     "output_type": "stream",
     "text": [
      "[extract] note too long, truncate to 1025\n"
     ]
    },
    {
     "name": "stderr",
     "output_type": "stream",
     "text": [
      "Processing MIDI files:  50%|█████     | 8448/16838 [13:06<09:21, 14.94it/s]"
     ]
    },
    {
     "name": "stdout",
     "output_type": "stream",
     "text": [
      "[extract] note too long, truncate to 1025\n"
     ]
    },
    {
     "name": "stderr",
     "output_type": "stream",
     "text": [
      "Processing MIDI files:  50%|█████     | 8474/16838 [13:09<10:15, 13.58it/s]"
     ]
    },
    {
     "name": "stdout",
     "output_type": "stream",
     "text": [
      "[extract] note too long, truncate to 1025\n",
      "[extract] note too long, truncate to 1025\n"
     ]
    },
    {
     "name": "stderr",
     "output_type": "stream",
     "text": [
      "Processing MIDI files:  50%|█████     | 8476/16838 [13:10<23:34,  5.91it/s]"
     ]
    },
    {
     "name": "stdout",
     "output_type": "stream",
     "text": [
      "[extract] note too long, truncate to 1025\n",
      "[extract] note too long, truncate to 1025\n",
      "[extract] note too long, truncate to 1025\n",
      "[extract] note too long, truncate to 1025\n",
      "[extract] note too long, truncate to 1025\n",
      "[extract] note too long, truncate to 1025\n",
      "[extract] note too long, truncate to 1025\n"
     ]
    },
    {
     "name": "stderr",
     "output_type": "stream",
     "text": [
      "Processing MIDI files:  50%|█████     | 8489/16838 [13:11<14:23,  9.67it/s]"
     ]
    },
    {
     "name": "stdout",
     "output_type": "stream",
     "text": [
      "[extract] note too long, truncate to 1025\n",
      "[extract] note too long, truncate to 1025\n",
      "[extract] note too long, truncate to 1025\n",
      "[extract] note too long, truncate to 1025\n"
     ]
    },
    {
     "name": "stderr",
     "output_type": "stream",
     "text": [
      "Processing MIDI files:  50%|█████     | 8499/16838 [13:11<07:10, 19.39it/s]"
     ]
    },
    {
     "name": "stdout",
     "output_type": "stream",
     "text": [
      "[extract] note too long, truncate to 1025\n"
     ]
    },
    {
     "name": "stderr",
     "output_type": "stream",
     "text": [
      "Processing MIDI files:  50%|█████     | 8502/16838 [13:11<06:37, 20.96it/s]"
     ]
    },
    {
     "name": "stdout",
     "output_type": "stream",
     "text": [
      "[extract] note too long, truncate to 1025\n",
      "[extract] note too long, truncate to 1025\n",
      "[extract] note too long, truncate to 1025\n",
      "[extract] note too long, truncate to 1025\n"
     ]
    },
    {
     "name": "stderr",
     "output_type": "stream",
     "text": [
      "Processing MIDI files:  51%|█████     | 8512/16838 [13:12<11:56, 11.63it/s]"
     ]
    },
    {
     "name": "stdout",
     "output_type": "stream",
     "text": [
      "[extract] note too long, truncate to 1025\n",
      "[extract] note too long, truncate to 1025\n",
      "[extract] note too long, truncate to 1025\n",
      "[extract] note too long, truncate to 1025\n",
      "[extract] note too long, truncate to 1025\n",
      "[extract] note too long, truncate to 1025\n",
      "[extract] note too long, truncate to 1025\n",
      "[extract] note too long, truncate to 1025\n",
      "[extract] note too long, truncate to 1025\n",
      "[extract] note too long, truncate to 1025\n",
      "[extract] note too long, truncate to 1025\n",
      "[extract] note too long, truncate to 1025\n",
      "[extract] note too long, truncate to 1025\n",
      "[extract] note too long, truncate to 1025\n",
      "[extract] note too long, truncate to 1025\n",
      "[extract] note too long, truncate to 1025\n",
      "[extract] note too long, truncate to 1025\n",
      "[extract] note too long, truncate to 1025\n",
      "[extract] note too long, truncate to 1025\n",
      "[extract] note too long, truncate to 1025\n",
      "[extract] note too long, truncate to 1025\n",
      "[extract] note too long, truncate to 1025\n",
      "[extract] note too long, truncate to 1025"
     ]
    },
    {
     "name": "stderr",
     "output_type": "stream",
     "text": [
      "Processing MIDI files:  51%|█████     | 8514/16838 [13:13<18:16,  7.59it/s]"
     ]
    },
    {
     "name": "stdout",
     "output_type": "stream",
     "text": [
      "\n",
      "[extract] note too long, truncate to 1025\n",
      "[extract] note too long, truncate to 1025\n"
     ]
    },
    {
     "name": "stderr",
     "output_type": "stream",
     "text": [
      "Processing MIDI files:  51%|█████     | 8533/16838 [13:15<15:15,  9.07it/s]"
     ]
    },
    {
     "name": "stdout",
     "output_type": "stream",
     "text": [
      "[extract] note too long, truncate to 1025\n",
      "[extract] note too long, truncate to 1025\n",
      "[extract] note too long, truncate to 1025\n",
      "[extract] note too long, truncate to 1025\n",
      "[extract] note too long, truncate to 1025\n",
      "[extract] note too long, truncate to 1025\n",
      "[extract] note too long, truncate to 1025\n",
      "[extract] note too long, truncate to 1025\n",
      "[extract] note too long, truncate to 1025\n",
      "[extract] note too long, truncate to 1025\n",
      "[extract] note too long, truncate to 1025\n",
      "[extract] note too long, truncate to 1025\n",
      "[extract] note too long, truncate to 1025\n",
      "[extract] note too long, truncate to 1025\n",
      "[extract] note too long, truncate to 1025\n",
      "[extract] note too long, truncate to 1025"
     ]
    },
    {
     "name": "stderr",
     "output_type": "stream",
     "text": [
      "Processing MIDI files:  51%|█████     | 8535/16838 [13:16<16:05,  8.60it/s]"
     ]
    },
    {
     "name": "stdout",
     "output_type": "stream",
     "text": [
      "\n",
      "[extract] note too long, truncate to 1025\n",
      "[extract] note too long, truncate to 1025\n",
      "[extract] note too long, truncate to 1025\n",
      "[extract] note too long, truncate to 1025\n",
      "[extract] note too long, truncate to 1025\n",
      "[extract] note too long, truncate to 1025\n",
      "[extract] note too long, truncate to 1025\n",
      "[extract] note too long, truncate to 1025\n",
      "[extract] note too long, truncate to 1025\n",
      "[extract] note too long, truncate to 1025\n",
      "[extract] note too long, truncate to 1025\n",
      "[extract] note too long, truncate to 1025\n",
      "[extract] note too long, truncate to 1025\n",
      "[extract] note too long, truncate to 1025\n",
      "[extract] note too long, truncate to 1025\n",
      "[extract] note too long, truncate to 1025\n",
      "[extract] note too long, truncate to 1025\n",
      "[extract] note too long, truncate to 1025\n",
      "[extract] note too long, truncate to 1025\n",
      "[extract] note too long, truncate to 1025\n",
      "[extract] note too long, truncate to 1025\n",
      "[extract] note too long, truncate to 1025\n",
      "[extract] note too long, truncate to 1025\n",
      "[extract] note too long, truncate to 1025\n",
      "[extract] note too long, truncate to 1025\n",
      "[extract] note too long, truncate to 1025\n",
      "[extract] note too long, truncate to 1025\n",
      "[extract] note too long, truncate to 1025\n",
      "[extract] note too long, truncate to 1025\n",
      "[extract] note too long, truncate to 1025\n",
      "[extract] note too long, truncate to 1025\n",
      "[extract] note too long, truncate to 1025\n",
      "[extract] note too long, truncate to 1025\n",
      "[extract] note too long, truncate to 1025\n"
     ]
    },
    {
     "name": "stderr",
     "output_type": "stream",
     "text": [
      "Processing MIDI files:  51%|█████     | 8537/16838 [13:16<17:27,  7.92it/s]"
     ]
    },
    {
     "name": "stdout",
     "output_type": "stream",
     "text": [
      "[extract] note too long, truncate to 1025\n",
      "[extract] note too long, truncate to 1025\n",
      "[extract] note too long, truncate to 1025\n",
      "[extract] note too long, truncate to 1025\n"
     ]
    },
    {
     "name": "stderr",
     "output_type": "stream",
     "text": [
      "Processing MIDI files:  51%|█████     | 8543/16838 [13:17<14:50,  9.32it/s]"
     ]
    },
    {
     "name": "stdout",
     "output_type": "stream",
     "text": [
      "[extract] note too long, truncate to 1025\n"
     ]
    },
    {
     "name": "stderr",
     "output_type": "stream",
     "text": [
      "Processing MIDI files:  51%|█████     | 8625/16838 [13:23<11:14, 12.18it/s]"
     ]
    },
    {
     "name": "stdout",
     "output_type": "stream",
     "text": [
      "[extract] note too long, truncate to 1025\n"
     ]
    },
    {
     "name": "stderr",
     "output_type": "stream",
     "text": [
      "Processing MIDI files:  51%|█████▏    | 8637/16838 [13:23<07:46, 17.57it/s]"
     ]
    },
    {
     "name": "stdout",
     "output_type": "stream",
     "text": [
      "[extract] note too long, truncate to 1025\n",
      "[extract] note too long, truncate to 1025"
     ]
    },
    {
     "name": "stderr",
     "output_type": "stream",
     "text": [
      "Processing MIDI files:  51%|█████▏    | 8639/16838 [13:24<09:39, 14.16it/s]"
     ]
    },
    {
     "name": "stdout",
     "output_type": "stream",
     "text": [
      "\n"
     ]
    },
    {
     "name": "stderr",
     "output_type": "stream",
     "text": [
      "Processing MIDI files:  52%|█████▏    | 8678/16838 [13:27<11:25, 11.91it/s]"
     ]
    },
    {
     "name": "stdout",
     "output_type": "stream",
     "text": [
      "[extract] note too long, truncate to 1025\n",
      "[extract] note too long, truncate to 1025\n",
      "[extract] note too long, truncate to 1025\n",
      "[extract] note too long, truncate to 1025\n",
      "[extract] note too long, truncate to 1025\n",
      "[extract] note too long, truncate to 1025\n",
      "[extract] note too long, truncate to 1025\n",
      "[extract] note too long, truncate to 1025\n",
      "[extract] note too long, truncate to 1025\n",
      "[extract] note too long, truncate to 1025\n",
      "[extract] note too long, truncate to 1025\n",
      "[extract] note too long, truncate to 1025\n"
     ]
    },
    {
     "name": "stderr",
     "output_type": "stream",
     "text": [
      "Processing MIDI files:  52%|█████▏    | 8743/16838 [13:34<10:30, 12.85it/s]"
     ]
    },
    {
     "name": "stdout",
     "output_type": "stream",
     "text": [
      "[extract] note too long, truncate to 1025\n"
     ]
    },
    {
     "name": "stderr",
     "output_type": "stream",
     "text": [
      "Processing MIDI files:  52%|█████▏    | 8772/16838 [13:36<09:29, 14.16it/s]"
     ]
    },
    {
     "name": "stdout",
     "output_type": "stream",
     "text": [
      "[extract] note too long, truncate to 1025\n"
     ]
    },
    {
     "name": "stderr",
     "output_type": "stream",
     "text": [
      "Processing MIDI files:  53%|█████▎    | 8918/16838 [13:47<13:49,  9.54it/s]"
     ]
    },
    {
     "name": "stdout",
     "output_type": "stream",
     "text": [
      "[extract] note too long, truncate to 1025\n",
      "[extract] note too long, truncate to 1025\n"
     ]
    },
    {
     "name": "stderr",
     "output_type": "stream",
     "text": [
      "Processing MIDI files:  53%|█████▎    | 8964/16838 [13:51<11:19, 11.60it/s]"
     ]
    },
    {
     "name": "stdout",
     "output_type": "stream",
     "text": [
      "[extract] note too long, truncate to 1025\n",
      "[extract] note too long, truncate to 1025\n"
     ]
    },
    {
     "name": "stderr",
     "output_type": "stream",
     "text": [
      "Processing MIDI files:  53%|█████▎    | 8970/16838 [13:52<14:50,  8.83it/s]"
     ]
    },
    {
     "name": "stdout",
     "output_type": "stream",
     "text": [
      "[extract] note too long, truncate to 1025\n",
      "[extract] note too long, truncate to 1025\n",
      "[extract] note too long, truncate to 1025\n",
      "[extract] note too long, truncate to 1025\n"
     ]
    },
    {
     "name": "stderr",
     "output_type": "stream",
     "text": [
      "Processing MIDI files:  54%|█████▍    | 9087/16838 [14:01<11:41, 11.05it/s]"
     ]
    },
    {
     "name": "stdout",
     "output_type": "stream",
     "text": [
      "[extract] note too long, truncate to 1025\n"
     ]
    },
    {
     "name": "stderr",
     "output_type": "stream",
     "text": [
      "Processing MIDI files:  55%|█████▍    | 9197/16838 [14:12<11:47, 10.80it/s]"
     ]
    },
    {
     "name": "stdout",
     "output_type": "stream",
     "text": [
      "[extract] note too long, truncate to 1025\n"
     ]
    },
    {
     "name": "stderr",
     "output_type": "stream",
     "text": [
      "Processing MIDI files:  55%|█████▌    | 9278/16838 [14:21<12:25, 10.14it/s]"
     ]
    },
    {
     "name": "stdout",
     "output_type": "stream",
     "text": [
      "[extract] note too long, truncate to 1025\n",
      "[extract] note too long, truncate to 1025\n",
      "[extract] note too long, truncate to 1025\n",
      "[extract] note too long, truncate to 1025\n",
      "[extract] note too long, truncate to 1025\n",
      "[extract] note too long, truncate to 1025[extract] note too long, truncate to 1025\n",
      "\n"
     ]
    },
    {
     "name": "stderr",
     "output_type": "stream",
     "text": [
      "Processing MIDI files:  56%|█████▌    | 9357/16838 [14:29<10:29, 11.88it/s]"
     ]
    },
    {
     "name": "stdout",
     "output_type": "stream",
     "text": [
      "[extract] note too long, truncate to 1025\n"
     ]
    },
    {
     "name": "stderr",
     "output_type": "stream",
     "text": [
      "Processing MIDI files:  56%|█████▌    | 9387/16838 [14:32<14:15,  8.71it/s]"
     ]
    },
    {
     "name": "stdout",
     "output_type": "stream",
     "text": [
      "[extract] note too long, truncate to 1025\n"
     ]
    },
    {
     "name": "stderr",
     "output_type": "stream",
     "text": [
      "Processing MIDI files:  56%|█████▌    | 9389/16838 [14:33<16:11,  7.67it/s]"
     ]
    },
    {
     "name": "stdout",
     "output_type": "stream",
     "text": [
      "[extract] note too long, truncate to 1025\n"
     ]
    },
    {
     "name": "stderr",
     "output_type": "stream",
     "text": [
      "Processing MIDI files:  56%|█████▋    | 9494/16838 [14:41<08:54, 13.73it/s]"
     ]
    },
    {
     "name": "stdout",
     "output_type": "stream",
     "text": [
      "[extract] note too long, truncate to 1025\n"
     ]
    },
    {
     "name": "stderr",
     "output_type": "stream",
     "text": [
      "Processing MIDI files:  57%|█████▋    | 9545/16838 [14:46<13:18,  9.14it/s]"
     ]
    },
    {
     "name": "stdout",
     "output_type": "stream",
     "text": [
      "[extract] note too long, truncate to 1025\n"
     ]
    },
    {
     "name": "stderr",
     "output_type": "stream",
     "text": [
      "Processing MIDI files:  57%|█████▋    | 9589/16838 [14:50<17:30,  6.90it/s]"
     ]
    },
    {
     "name": "stdout",
     "output_type": "stream",
     "text": [
      "[extract] note too long, truncate to 1025\n",
      "[extract] note too long, truncate to 1025\n"
     ]
    },
    {
     "name": "stderr",
     "output_type": "stream",
     "text": [
      "Processing MIDI files:  57%|█████▋    | 9613/16838 [14:53<18:00,  6.69it/s]"
     ]
    },
    {
     "name": "stdout",
     "output_type": "stream",
     "text": [
      "[extract] note too long, truncate to 1025\n"
     ]
    },
    {
     "name": "stderr",
     "output_type": "stream",
     "text": [
      "Processing MIDI files:  57%|█████▋    | 9666/16838 [14:58<06:11, 19.33it/s]"
     ]
    },
    {
     "name": "stdout",
     "output_type": "stream",
     "text": [
      "[extract] note too long, truncate to 1025\n"
     ]
    },
    {
     "name": "stderr",
     "output_type": "stream",
     "text": [
      "Processing MIDI files:  58%|█████▊    | 9738/16838 [15:04<11:24, 10.38it/s]"
     ]
    },
    {
     "name": "stdout",
     "output_type": "stream",
     "text": [
      "[extract] note too long, truncate to 1025\n",
      "[extract] note too long, truncate to 1025\n"
     ]
    },
    {
     "name": "stderr",
     "output_type": "stream",
     "text": [
      "Processing MIDI files:  58%|█████▊    | 9841/16838 [15:12<09:47, 11.91it/s]"
     ]
    },
    {
     "name": "stdout",
     "output_type": "stream",
     "text": [
      "[extract] note too long, truncate to 1025\n",
      "[extract] note too long, truncate to 1025\n"
     ]
    },
    {
     "name": "stderr",
     "output_type": "stream",
     "text": [
      "Processing MIDI files:  58%|█████▊    | 9846/16838 [15:13<07:56, 14.67it/s]"
     ]
    },
    {
     "name": "stdout",
     "output_type": "stream",
     "text": [
      "[extract] note too long, truncate to 1025\n"
     ]
    },
    {
     "name": "stderr",
     "output_type": "stream",
     "text": [
      "Processing MIDI files:  58%|█████▊    | 9848/16838 [15:13<09:25, 12.36it/s]"
     ]
    },
    {
     "name": "stdout",
     "output_type": "stream",
     "text": [
      "[extract] note too long, truncate to 1025\n",
      "[extract] note too long, truncate to 1025\n",
      "[extract] note too long, truncate to 1025\n"
     ]
    },
    {
     "name": "stderr",
     "output_type": "stream",
     "text": [
      "Processing MIDI files:  59%|█████▊    | 9873/16838 [15:15<10:49, 10.72it/s]"
     ]
    },
    {
     "name": "stdout",
     "output_type": "stream",
     "text": [
      "[extract] note too long, truncate to 1025\n",
      "[extract] note too long, truncate to 1025\n"
     ]
    },
    {
     "name": "stderr",
     "output_type": "stream",
     "text": [
      "Processing MIDI files:  59%|█████▉    | 9908/16838 [15:18<05:54, 19.53it/s]"
     ]
    },
    {
     "name": "stdout",
     "output_type": "stream",
     "text": [
      "[extract] note too long, truncate to 1025\n"
     ]
    },
    {
     "name": "stderr",
     "output_type": "stream",
     "text": [
      "Processing MIDI files:  59%|█████▉    | 9914/16838 [15:18<07:21, 15.69it/s]"
     ]
    },
    {
     "name": "stdout",
     "output_type": "stream",
     "text": [
      "[extract] note too long, truncate to 1025\n"
     ]
    },
    {
     "name": "stderr",
     "output_type": "stream",
     "text": [
      "Processing MIDI files:  59%|█████▉    | 9997/16838 [15:24<04:40, 24.38it/s]"
     ]
    },
    {
     "name": "stdout",
     "output_type": "stream",
     "text": [
      "[extract] note too long, truncate to 1025\n",
      "[extract] note too long, truncate to 1025\n"
     ]
    },
    {
     "name": "stderr",
     "output_type": "stream",
     "text": [
      "Processing MIDI files:  60%|█████▉    | 10065/16838 [15:28<07:25, 15.21it/s]"
     ]
    },
    {
     "name": "stdout",
     "output_type": "stream",
     "text": [
      "[extract] note too long, truncate to 1025\n",
      "[extract] note too long, truncate to 1025\n",
      "[extract] note too long, truncate to 1025\n",
      "[extract] note too long, truncate to 1025\n",
      "[extract] note too long, truncate to 1025\n",
      "[extract] note too long, truncate to 1025\n"
     ]
    },
    {
     "name": "stderr",
     "output_type": "stream",
     "text": [
      "Processing MIDI files:  60%|██████    | 10148/16838 [15:38<16:05,  6.93it/s]"
     ]
    },
    {
     "name": "stdout",
     "output_type": "stream",
     "text": [
      "[extract] note too long, truncate to 1025\n"
     ]
    },
    {
     "name": "stderr",
     "output_type": "stream",
     "text": [
      "Processing MIDI files:  60%|██████    | 10160/16838 [15:39<11:42,  9.50it/s]"
     ]
    },
    {
     "name": "stdout",
     "output_type": "stream",
     "text": [
      "[extract] note too long, truncate to 1025\n"
     ]
    },
    {
     "name": "stderr",
     "output_type": "stream",
     "text": [
      "Processing MIDI files:  61%|██████    | 10206/16838 [15:43<07:49, 14.12it/s]"
     ]
    },
    {
     "name": "stdout",
     "output_type": "stream",
     "text": [
      "[extract] note too long, truncate to 1025\n",
      "[extract] note too long, truncate to 1025\n",
      "[extract] note too long, truncate to 1025\n"
     ]
    },
    {
     "name": "stderr",
     "output_type": "stream",
     "text": [
      "Processing MIDI files:  61%|██████    | 10227/16838 [15:45<10:01, 10.99it/s]"
     ]
    },
    {
     "name": "stdout",
     "output_type": "stream",
     "text": [
      "[extract] note too long, truncate to 1025\n",
      "[extract] note too long, truncate to 1025\n",
      "[extract] note too long, truncate to 1025\n",
      "[extract] note too long, truncate to 1025\n",
      "[extract] note too long, truncate to 1025"
     ]
    },
    {
     "name": "stderr",
     "output_type": "stream",
     "text": [
      "Processing MIDI files:  61%|██████    | 10231/16838 [15:45<07:51, 14.02it/s]"
     ]
    },
    {
     "name": "stdout",
     "output_type": "stream",
     "text": [
      "\n",
      "[extract] note too long, truncate to 1025\n"
     ]
    },
    {
     "name": "stderr",
     "output_type": "stream",
     "text": [
      "Processing MIDI files:  61%|██████    | 10260/16838 [15:47<07:24, 14.80it/s]"
     ]
    },
    {
     "name": "stdout",
     "output_type": "stream",
     "text": [
      "[extract] note too long, truncate to 1025\n",
      "[extract] note too long, truncate to 1025\n"
     ]
    },
    {
     "name": "stderr",
     "output_type": "stream",
     "text": [
      "Processing MIDI files:  61%|██████▏   | 10322/16838 [15:53<12:18,  8.82it/s]"
     ]
    },
    {
     "name": "stdout",
     "output_type": "stream",
     "text": [
      "[extract] note too long, truncate to 1025\n",
      "[extract] note too long, truncate to 1025\n",
      "[extract] note too long, truncate to 1025\n",
      "[extract] note too long, truncate to 1025\n",
      "[extract] note too long, truncate to 1025\n",
      "[extract] note too long, truncate to 1025\n",
      "[extract] note too long, truncate to 1025\n",
      "[extract] note too long, truncate to 1025\n",
      "[extract] note too long, truncate to 1025\n",
      "[extract] note too long, truncate to 1025\n",
      "[extract] note too long, truncate to 1025\n",
      "[extract] note too long, truncate to 1025\n",
      "[extract] note too long, truncate to 1025\n",
      "[extract] note too long, truncate to 1025\n",
      "[extract] note too long, truncate to 1025\n",
      "[extract] note too long, truncate to 1025\n",
      "[extract] note too long, truncate to 1025\n",
      "[extract] note too long, truncate to 1025\n",
      "[extract] note too long, truncate to 1025\n",
      "[extract] note too long, truncate to 1025\n",
      "[extract] note too long, truncate to 1025\n",
      "[extract] note too long, truncate to 1025\n",
      "[extract] note too long, truncate to 1025\n",
      "[extract] note too long, truncate to 1025\n",
      "[extract] note too long, truncate to 1025\n",
      "[extract] note too long, truncate to 1025\n",
      "[extract] note too long, truncate to 1025\n",
      "[extract] note too long, truncate to 1025\n",
      "[extract] note too long, truncate to 1025\n",
      "[extract] note too long, truncate to 1025\n"
     ]
    },
    {
     "name": "stderr",
     "output_type": "stream",
     "text": [
      "Processing MIDI files:  61%|██████▏   | 10324/16838 [15:54<15:28,  7.02it/s]"
     ]
    },
    {
     "name": "stdout",
     "output_type": "stream",
     "text": [
      "[extract] note too long, truncate to 1025\n",
      "[extract] note too long, truncate to 1025\n",
      "[extract] note too long, truncate to 1025\n",
      "[extract] note too long, truncate to 1025\n",
      "[extract] note too long, truncate to 1025\n",
      "[extract] note too long, truncate to 1025\n",
      "[extract] note too long, truncate to 1025\n",
      "[extract] note too long, truncate to 1025\n",
      "[extract] note too long, truncate to 1025\n",
      "[extract] note too long, truncate to 1025\n",
      "[extract] note too long, truncate to 1025\n"
     ]
    },
    {
     "name": "stderr",
     "output_type": "stream",
     "text": [
      "Processing MIDI files:  62%|██████▏   | 10378/16838 [15:57<16:36,  6.48it/s]"
     ]
    },
    {
     "name": "stdout",
     "output_type": "stream",
     "text": [
      "[extract] note too long, truncate to 1025\n"
     ]
    },
    {
     "name": "stderr",
     "output_type": "stream",
     "text": [
      "Processing MIDI files:  62%|██████▏   | 10417/16838 [16:02<22:56,  4.67it/s]"
     ]
    },
    {
     "name": "stdout",
     "output_type": "stream",
     "text": [
      "[extract] note too long, truncate to 1025\n"
     ]
    },
    {
     "name": "stderr",
     "output_type": "stream",
     "text": [
      "Processing MIDI files:  62%|██████▏   | 10419/16838 [16:02<16:35,  6.44it/s]"
     ]
    },
    {
     "name": "stdout",
     "output_type": "stream",
     "text": [
      "[extract] note too long, truncate to 1025\n",
      "[extract] note too long, truncate to 1025\n"
     ]
    },
    {
     "name": "stderr",
     "output_type": "stream",
     "text": [
      "Processing MIDI files:  62%|██████▏   | 10425/16838 [16:03<17:09,  6.23it/s]"
     ]
    },
    {
     "name": "stdout",
     "output_type": "stream",
     "text": [
      "[extract] note too long, truncate to 1025\n",
      "[extract] note too long, truncate to 1025\n"
     ]
    },
    {
     "name": "stderr",
     "output_type": "stream",
     "text": [
      "Processing MIDI files:  62%|██████▏   | 10455/16838 [16:05<07:37, 13.95it/s]"
     ]
    },
    {
     "name": "stdout",
     "output_type": "stream",
     "text": [
      "[extract] note too long, truncate to 1025\n",
      "[extract] note too long, truncate to 1025\n"
     ]
    },
    {
     "name": "stderr",
     "output_type": "stream",
     "text": [
      "Processing MIDI files:  62%|██████▏   | 10505/16838 [16:09<05:14, 20.15it/s]"
     ]
    },
    {
     "name": "stdout",
     "output_type": "stream",
     "text": [
      "[extract] note too long, truncate to 1025\n"
     ]
    },
    {
     "name": "stderr",
     "output_type": "stream",
     "text": [
      "Processing MIDI files:  62%|██████▏   | 10508/16838 [16:09<07:21, 14.33it/s]"
     ]
    },
    {
     "name": "stdout",
     "output_type": "stream",
     "text": [
      "[extract] note too long, truncate to 1025\n",
      "[extract] note too long, truncate to 1025\n",
      "[extract] note too long, truncate to 1025\n",
      "[extract] note too long, truncate to 1025\n",
      "[extract] note too long, truncate to 1025\n",
      "[extract] note too long, truncate to 1025\n",
      "[extract] note too long, truncate to 1025\n",
      "[extract] note too long, truncate to 1025\n",
      "[extract] note too long, truncate to 1025\n",
      "[extract] note too long, truncate to 1025\n",
      "[extract] note too long, truncate to 1025\n",
      "[extract] note too long, truncate to 1025\n",
      "[extract] note too long, truncate to 1025\n",
      "[extract] note too long, truncate to 1025\n",
      "[extract] note too long, truncate to 1025\n",
      "[extract] note too long, truncate to 1025\n",
      "[extract] note too long, truncate to 1025\n",
      "[extract] note too long, truncate to 1025\n",
      "[extract] note too long, truncate to 1025\n",
      "[extract] note too long, truncate to 1025\n",
      "[extract] note too long, truncate to 1025\n",
      "[extract] note too long, truncate to 1025\n",
      "[extract] note too long, truncate to 1025\n",
      "[extract] note too long, truncate to 1025\n",
      "[extract] note too long, truncate to 1025\n",
      "[extract] note too long, truncate to 1025\n",
      "[extract] note too long, truncate to 1025\n",
      "[extract] note too long, truncate to 1025\n",
      "[extract] note too long, truncate to 1025\n",
      "[extract] note too long, truncate to 1025\n",
      "[extract] note too long, truncate to 1025\n",
      "[extract] note too long, truncate to 1025\n",
      "[extract] note too long, truncate to 1025"
     ]
    },
    {
     "name": "stderr",
     "output_type": "stream",
     "text": [
      "Processing MIDI files:  62%|██████▏   | 10511/16838 [16:10<08:32, 12.36it/s]"
     ]
    },
    {
     "name": "stdout",
     "output_type": "stream",
     "text": [
      "\n",
      "[extract] note too long, truncate to 1025\n",
      "[extract] note too long, truncate to 1025\n"
     ]
    },
    {
     "name": "stderr",
     "output_type": "stream",
     "text": [
      "Processing MIDI files:  63%|██████▎   | 10549/16838 [16:12<08:45, 11.96it/s]"
     ]
    },
    {
     "name": "stdout",
     "output_type": "stream",
     "text": [
      "[extract] note too long, truncate to 1025\n",
      "[extract] note too long, truncate to 1025\n",
      "[extract] note too long, truncate to 1025\n",
      "[extract] note too long, truncate to 1025\n",
      "[extract] note too long, truncate to 1025\n",
      "[extract] note too long, truncate to 1025\n",
      "[extract] note too long, truncate to 1025"
     ]
    },
    {
     "name": "stderr",
     "output_type": "stream",
     "text": [
      "Processing MIDI files:  63%|██████▎   | 10551/16838 [16:12<08:17, 12.64it/s]"
     ]
    },
    {
     "name": "stdout",
     "output_type": "stream",
     "text": [
      "\n",
      "[extract] note too long, truncate to 1025\n",
      "[extract] note too long, truncate to 1025\n",
      "[extract] note too long, truncate to 1025\n",
      "[extract] note too long, truncate to 1025\n",
      "[extract] note too long, truncate to 1025\n",
      "[extract] note too long, truncate to 1025\n",
      "[extract] note too long, truncate to 1025[extract] note too long, truncate to 1025\n",
      "\n",
      "[extract] note too long, truncate to 1025\n"
     ]
    },
    {
     "name": "stderr",
     "output_type": "stream",
     "text": [
      "Processing MIDI files:  63%|██████▎   | 10591/16838 [16:18<11:34,  8.99it/s]"
     ]
    },
    {
     "name": "stdout",
     "output_type": "stream",
     "text": [
      "[extract] note too long, truncate to 1025\n",
      "[extract] note too long, truncate to 1025\n",
      "[extract] note too long, truncate to 1025\n",
      "[extract] note too long, truncate to 1025\n",
      "[extract] note too long, truncate to 1025\n",
      "[extract] note too long, truncate to 1025\n",
      "[extract] note too long, truncate to 1025\n",
      "[extract] note too long, truncate to 1025\n",
      "[extract] note too long, truncate to 1025\n",
      "[extract] note too long, truncate to 1025\n",
      "[extract] note too long, truncate to 1025\n",
      "[extract] note too long, truncate to 1025\n",
      "[extract] note too long, truncate to 1025\n",
      "[extract] note too long, truncate to 1025\n",
      "[extract] note too long, truncate to 1025\n",
      "[extract] note too long, truncate to 1025\n"
     ]
    },
    {
     "name": "stderr",
     "output_type": "stream",
     "text": [
      "Processing MIDI files:  63%|██████▎   | 10601/16838 [16:19<11:30,  9.03it/s]"
     ]
    },
    {
     "name": "stdout",
     "output_type": "stream",
     "text": [
      "[extract] note too long, truncate to 1025\n",
      "[extract] note too long, truncate to 1025\n",
      "[extract] note too long, truncate to 1025\n"
     ]
    },
    {
     "name": "stderr",
     "output_type": "stream",
     "text": [
      "Processing MIDI files:  63%|██████▎   | 10669/16838 [16:24<08:11, 12.55it/s]"
     ]
    },
    {
     "name": "stdout",
     "output_type": "stream",
     "text": [
      "[extract] note too long, truncate to 1025\n",
      "[extract] note too long, truncate to 1025\n",
      "[extract] note too long, truncate to 1025\n"
     ]
    },
    {
     "name": "stderr",
     "output_type": "stream",
     "text": [
      "Processing MIDI files:  64%|██████▍   | 10736/16838 [16:31<10:55,  9.30it/s]"
     ]
    },
    {
     "name": "stdout",
     "output_type": "stream",
     "text": [
      "[extract] note too long, truncate to 1025\n"
     ]
    },
    {
     "name": "stderr",
     "output_type": "stream",
     "text": [
      "Processing MIDI files:  64%|██████▍   | 10768/16838 [16:33<05:47, 17.45it/s]"
     ]
    },
    {
     "name": "stdout",
     "output_type": "stream",
     "text": [
      "[extract] note too long, truncate to 1025\n",
      "[extract] note too long, truncate to 1025\n",
      "[extract] note too long, truncate to 1025\n",
      "[extract] note too long, truncate to 1025[extract] note too long, truncate to 1025\n",
      "[extract] note too long, truncate to 1025\n",
      "\n",
      "[extract] note too long, truncate to 1025[extract] note too long, truncate to 1025\n",
      "\n",
      "[extract] note too long, truncate to 1025\n",
      "[extract] note too long, truncate to 1025\n"
     ]
    },
    {
     "name": "stderr",
     "output_type": "stream",
     "text": [
      "Processing MIDI files:  64%|██████▍   | 10773/16838 [16:33<04:23, 22.97it/s]"
     ]
    },
    {
     "name": "stdout",
     "output_type": "stream",
     "text": [
      "[extract] note too long, truncate to 1025\n",
      "[extract] note too long, truncate to 1025\n",
      "[extract] note too long, truncate to 1025\n",
      "[extract] note too long, truncate to 1025\n",
      "[extract] note too long, truncate to 1025\n",
      "[extract] note too long, truncate to 1025\n",
      "[extract] note too long, truncate to 1025\n",
      "[extract] note too long, truncate to 1025\n",
      "[extract] note too long, truncate to 1025\n",
      "[extract] note too long, truncate to 1025\n",
      "[extract] note too long, truncate to 1025\n",
      "[extract] note too long, truncate to 1025\n",
      "[extract] note too long, truncate to 1025\n",
      "[extract] note too long, truncate to 1025\n",
      "[extract] note too long, truncate to 1025\n",
      "[extract] note too long, truncate to 1025\n",
      "[extract] note too long, truncate to 1025\n",
      "[extract] note too long, truncate to 1025\n",
      "[extract] note too long, truncate to 1025\n",
      "[extract] note too long, truncate to 1025\n",
      "[extract] note too long, truncate to 1025\n",
      "[extract] note too long, truncate to 1025\n",
      "[extract] note too long, truncate to 1025\n",
      "[extract] note too long, truncate to 1025\n",
      "[extract] note too long, truncate to 1025\n",
      "[extract] note too long, truncate to 1025\n",
      "[extract] note too long, truncate to 1025\n",
      "[extract] note too long, truncate to 1025\n",
      "[extract] note too long, truncate to 1025\n",
      "[extract] note too long, truncate to 1025\n",
      "[extract] note too long, truncate to 1025\n",
      "[extract] note too long, truncate to 1025\n",
      "[extract] note too long, truncate to 1025\n",
      "[extract] note too long, truncate to 1025\n",
      "[extract] note too long, truncate to 1025\n",
      "[extract] note too long, truncate to 1025\n",
      "[extract] note too long, truncate to 1025\n",
      "[extract] note too long, truncate to 1025\n",
      "[extract] note too long, truncate to 1025\n",
      "[extract] note too long, truncate to 1025\n",
      "[extract] note too long, truncate to 1025\n",
      "[extract] note too long, truncate to 1025\n",
      "[extract] note too long, truncate to 1025\n",
      "[extract] note too long, truncate to 1025\n",
      "[extract] note too long, truncate to 1025\n",
      "[extract] note too long, truncate to 1025\n"
     ]
    },
    {
     "name": "stderr",
     "output_type": "stream",
     "text": [
      "Processing MIDI files:  64%|██████▍   | 10776/16838 [16:33<06:09, 16.40it/s]"
     ]
    },
    {
     "name": "stdout",
     "output_type": "stream",
     "text": [
      "[extract] note too long, truncate to 1025\n",
      "[extract] note too long, truncate to 1025\n",
      "[extract] note too long, truncate to 1025\n",
      "[extract] note too long, truncate to 1025\n",
      "[extract] note too long, truncate to 1025\n",
      "[extract] note too long, truncate to 1025\n",
      "[extract] note too long, truncate to 1025\n",
      "[extract] note too long, truncate to 1025\n",
      "[extract] note too long, truncate to 1025\n",
      "[extract] note too long, truncate to 1025\n",
      "[extract] note too long, truncate to 1025\n",
      "[extract] note too long, truncate to 1025\n",
      "[extract] note too long, truncate to 1025\n",
      "[extract] note too long, truncate to 1025\n",
      "[extract] note too long, truncate to 1025\n",
      "[extract] note too long, truncate to 1025\n",
      "[extract] note too long, truncate to 1025\n",
      "[extract] note too long, truncate to 1025\n",
      "[extract] note too long, truncate to 1025\n",
      "[extract] note too long, truncate to 1025\n",
      "[extract] note too long, truncate to 1025\n",
      "[extract] note too long, truncate to 1025\n",
      "[extract] note too long, truncate to 1025\n",
      "[extract] note too long, truncate to 1025\n",
      "[extract] note too long, truncate to 1025\n",
      "[extract] note too long, truncate to 1025\n",
      "[extract] note too long, truncate to 1025\n"
     ]
    },
    {
     "name": "stderr",
     "output_type": "stream",
     "text": [
      "Processing MIDI files:  64%|██████▍   | 10779/16838 [16:33<06:19, 15.98it/s]"
     ]
    },
    {
     "name": "stdout",
     "output_type": "stream",
     "text": [
      "[extract] note too long, truncate to 1025\n",
      "[extract] note too long, truncate to 1025\n"
     ]
    },
    {
     "name": "stderr",
     "output_type": "stream",
     "text": [
      "Processing MIDI files:  64%|██████▍   | 10856/16838 [16:39<07:47, 12.81it/s]"
     ]
    },
    {
     "name": "stdout",
     "output_type": "stream",
     "text": [
      "[extract] note too long, truncate to 1025\n",
      "[extract] note too long, truncate to 1025\n",
      "[extract] note too long, truncate to 1025\n",
      "[extract] note too long, truncate to 1025\n",
      "[extract] note too long, truncate to 1025\n",
      "[extract] note too long, truncate to 1025\n",
      "[extract] note too long, truncate to 1025\n",
      "[extract] note too long, truncate to 1025\n",
      "[extract] note too long, truncate to 1025\n",
      "[extract] note too long, truncate to 1025\n",
      "[extract] note too long, truncate to 1025\n",
      "[extract] note too long, truncate to 1025\n",
      "[extract] note too long, truncate to 1025\n",
      "[extract] note too long, truncate to 1025\n",
      "[extract] note too long, truncate to 1025\n",
      "[extract] note too long, truncate to 1025\n",
      "[extract] note too long, truncate to 1025\n"
     ]
    },
    {
     "name": "stderr",
     "output_type": "stream",
     "text": [
      "Processing MIDI files:  65%|██████▍   | 10933/16838 [16:46<10:58,  8.97it/s]"
     ]
    },
    {
     "name": "stdout",
     "output_type": "stream",
     "text": [
      "[extract] note too long, truncate to 1025\n"
     ]
    },
    {
     "name": "stderr",
     "output_type": "stream",
     "text": [
      "Processing MIDI files:  66%|██████▌   | 11101/16838 [17:02<06:53, 13.87it/s]"
     ]
    },
    {
     "name": "stdout",
     "output_type": "stream",
     "text": [
      "[extract] note too long, truncate to 1025\n",
      "[extract] note too long, truncate to 1025\n",
      "[extract] note too long, truncate to 1025\n",
      "[extract] note too long, truncate to 1025\n",
      "[extract] note too long, truncate to 1025\n",
      "[extract] note too long, truncate to 1025\n",
      "[extract] note too long, truncate to 1025\n",
      "[extract] note too long, truncate to 1025\n",
      "[extract] note too long, truncate to 1025\n",
      "[extract] note too long, truncate to 1025\n",
      "[extract] note too long, truncate to 1025\n",
      "[extract] note too long, truncate to 1025\n"
     ]
    },
    {
     "name": "stderr",
     "output_type": "stream",
     "text": [
      "Processing MIDI files:  66%|██████▋   | 11162/16838 [17:07<11:11,  8.45it/s]"
     ]
    },
    {
     "name": "stdout",
     "output_type": "stream",
     "text": [
      "[extract] note too long, truncate to 1025\n"
     ]
    },
    {
     "name": "stderr",
     "output_type": "stream",
     "text": [
      "Processing MIDI files:  67%|██████▋   | 11216/16838 [17:11<05:39, 16.57it/s]"
     ]
    },
    {
     "name": "stdout",
     "output_type": "stream",
     "text": [
      "[extract] note too long, truncate to 1025\n",
      "[extract] note too long, truncate to 1025\n"
     ]
    },
    {
     "name": "stderr",
     "output_type": "stream",
     "text": [
      "Processing MIDI files:  67%|██████▋   | 11271/16838 [17:16<07:54, 11.73it/s]"
     ]
    },
    {
     "name": "stdout",
     "output_type": "stream",
     "text": [
      "[extract] note too long, truncate to 1025\n"
     ]
    },
    {
     "name": "stderr",
     "output_type": "stream",
     "text": [
      "Processing MIDI files:  67%|██████▋   | 11295/16838 [17:18<07:11, 12.85it/s]"
     ]
    },
    {
     "name": "stdout",
     "output_type": "stream",
     "text": [
      "[extract] note too long, truncate to 1025\n",
      "[extract] note too long, truncate to 1025\n"
     ]
    },
    {
     "name": "stderr",
     "output_type": "stream",
     "text": [
      "Processing MIDI files:  67%|██████▋   | 11310/16838 [17:19<04:31, 20.37it/s]"
     ]
    },
    {
     "name": "stdout",
     "output_type": "stream",
     "text": [
      "[extract] note too long, truncate to 1025\n",
      "[extract] note too long, truncate to 1025\n",
      "[extract] note too long, truncate to 1025\n"
     ]
    },
    {
     "name": "stderr",
     "output_type": "stream",
     "text": [
      "Processing MIDI files:  67%|██████▋   | 11313/16838 [17:19<05:45, 15.99it/s]"
     ]
    },
    {
     "name": "stdout",
     "output_type": "stream",
     "text": [
      "[extract] note too long, truncate to 1025\n",
      "[extract] note too long, truncate to 1025\n",
      "[extract] note too long, truncate to 1025\n"
     ]
    },
    {
     "name": "stderr",
     "output_type": "stream",
     "text": [
      "Processing MIDI files:  67%|██████▋   | 11361/16838 [17:24<10:12,  8.94it/s]"
     ]
    },
    {
     "name": "stdout",
     "output_type": "stream",
     "text": [
      "[extract] note too long, truncate to 1025\n",
      "[extract] note too long, truncate to 1025\n",
      "[extract] note too long, truncate to 1025\n",
      "[extract] note too long, truncate to 1025\n",
      "[extract] note too long, truncate to 1025\n",
      "[extract] note too long, truncate to 1025\n",
      "[extract] note too long, truncate to 1025\n",
      "[extract] note too long, truncate to 1025\n",
      "[extract] note too long, truncate to 1025\n",
      "[extract] note too long, truncate to 1025\n",
      "[extract] note too long, truncate to 1025\n",
      "[extract] note too long, truncate to 1025\n"
     ]
    },
    {
     "name": "stderr",
     "output_type": "stream",
     "text": [
      "Processing MIDI files:  68%|██████▊   | 11411/16838 [17:28<09:10,  9.85it/s]"
     ]
    },
    {
     "name": "stdout",
     "output_type": "stream",
     "text": [
      "[extract] note too long, truncate to 1025\n",
      "[extract] note too long, truncate to 1025\n"
     ]
    },
    {
     "name": "stderr",
     "output_type": "stream",
     "text": [
      "Processing MIDI files:  69%|██████▉   | 11601/16838 [17:43<06:04, 14.36it/s]"
     ]
    },
    {
     "name": "stdout",
     "output_type": "stream",
     "text": [
      "[extract] note too long, truncate to 1025\n",
      "[extract] note too long, truncate to 1025\n"
     ]
    },
    {
     "name": "stderr",
     "output_type": "stream",
     "text": [
      "Processing MIDI files:  69%|██████▉   | 11625/16838 [17:45<06:42, 12.96it/s]"
     ]
    },
    {
     "name": "stdout",
     "output_type": "stream",
     "text": [
      "[extract] note too long, truncate to 1025\n"
     ]
    },
    {
     "name": "stderr",
     "output_type": "stream",
     "text": [
      "Processing MIDI files:  69%|██████▉   | 11631/16838 [17:45<06:43, 12.90it/s]"
     ]
    },
    {
     "name": "stdout",
     "output_type": "stream",
     "text": [
      "[extract] note too long, truncate to 1025\n"
     ]
    },
    {
     "name": "stderr",
     "output_type": "stream",
     "text": [
      "Processing MIDI files:  69%|██████▉   | 11639/16838 [17:46<07:10, 12.07it/s]"
     ]
    },
    {
     "name": "stdout",
     "output_type": "stream",
     "text": [
      "[extract] note too long, truncate to 1025\n",
      "[extract] note too long, truncate to 1025\n",
      "[extract] note too long, truncate to 1025\n",
      "[extract] note too long, truncate to 1025\n",
      "[extract] note too long, truncate to 1025\n",
      "[extract] note too long, truncate to 1025\n"
     ]
    },
    {
     "name": "stderr",
     "output_type": "stream",
     "text": [
      "Processing MIDI files:  69%|██████▉   | 11694/16838 [17:50<06:21, 13.48it/s]"
     ]
    },
    {
     "name": "stdout",
     "output_type": "stream",
     "text": [
      "[extract] note too long, truncate to 1025\n",
      "[extract] note too long, truncate to 1025\n",
      "[extract] note too long, truncate to 1025\n",
      "[extract] note too long, truncate to 1025\n",
      "[extract] note too long, truncate to 1025\n",
      "[extract] note too long, truncate to 1025\n"
     ]
    },
    {
     "name": "stderr",
     "output_type": "stream",
     "text": [
      "Processing MIDI files:  70%|██████▉   | 11703/16838 [17:52<11:03,  7.74it/s]"
     ]
    },
    {
     "name": "stdout",
     "output_type": "stream",
     "text": [
      "[extract] note too long, truncate to 1025\n",
      "[extract] note too long, truncate to 1025\n",
      "[extract] note too long, truncate to 1025\n",
      "[extract] note too long, truncate to 1025\n"
     ]
    },
    {
     "name": "stderr",
     "output_type": "stream",
     "text": [
      "Processing MIDI files:  70%|██████▉   | 11734/16838 [17:57<08:41,  9.80it/s]"
     ]
    },
    {
     "name": "stdout",
     "output_type": "stream",
     "text": [
      "[extract] note too long, truncate to 1025\n",
      "[extract] note too long, truncate to 1025\n"
     ]
    },
    {
     "name": "stderr",
     "output_type": "stream",
     "text": [
      "Processing MIDI files:  70%|██████▉   | 11770/16838 [18:01<15:06,  5.59it/s]"
     ]
    },
    {
     "name": "stdout",
     "output_type": "stream",
     "text": [
      "[extract] note too long, truncate to 1025\n",
      "[extract] note too long, truncate to 1025\n"
     ]
    },
    {
     "name": "stderr",
     "output_type": "stream",
     "text": [
      "Processing MIDI files:  71%|███████   | 11901/16838 [18:13<07:42, 10.68it/s]"
     ]
    },
    {
     "name": "stdout",
     "output_type": "stream",
     "text": [
      "[extract] note too long, truncate to 1025\n",
      "[extract] note too long, truncate to 1025\n"
     ]
    },
    {
     "name": "stderr",
     "output_type": "stream",
     "text": [
      "Processing MIDI files:  71%|███████   | 11925/16838 [18:16<11:15,  7.28it/s]"
     ]
    },
    {
     "name": "stdout",
     "output_type": "stream",
     "text": [
      "[extract] note too long, truncate to 1025\n"
     ]
    },
    {
     "name": "stderr",
     "output_type": "stream",
     "text": [
      "Processing MIDI files:  72%|███████▏  | 12044/16838 [18:27<09:34,  8.35it/s]"
     ]
    },
    {
     "name": "stdout",
     "output_type": "stream",
     "text": [
      "[extract] note too long, truncate to 1025\n"
     ]
    },
    {
     "name": "stderr",
     "output_type": "stream",
     "text": [
      "Processing MIDI files:  72%|███████▏  | 12049/16838 [18:28<09:45,  8.18it/s]"
     ]
    },
    {
     "name": "stdout",
     "output_type": "stream",
     "text": [
      "[extract] note too long, truncate to 1025\n"
     ]
    },
    {
     "name": "stderr",
     "output_type": "stream",
     "text": [
      "Processing MIDI files:  72%|███████▏  | 12135/16838 [18:35<04:19, 18.15it/s]"
     ]
    },
    {
     "name": "stdout",
     "output_type": "stream",
     "text": [
      "[extract] note too long, truncate to 1025\n",
      "[extract] note too long, truncate to 1025\n",
      "[extract] note too long, truncate to 1025\n",
      "[extract] note too long, truncate to 1025\n",
      "[extract] note too long, truncate to 1025\n",
      "[extract] note too long, truncate to 1025\n",
      "[extract] note too long, truncate to 1025\n",
      "[extract] note too long, truncate to 1025\n",
      "[extract] note too long, truncate to 1025\n",
      "[extract] note too long, truncate to 1025"
     ]
    },
    {
     "name": "stderr",
     "output_type": "stream",
     "text": [
      "Processing MIDI files:  72%|███████▏  | 12137/16838 [18:36<07:45, 10.10it/s]"
     ]
    },
    {
     "name": "stdout",
     "output_type": "stream",
     "text": [
      "\n",
      "[extract] note too long, truncate to 1025\n",
      "[extract] note too long, truncate to 1025\n",
      "[extract] note too long, truncate to 1025\n",
      "[extract] note too long, truncate to 1025\n",
      "[extract] note too long, truncate to 1025\n",
      "[extract] note too long, truncate to 1025\n",
      "[extract] note too long, truncate to 1025\n",
      "[extract] note too long, truncate to 1025\n",
      "[extract] note too long, truncate to 1025\n",
      "[extract] note too long, truncate to 1025\n",
      "[extract] note too long, truncate to 1025\n",
      "[extract] note too long, truncate to 1025\n",
      "[extract] note too long, truncate to 1025\n",
      "[extract] note too long, truncate to 1025"
     ]
    },
    {
     "name": "stderr",
     "output_type": "stream",
     "text": [
      "Processing MIDI files:  72%|███████▏  | 12139/16838 [18:36<07:10, 10.92it/s]"
     ]
    },
    {
     "name": "stdout",
     "output_type": "stream",
     "text": [
      "\n",
      "[extract] note too long, truncate to 1025\n",
      "[extract] note too long, truncate to 1025\n",
      "[extract] note too long, truncate to 1025\n",
      "[extract] note too long, truncate to 1025\n",
      "[extract] note too long, truncate to 1025\n",
      "[extract] note too long, truncate to 1025\n",
      "[extract] note too long, truncate to 1025\n",
      "[extract] note too long, truncate to 1025\n",
      "[extract] note too long, truncate to 1025\n",
      "[extract] note too long, truncate to 1025\n",
      "[extract] note too long, truncate to 1025\n",
      "[extract] note too long, truncate to 1025\n",
      "[extract] note too long, truncate to 1025\n",
      "[extract] note too long, truncate to 1025\n",
      "[extract] note too long, truncate to 1025\n",
      "[extract] note too long, truncate to 1025\n",
      "[extract] note too long, truncate to 1025\n",
      "[extract] note too long, truncate to 1025\n",
      "[extract] note too long, truncate to 1025\n",
      "[extract] note too long, truncate to 1025\n",
      "[extract] note too long, truncate to 1025\n",
      "[extract] note too long, truncate to 1025\n",
      "[extract] note too long, truncate to 1025\n",
      "[extract] note too long, truncate to 1025\n",
      "[extract] note too long, truncate to 1025\n",
      "[extract] note too long, truncate to 1025\n",
      "[extract] note too long, truncate to 1025\n",
      "[extract] note too long, truncate to 1025\n",
      "[extract] note too long, truncate to 1025\n",
      "[extract] note too long, truncate to 1025\n",
      "[extract] note too long, truncate to 1025\n",
      "[extract] note too long, truncate to 1025\n",
      "[extract] note too long, truncate to 1025\n",
      "[extract] note too long, truncate to 1025\n",
      "[extract] note too long, truncate to 1025\n",
      "[extract] note too long, truncate to 1025\n",
      "[extract] note too long, truncate to 1025\n",
      "[extract] note too long, truncate to 1025\n",
      "[extract] note too long, truncate to 1025\n",
      "[extract] note too long, truncate to 1025\n",
      "[extract] note too long, truncate to 1025\n",
      "[extract] note too long, truncate to 1025\n",
      "[extract] note too long, truncate to 1025\n",
      "[extract] note too long, truncate to 1025\n",
      "[extract] note too long, truncate to 1025\n",
      "[extract] note too long, truncate to 1025\n",
      "[extract] note too long, truncate to 1025\n",
      "[extract] note too long, truncate to 1025\n",
      "[extract] note too long, truncate to 1025\n",
      "[extract] note too long, truncate to 1025\n",
      "[extract] note too long, truncate to 1025\n",
      "[extract] note too long, truncate to 1025\n",
      "[extract] note too long, truncate to 1025\n",
      "[extract] note too long, truncate to 1025\n",
      "[extract] note too long, truncate to 1025\n",
      "[extract] note too long, truncate to 1025\n",
      "[extract] note too long, truncate to 1025\n",
      "[extract] note too long, truncate to 1025\n",
      "[extract] note too long, truncate to 1025\n",
      "[extract] note too long, truncate to 1025\n",
      "[extract] note too long, truncate to 1025\n",
      "[extract] note too long, truncate to 1025\n",
      "[extract] note too long, truncate to 1025\n",
      "[extract] note too long, truncate to 1025\n",
      "[extract] note too long, truncate to 1025\n",
      "[extract] note too long, truncate to 1025\n",
      "[extract] note too long, truncate to 1025\n",
      "[extract] note too long, truncate to 1025\n",
      "[extract] note too long, truncate to 1025\n",
      "[extract] note too long, truncate to 1025\n",
      "[extract] note too long, truncate to 1025\n",
      "[extract] note too long, truncate to 1025\n",
      "[extract] note too long, truncate to 1025\n",
      "[extract] note too long, truncate to 1025\n",
      "[extract] note too long, truncate to 1025\n",
      "[extract] note too long, truncate to 1025\n",
      "[extract] note too long, truncate to 1025\n",
      "[extract] note too long, truncate to 1025\n",
      "[extract] note too long, truncate to 1025\n",
      "[extract] note too long, truncate to 1025\n",
      "[extract] note too long, truncate to 1025\n",
      "[extract] note too long, truncate to 1025\n",
      "[extract] note too long, truncate to 1025\n",
      "[extract] note too long, truncate to 1025\n",
      "[extract] note too long, truncate to 1025\n",
      "[extract] note too long, truncate to 1025\n",
      "[extract] note too long, truncate to 1025\n",
      "[extract] note too long, truncate to 1025\n",
      "[extract] note too long, truncate to 1025\n",
      "[extract] note too long, truncate to 1025\n",
      "[extract] note too long, truncate to 1025\n",
      "[extract] note too long, truncate to 1025\n",
      "[extract] note too long, truncate to 1025\n",
      "[extract] note too long, truncate to 1025\n",
      "[extract] note too long, truncate to 1025\n",
      "[extract] note too long, truncate to 1025\n",
      "[extract] note too long, truncate to 1025\n",
      "[extract] note too long, truncate to 1025\n",
      "[extract] note too long, truncate to 1025\n",
      "[extract] note too long, truncate to 1025\n",
      "[extract] note too long, truncate to 1025\n",
      "[extract] note too long, truncate to 1025\n",
      "[extract] note too long, truncate to 1025\n",
      "[extract] note too long, truncate to 1025\n",
      "[extract] note too long, truncate to 1025\n",
      "[extract] note too long, truncate to 1025\n",
      "[extract] note too long, truncate to 1025\n",
      "[extract] note too long, truncate to 1025\n",
      "[extract] note too long, truncate to 1025\n",
      "[extract] note too long, truncate to 1025\n",
      "[extract] note too long, truncate to 1025\n",
      "[extract] note too long, truncate to 1025\n",
      "[extract] note too long, truncate to 1025\n",
      "[extract] note too long, truncate to 1025\n",
      "[extract] note too long, truncate to 1025\n",
      "[extract] note too long, truncate to 1025\n",
      "[extract] note too long, truncate to 1025\n",
      "[extract] note too long, truncate to 1025\n",
      "[extract] note too long, truncate to 1025\n",
      "[extract] note too long, truncate to 1025\n",
      "[extract] note too long, truncate to 1025\n",
      "[extract] note too long, truncate to 1025\n",
      "[extract] note too long, truncate to 1025\n",
      "[extract] note too long, truncate to 1025\n",
      "[extract] note too long, truncate to 1025\n",
      "[extract] note too long, truncate to 1025\n",
      "[extract] note too long, truncate to 1025\n",
      "[extract] note too long, truncate to 1025\n",
      "[extract] note too long, truncate to 1025\n",
      "[extract] note too long, truncate to 1025\n",
      "[extract] note too long, truncate to 1025\n",
      "[extract] note too long, truncate to 1025\n",
      "[extract] note too long, truncate to 1025\n",
      "[extract] note too long, truncate to 1025\n",
      "[extract] note too long, truncate to 1025\n",
      "[extract] note too long, truncate to 1025\n",
      "[extract] note too long, truncate to 1025\n",
      "[extract] note too long, truncate to 1025\n",
      "[extract] note too long, truncate to 1025\n",
      "[extract] note too long, truncate to 1025\n",
      "[extract] note too long, truncate to 1025\n",
      "[extract] note too long, truncate to 1025"
     ]
    },
    {
     "name": "stderr",
     "output_type": "stream",
     "text": [
      "Processing MIDI files:  72%|███████▏  | 12141/16838 [18:37<16:09,  4.84it/s]"
     ]
    },
    {
     "name": "stdout",
     "output_type": "stream",
     "text": [
      "\n",
      "[extract] note too long, truncate to 1025\n",
      "[extract] note too long, truncate to 1025\n",
      "[extract] note too long, truncate to 1025\n",
      "[extract] note too long, truncate to 1025\n",
      "[extract] note too long, truncate to 1025\n",
      "[extract] note too long, truncate to 1025\n",
      "[extract] note too long, truncate to 1025\n",
      "[extract] note too long, truncate to 1025\n",
      "[extract] note too long, truncate to 1025\n",
      "[extract] note too long, truncate to 1025\n",
      "[extract] note too long, truncate to 1025\n",
      "[extract] note too long, truncate to 1025\n",
      "[extract] note too long, truncate to 1025\n",
      "[extract] note too long, truncate to 1025\n",
      "[extract] note too long, truncate to 1025\n",
      "[extract] note too long, truncate to 1025\n",
      "[extract] note too long, truncate to 1025[extract] note too long, truncate to 1025\n",
      "\n",
      "[extract] note too long, truncate to 1025\n",
      "[extract] note too long, truncate to 1025\n",
      "[extract] note too long, truncate to 1025\n",
      "[extract] note too long, truncate to 1025\n",
      "[extract] note too long, truncate to 1025\n",
      "[extract] note too long, truncate to 1025\n",
      "[extract] note too long, truncate to 1025\n",
      "[extract] note too long, truncate to 1025\n",
      "[extract] note too long, truncate to 1025\n",
      "[extract] note too long, truncate to 1025\n",
      "[extract] note too long, truncate to 1025\n",
      "[extract] note too long, truncate to 1025\n",
      "[extract] note too long, truncate to 1025\n",
      "[extract] note too long, truncate to 1025\n",
      "[extract] note too long, truncate to 1025\n",
      "[extract] note too long, truncate to 1025\n",
      "[extract] note too long, truncate to 1025\n",
      "[extract] note too long, truncate to 1025\n",
      "[extract] note too long, truncate to 1025\n",
      "[extract] note too long, truncate to 1025\n",
      "[extract] note too long, truncate to 1025\n",
      "[extract] note too long, truncate to 1025\n",
      "[extract] note too long, truncate to 1025\n",
      "[extract] note too long, truncate to 1025\n",
      "[extract] note too long, truncate to 1025\n",
      "[extract] note too long, truncate to 1025\n",
      "[extract] note too long, truncate to 1025\n",
      "[extract] note too long, truncate to 1025\n",
      "[extract] note too long, truncate to 1025\n",
      "[extract] note too long, truncate to 1025\n",
      "[extract] note too long, truncate to 1025\n",
      "[extract] note too long, truncate to 1025\n",
      "[extract] note too long, truncate to 1025\n",
      "[extract] note too long, truncate to 1025\n",
      "[extract] note too long, truncate to 1025"
     ]
    },
    {
     "name": "stderr",
     "output_type": "stream",
     "text": [
      "Processing MIDI files:  72%|███████▏  | 12145/16838 [18:37<12:51,  6.08it/s]"
     ]
    },
    {
     "name": "stdout",
     "output_type": "stream",
     "text": [
      "\n",
      "[extract] note too long, truncate to 1025\n",
      "[extract] note too long, truncate to 1025\n",
      "[extract] note too long, truncate to 1025\n",
      "[extract] note too long, truncate to 1025\n",
      "[extract] note too long, truncate to 1025\n",
      "[extract] note too long, truncate to 1025\n",
      "[extract] note too long, truncate to 1025\n",
      "[extract] note too long, truncate to 1025\n",
      "[extract] note too long, truncate to 1025\n",
      "[extract] note too long, truncate to 1025\n",
      "[extract] note too long, truncate to 1025\n",
      "[extract] note too long, truncate to 1025\n",
      "[extract] note too long, truncate to 1025\n",
      "[extract] note too long, truncate to 1025"
     ]
    },
    {
     "name": "stderr",
     "output_type": "stream",
     "text": [
      "Processing MIDI files:  72%|███████▏  | 12147/16838 [18:37<10:58,  7.12it/s]"
     ]
    },
    {
     "name": "stdout",
     "output_type": "stream",
     "text": [
      "\n",
      "[extract] note too long, truncate to 1025\n",
      "[extract] note too long, truncate to 1025\n",
      "[extract] note too long, truncate to 1025\n",
      "[extract] note too long, truncate to 1025\n",
      "[extract] note too long, truncate to 1025\n",
      "[extract] note too long, truncate to 1025\n",
      "[extract] note too long, truncate to 1025\n",
      "[extract] note too long, truncate to 1025\n",
      "[extract] note too long, truncate to 1025\n",
      "[extract] note too long, truncate to 1025\n",
      "[extract] note too long, truncate to 1025\n",
      "[extract] note too long, truncate to 1025\n",
      "[extract] note too long, truncate to 1025\n",
      "[extract] note too long, truncate to 1025\n",
      "[extract] note too long, truncate to 1025\n",
      "[extract] note too long, truncate to 1025\n",
      "[extract] note too long, truncate to 1025\n",
      "[extract] note too long, truncate to 1025\n",
      "[extract] note too long, truncate to 1025"
     ]
    },
    {
     "name": "stderr",
     "output_type": "stream",
     "text": [
      "Processing MIDI files:  72%|███████▏  | 12150/16838 [18:37<08:39,  9.03it/s]"
     ]
    },
    {
     "name": "stdout",
     "output_type": "stream",
     "text": [
      "\n",
      "[extract] note too long, truncate to 1025\n",
      "[extract] note too long, truncate to 1025\n",
      "[extract] note too long, truncate to 1025\n",
      "[extract] note too long, truncate to 1025\n",
      "[extract] note too long, truncate to 1025\n",
      "[extract] note too long, truncate to 1025\n",
      "[extract] note too long, truncate to 1025\n",
      "[extract] note too long, truncate to 1025\n",
      "[extract] note too long, truncate to 1025\n",
      "[extract] note too long, truncate to 1025\n",
      "[extract] note too long, truncate to 1025\n",
      "[extract] note too long, truncate to 1025\n",
      "[extract] note too long, truncate to 1025\n",
      "[extract] note too long, truncate to 1025\n"
     ]
    },
    {
     "name": "stderr",
     "output_type": "stream",
     "text": [
      "Processing MIDI files:  72%|███████▏  | 12198/16838 [18:43<09:02,  8.55it/s]"
     ]
    },
    {
     "name": "stdout",
     "output_type": "stream",
     "text": [
      "[extract] note too long, truncate to 1025\n",
      "[extract] note too long, truncate to 1025\n"
     ]
    },
    {
     "name": "stderr",
     "output_type": "stream",
     "text": [
      "Processing MIDI files:  73%|███████▎  | 12232/16838 [18:48<13:42,  5.60it/s]"
     ]
    },
    {
     "name": "stdout",
     "output_type": "stream",
     "text": [
      "[extract] note too long, truncate to 1025\n",
      "[extract] note too long, truncate to 1025\n"
     ]
    },
    {
     "name": "stderr",
     "output_type": "stream",
     "text": [
      "Processing MIDI files:  73%|███████▎  | 12267/16838 [18:51<08:52,  8.58it/s]"
     ]
    },
    {
     "name": "stdout",
     "output_type": "stream",
     "text": [
      "[extract] note too long, truncate to 1025\n"
     ]
    },
    {
     "name": "stderr",
     "output_type": "stream",
     "text": [
      "Processing MIDI files:  73%|███████▎  | 12289/16838 [18:54<09:42,  7.80it/s]"
     ]
    },
    {
     "name": "stdout",
     "output_type": "stream",
     "text": [
      "[extract] note too long, truncate to 1025\n",
      "[extract] note too long, truncate to 1025\n",
      "[extract] note too long, truncate to 1025\n"
     ]
    },
    {
     "name": "stderr",
     "output_type": "stream",
     "text": [
      "Processing MIDI files:  73%|███████▎  | 12290/16838 [18:54<10:27,  7.25it/s]"
     ]
    },
    {
     "name": "stdout",
     "output_type": "stream",
     "text": [
      "[extract] note too long, truncate to 1025\n",
      "[extract] note too long, truncate to 1025\n",
      "[extract] note too long, truncate to 1025\n",
      "[extract] note too long, truncate to 1025\n"
     ]
    },
    {
     "name": "stderr",
     "output_type": "stream",
     "text": [
      "Processing MIDI files:  73%|███████▎  | 12309/16838 [18:56<09:01,  8.36it/s]"
     ]
    },
    {
     "name": "stdout",
     "output_type": "stream",
     "text": [
      "[extract] note too long, truncate to 1025\n"
     ]
    },
    {
     "name": "stderr",
     "output_type": "stream",
     "text": [
      "Processing MIDI files:  73%|███████▎  | 12322/16838 [18:58<06:58, 10.80it/s]"
     ]
    },
    {
     "name": "stdout",
     "output_type": "stream",
     "text": [
      "[extract] note too long, truncate to 1025\n"
     ]
    },
    {
     "name": "stderr",
     "output_type": "stream",
     "text": [
      "Processing MIDI files:  74%|███████▍  | 12436/16838 [19:08<07:07, 10.29it/s]"
     ]
    },
    {
     "name": "stdout",
     "output_type": "stream",
     "text": [
      "[extract] note too long, truncate to 1025\n"
     ]
    },
    {
     "name": "stderr",
     "output_type": "stream",
     "text": [
      "Processing MIDI files:  74%|███████▍  | 12459/16838 [19:10<07:21,  9.91it/s]"
     ]
    },
    {
     "name": "stdout",
     "output_type": "stream",
     "text": [
      "[extract] note too long, truncate to 1025\n",
      "[extract] note too long, truncate to 1025\n",
      "[extract] note too long, truncate to 1025"
     ]
    },
    {
     "name": "stderr",
     "output_type": "stream",
     "text": [
      "Processing MIDI files:  74%|███████▍  | 12461/16838 [19:10<08:59,  8.12it/s]"
     ]
    },
    {
     "name": "stdout",
     "output_type": "stream",
     "text": [
      "\n",
      "[extract] note too long, truncate to 1025\n"
     ]
    },
    {
     "name": "stderr",
     "output_type": "stream",
     "text": [
      "Processing MIDI files:  74%|███████▍  | 12503/16838 [19:14<05:37, 12.84it/s]"
     ]
    },
    {
     "name": "stdout",
     "output_type": "stream",
     "text": [
      "[extract] note too long, truncate to 1025\n"
     ]
    },
    {
     "name": "stderr",
     "output_type": "stream",
     "text": [
      "Processing MIDI files:  74%|███████▍  | 12519/16838 [19:15<03:55, 18.35it/s]"
     ]
    },
    {
     "name": "stdout",
     "output_type": "stream",
     "text": [
      "[extract] note too long, truncate to 1025\n"
     ]
    },
    {
     "name": "stderr",
     "output_type": "stream",
     "text": [
      "Processing MIDI files:  74%|███████▍  | 12521/16838 [19:15<05:20, 13.46it/s]"
     ]
    },
    {
     "name": "stdout",
     "output_type": "stream",
     "text": [
      "[extract] note too long, truncate to 1025\n"
     ]
    },
    {
     "name": "stderr",
     "output_type": "stream",
     "text": [
      "Processing MIDI files:  75%|███████▍  | 12610/16838 [19:23<06:55, 10.18it/s]"
     ]
    },
    {
     "name": "stdout",
     "output_type": "stream",
     "text": [
      "[extract] note too long, truncate to 1025\n",
      "[extract] note too long, truncate to 1025\n"
     ]
    },
    {
     "name": "stderr",
     "output_type": "stream",
     "text": [
      "Processing MIDI files:  75%|███████▌  | 12638/16838 [19:25<04:36, 15.19it/s]"
     ]
    },
    {
     "name": "stdout",
     "output_type": "stream",
     "text": [
      "[extract] note too long, truncate to 1025\n",
      "[extract] note too long, truncate to 1025\n"
     ]
    },
    {
     "name": "stderr",
     "output_type": "stream",
     "text": [
      "Processing MIDI files:  76%|███████▌  | 12722/16838 [19:34<10:17,  6.66it/s]"
     ]
    },
    {
     "name": "stdout",
     "output_type": "stream",
     "text": [
      "[extract] note too long, truncate to 1025\n",
      "[extract] note too long, truncate to 1025\n",
      "[extract] note too long, truncate to 1025\n",
      "[extract] note too long, truncate to 1025\n",
      "[extract] note too long, truncate to 1025\n",
      "[extract] note too long, truncate to 1025\n"
     ]
    },
    {
     "name": "stderr",
     "output_type": "stream",
     "text": [
      "Processing MIDI files:  76%|███████▌  | 12726/16838 [19:34<08:46,  7.81it/s]"
     ]
    },
    {
     "name": "stdout",
     "output_type": "stream",
     "text": [
      "[extract] note too long, truncate to 1025\n"
     ]
    },
    {
     "name": "stderr",
     "output_type": "stream",
     "text": [
      "Processing MIDI files:  76%|███████▌  | 12761/16838 [19:38<06:03, 11.23it/s]"
     ]
    },
    {
     "name": "stdout",
     "output_type": "stream",
     "text": [
      "[extract] note too long, truncate to 1025\n"
     ]
    },
    {
     "name": "stderr",
     "output_type": "stream",
     "text": [
      "Processing MIDI files:  76%|███████▌  | 12836/16838 [19:44<08:50,  7.54it/s]"
     ]
    },
    {
     "name": "stdout",
     "output_type": "stream",
     "text": [
      "[extract] note too long, truncate to 1025\n",
      "[extract] note too long, truncate to 1025\n",
      "[extract] note too long, truncate to 1025\n",
      "[extract] note too long, truncate to 1025\n",
      "[extract] note too long, truncate to 1025\n",
      "[extract] note too long, truncate to 1025\n",
      "[extract] note too long, truncate to 1025\n",
      "[extract] note too long, truncate to 1025\n",
      "[extract] note too long, truncate to 1025\n",
      "[extract] note too long, truncate to 1025\n",
      "[extract] note too long, truncate to 1025\n",
      "[extract] note too long, truncate to 1025\n"
     ]
    },
    {
     "name": "stderr",
     "output_type": "stream",
     "text": [
      "Processing MIDI files:  76%|███████▌  | 12838/16838 [19:44<07:13,  9.24it/s]"
     ]
    },
    {
     "name": "stdout",
     "output_type": "stream",
     "text": [
      "[extract] note too long, truncate to 1025\n"
     ]
    },
    {
     "name": "stderr",
     "output_type": "stream",
     "text": [
      "Processing MIDI files:  76%|███████▋  | 12851/16838 [19:44<04:54, 13.53it/s]"
     ]
    },
    {
     "name": "stdout",
     "output_type": "stream",
     "text": [
      "[extract] note too long, truncate to 1025\n"
     ]
    },
    {
     "name": "stderr",
     "output_type": "stream",
     "text": [
      "Processing MIDI files:  76%|███████▋  | 12875/16838 [19:46<02:42, 24.38it/s]"
     ]
    },
    {
     "name": "stdout",
     "output_type": "stream",
     "text": [
      "[extract] note too long, truncate to 1025\n"
     ]
    },
    {
     "name": "stderr",
     "output_type": "stream",
     "text": [
      "Processing MIDI files:  77%|███████▋  | 12892/16838 [19:47<06:25, 10.24it/s]"
     ]
    },
    {
     "name": "stdout",
     "output_type": "stream",
     "text": [
      "[extract] note too long, truncate to 1025\n"
     ]
    },
    {
     "name": "stderr",
     "output_type": "stream",
     "text": [
      "Processing MIDI files:  77%|███████▋  | 12926/16838 [19:49<03:35, 18.16it/s]"
     ]
    },
    {
     "name": "stdout",
     "output_type": "stream",
     "text": [
      "[extract] note too long, truncate to 1025\n",
      "[extract] note too long, truncate to 1025\n"
     ]
    },
    {
     "name": "stderr",
     "output_type": "stream",
     "text": [
      "Processing MIDI files:  77%|███████▋  | 12977/16838 [19:54<07:12,  8.93it/s]"
     ]
    },
    {
     "name": "stdout",
     "output_type": "stream",
     "text": [
      "[extract] note too long, truncate to 1025\n"
     ]
    },
    {
     "name": "stderr",
     "output_type": "stream",
     "text": [
      "Processing MIDI files:  77%|███████▋  | 12987/16838 [19:55<04:53, 13.12it/s]"
     ]
    },
    {
     "name": "stdout",
     "output_type": "stream",
     "text": [
      "[extract] note too long, truncate to 1025\n",
      "[extract] note too long, truncate to 1025"
     ]
    },
    {
     "name": "stderr",
     "output_type": "stream",
     "text": [
      "Processing MIDI files:  77%|███████▋  | 12991/16838 [19:55<03:44, 17.17it/s]"
     ]
    },
    {
     "name": "stdout",
     "output_type": "stream",
     "text": [
      "\n",
      "[extract] note too long, truncate to 1025\n"
     ]
    },
    {
     "name": "stderr",
     "output_type": "stream",
     "text": [
      "Processing MIDI files:  78%|███████▊  | 13055/16838 [20:02<06:57,  9.05it/s]"
     ]
    },
    {
     "name": "stdout",
     "output_type": "stream",
     "text": [
      "[extract] note too long, truncate to 1025\n",
      "[extract] note too long, truncate to 1025\n",
      "[extract] note too long, truncate to 1025\n"
     ]
    },
    {
     "name": "stderr",
     "output_type": "stream",
     "text": [
      "Processing MIDI files:  78%|███████▊  | 13059/16838 [20:03<09:28,  6.65it/s]"
     ]
    },
    {
     "name": "stdout",
     "output_type": "stream",
     "text": [
      "[extract] note too long, truncate to 1025\n",
      "[extract] note too long, truncate to 1025\n",
      "[extract] note too long, truncate to 1025\n"
     ]
    },
    {
     "name": "stderr",
     "output_type": "stream",
     "text": [
      "Processing MIDI files:  78%|███████▊  | 13087/16838 [20:06<07:54,  7.90it/s]"
     ]
    },
    {
     "name": "stdout",
     "output_type": "stream",
     "text": [
      "[extract] note too long, truncate to 1025\n",
      "[extract] note too long, truncate to 1025\n"
     ]
    },
    {
     "name": "stderr",
     "output_type": "stream",
     "text": [
      "Processing MIDI files:  79%|███████▊  | 13223/16838 [20:21<05:06, 11.81it/s]"
     ]
    },
    {
     "name": "stdout",
     "output_type": "stream",
     "text": [
      "[extract] note too long, truncate to 1025\n"
     ]
    },
    {
     "name": "stderr",
     "output_type": "stream",
     "text": [
      "Processing MIDI files:  79%|███████▊  | 13238/16838 [20:23<08:19,  7.21it/s]"
     ]
    },
    {
     "name": "stdout",
     "output_type": "stream",
     "text": [
      "[extract] note too long, truncate to 1025\n",
      "[extract] note too long, truncate to 1025\n",
      "[extract] note too long, truncate to 1025\n",
      "[extract] note too long, truncate to 1025\n",
      "[extract] note too long, truncate to 1025\n",
      "[extract] note too long, truncate to 1025\n",
      "[extract] note too long, truncate to 1025\n"
     ]
    },
    {
     "name": "stderr",
     "output_type": "stream",
     "text": [
      "Processing MIDI files:  79%|███████▊  | 13240/16838 [20:23<07:22,  8.12it/s]"
     ]
    },
    {
     "name": "stdout",
     "output_type": "stream",
     "text": [
      "[extract] note too long, truncate to 1025\n",
      "[extract] note too long, truncate to 1025\n",
      "[extract] note too long, truncate to 1025\n",
      "[extract] note too long, truncate to 1025\n",
      "[extract] note too long, truncate to 1025\n",
      "[extract] note too long, truncate to 1025\n",
      "[extract] note too long, truncate to 1025\n",
      "[extract] note too long, truncate to 1025\n",
      "[extract] note too long, truncate to 1025\n",
      "[extract] note too long, truncate to 1025\n"
     ]
    },
    {
     "name": "stderr",
     "output_type": "stream",
     "text": [
      "Processing MIDI files:  79%|███████▊  | 13250/16838 [20:24<05:36, 10.67it/s]"
     ]
    },
    {
     "name": "stdout",
     "output_type": "stream",
     "text": [
      "[extract] note too long, truncate to 1025\n",
      "[extract] note too long, truncate to 1025\n"
     ]
    },
    {
     "name": "stderr",
     "output_type": "stream",
     "text": [
      "Processing MIDI files:  79%|███████▉  | 13281/16838 [20:26<03:14, 18.29it/s]"
     ]
    },
    {
     "name": "stdout",
     "output_type": "stream",
     "text": [
      "[extract] note too long, truncate to 1025\n",
      "[extract] note too long, truncate to 1025\n",
      "[extract] note too long, truncate to 1025\n"
     ]
    },
    {
     "name": "stderr",
     "output_type": "stream",
     "text": [
      "Processing MIDI files:  79%|███████▉  | 13298/16838 [20:28<05:41, 10.38it/s]"
     ]
    },
    {
     "name": "stdout",
     "output_type": "stream",
     "text": [
      "[extract] note too long, truncate to 1025\n",
      "[extract] note too long, truncate to 1025\n"
     ]
    },
    {
     "name": "stderr",
     "output_type": "stream",
     "text": [
      "Processing MIDI files:  79%|███████▉  | 13335/16838 [20:31<07:02,  8.30it/s]"
     ]
    },
    {
     "name": "stdout",
     "output_type": "stream",
     "text": [
      "[extract] note too long, truncate to 1025\n",
      "[extract] note too long, truncate to 1025\n",
      "[extract] note too long, truncate to 1025\n",
      "[extract] note too long, truncate to 1025\n",
      "[extract] note too long, truncate to 1025\n",
      "[extract] note too long, truncate to 1025\n"
     ]
    },
    {
     "name": "stderr",
     "output_type": "stream",
     "text": [
      "Processing MIDI files:  80%|████████  | 13535/16838 [20:49<07:04,  7.78it/s]"
     ]
    },
    {
     "name": "stdout",
     "output_type": "stream",
     "text": [
      "[extract] note too long, truncate to 1025\n",
      "[extract] note too long, truncate to 1025\n",
      "[extract] note too long, truncate to 1025\n",
      "[extract] note too long, truncate to 1025\n",
      "[extract] note too long, truncate to 1025\n",
      "[extract] note too long, truncate to 1025\n",
      "[extract] note too long, truncate to 1025\n",
      "[extract] note too long, truncate to 1025\n",
      "[extract] note too long, truncate to 1025\n",
      "[extract] note too long, truncate to 1025\n",
      "[extract] note too long, truncate to 1025\n"
     ]
    },
    {
     "name": "stderr",
     "output_type": "stream",
     "text": [
      "Processing MIDI files:  80%|████████  | 13542/16838 [20:50<09:07,  6.02it/s]"
     ]
    },
    {
     "name": "stdout",
     "output_type": "stream",
     "text": [
      "[extract] note too long, truncate to 1025\n",
      "[extract] note too long, truncate to 1025\n"
     ]
    },
    {
     "name": "stderr",
     "output_type": "stream",
     "text": [
      "Processing MIDI files:  81%|████████  | 13558/16838 [20:52<07:10,  7.61it/s]"
     ]
    },
    {
     "name": "stdout",
     "output_type": "stream",
     "text": [
      "[extract] note too long, truncate to 1025\n",
      "[extract] note too long, truncate to 1025\n",
      "[extract] note too long, truncate to 1025\n",
      "[extract] note too long, truncate to 1025\n",
      "[extract] note too long, truncate to 1025\n",
      "[extract] note too long, truncate to 1025\n",
      "[extract] note too long, truncate to 1025\n",
      "[extract] note too long, truncate to 1025\n",
      "[extract] note too long, truncate to 1025\n",
      "[extract] note too long, truncate to 1025\n",
      "[extract] note too long, truncate to 1025\n",
      "[extract] note too long, truncate to 1025\n",
      "[extract] note too long, truncate to 1025\n",
      "[extract] note too long, truncate to 1025\n",
      "[extract] note too long, truncate to 1025\n",
      "[extract] note too long, truncate to 1025\n",
      "[extract] note too long, truncate to 1025\n",
      "[extract] note too long, truncate to 1025\n",
      "[extract] note too long, truncate to 1025\n",
      "[extract] note too long, truncate to 1025\n",
      "[extract] note too long, truncate to 1025\n"
     ]
    },
    {
     "name": "stderr",
     "output_type": "stream",
     "text": [
      "Processing MIDI files:  81%|████████  | 13586/16838 [20:55<07:43,  7.02it/s]"
     ]
    },
    {
     "name": "stdout",
     "output_type": "stream",
     "text": [
      "[extract] note too long, truncate to 1025\n",
      "[extract] note too long, truncate to 1025\n",
      "[extract] note too long, truncate to 1025\n"
     ]
    },
    {
     "name": "stderr",
     "output_type": "stream",
     "text": [
      "Processing MIDI files:  81%|████████  | 13611/16838 [20:58<10:17,  5.22it/s]"
     ]
    },
    {
     "name": "stdout",
     "output_type": "stream",
     "text": [
      "[extract] note too long, truncate to 1025\n"
     ]
    },
    {
     "name": "stderr",
     "output_type": "stream",
     "text": [
      "Processing MIDI files:  81%|████████▏ | 13687/16838 [21:07<06:23,  8.22it/s]"
     ]
    },
    {
     "name": "stdout",
     "output_type": "stream",
     "text": [
      "[extract] note too long, truncate to 1025\n"
     ]
    },
    {
     "name": "stderr",
     "output_type": "stream",
     "text": [
      "Processing MIDI files:  82%|████████▏ | 13827/16838 [21:21<05:39,  8.88it/s]"
     ]
    },
    {
     "name": "stdout",
     "output_type": "stream",
     "text": [
      "[extract] note too long, truncate to 1025\n",
      "[extract] note too long, truncate to 1025\n",
      "[extract] note too long, truncate to 1025\n"
     ]
    },
    {
     "name": "stderr",
     "output_type": "stream",
     "text": [
      "Processing MIDI files:  82%|████████▏ | 13838/16838 [21:23<08:08,  6.14it/s]"
     ]
    },
    {
     "name": "stdout",
     "output_type": "stream",
     "text": [
      "[extract] note too long, truncate to 1025\n"
     ]
    },
    {
     "name": "stderr",
     "output_type": "stream",
     "text": [
      "Processing MIDI files:  83%|████████▎ | 13960/16838 [21:34<04:29, 10.68it/s]"
     ]
    },
    {
     "name": "stdout",
     "output_type": "stream",
     "text": [
      "[extract] note too long, truncate to 1025\n",
      "[extract] note too long, truncate to 1025\n",
      "[extract] note too long, truncate to 1025\n"
     ]
    },
    {
     "name": "stderr",
     "output_type": "stream",
     "text": [
      "Processing MIDI files:  84%|████████▎ | 14061/16838 [21:42<03:25, 13.50it/s]"
     ]
    },
    {
     "name": "stdout",
     "output_type": "stream",
     "text": [
      "[extract] note too long, truncate to 1025\n"
     ]
    },
    {
     "name": "stderr",
     "output_type": "stream",
     "text": [
      "Processing MIDI files:  84%|████████▍ | 14129/16838 [21:49<03:49, 11.80it/s]"
     ]
    },
    {
     "name": "stdout",
     "output_type": "stream",
     "text": [
      "[extract] note too long, truncate to 1025\n",
      "[extract] note too long, truncate to 1025\n",
      "[extract] note too long, truncate to 1025\n",
      "[extract] note too long, truncate to 1025\n",
      "[extract] note too long, truncate to 1025\n",
      "[extract] note too long, truncate to 1025\n",
      "[extract] note too long, truncate to 1025\n"
     ]
    },
    {
     "name": "stderr",
     "output_type": "stream",
     "text": [
      "Processing MIDI files:  84%|████████▍ | 14132/16838 [21:49<03:14, 13.90it/s]"
     ]
    },
    {
     "name": "stdout",
     "output_type": "stream",
     "text": [
      "[extract] note too long, truncate to 1025\n",
      "[extract] note too long, truncate to 1025\n",
      "[extract] note too long, truncate to 1025\n",
      "[extract] note too long, truncate to 1025\n"
     ]
    },
    {
     "name": "stderr",
     "output_type": "stream",
     "text": [
      "Processing MIDI files:  85%|████████▍ | 14273/16838 [22:00<02:47, 15.35it/s]"
     ]
    },
    {
     "name": "stdout",
     "output_type": "stream",
     "text": [
      "[extract] note too long, truncate to 1025\n",
      "[extract] note too long, truncate to 1025\n",
      "[extract] note too long, truncate to 1025\n"
     ]
    },
    {
     "name": "stderr",
     "output_type": "stream",
     "text": [
      "Processing MIDI files:  86%|████████▌ | 14405/16838 [22:12<03:31, 11.53it/s]"
     ]
    },
    {
     "name": "stdout",
     "output_type": "stream",
     "text": [
      "[extract] note too long, truncate to 1025\n",
      "[extract] note too long, truncate to 1025\n"
     ]
    },
    {
     "name": "stderr",
     "output_type": "stream",
     "text": [
      "Processing MIDI files:  86%|████████▌ | 14433/16838 [22:14<02:55, 13.73it/s]"
     ]
    },
    {
     "name": "stdout",
     "output_type": "stream",
     "text": [
      "[extract] note too long, truncate to 1025\n",
      "[extract] note too long, truncate to 1025\n",
      "[extract] note too long, truncate to 1025\n",
      "[extract] note too long, truncate to 1025\n",
      "[extract] note too long, truncate to 1025\n"
     ]
    },
    {
     "name": "stderr",
     "output_type": "stream",
     "text": [
      "Processing MIDI files:  86%|████████▌ | 14444/16838 [22:14<02:04, 19.28it/s]"
     ]
    },
    {
     "name": "stdout",
     "output_type": "stream",
     "text": [
      "[extract] note too long, truncate to 1025\n",
      "[extract] note too long, truncate to 1025\n"
     ]
    },
    {
     "name": "stderr",
     "output_type": "stream",
     "text": [
      "Processing MIDI files:  86%|████████▌ | 14489/16838 [22:18<04:32,  8.62it/s]"
     ]
    },
    {
     "name": "stdout",
     "output_type": "stream",
     "text": [
      "[extract] note too long, truncate to 1025\n",
      "[extract] note too long, truncate to 1025\n",
      "[extract] note too long, truncate to 1025\n"
     ]
    },
    {
     "name": "stderr",
     "output_type": "stream",
     "text": [
      "Processing MIDI files:  86%|████████▌ | 14491/16838 [22:18<04:07,  9.49it/s]"
     ]
    },
    {
     "name": "stdout",
     "output_type": "stream",
     "text": [
      "[extract] note too long, truncate to 1025\n"
     ]
    },
    {
     "name": "stderr",
     "output_type": "stream",
     "text": [
      "Processing MIDI files:  87%|████████▋ | 14599/16838 [22:25<03:09, 11.83it/s]"
     ]
    },
    {
     "name": "stdout",
     "output_type": "stream",
     "text": [
      "[extract] note too long, truncate to 1025\n",
      "[extract] note too long, truncate to 1025\n",
      "[extract] note too long, truncate to 1025\n",
      "[extract] note too long, truncate to 1025\n",
      "[extract] note too long, truncate to 1025\n",
      "[extract] note too long, truncate to 1025\n",
      "[extract] note too long, truncate to 1025\n"
     ]
    },
    {
     "name": "stderr",
     "output_type": "stream",
     "text": [
      "Processing MIDI files:  87%|████████▋ | 14608/16838 [22:26<02:44, 13.53it/s]"
     ]
    },
    {
     "name": "stdout",
     "output_type": "stream",
     "text": [
      "[extract] note too long, truncate to 1025\n",
      "[extract] note too long, truncate to 1025\n"
     ]
    },
    {
     "name": "stderr",
     "output_type": "stream",
     "text": [
      "Processing MIDI files:  87%|████████▋ | 14623/16838 [22:27<02:36, 14.15it/s]"
     ]
    },
    {
     "name": "stdout",
     "output_type": "stream",
     "text": [
      "[extract] note too long, truncate to 1025\n"
     ]
    },
    {
     "name": "stderr",
     "output_type": "stream",
     "text": [
      "Processing MIDI files:  87%|████████▋ | 14637/16838 [22:28<02:57, 12.38it/s]"
     ]
    },
    {
     "name": "stdout",
     "output_type": "stream",
     "text": [
      "[extract] note too long, truncate to 1025\n"
     ]
    },
    {
     "name": "stderr",
     "output_type": "stream",
     "text": [
      "Processing MIDI files:  87%|████████▋ | 14681/16838 [22:32<02:56, 12.23it/s]"
     ]
    },
    {
     "name": "stdout",
     "output_type": "stream",
     "text": [
      "[extract] note too long, truncate to 1025\n",
      "[extract] note too long, truncate to 1025\n",
      "[extract] note too long, truncate to 1025"
     ]
    },
    {
     "name": "stderr",
     "output_type": "stream",
     "text": [
      "Processing MIDI files:  87%|████████▋ | 14684/16838 [22:32<02:41, 13.35it/s]"
     ]
    },
    {
     "name": "stdout",
     "output_type": "stream",
     "text": [
      "\n",
      "[extract] note too long, truncate to 1025\n",
      "[extract] note too long, truncate to 1025\n",
      "[extract] note too long, truncate to 1025\n",
      "[extract] note too long, truncate to 1025\n",
      "[extract] note too long, truncate to 1025\n",
      "[extract] note too long, truncate to 1025\n",
      "[extract] note too long, truncate to 1025\n"
     ]
    },
    {
     "name": "stderr",
     "output_type": "stream",
     "text": [
      "Processing MIDI files:  87%|████████▋ | 14709/16838 [22:34<03:13, 11.01it/s]"
     ]
    },
    {
     "name": "stdout",
     "output_type": "stream",
     "text": [
      "[extract] note too long, truncate to 1025\n",
      "[extract] note too long, truncate to 1025\n",
      "[extract] note too long, truncate to 1025\n"
     ]
    },
    {
     "name": "stderr",
     "output_type": "stream",
     "text": [
      "Processing MIDI files:  88%|████████▊ | 14792/16838 [22:41<02:03, 16.61it/s]"
     ]
    },
    {
     "name": "stdout",
     "output_type": "stream",
     "text": [
      "[extract] note too long, truncate to 1025\n"
     ]
    },
    {
     "name": "stderr",
     "output_type": "stream",
     "text": [
      "Processing MIDI files:  88%|████████▊ | 14798/16838 [22:42<02:58, 11.40it/s]"
     ]
    },
    {
     "name": "stdout",
     "output_type": "stream",
     "text": [
      "[extract] note too long, truncate to 1025\n",
      "[extract] note too long, truncate to 1025\n"
     ]
    },
    {
     "name": "stderr",
     "output_type": "stream",
     "text": [
      "Processing MIDI files:  89%|████████▊ | 14909/16838 [22:50<01:51, 17.32it/s]"
     ]
    },
    {
     "name": "stdout",
     "output_type": "stream",
     "text": [
      "[extract] note too long, truncate to 1025\n"
     ]
    },
    {
     "name": "stderr",
     "output_type": "stream",
     "text": [
      "Processing MIDI files:  89%|████████▉ | 14957/16838 [22:54<02:39, 11.78it/s]"
     ]
    },
    {
     "name": "stdout",
     "output_type": "stream",
     "text": [
      "[extract] note too long, truncate to 1025\n",
      "[extract] note too long, truncate to 1025\n"
     ]
    },
    {
     "name": "stderr",
     "output_type": "stream",
     "text": [
      "Processing MIDI files:  89%|████████▉ | 15062/16838 [23:06<04:26,  6.66it/s]"
     ]
    },
    {
     "name": "stdout",
     "output_type": "stream",
     "text": [
      "[extract] note too long, truncate to 1025\n",
      "[extract] note too long, truncate to 1025\n",
      "[extract] note too long, truncate to 1025\n"
     ]
    },
    {
     "name": "stderr",
     "output_type": "stream",
     "text": [
      "Processing MIDI files:  90%|████████▉ | 15097/16838 [23:10<04:53,  5.92it/s]"
     ]
    },
    {
     "name": "stdout",
     "output_type": "stream",
     "text": [
      "[extract] note too long, truncate to 1025\n"
     ]
    },
    {
     "name": "stderr",
     "output_type": "stream",
     "text": [
      "Processing MIDI files:  90%|████████▉ | 15114/16838 [23:11<01:53, 15.23it/s]"
     ]
    },
    {
     "name": "stdout",
     "output_type": "stream",
     "text": [
      "[extract] note too long, truncate to 1025\n",
      "[extract] note too long, truncate to 1025\n",
      "[extract] note too long, truncate to 1025\n"
     ]
    },
    {
     "name": "stderr",
     "output_type": "stream",
     "text": [
      "Processing MIDI files:  90%|████████▉ | 15126/16838 [23:13<03:56,  7.24it/s]"
     ]
    },
    {
     "name": "stdout",
     "output_type": "stream",
     "text": [
      "[extract] note too long, truncate to 1025\n",
      "[extract] note too long, truncate to 1025\n",
      "[extract] note too long, truncate to 1025\n",
      "[extract] note too long, truncate to 1025\n",
      "[extract] note too long, truncate to 1025\n",
      "[extract] note too long, truncate to 1025\n",
      "[extract] note too long, truncate to 1025\n",
      "[extract] note too long, truncate to 1025\n",
      "[extract] note too long, truncate to 1025\n",
      "[extract] note too long, truncate to 1025\n",
      "[extract] note too long, truncate to 1025\n",
      "[extract] note too long, truncate to 1025\n",
      "[extract] note too long, truncate to 1025\n"
     ]
    },
    {
     "name": "stderr",
     "output_type": "stream",
     "text": [
      "Processing MIDI files:  90%|█████████ | 15157/16838 [23:16<02:14, 12.50it/s]"
     ]
    },
    {
     "name": "stdout",
     "output_type": "stream",
     "text": [
      "[extract] note too long, truncate to 1025\n"
     ]
    },
    {
     "name": "stderr",
     "output_type": "stream",
     "text": [
      "Processing MIDI files:  90%|█████████ | 15183/16838 [23:19<03:04,  8.96it/s]"
     ]
    },
    {
     "name": "stdout",
     "output_type": "stream",
     "text": [
      "[extract] note too long, truncate to 1025\n",
      "[extract] note too long, truncate to 1025\n",
      "[extract] note too long, truncate to 1025\n",
      "[extract] note too long, truncate to 1025\n",
      "[extract] note too long, truncate to 1025\n",
      "[extract] note too long, truncate to 1025\n",
      "[extract] note too long, truncate to 1025\n",
      "[extract] note too long, truncate to 1025\n",
      "[extract] note too long, truncate to 1025\n",
      "[extract] note too long, truncate to 1025\n",
      "[extract] note too long, truncate to 1025\n",
      "[extract] note too long, truncate to 1025\n",
      "[extract] note too long, truncate to 1025\n",
      "[extract] note too long, truncate to 1025\n",
      "[extract] note too long, truncate to 1025\n"
     ]
    },
    {
     "name": "stderr",
     "output_type": "stream",
     "text": [
      "Processing MIDI files:  90%|█████████ | 15208/16838 [23:22<02:18, 11.73it/s]"
     ]
    },
    {
     "name": "stdout",
     "output_type": "stream",
     "text": [
      "[extract] note too long, truncate to 1025\n",
      "[extract] note too long, truncate to 1025\n",
      "[extract] note too long, truncate to 1025\n",
      "[extract] note too long, truncate to 1025\n",
      "[extract] note too long, truncate to 1025\n",
      "[extract] note too long, truncate to 1025\n",
      "[extract] note too long, truncate to 1025\n",
      "[extract] note too long, truncate to 1025\n",
      "[extract] note too long, truncate to 1025\n",
      "[extract] note too long, truncate to 1025\n",
      "[extract] note too long, truncate to 1025\n",
      "[extract] note too long, truncate to 1025\n"
     ]
    },
    {
     "name": "stderr",
     "output_type": "stream",
     "text": [
      "Processing MIDI files:  91%|█████████ | 15351/16838 [23:36<01:11, 20.78it/s]"
     ]
    },
    {
     "name": "stdout",
     "output_type": "stream",
     "text": [
      "[extract] note too long, truncate to 1025\n",
      "[extract] note too long, truncate to 1025\n"
     ]
    },
    {
     "name": "stderr",
     "output_type": "stream",
     "text": [
      "Processing MIDI files:  91%|█████████▏| 15375/16838 [23:39<03:07,  7.82it/s]"
     ]
    },
    {
     "name": "stdout",
     "output_type": "stream",
     "text": [
      "[extract] note too long, truncate to 1025\n",
      "[extract] note too long, truncate to 1025\n",
      "[extract] note too long, truncate to 1025\n"
     ]
    },
    {
     "name": "stderr",
     "output_type": "stream",
     "text": [
      "Processing MIDI files:  91%|█████████▏| 15405/16838 [23:42<02:05, 11.46it/s]"
     ]
    },
    {
     "name": "stdout",
     "output_type": "stream",
     "text": [
      "[extract] note too long, truncate to 1025\n"
     ]
    },
    {
     "name": "stderr",
     "output_type": "stream",
     "text": [
      "Processing MIDI files:  92%|█████████▏| 15468/16838 [23:47<02:28,  9.26it/s]"
     ]
    },
    {
     "name": "stdout",
     "output_type": "stream",
     "text": [
      "[extract] note too long, truncate to 1025\n",
      "[extract] note too long, truncate to 1025\n"
     ]
    },
    {
     "name": "stderr",
     "output_type": "stream",
     "text": [
      "Processing MIDI files:  92%|█████████▏| 15505/16838 [23:50<01:14, 17.95it/s]"
     ]
    },
    {
     "name": "stdout",
     "output_type": "stream",
     "text": [
      "[extract] note too long, truncate to 1025\n",
      "[extract] note too long, truncate to 1025\n",
      "[extract] note too long, truncate to 1025\n",
      "[extract] note too long, truncate to 1025\n",
      "[extract] note too long, truncate to 1025\n",
      "[extract] note too long, truncate to 1025\n",
      "[extract] note too long, truncate to 1025\n",
      "[extract] note too long, truncate to 1025\n",
      "[extract] note too long, truncate to 1025\n",
      "[extract] note too long, truncate to 1025\n",
      "[extract] note too long, truncate to 1025\n",
      "[extract] note too long, truncate to 1025\n",
      "[extract] note too long, truncate to 1025\n",
      "[extract] note too long, truncate to 1025\n",
      "[extract] note too long, truncate to 1025\n",
      "[extract] note too long, truncate to 1025\n",
      "[extract] note too long, truncate to 1025\n",
      "[extract] note too long, truncate to 1025\n",
      "[extract] note too long, truncate to 1025\n",
      "[extract] note too long, truncate to 1025\n"
     ]
    },
    {
     "name": "stderr",
     "output_type": "stream",
     "text": [
      "Processing MIDI files:  92%|█████████▏| 15512/16838 [23:51<02:21,  9.35it/s]"
     ]
    },
    {
     "name": "stdout",
     "output_type": "stream",
     "text": [
      "[extract] note too long, truncate to 1025\n"
     ]
    },
    {
     "name": "stderr",
     "output_type": "stream",
     "text": [
      "Processing MIDI files:  92%|█████████▏| 15538/16838 [23:54<02:58,  7.28it/s]"
     ]
    },
    {
     "name": "stdout",
     "output_type": "stream",
     "text": [
      "[extract] note too long, truncate to 1025\n"
     ]
    },
    {
     "name": "stderr",
     "output_type": "stream",
     "text": [
      "Processing MIDI files:  93%|█████████▎| 15577/16838 [23:58<02:20,  8.98it/s]"
     ]
    },
    {
     "name": "stdout",
     "output_type": "stream",
     "text": [
      "[extract] note too long, truncate to 1025"
     ]
    },
    {
     "name": "stderr",
     "output_type": "stream",
     "text": [
      "Processing MIDI files:  93%|█████████▎| 15579/16838 [23:58<02:13,  9.46it/s]"
     ]
    },
    {
     "name": "stdout",
     "output_type": "stream",
     "text": [
      "\n"
     ]
    },
    {
     "name": "stderr",
     "output_type": "stream",
     "text": [
      "Processing MIDI files:  93%|█████████▎| 15625/16838 [24:03<03:30,  5.77it/s]"
     ]
    },
    {
     "name": "stdout",
     "output_type": "stream",
     "text": [
      "[extract] note too long, truncate to 1025\n",
      "[extract] note too long, truncate to 1025\n"
     ]
    },
    {
     "name": "stderr",
     "output_type": "stream",
     "text": [
      "Processing MIDI files:  93%|█████████▎| 15665/16838 [24:05<01:14, 15.84it/s]"
     ]
    },
    {
     "name": "stdout",
     "output_type": "stream",
     "text": [
      "[extract] note too long, truncate to 1025\n",
      "[extract] note too long, truncate to 1025\n",
      "[extract] note too long, truncate to 1025\n",
      "[extract] note too long, truncate to 1025\n"
     ]
    },
    {
     "name": "stderr",
     "output_type": "stream",
     "text": [
      "Processing MIDI files:  93%|█████████▎| 15674/16838 [24:07<02:37,  7.41it/s]"
     ]
    },
    {
     "name": "stdout",
     "output_type": "stream",
     "text": [
      "[extract] note too long, truncate to 1025\n",
      "[extract] note too long, truncate to 1025\n"
     ]
    },
    {
     "name": "stderr",
     "output_type": "stream",
     "text": [
      "Processing MIDI files:  94%|█████████▎| 15755/16838 [24:13<01:12, 15.03it/s]"
     ]
    },
    {
     "name": "stdout",
     "output_type": "stream",
     "text": [
      "[extract] note too long, truncate to 1025\n",
      "[extract] note too long, truncate to 1025\n",
      "[extract] note too long, truncate to 1025\n"
     ]
    },
    {
     "name": "stderr",
     "output_type": "stream",
     "text": [
      "Processing MIDI files:  94%|█████████▎| 15778/16838 [24:17<02:22,  7.44it/s]"
     ]
    },
    {
     "name": "stdout",
     "output_type": "stream",
     "text": [
      "[extract] note too long, truncate to 1025\n"
     ]
    },
    {
     "name": "stderr",
     "output_type": "stream",
     "text": [
      "Processing MIDI files:  94%|█████████▎| 15784/16838 [24:18<02:26,  7.22it/s]"
     ]
    },
    {
     "name": "stdout",
     "output_type": "stream",
     "text": [
      "[extract] note too long, truncate to 1025\n"
     ]
    },
    {
     "name": "stderr",
     "output_type": "stream",
     "text": [
      "Processing MIDI files:  95%|█████████▍| 15995/16838 [24:40<01:09, 12.13it/s]"
     ]
    },
    {
     "name": "stdout",
     "output_type": "stream",
     "text": [
      "[extract] note too long, truncate to 1025"
     ]
    },
    {
     "name": "stderr",
     "output_type": "stream",
     "text": [
      "Processing MIDI files:  95%|█████████▌| 15997/16838 [24:41<01:31,  9.20it/s]"
     ]
    },
    {
     "name": "stdout",
     "output_type": "stream",
     "text": [
      "\n",
      "[extract] note too long, truncate to 1025\n"
     ]
    },
    {
     "name": "stderr",
     "output_type": "stream",
     "text": [
      "Processing MIDI files:  96%|█████████▌| 16103/16838 [24:48<01:09, 10.60it/s]"
     ]
    },
    {
     "name": "stdout",
     "output_type": "stream",
     "text": [
      "[extract] note too long, truncate to 1025\n"
     ]
    },
    {
     "name": "stderr",
     "output_type": "stream",
     "text": [
      "Processing MIDI files:  96%|█████████▌| 16137/16838 [24:51<00:44, 15.60it/s]"
     ]
    },
    {
     "name": "stdout",
     "output_type": "stream",
     "text": [
      "[extract] note too long, truncate to 1025\n",
      "[extract] note too long, truncate to 1025\n",
      "[extract] note too long, truncate to 1025\n"
     ]
    },
    {
     "name": "stderr",
     "output_type": "stream",
     "text": [
      "Processing MIDI files:  96%|█████████▌| 16184/16838 [24:55<00:50, 12.96it/s]"
     ]
    },
    {
     "name": "stdout",
     "output_type": "stream",
     "text": [
      "[extract] note too long, truncate to 1025"
     ]
    },
    {
     "name": "stderr",
     "output_type": "stream",
     "text": [
      "Processing MIDI files:  96%|█████████▌| 16186/16838 [24:56<00:48, 13.39it/s]"
     ]
    },
    {
     "name": "stdout",
     "output_type": "stream",
     "text": [
      "\n",
      "[extract] note too long, truncate to 1025\n"
     ]
    },
    {
     "name": "stderr",
     "output_type": "stream",
     "text": [
      "Processing MIDI files:  96%|█████████▋| 16237/16838 [24:59<00:32, 18.27it/s]"
     ]
    },
    {
     "name": "stdout",
     "output_type": "stream",
     "text": [
      "[extract] note too long, truncate to 1025\n",
      "[extract] note too long, truncate to 1025\n"
     ]
    },
    {
     "name": "stderr",
     "output_type": "stream",
     "text": [
      "Processing MIDI files:  97%|█████████▋| 16253/16838 [25:01<00:40, 14.36it/s]"
     ]
    },
    {
     "name": "stdout",
     "output_type": "stream",
     "text": [
      "[extract] note too long, truncate to 1025\n"
     ]
    },
    {
     "name": "stderr",
     "output_type": "stream",
     "text": [
      "Processing MIDI files:  97%|█████████▋| 16255/16838 [25:01<00:45, 12.70it/s]"
     ]
    },
    {
     "name": "stdout",
     "output_type": "stream",
     "text": [
      "[extract] note too long, truncate to 1025\n"
     ]
    },
    {
     "name": "stderr",
     "output_type": "stream",
     "text": [
      "Processing MIDI files:  97%|█████████▋| 16409/16838 [25:14<00:44,  9.75it/s]"
     ]
    },
    {
     "name": "stdout",
     "output_type": "stream",
     "text": [
      "[extract] note too long, truncate to 1025\n",
      "[extract] note too long, truncate to 1025\n"
     ]
    },
    {
     "name": "stderr",
     "output_type": "stream",
     "text": [
      "Processing MIDI files:  98%|█████████▊| 16440/16838 [25:17<00:37, 10.55it/s]"
     ]
    },
    {
     "name": "stdout",
     "output_type": "stream",
     "text": [
      "[extract] note too long, truncate to 1025\n"
     ]
    },
    {
     "name": "stderr",
     "output_type": "stream",
     "text": [
      "Processing MIDI files:  98%|█████████▊| 16486/16838 [25:21<00:29, 11.99it/s]"
     ]
    },
    {
     "name": "stdout",
     "output_type": "stream",
     "text": [
      "[extract] note too long, truncate to 1025\n"
     ]
    },
    {
     "name": "stderr",
     "output_type": "stream",
     "text": [
      "Processing MIDI files:  99%|█████████▊| 16612/16838 [25:30<00:11, 19.49it/s]"
     ]
    },
    {
     "name": "stdout",
     "output_type": "stream",
     "text": [
      "[extract] note too long, truncate to 1025\n"
     ]
    },
    {
     "name": "stderr",
     "output_type": "stream",
     "text": [
      "Processing MIDI files:  99%|█████████▉| 16635/16838 [25:32<00:22,  8.92it/s]"
     ]
    },
    {
     "name": "stdout",
     "output_type": "stream",
     "text": [
      "[extract] note too long, truncate to 1025\n",
      "[extract] note too long, truncate to 1025\n",
      "[extract] note too long, truncate to 1025\n"
     ]
    },
    {
     "name": "stderr",
     "output_type": "stream",
     "text": [
      "Processing MIDI files:  99%|█████████▉| 16659/16838 [25:34<00:17,  9.97it/s]"
     ]
    },
    {
     "name": "stdout",
     "output_type": "stream",
     "text": [
      "[extract] note too long, truncate to 1025\n"
     ]
    },
    {
     "name": "stderr",
     "output_type": "stream",
     "text": [
      "Processing MIDI files:  99%|█████████▉| 16753/16838 [25:43<00:07, 10.96it/s]"
     ]
    },
    {
     "name": "stdout",
     "output_type": "stream",
     "text": [
      "[extract] note too long, truncate to 1025\n",
      "[extract] note too long, truncate to 1025\n"
     ]
    },
    {
     "name": "stderr",
     "output_type": "stream",
     "text": [
      "Processing MIDI files: 100%|█████████▉| 16789/16838 [25:45<00:02, 22.83it/s]"
     ]
    },
    {
     "name": "stdout",
     "output_type": "stream",
     "text": [
      "[extract] note too long, truncate to 1025\n",
      "[extract] note too long, truncate to 1025\n",
      "[extract] note too long, truncate to 1025\n",
      "[extract] note too long, truncate to 1025\n"
     ]
    },
    {
     "name": "stderr",
     "output_type": "stream",
     "text": [
      "Processing MIDI files: 100%|██████████| 16838/16838 [25:58<00:00, 10.81it/s]"
     ]
    },
    {
     "name": "stdout",
     "output_type": "stream",
     "text": [
      "[!] Invalid end time /home/yihsin/dataset/midicaps/lmd_full/d/d9f592315e874cd38528fbb9da09a9b0.mid: 192\n",
      "[!] Invalid end time /home/yihsin/dataset/midicaps/lmd_full/2/2cbab6b2a31b4f088e113afbe70b8c01.mid: 384\n",
      "[!] Invalid end time /home/yihsin/dataset/midicaps/lmd_full/d/d048fca1213911e0901c15e72554e996.mid: 342\n",
      "[!] Invalid end time /home/yihsin/dataset/midicaps/lmd_full/6/6adee70584081cb0a1e58bdcec7b8ac9.mid: 369\n",
      "[!] Invalid end time /home/yihsin/dataset/midicaps/lmd_full/f/fd67811c1b10156bef4c6006eb1b99a7.mid: 192\n",
      "[!] Invalid end time /home/yihsin/dataset/midicaps/lmd_full/c/cb6f70f3b087eaa66ae294b1a9ff3267.mid: 384\n",
      "[!] Invalid end time /home/yihsin/dataset/midicaps/lmd_full/0/0ee7405d825ff4003761d605c5139693.mid: 384\n",
      "[!] Not enough notes /home/yihsin/dataset/midicaps/lmd_full/e/e9d87a5450811b57a663f0d765e26a1f.mid: 43\n",
      "[!] Invalid end time /home/yihsin/dataset/midicaps/lmd_full/3/32e47252208fb9a540c533a9d225752e.mid: 192\n",
      "[!] Invalid end time /home/yihsin/dataset/midicaps/lmd_full/3/33560fc82e7400cdb132bb9c2a410346.mid: 96\n",
      "[!] Invalid end time /home/yihsin/dataset/midicaps/lmd_full/a/a5f0bd1fa7e40589a3f6a5c6010c95dd.mid: 432\n",
      "[!] Invalid end time /home/yihsin/dataset/midicaps/lmd_full/6/6f93e7bfc7b45891c5bcfe2dff679946.mid: 241\n",
      "[!] Invalid end time /home/yihsin/dataset/midicaps/lmd_full/2/2b1c7e85c500d0abf7ac44c71a86ff9b.mid: 384\n",
      "[!] Invalid end time /home/yihsin/dataset/midicaps/lmd_full/1/1cdab4a4b992cd344af1fad36c4f215c.mid: 168\n",
      "[!] Invalid end time /home/yihsin/dataset/midicaps/lmd_full/e/e1270b28bb2e7a95e5e9cdb4657edb07.mid: 384\n",
      "[!] Invalid end time /home/yihsin/dataset/midicaps/lmd_full/5/5086788373f7cf345778a527e63b9bb9.mid: 384\n",
      "[!] Invalid end time /home/yihsin/dataset/midicaps/lmd_full/1/12b4bda2dfe4bef6edf5b6f82a4085a5.mid: 216\n",
      "[!] Invalid end time /home/yihsin/dataset/midicaps/lmd_full/f/fc9c161185f5267f0f2928ec0030ec0e.mid: 360\n",
      "[!] Invalid end time /home/yihsin/dataset/midicaps/lmd_full/6/6534bdae1c3abe17997f5a346d13b06c.mid: 378\n",
      "[!] Invalid end time /home/yihsin/dataset/midicaps/lmd_full/6/63e520bf85bfa89b3e6990bec848238c.mid: 396\n",
      "[!] Invalid end time /home/yihsin/dataset/midicaps/lmd_full/9/93b69ada71f0c3698210d78a29fa0104.mid: 384\n",
      "[!] Invalid end time /home/yihsin/dataset/midicaps/lmd_full/a/a284db11b7543f8516bac1816b0d68ef.mid: 192\n",
      "[!] Invalid end time /home/yihsin/dataset/midicaps/lmd_full/a/a1ae33eb17c0a9a5d05bd23d28516eea.mid: 192\n",
      "[!] Invalid end time /home/yihsin/dataset/midicaps/lmd_full/6/6b574799f6796a860afacd130e44bbf9.mid: 194\n",
      "[!] Invalid end time /home/yihsin/dataset/midicaps/lmd_full/9/9136996789ce7b5050ac8a1a8d86f0e5.mid: 156\n",
      "[!] Invalid end time /home/yihsin/dataset/midicaps/lmd_full/9/942ab25d707b9a8a2d152c39c49f7ae9.mid: 444\n",
      "[!] Invalid end time /home/yihsin/dataset/midicaps/lmd_full/f/f2f3c4dfc4f1e7904829073f8e1d45ff.mid: 384\n",
      "[!] Invalid end time /home/yihsin/dataset/midicaps/lmd_full/d/d9b17f87e5cbd520d47cd9f9ffe817e3.mid: 417\n",
      "[!] Invalid end time /home/yihsin/dataset/midicaps/lmd_full/3/327cf9fcc44f9c0a9854a94209caa835.mid: 384\n",
      "[!] Invalid end time /home/yihsin/dataset/midicaps/lmd_full/f/faa330df39cc7cbdfe14bfa35a92b68c.mid: 90\n",
      "[!] Invalid end time /home/yihsin/dataset/midicaps/lmd_full/1/196fa24dcb78edca88fe17f6eab69e67.mid: 384\n",
      "[!] Invalid end time /home/yihsin/dataset/midicaps/lmd_full/1/101be9f8376103b4f22b77c3bb8ea067.mid: 292\n",
      "[!] Invalid end time /home/yihsin/dataset/midicaps/lmd_full/2/294c8f5e0439ad4bc4edf27ebdb01a7e.mid: 384\n",
      "[!] Invalid end time /home/yihsin/dataset/midicaps/lmd_full/d/dc3c6b08f59b06fb66fea4dd333e38bf.mid: 228\n",
      "[!] Invalid end time /home/yihsin/dataset/midicaps/lmd_full/f/fc1cfc4ade0ee040ce7febc572f45456.mid: 384\n",
      "[!] Invalid end time /home/yihsin/dataset/midicaps/lmd_full/e/e4a2e60e792aa929835b89a962e49c17.mid: 192\n",
      "[!] Invalid end time /home/yihsin/dataset/midicaps/lmd_full/e/ed2ceaedc8f830acd24a7937d102b13a.mid: 100\n",
      "[!] Invalid end time /home/yihsin/dataset/midicaps/lmd_full/c/cb065c6b4bad7f9b726dc0d905353875.mid: 384\n",
      "[!] Invalid end time /home/yihsin/dataset/midicaps/lmd_full/4/403a13b292a9e054f5154cfd6c4bccb8.mid: 187\n",
      "[!] Invalid end time /home/yihsin/dataset/midicaps/lmd_full/7/7287a1fe36c708959e11660f1439358a.mid: 384\n",
      "[!] Invalid end time /home/yihsin/dataset/midicaps/lmd_full/9/9219ac8a586af8b1f02b88559d3b173b.mid: 432\n",
      "[!] Invalid end time /home/yihsin/dataset/midicaps/lmd_full/6/64df90f4c3b1d68813a6842c96dbfb88.mid: 384\n",
      "[!] Invalid end time /home/yihsin/dataset/midicaps/lmd_full/6/6e9b960159e6a068024e511ff9ae4cd5.mid: 162\n",
      "[!] Invalid end time /home/yihsin/dataset/midicaps/lmd_full/4/43c688a604b238818abe07bae957d71c.mid: 84\n",
      "[!] Invalid end time /home/yihsin/dataset/midicaps/lmd_full/4/49efec9c568cc6c31a9046fe546a3db5.mid: 289\n",
      "[!] Invalid end time /home/yihsin/dataset/midicaps/lmd_full/6/6fe4949f09cd56c0d57203f984b791d5.mid: 228\n",
      "[!] Invalid end time /home/yihsin/dataset/midicaps/lmd_full/7/7a7ae66960bfa57f39cb370fa63c9939.mid: 384\n",
      "[!] Invalid end time /home/yihsin/dataset/midicaps/lmd_full/e/ea22f8cc6a859d19d631188f4b7f7aa7.mid: 384\n",
      "[!] Invalid end time /home/yihsin/dataset/midicaps/lmd_full/4/404f646fe78add671d143ee4bd9f9cdd.mid: 192\n",
      "[!] Invalid end time /home/yihsin/dataset/midicaps/lmd_full/5/510a9093ff7ed7e7d7f6289d4db3bf86.mid: 384\n",
      "[!] Invalid end time /home/yihsin/dataset/midicaps/lmd_full/4/421e5775d8e4ba2f983b6983b549f4aa.mid: 384\n",
      "[!] Invalid end time /home/yihsin/dataset/midicaps/lmd_full/c/ca84c5d361fb173506ca1703ddefde72.mid: 204\n",
      "[!] Invalid end time /home/yihsin/dataset/midicaps/lmd_full/3/3d851c4ba6b03bffb84f6b36502dcc75.mid: 194\n",
      "[!] Invalid end time /home/yihsin/dataset/midicaps/lmd_full/f/f5af1c8147f153c611c585afbda2918a.mid: 180\n",
      "[!] Invalid end time /home/yihsin/dataset/midicaps/lmd_full/f/f0b935edf47cbe2c839b624f6dbd373d.mid: 204\n",
      "[!] Invalid end time /home/yihsin/dataset/midicaps/lmd_full/6/6896c3ce7165ad6d6cc08018d4f35e42.mid: 396\n",
      "[!] Invalid end time /home/yihsin/dataset/midicaps/lmd_full/a/a43d61175ccc7453858eafc4734adc7a.mid: 384\n",
      "[!] Not enough notes /home/yihsin/dataset/midicaps/lmd_full/1/1480e2d93cddf0da5bfde403d7430f19.mid: 0\n",
      "[!] Invalid end time /home/yihsin/dataset/midicaps/lmd_full/e/e7999e9c714f39adfbd9775794daa46b.mid: 264\n",
      "[!] Invalid end time /home/yihsin/dataset/midicaps/lmd_full/8/83f7d2ec2e8cd582729575bf3e230020.mid: 384\n",
      "[!] Invalid end time /home/yihsin/dataset/midicaps/lmd_full/6/6a91f2bcba8ad9133f6da82cb71cf2d5.mid: 456\n",
      "[!] Invalid end time /home/yihsin/dataset/midicaps/lmd_full/7/7fb7ae9c5ba3fe07f25f7d051ecd6d31.mid: 384\n",
      "[!] Invalid end time /home/yihsin/dataset/midicaps/lmd_full/d/dc894858f65c4b1b34d21f853312d081.mid: 192\n",
      "[!] Invalid end time /home/yihsin/dataset/midicaps/lmd_full/c/c772575814f9687fd17eb35ab472f3ea.mid: 150\n",
      "[!] Invalid end time /home/yihsin/dataset/midicaps/lmd_full/d/dbd9508d328c60dd8e6e57bd119c7eb1.mid: 384\n",
      "[!] Invalid end time /home/yihsin/dataset/midicaps/lmd_full/0/02f1ace4084c3ff20d7c88c5d5ad3283.mid: 380\n",
      "[!] Invalid end time /home/yihsin/dataset/midicaps/lmd_full/d/df4e61280c3264eb0952c5c7df6f8fb1.mid: 384\n",
      "[!] Invalid end time /home/yihsin/dataset/midicaps/lmd_full/0/05f242e5ac9f437d8cc70968b4e67463.mid: 384\n",
      "[!] Invalid end time /home/yihsin/dataset/midicaps/lmd_full/8/8155d212f90f732164c4326a42625f54.mid: 252\n",
      "[!] Invalid end time /home/yihsin/dataset/midicaps/lmd_full/6/66bd5e49bcbf26c406ba690b218cb4cb.mid: 192\n",
      "[!] Invalid end time /home/yihsin/dataset/midicaps/lmd_full/0/06b65be574bccdff81c103220c690838.mid: 384\n",
      "[!] Invalid end time /home/yihsin/dataset/midicaps/lmd_full/9/95f0d297e58d4e83e6597aed7be96dcc.mid: 384\n",
      "[!] Invalid end time /home/yihsin/dataset/midicaps/lmd_full/f/f339f8f542a7b0f0bee46a28ef937271.mid: 408\n",
      "[!] Invalid end time /home/yihsin/dataset/midicaps/lmd_full/a/aa7232abcdb01ecac761b996bcde1c3d.mid: 384\n",
      "[!] Invalid end time /home/yihsin/dataset/midicaps/lmd_full/d/dbfde0fb92bff3d02a6b84787123dc6e.mid: 228\n",
      "[!] Invalid end time /home/yihsin/dataset/midicaps/lmd_full/8/8501c97547d0a484bc0ba07516f44de7.mid: 282\n",
      "[!] Invalid end time /home/yihsin/dataset/midicaps/lmd_full/c/c2d4cf3d8285b392dc6d7cd32a3abb63.mid: 181\n",
      "[!] Not enough notes /home/yihsin/dataset/midicaps/lmd_full/d/d647f8cb163c6975dc13d462e65643a6.mid: 0\n",
      "[!] Not enough notes /home/yihsin/dataset/midicaps/lmd_full/2/2618c44b79a47b6de7c28c3d8039ced2.mid: 0\n",
      "[!] Invalid end time /home/yihsin/dataset/midicaps/lmd_full/3/35dbb883e11ee5069149e6cee24f9a95.mid: 96\n",
      "[!] Invalid end time /home/yihsin/dataset/midicaps/lmd_full/0/0f1381ad0e48c7199e8c9570fc01f189.mid: 192\n",
      "[!] Invalid end time /home/yihsin/dataset/midicaps/lmd_full/4/40ff6f50d47803af5f245af5d56284d4.mid: 417\n",
      "[!] Invalid end time /home/yihsin/dataset/midicaps/lmd_full/d/d3fb0aa50774222f0c93e56eff0d904d.mid: 476\n",
      "[!] Invalid end time /home/yihsin/dataset/midicaps/lmd_full/3/3dce31b998534e10b2e2cddc3acc2954.mid: 192\n",
      "[!] Invalid end time /home/yihsin/dataset/midicaps/lmd_full/6/66db55a7ea410e9bbf56892da29ce2f8.mid: 358\n",
      "[!] Invalid end time /home/yihsin/dataset/midicaps/lmd_full/4/4e73b038da69a66ff04bcc9c70ad2140.mid: 384\n",
      "[!] Invalid end time /home/yihsin/dataset/midicaps/lmd_full/3/3a3c78a45a034d6ca9a99122db4dee53.mid: 261\n",
      "[!] Invalid end time /home/yihsin/dataset/midicaps/lmd_full/a/a5048d025b025700ef04266a90798232.mid: 363\n",
      "[!] Invalid end time /home/yihsin/dataset/midicaps/lmd_full/0/0b786b161234cabc7503a91cd7071215.mid: 181\n",
      "[!] Invalid end time /home/yihsin/dataset/midicaps/lmd_full/1/18a16b758ae9df98eb41406fe4b342da.mid: 300\n",
      "[!] Invalid end time /home/yihsin/dataset/midicaps/lmd_full/1/15398d65d6d4793b93113bacedee112d.mid: 384\n",
      "[!] Invalid end time /home/yihsin/dataset/midicaps/lmd_full/d/ddbe6ee19b3814206e4c2a70e6cc8bb6.mid: 162\n",
      "[!] Invalid end time /home/yihsin/dataset/midicaps/lmd_full/1/1d0d66ebf1936bb8b623db31ec211a35.mid: 156\n",
      "[!] Invalid end time /home/yihsin/dataset/midicaps/lmd_full/2/2c10c3c97cde90704b13cef5d9ac99be.mid: 384\n",
      "[!] Invalid end time /home/yihsin/dataset/midicaps/lmd_full/0/0e9bac424294beff4516ea513b367bdd.mid: 347\n",
      "[!] Invalid end time /home/yihsin/dataset/midicaps/lmd_full/c/c0cf97ea0397d78b899389c7eea44f11.mid: 384\n",
      "[!] Invalid end time /home/yihsin/dataset/midicaps/lmd_full/3/3a8228661c146070808553f320041707.mid: 420\n",
      "[!] Invalid end time /home/yihsin/dataset/midicaps/lmd_full/a/aad84401c523a517a7e95a6421f4bc15.mid: 384\n",
      "[!] Invalid end time /home/yihsin/dataset/midicaps/lmd_full/d/d39d769be01af063c1ffb7ec85c99e09.mid: 325\n",
      "[!] Invalid end time /home/yihsin/dataset/midicaps/lmd_full/9/9d156abc6c8fc192d8af0e3da162bfa6.mid: 384\n",
      "[!] Invalid end time /home/yihsin/dataset/midicaps/lmd_full/4/40b55d8e7b46b0357a64ffcabba14c24.mid: 312\n",
      "[!] Invalid end time /home/yihsin/dataset/midicaps/lmd_full/3/3ca5f3351dbe427294f14bddb0271184.mid: 150\n",
      "[!] Invalid end time /home/yihsin/dataset/midicaps/lmd_full/8/860615f97c171ffb46b2e9394552c1d0.mid: 408\n",
      "[!] Invalid end time /home/yihsin/dataset/midicaps/lmd_full/5/5ae79c93944fda5d445299e0073a28c0.mid: 430\n",
      "[!] Invalid end time /home/yihsin/dataset/midicaps/lmd_full/6/6a66f17bc32943673b0099735a62905f.mid: 174\n",
      "[!] Invalid end time /home/yihsin/dataset/midicaps/lmd_full/c/ce181b23242d414aa876c73bd8ffe1d5.mid: 222\n",
      "[!] Not enough notes /home/yihsin/dataset/midicaps/lmd_full/b/bf47151fba01f64d8883f8f6635937a4.mid: 34\n",
      "[!] Invalid end time /home/yihsin/dataset/midicaps/lmd_full/b/bcdc88621f704df422de7ec9a96cba0d.mid: 384\n",
      "[!] Invalid end time /home/yihsin/dataset/midicaps/lmd_full/d/de3f625427936f86209ce2fa46e630b7.mid: 192\n",
      "[!] Invalid end time /home/yihsin/dataset/midicaps/lmd_full/0/06f4fa7a3ef4099d3fd62676886b2026.mid: 96\n",
      "[!] Invalid end time /home/yihsin/dataset/midicaps/lmd_full/4/410e0ce27316e6ad57dffe5ea47980b5.mid: 112\n",
      "[!] Invalid end time /home/yihsin/dataset/midicaps/lmd_full/d/df9006635e5db4f7739fa94d59815165.mid: 192\n",
      "[!] Invalid end time /home/yihsin/dataset/midicaps/lmd_full/a/a8c08946d8d054059b745d21f95af175.mid: 364\n",
      "[!] Invalid end time /home/yihsin/dataset/midicaps/lmd_full/0/08e9ebeeb0a9dd8a5bf457e03b48afe1.mid: 384\n",
      "[!] Invalid end time /home/yihsin/dataset/midicaps/lmd_full/5/5009d02fff3e601f7e0052be1854cb43.mid: 235\n",
      "[!] Invalid end time /home/yihsin/dataset/midicaps/lmd_full/8/8d836a0be9e06815685ef6f0e39e5043.mid: 100\n",
      "[!] Invalid end time /home/yihsin/dataset/midicaps/lmd_full/2/21ee32b633ed2d6dd4a7596ea45dcd0e.mid: 192\n",
      "[!] Invalid end time /home/yihsin/dataset/midicaps/lmd_full/1/144922ccd282f57ccad6e731f1eb3911.mid: 330\n",
      "[!] Invalid end time /home/yihsin/dataset/midicaps/lmd_full/4/4bfbcd90f8e8bd22f5438fe1f212aaa3.mid: 318\n",
      "[!] Invalid end time /home/yihsin/dataset/midicaps/lmd_full/e/e560d586c6895c4a296035bd5a887666.mid: 457\n",
      "[!] Invalid end time /home/yihsin/dataset/midicaps/lmd_full/6/622e9e90e65b038e8fa8bfd464126031.mid: 154\n",
      "[!] Invalid end time /home/yihsin/dataset/midicaps/lmd_full/1/1920731b53f7bcace2bb9e9155c28903.mid: 269\n",
      "[!] Invalid end time /home/yihsin/dataset/midicaps/lmd_full/8/8f614a75e09bee66712349eb8141a413.mid: 383\n",
      "[!] Invalid end time /home/yihsin/dataset/midicaps/lmd_full/8/8a1b024ecc4b19f4dac45a7f3ee5b665.mid: 192\n",
      "[!] Invalid end time /home/yihsin/dataset/midicaps/lmd_full/8/8c459e6ab7e99789d74461e30ec9cde2.mid: 222\n",
      "[!] Invalid end time /home/yihsin/dataset/midicaps/lmd_full/8/8e610761e201814b94c827b0138ad346.mid: 192\n",
      "[!] Not enough notes /home/yihsin/dataset/midicaps/lmd_full/2/2cbcb1c33c6c7bf1535b9d395e0e8e35.mid: 46\n",
      "[!] Invalid end time /home/yihsin/dataset/midicaps/lmd_full/8/833e4408ea75c70eea0db84ff47c3cf7.mid: 203\n",
      "[!] Invalid end time /home/yihsin/dataset/midicaps/lmd_full/e/e4e36293e869db63d3f2b15871643765.mid: 384\n",
      "[!] Invalid end time /home/yihsin/dataset/midicaps/lmd_full/7/77714f139ba6b243e724d5b4c1445034.mid: 168\n",
      "[!] Invalid end time /home/yihsin/dataset/midicaps/lmd_full/7/7f62de00b23c67d9fe023208cafcb100.mid: 384\n",
      "[!] Invalid end time /home/yihsin/dataset/midicaps/lmd_full/1/15f08ae3ecfb13ca7f23202ed3f6d2e5.mid: 237\n",
      "[!] Invalid end time /home/yihsin/dataset/midicaps/lmd_full/b/b66836c3f44175042654d4fb01d5237b.mid: 95\n",
      "[!] Invalid end time /home/yihsin/dataset/midicaps/lmd_full/2/23eca806e5bb193644a7c7019f2c187f.mid: 425\n",
      "[!] Invalid end time /home/yihsin/dataset/midicaps/lmd_full/0/08b7f3f4039a394f3ac26c718d422a59.mid: 106\n",
      "[!] Invalid end time /home/yihsin/dataset/midicaps/lmd_full/b/b0b83aeaf2cda7624384ea6f5efe5692.mid: 91\n",
      "[!] Invalid end time /home/yihsin/dataset/midicaps/lmd_full/6/6a04d53d0df0c457e940bf9e5b647f86.mid: 216\n",
      "[!] Not enough notes /home/yihsin/dataset/midicaps/lmd_full/7/74805025fb5c68c081c403088482c094.mid: 0\n",
      "[!] Invalid end time /home/yihsin/dataset/midicaps/lmd_full/9/90f037bf596beeffeb50ae2a9d4df73d.mid: 270\n",
      "[!] Invalid end time /home/yihsin/dataset/midicaps/lmd_full/2/2e11f9b8f3f7596b2188ab16541f30db.mid: 429\n",
      "[!] Not enough notes /home/yihsin/dataset/midicaps/lmd_full/e/e0fc657bbc943c1517550e13c6f22a63.mid: 0\n",
      "[!] Invalid end time /home/yihsin/dataset/midicaps/lmd_full/a/a919db12fccf64b386bae6fd9ed0924e.mid: 385\n",
      "[!] Invalid end time /home/yihsin/dataset/midicaps/lmd_full/b/b78ca36afb773600042bb8a21c146f0a.mid: 96\n",
      "[!] Invalid end time /home/yihsin/dataset/midicaps/lmd_full/1/12a3e1fa538416124ac40604c63f7083.mid: 380\n",
      "[!] Invalid end time /home/yihsin/dataset/midicaps/lmd_full/b/b09eac5fb46e4153f62c1c8876751558.mid: 418\n",
      "[!] Invalid end time /home/yihsin/dataset/midicaps/lmd_full/8/8a3e49b138c2a43ce58d543e54427a57.mid: 384\n",
      "[!] Invalid end time /home/yihsin/dataset/midicaps/lmd_full/1/1a2bdf18b671bd6b9cb09f513aefbae4.mid: 384\n",
      "[!] Invalid end time /home/yihsin/dataset/midicaps/lmd_full/1/10d3304396f2d705888b096d22b09e0b.mid: 384\n",
      "[!] Invalid end time /home/yihsin/dataset/midicaps/lmd_full/b/baa2a03b271397b63b3fe3261cafd1a8.mid: 384\n",
      "[!] Invalid end time /home/yihsin/dataset/midicaps/lmd_full/9/9d74d823040dd8798100405a9e3a8c7d.mid: 125\n",
      "[!] Invalid end time /home/yihsin/dataset/midicaps/lmd_full/7/7cc0d9c72a88034bd314af520792959e.mid: 475\n",
      "[!] Invalid end time /home/yihsin/dataset/midicaps/lmd_full/5/5589df9255dac8dd95ae0b6b1bed5065.mid: 190\n",
      "[!] Invalid end time /home/yihsin/dataset/midicaps/lmd_full/4/45848ce30d6201bc5c2aa4ba3eba733c.mid: 415\n",
      "[!] Invalid end time /home/yihsin/dataset/midicaps/lmd_full/6/63551f89ab5d2f9aec63abb420670daa.mid: 382\n",
      "[!] Invalid end time /home/yihsin/dataset/midicaps/lmd_full/3/390c43a0f71773af985afb719bd46392.mid: 234\n",
      "[!] Invalid end time /home/yihsin/dataset/midicaps/lmd_full/8/86e43fa0ef5cf663588fcff8b19035a0.mid: 293\n",
      "[!] Invalid end time /home/yihsin/dataset/midicaps/lmd_full/1/1bce8672159ccc3a73bee6c1df7b8276.mid: 408\n",
      "[!] Invalid end time /home/yihsin/dataset/midicaps/lmd_full/f/f84833f7058456111c5a6eb5d9fc9997.mid: 294\n",
      "[!] Invalid end time /home/yihsin/dataset/midicaps/lmd_full/e/e3e77b42d18eec80d50e13b0e302bc7a.mid: 383\n",
      "[!] Invalid end time /home/yihsin/dataset/midicaps/lmd_full/8/865ce1bcb51714b88df7c0c2290a5a12.mid: 384\n",
      "[!] Invalid end time /home/yihsin/dataset/midicaps/lmd_full/a/ab6b5c603e3740ba54f3d8ab3000e3f4.mid: 383\n",
      "[!] Invalid end time /home/yihsin/dataset/midicaps/lmd_full/5/5f1c278bfb9d1ef803c983bcfc978caf.mid: 351\n",
      "[!] Invalid end time /home/yihsin/dataset/midicaps/lmd_full/6/6abd383b0b143ba0f8a0e2c4029a8b1a.mid: 126\n",
      "[!] Invalid end time /home/yihsin/dataset/midicaps/lmd_full/5/5a89bb84197cff0c4f40b44dd6a221ff.mid: 168\n",
      "[!] Invalid end time /home/yihsin/dataset/midicaps/lmd_full/8/8a9eb96705c74e61871cf6c9ed4a4776.mid: 288\n",
      "[!] Invalid end time /home/yihsin/dataset/midicaps/lmd_full/6/6aada787ab6fa7d5130faa4d7949d116.mid: 271\n",
      "[!] Invalid end time /home/yihsin/dataset/midicaps/lmd_full/e/ed793dadf58b913ea2460ad103a27735.mid: 192\n",
      "[!] Invalid end time /home/yihsin/dataset/midicaps/lmd_full/1/1a03932795af8d23d6cbf17536c42f3f.mid: 426\n",
      "[!] Not enough notes /home/yihsin/dataset/midicaps/lmd_full/8/83dfed2e1d2b6b59eee83fa5421697d6.mid: 48\n",
      "[!] Invalid end time /home/yihsin/dataset/midicaps/lmd_full/5/5c3c4a9c6208488b2fd8a695f39fbefd.mid: 456\n",
      "[!] Invalid end time /home/yihsin/dataset/midicaps/lmd_full/2/23ca69fcd9f3283af1c4fe767c78182a.mid: 76\n",
      "[!] Invalid end time /home/yihsin/dataset/midicaps/lmd_full/a/a8729760a73a7ef53cbee5ac11b8fcda.mid: 384\n",
      "[!] Invalid end time /home/yihsin/dataset/midicaps/lmd_full/a/aa39ce33444072646a00d29c43decde8.mid: 384\n",
      "[!] Invalid end time /home/yihsin/dataset/midicaps/lmd_full/1/1446d4777ba0083aa20512cb193a85ae.mid: 376\n",
      "[!] Invalid end time /home/yihsin/dataset/midicaps/lmd_full/8/83064f1651fa5bb45dcf3a5498a69025.mid: 192\n",
      "[!] Invalid end time /home/yihsin/dataset/midicaps/lmd_full/6/6af41d186fb93b7193c7ec053b2c7c2c.mid: 469\n",
      "[!] Not enough notes /home/yihsin/dataset/midicaps/lmd_full/8/829f3f92b5b0c000457134adc1116df8.mid: 37\n",
      "[!] Invalid end time /home/yihsin/dataset/midicaps/lmd_full/0/0abd8ff21bd027d4414628191e98d802.mid: 168\n",
      "[!] Invalid end time /home/yihsin/dataset/midicaps/lmd_full/f/fa19e1afb0547e0af0ac46e140bc73e7.mid: 350\n",
      "[!] Invalid end time /home/yihsin/dataset/midicaps/lmd_full/4/43203c6e80b486876006fab002bd23d5.mid: 94\n",
      "[!] Invalid end time /home/yihsin/dataset/midicaps/lmd_full/c/c42ee5dd03a247275f0baa4fb886ba75.mid: 384\n",
      "[!] Invalid end time /home/yihsin/dataset/midicaps/lmd_full/5/5346c58f71e74883e564cc8c8db1e6c7.mid: 384\n",
      "[!] Invalid end time /home/yihsin/dataset/midicaps/lmd_full/1/1106115684a40b72f95a5d6640705d76.mid: 384\n",
      "[!] Invalid end time /home/yihsin/dataset/midicaps/lmd_full/b/b82b3232cf3fd0a9789ff91855b95f3d.mid: 384\n",
      "[!] Invalid end time /home/yihsin/dataset/midicaps/lmd_full/d/d89c54724555b6663e525c8f9bcb6269.mid: 384\n",
      "[!] Invalid end time /home/yihsin/dataset/midicaps/lmd_full/c/c6c3e3439e059f12620df0924701868a.mid: 384\n",
      "[!] Invalid end time /home/yihsin/dataset/midicaps/lmd_full/9/94ecd699c3b37ba38936de35d38b403a.mid: 436\n",
      "[!] Invalid end time /home/yihsin/dataset/midicaps/lmd_full/e/e6cd294e48fae1350cb31dfa2294f352.mid: 240\n",
      "[!] Invalid end time /home/yihsin/dataset/midicaps/lmd_full/8/8c8d6a03214930e2c9ec98604245f351.mid: 382\n",
      "[!] Invalid end time /home/yihsin/dataset/midicaps/lmd_full/8/89b5085f6dd90ecbbfbb8f18031c9e41.mid: 432\n",
      "[!] Invalid end time /home/yihsin/dataset/midicaps/lmd_full/5/593aac9a15a5025c1d813da1bc9a070d.mid: 192\n",
      "[!] Invalid end time /home/yihsin/dataset/midicaps/lmd_full/f/f4313286b8bd7a2891666768164c02f9.mid: 384\n",
      "[!] Invalid end time /home/yihsin/dataset/midicaps/lmd_full/3/3b97700532314173ee14013257a5e9cc.mid: 276\n",
      "[!] Invalid end time /home/yihsin/dataset/midicaps/lmd_full/2/218334367c2c7e7244bcc880d013aa73.mid: 425\n",
      "[!] Invalid end time /home/yihsin/dataset/midicaps/lmd_full/7/759777cd60cf6079525926dcc8686d04.mid: 192\n",
      "[!] Invalid end time /home/yihsin/dataset/midicaps/lmd_full/9/9624a3f31a1ffaea7a8eb9a5821e9abe.mid: 234\n",
      "[!] Invalid end time /home/yihsin/dataset/midicaps/lmd_full/0/09f5fe0150aa6251dc94af58002717bf.mid: 402\n",
      "[!] Invalid end time /home/yihsin/dataset/midicaps/lmd_full/9/9b051793107ae95965ba0cc05c08da15.mid: 192\n",
      "[!] Not enough notes /home/yihsin/dataset/midicaps/lmd_full/0/0fca4dbe450e3773b5904bc50ba1362d.mid: 0\n",
      "[!] Invalid end time /home/yihsin/dataset/midicaps/lmd_full/e/ef2185a5870241af6f001702b56ae425.mid: 192\n",
      "[!] Invalid end time /home/yihsin/dataset/midicaps/lmd_full/9/9b8374a8fcad7b49d710f2cb9d8b2e7c.mid: 29\n",
      "[!] Invalid end time /home/yihsin/dataset/midicaps/lmd_full/b/b34ddd599c60cdfcbb2ec95598863e57.mid: 384\n",
      "[!] Invalid end time /home/yihsin/dataset/midicaps/lmd_full/a/af12df2c38b3f9dbc7d25c06f1108f56.mid: 240\n",
      "[!] Invalid end time /home/yihsin/dataset/midicaps/lmd_full/0/0ffbed3d4234a38e6db2f599ff872bdc.mid: 384\n",
      "[!] Invalid end time /home/yihsin/dataset/midicaps/lmd_full/5/53dead2f71a855705b25ad881e830c6f.mid: 384\n",
      "[!] Invalid end time /home/yihsin/dataset/midicaps/lmd_full/1/183f34a0a78c4526dbda597e6f42a957.mid: 192\n",
      "[!] Invalid end time /home/yihsin/dataset/midicaps/lmd_full/7/7dbdcb3dd66bb63295e33c5f5e995d33.mid: 384\n",
      "[!] Invalid end time /home/yihsin/dataset/midicaps/lmd_full/e/ef52ae14a428cb96c5e3254f8106099b.mid: 200\n",
      "[!] Invalid end time /home/yihsin/dataset/midicaps/lmd_full/9/9d1afc769c876d4dcad06e5840f78a11.mid: 396\n",
      "[!] Invalid end time /home/yihsin/dataset/midicaps/lmd_full/8/866b9eb3d16abbf907e3d03084ac57b5.mid: 384\n",
      "[!] Invalid end time /home/yihsin/dataset/midicaps/lmd_full/c/cf3fb1d94f5bda7df17f768064bd9fd0.mid: 222\n",
      "[!] Invalid end time /home/yihsin/dataset/midicaps/lmd_full/a/a44f79a63d34caff7176da88876d91f8.mid: 387\n",
      "[!] Invalid end time /home/yihsin/dataset/midicaps/lmd_full/6/6fca8a6b6c875208ab1a7e40c903ae0e.mid: 192\n",
      "[!] Invalid end time /home/yihsin/dataset/midicaps/lmd_full/e/ed341719422d72eab8f2fdfe498e05cb.mid: 466\n",
      "[!] Invalid end time /home/yihsin/dataset/midicaps/lmd_full/5/5086126e5b2931bc64c241bad920b543.mid: 378\n",
      "[!] Invalid end time /home/yihsin/dataset/midicaps/lmd_full/1/11a6b06214c296a0774e4de09db6deb5.mid: 267\n",
      "[!] Invalid end time /home/yihsin/dataset/midicaps/lmd_full/f/f7f7a6c7b6c60da9d663d2ccbf7e706c.mid: 193\n",
      "[!] Not enough notes /home/yihsin/dataset/midicaps/lmd_full/f/f6912424d4f7e47194c12b0fc78812dc.mid: 0\n",
      "[!] Invalid end time /home/yihsin/dataset/midicaps/lmd_full/1/1a8fe68750fff900caec406fd1e631f8.mid: 382\n",
      "[!] Invalid end time /home/yihsin/dataset/midicaps/lmd_full/4/4b5802d753bd867792e6cabed58a3221.mid: 288\n",
      "[!] Invalid end time /home/yihsin/dataset/midicaps/lmd_full/4/435522322bc6a7920b5d61eb4a9205c8.mid: 381\n",
      "[!] Invalid end time /home/yihsin/dataset/midicaps/lmd_full/5/5832216568aa545b9aea7cef6487ee4c.mid: 381\n",
      "[!] Invalid end time /home/yihsin/dataset/midicaps/lmd_full/6/6bf70bb1cd94c4ec78b12bccaa1cb432.mid: 199\n",
      "[!] Invalid end time /home/yihsin/dataset/midicaps/lmd_full/3/399ffd14d85b0ecce809ea049903c66e.mid: 427\n",
      "[!] Not enough notes /home/yihsin/dataset/midicaps/lmd_full/4/4d00e161f6b9ccf043d90bc2dcc0adfb.mid: 32\n",
      "[!] Not enough notes /home/yihsin/dataset/midicaps/lmd_full/f/f82c07be9d9c966548686ed7f3252229.mid: 29\n",
      "[!] Invalid end time /home/yihsin/dataset/midicaps/lmd_full/6/6620478cf602cf0e939fab22d6539132.mid: 384\n",
      "[!] Invalid end time /home/yihsin/dataset/midicaps/lmd_full/f/f85c2c4006b27fcc759e108ea5ce0729.mid: 84\n",
      "[!] Invalid end time /home/yihsin/dataset/midicaps/lmd_full/9/91972e47b4fbf44ae88392d7b6f75406.mid: 384\n",
      "[!] Invalid end time /home/yihsin/dataset/midicaps/lmd_full/3/33262ca017f566005a8fe0af7a30d833.mid: 384\n",
      "[!] Invalid end time /home/yihsin/dataset/midicaps/lmd_full/7/7689b668f3ab1b1eb34f91e1531a71e9.mid: 384\n",
      "[!] Invalid end time /home/yihsin/dataset/midicaps/lmd_full/f/f35ef861ff9f7433f38199a7c422fdb6.mid: 294\n",
      "[!] Invalid end time /home/yihsin/dataset/midicaps/lmd_full/7/76c677c13d9e9e863d21c8ed462f9466.mid: 420\n",
      "[!] Invalid end time /home/yihsin/dataset/midicaps/lmd_full/1/1577708c7391e4629af0291f97d154ca.mid: 192\n",
      "[!] Invalid end time /home/yihsin/dataset/midicaps/lmd_full/d/d98bf7cc7344c202cf4a6950cbe31c04.mid: 222\n",
      "[!] Invalid end time /home/yihsin/dataset/midicaps/lmd_full/3/336467431525c82723c162d9417fd4fb.mid: 408\n",
      "[!] Invalid end time /home/yihsin/dataset/midicaps/lmd_full/c/c45165ce68d8f711a4233867b8e964d4.mid: 384\n",
      "[!] Invalid end time /home/yihsin/dataset/midicaps/lmd_full/9/90db8369c0edf552252c57d959baa282.mid: 276\n",
      "[!] Invalid end time /home/yihsin/dataset/midicaps/lmd_full/b/b80c7e2c912fd865aa27c5a374a56fba.mid: 240\n",
      "[!] Invalid end time /home/yihsin/dataset/midicaps/lmd_full/2/2220bb619d9a305344367ce11de23ca9.mid: 191\n",
      "[!] Invalid end time /home/yihsin/dataset/midicaps/lmd_full/9/971521c5bdfd7ccdf8242cd41a71580d.mid: 192\n",
      "[!] Invalid end time /home/yihsin/dataset/midicaps/lmd_full/8/86a08535850bc61d2cdaddc666b4f614.mid: 192\n",
      "[!] Invalid end time /home/yihsin/dataset/midicaps/lmd_full/0/078e904ad1d41b3685a1dafc3a984193.mid: 432\n",
      "[!] Not enough notes /home/yihsin/dataset/midicaps/lmd_full/3/3418875bdc265129bd02c7d3e9ecc779.mid: 0\n",
      "[!] Invalid end time /home/yihsin/dataset/midicaps/lmd_full/d/d33c335fdc55f31301d210367fa868fd.mid: 354\n",
      "[!] Invalid end time /home/yihsin/dataset/midicaps/lmd_full/2/2d40a841757f2e15cc84c164147aa840.mid: 192\n",
      "[!] Invalid end time /home/yihsin/dataset/midicaps/lmd_full/5/5c9c59e3c2ecf0355c1f3a4b873fe27c.mid: 378\n",
      "[!] Invalid end time /home/yihsin/dataset/midicaps/lmd_full/d/d89923f19c624400cadd37b804d6ed97.mid: 384\n",
      "[!] Invalid end time /home/yihsin/dataset/midicaps/lmd_full/1/1dc7c16c04dbb142cdeeffabc631f045.mid: 234\n",
      "[!] Invalid end time /home/yihsin/dataset/midicaps/lmd_full/d/d2f034603e9aab3996aab1630a500d69.mid: 456\n",
      "[!] Invalid end time /home/yihsin/dataset/midicaps/lmd_full/b/b16995faaad79bb6984e4bb9312b6d0e.mid: 384\n",
      "[!] Invalid end time /home/yihsin/dataset/midicaps/lmd_full/3/3b773a0f8b7f239f3b35069d6c4de4db.mid: 184\n",
      "[!] Invalid end time /home/yihsin/dataset/midicaps/lmd_full/1/1dd4e8dd69928e94f9376b52edffbc53.mid: 384\n",
      "[!] Invalid end time /home/yihsin/dataset/midicaps/lmd_full/9/9bf47d406ed1ec08a7a4b8919680089d.mid: 88\n",
      "[!] Invalid end time /home/yihsin/dataset/midicaps/lmd_full/c/c5fc4d149a776a3b930426509c7e214a.mid: 96\n",
      "[!] Not enough notes /home/yihsin/dataset/midicaps/lmd_full/a/aa426b365d9a0f9d0c5646a534097194.mid: 0\n",
      "[!] Invalid end time /home/yihsin/dataset/midicaps/lmd_full/b/b30f23d98c3868f2470ccd88e2389d24.mid: 384\n",
      "[!] Invalid end time /home/yihsin/dataset/midicaps/lmd_full/a/aeaeedc744ba3e8f9f832a79a7fc276f.mid: 240\n",
      "[!] Invalid end time /home/yihsin/dataset/midicaps/lmd_full/0/0eda03fbfafa3559ea4ced04b47d3a2f.mid: 462\n",
      "[!] Invalid end time /home/yihsin/dataset/midicaps/lmd_full/f/f9afeed9c3a662371854f643eb005dfc.mid: 192\n",
      "[!] Invalid end time /home/yihsin/dataset/midicaps/lmd_full/6/6fa2965018228565b7193a0ea673d3de.mid: 192\n",
      "[!] Invalid end time /home/yihsin/dataset/midicaps/lmd_full/8/8260624c506f6fe2420a09e1004e2d02.mid: 378\n",
      "[!] Invalid end time /home/yihsin/dataset/midicaps/lmd_full/3/381b971cd6b806225a572aa60628afe7.mid: 384\n",
      "[!] Invalid end time /home/yihsin/dataset/midicaps/lmd_full/8/8b1f43a992e8a8614ef412ee0d5c399e.mid: 198\n",
      "[!] Invalid end time /home/yihsin/dataset/midicaps/lmd_full/5/53453032015b75c8bfe8df72032c6c6d.mid: 324\n",
      "[!] Invalid end time /home/yihsin/dataset/midicaps/lmd_full/0/0753031e4876a9449f8d509f450f5890.mid: 384\n",
      "[!] Invalid end time /home/yihsin/dataset/midicaps/lmd_full/2/297e52a2269d5df5b67db1db889e30e8.mid: 192\n",
      "[!] Invalid end time /home/yihsin/dataset/midicaps/lmd_full/9/972e6691ab5b6b6457caed86012f093f.mid: 385\n",
      "[!] Invalid end time /home/yihsin/dataset/midicaps/lmd_full/5/5e43ce8c13c4ff545fbade914c4adace.mid: 384\n",
      "[!] Invalid end time /home/yihsin/dataset/midicaps/lmd_full/b/ba6c8a297210dfd2f838072f0e70f02b.mid: 384\n",
      "[!] Not enough notes /home/yihsin/dataset/midicaps/lmd_full/a/a0b6cd592715dc6a871c6c6a9aa03c9b.mid: 8\n",
      "[!] Invalid end time /home/yihsin/dataset/midicaps/lmd_full/1/1cdf5c2cb1a189fb8dd4b0e18dccfe61.mid: 384\n",
      "[!] Invalid end time /home/yihsin/dataset/midicaps/lmd_full/d/d677e94b32a57e84f3f381c1ac3dc9ac.mid: 287\n",
      "[!] Not enough notes /home/yihsin/dataset/midicaps/lmd_full/4/47fa892faf64de4858f1b2076dfa1835.mid: 45\n",
      "[!] Invalid end time /home/yihsin/dataset/midicaps/lmd_full/b/bbf44e5b6b19a1102bb2abd5080bb7e5.mid: 383\n",
      "[!] Invalid end time /home/yihsin/dataset/midicaps/lmd_full/0/094e636ee12abe57b574b807d492b5ef.mid: 192\n",
      "[!] Invalid end time /home/yihsin/dataset/midicaps/lmd_full/3/3018b7b30d6574fc42f3f45963cccfaa.mid: 384\n",
      "[!] Invalid end time /home/yihsin/dataset/midicaps/lmd_full/8/8a603e5818f060c7911c51d2de093e22.mid: 252\n",
      "[!] Invalid end time /home/yihsin/dataset/midicaps/lmd_full/9/92f17315866731b8ef01aee5c7f90041.mid: 384\n",
      "[!] Invalid end time /home/yihsin/dataset/midicaps/lmd_full/9/921a1002c91f291f9dda2949f59f4a71.mid: 192\n",
      "[!] Invalid end time /home/yihsin/dataset/midicaps/lmd_full/8/8fc001700831ea523c2b32b7e5660c3c.mid: 228\n",
      "[!] Invalid end time /home/yihsin/dataset/midicaps/lmd_full/4/4c8ba3c7b762d3560cf9b6eff03bdf67.mid: 384\n",
      "[!] Invalid end time /home/yihsin/dataset/midicaps/lmd_full/b/b6586240e5db62c0ba241e09c0fb972b.mid: 195\n",
      "[!] Invalid end time /home/yihsin/dataset/midicaps/lmd_full/8/845971db77ef68f3e0bb5135cd13c668.mid: 288\n",
      "[!] Invalid end time /home/yihsin/dataset/midicaps/lmd_full/9/9937a4fd27261b68fed53a986a351065.mid: 384\n",
      "[!] Invalid end time /home/yihsin/dataset/midicaps/lmd_full/7/74b35155a3a66eb51c559e8c6c0a3676.mid: 192\n",
      "[!] Invalid end time /home/yihsin/dataset/midicaps/lmd_full/2/21aa76346e21c6217277b3002e47c2b7.mid: 384\n",
      "[!] Invalid end time /home/yihsin/dataset/midicaps/lmd_full/c/c4f67851d7e50d7437f5fd9bdfde0515.mid: 212\n",
      "[!] Invalid end time /home/yihsin/dataset/midicaps/lmd_full/e/e88f6e24c8253961c704c1d89b3576f9.mid: 278\n",
      "[!] Invalid end time /home/yihsin/dataset/midicaps/lmd_full/2/206b61dd8e964f96e454d08f237a3d7c.mid: 384\n",
      "[!] Invalid end time /home/yihsin/dataset/midicaps/lmd_full/d/dbd944a5711bc8df259f204d08a51e46.mid: 456\n",
      "[!] Invalid end time /home/yihsin/dataset/midicaps/lmd_full/6/69909c1c985a2776e0aab6cb01742d07.mid: 384\n",
      "[!] Invalid end time /home/yihsin/dataset/midicaps/lmd_full/1/1f509f41172fd4599b6f2f842bc040c9.mid: 384\n",
      "[!] Invalid end time /home/yihsin/dataset/midicaps/lmd_full/0/0414ff50789def45ab1815ade1835bd1.mid: 379\n",
      "[!] Invalid end time /home/yihsin/dataset/midicaps/lmd_full/b/b74ce9848d653a09d5b6b90774c8c601.mid: 384\n",
      "[!] Invalid end time /home/yihsin/dataset/midicaps/lmd_full/a/a322426cca122f2015dfbebd0090237b.mid: 156\n",
      "[!] Invalid end time /home/yihsin/dataset/midicaps/lmd_full/c/cb226a46053507ae8a47a16cb4349481.mid: 384\n",
      "[!] Invalid end time /home/yihsin/dataset/midicaps/lmd_full/5/57dc1627d39e192ba9957a7fcc28b549.mid: 438\n",
      "[!] Not enough notes /home/yihsin/dataset/midicaps/lmd_full/e/e579e8189ed0ed3c52dddb7d08f4f135.mid: 29\n",
      "[!] Invalid end time /home/yihsin/dataset/midicaps/lmd_full/2/24eea54f3c9ef00fa86760654d4e329c.mid: 96\n",
      "[!] Invalid end time /home/yihsin/dataset/midicaps/lmd_full/d/dbdc6631d351734614597589f0bb74a8.mid: 192\n",
      "[!] Invalid end time /home/yihsin/dataset/midicaps/lmd_full/9/9a8c4de49eb772cc1d4e0ae078b7ce6e.mid: 384\n",
      "[!] Invalid end time /home/yihsin/dataset/midicaps/lmd_full/3/359cda6891272cf162b28b1a380f9844.mid: 183\n",
      "[!] Invalid end time /home/yihsin/dataset/midicaps/lmd_full/5/5d10846c6c5da0b230194cb20bf9fefe.mid: 384\n",
      "[!] Invalid end time /home/yihsin/dataset/midicaps/lmd_full/3/39ea9d72a550a1e651404fa37ae04b24.mid: 384\n",
      "[!] Invalid end time /home/yihsin/dataset/midicaps/lmd_full/6/644c20bde6cbecdc07884e633a4a82d4.mid: 384\n",
      "[!] Invalid end time /home/yihsin/dataset/midicaps/lmd_full/b/b63a1120890253e98816c5159bdf41b9.mid: 192\n",
      "[!] Invalid end time /home/yihsin/dataset/midicaps/lmd_full/5/528b3421e57805a83221be8564ed1cdd.mid: 384\n",
      "[!] Invalid end time /home/yihsin/dataset/midicaps/lmd_full/6/6cf7b55684378440b05d31ff6132a69c.mid: 384\n",
      "[!] Invalid end time /home/yihsin/dataset/midicaps/lmd_full/0/0231dcc00e6a02bba95f7a4c8227c62d.mid: 252\n",
      "[!] Not enough notes /home/yihsin/dataset/midicaps/lmd_full/d/d43b3dc314b1a3228635d29beb3f20c8.mid: 0\n",
      "[!] Invalid end time /home/yihsin/dataset/midicaps/lmd_full/b/b7d79f4ec91c19d6af35a647d3dbc421.mid: 95\n",
      "[!] Invalid end time /home/yihsin/dataset/midicaps/lmd_full/b/ba668a5aee9d6cf270ce214d10379a93.mid: 210\n",
      "[!] Invalid end time /home/yihsin/dataset/midicaps/lmd_full/b/b82458bff983d72a4b6a623e3b39d9a4.mid: 312\n",
      "[!] Invalid end time /home/yihsin/dataset/midicaps/lmd_full/f/f19d8d158b4058394aa16ff3a415dbcb.mid: 198\n",
      "[!] Invalid end time /home/yihsin/dataset/midicaps/lmd_full/a/a3397e23800d7c6288b4780de32b738a.mid: 282\n",
      "[!] Invalid end time /home/yihsin/dataset/midicaps/lmd_full/2/257c84f49b8b4776c1635499607251f0.mid: 384\n",
      "[!] Invalid end time /home/yihsin/dataset/midicaps/lmd_full/c/c1d81b5ba909dff6389ba19c569e8c51.mid: 384\n",
      "[!] Invalid end time /home/yihsin/dataset/midicaps/lmd_full/f/fb3c445c02a566779a818c900a9bcc87.mid: 384\n",
      "[!] Invalid end time /home/yihsin/dataset/midicaps/lmd_full/e/e809708e3a3ce3302ab4526249f04f6a.mid: 306\n",
      "[!] Invalid end time /home/yihsin/dataset/midicaps/lmd_full/4/43c63e88d2a80a506093051e68b5fd15.mid: 258\n",
      "[!] Invalid end time /home/yihsin/dataset/midicaps/lmd_full/6/6a6382ed72d7587e9afbbdfeb1474704.mid: 384\n",
      "[!] Invalid end time /home/yihsin/dataset/midicaps/lmd_full/0/0456c97856225f024d23737b3fb1f2fd.mid: 412\n",
      "[!] Invalid end time /home/yihsin/dataset/midicaps/lmd_full/d/d2fc6dff953b7c6f88d486d6a42a9de4.mid: 384\n",
      "[!] Invalid end time /home/yihsin/dataset/midicaps/lmd_full/8/8811604fd523f8454d38bd652421f7da.mid: 384\n",
      "[!] Invalid end time /home/yihsin/dataset/midicaps/lmd_full/f/fda39182314c7a418b4acfe2cfa34215.mid: 192\n",
      "[!] Invalid end time /home/yihsin/dataset/midicaps/lmd_full/3/389d94207a91727afb7eb0c8c77d216c.mid: 432\n",
      "[!] Invalid end time /home/yihsin/dataset/midicaps/lmd_full/f/f2f5139ce6f0d9d423572a728209a28c.mid: 192\n",
      "[!] Invalid end time /home/yihsin/dataset/midicaps/lmd_full/3/3f105e829209d68814fa158183f639d2.mid: 345\n",
      "[!] Invalid end time /home/yihsin/dataset/midicaps/lmd_full/b/bf5a0cbc0f2daf18ab08e2989e28f21a.mid: 222\n",
      "[!] Invalid end time /home/yihsin/dataset/midicaps/lmd_full/8/8d0398f632328e0a7b7d68f21cf932a8.mid: 192\n",
      "[!] Not enough notes /home/yihsin/dataset/midicaps/lmd_full/7/71990e3d3226f4764ceb66efb04fa428.mid: 0\n",
      "[!] Invalid end time /home/yihsin/dataset/midicaps/lmd_full/e/e43e0e7c12a2fbed4f68ada01e81adb7.mid: 258\n",
      "[!] Invalid end time /home/yihsin/dataset/midicaps/lmd_full/c/c4c37687a9034f3b6a0c6b2206856df4.mid: 354\n",
      "[!] Invalid end time /home/yihsin/dataset/midicaps/lmd_full/2/259f5b181f5dbd49167664bd4bd78cac.mid: 192\n",
      "[!] Invalid end time /home/yihsin/dataset/midicaps/lmd_full/4/426ee324ec4e8d9332da1a32fe6e3874.mid: 373\n",
      "[!] Invalid end time /home/yihsin/dataset/midicaps/lmd_full/8/8baadc17e37ef06cd59fe3129d2f5818.mid: 384\n",
      "[!] Invalid end time /home/yihsin/dataset/midicaps/lmd_full/b/b34641266043f6048a61296aa4897d81.mid: 85\n",
      "[!] Invalid end time /home/yihsin/dataset/midicaps/lmd_full/4/48577f845b1b987ad2547e726b43109d.mid: 294\n",
      "[!] Invalid end time /home/yihsin/dataset/midicaps/lmd_full/8/88791cb95bef2abd7f87a6e4eae3f2c7.mid: 187\n",
      "[!] Invalid end time /home/yihsin/dataset/midicaps/lmd_full/1/1c95cbb5cea815bdb7f978483dff56be.mid: 384\n",
      "[!] Invalid end time /home/yihsin/dataset/midicaps/lmd_full/3/3d613e9335013af81dbbf995ce6f4932.mid: 378\n",
      "[!] Not enough notes /home/yihsin/dataset/midicaps/lmd_full/e/ec88ee1703906b5a2640c81b277c7d9d.mid: 0\n",
      "[!] Invalid end time /home/yihsin/dataset/midicaps/lmd_full/7/722c2ac4fa857d48d8fcde96d7ee9527.mid: 384\n",
      "[!] Invalid end time /home/yihsin/dataset/midicaps/lmd_full/6/6c9dc1adff5e5f815fc669223eec32f5.mid: 189\n",
      "[!] Invalid end time /home/yihsin/dataset/midicaps/lmd_full/6/650303d3d5cec07e2121a0d163703ea7.mid: 406\n",
      "[!] Invalid end time /home/yihsin/dataset/midicaps/lmd_full/5/54dffebeb852547ff563cfab1be36a3c.mid: 96\n",
      "[!] Invalid end time /home/yihsin/dataset/midicaps/lmd_full/e/eeb8bd2715c41b079fb74612104b24dc.mid: 156\n",
      "[!] Invalid end time /home/yihsin/dataset/midicaps/lmd_full/a/a37a96557d610717410cf4e4b4bc15d2.mid: 138\n",
      "[!] Invalid end time /home/yihsin/dataset/midicaps/lmd_full/6/6b3d513ab13273c7634d1c5c39d8a04a.mid: 270\n",
      "[!] Invalid end time /home/yihsin/dataset/midicaps/lmd_full/2/267fb7d694690d8f0cc168c7b5ae9ac6.mid: 384\n",
      "[!] Not enough notes /home/yihsin/dataset/midicaps/lmd_full/8/81292c8c4f57d6fc9e49df8234e7681e.mid: 0\n",
      "[!] Invalid end time /home/yihsin/dataset/midicaps/lmd_full/4/48dc48861b4c3ff32ad9a69844cfffcc.mid: 347\n",
      "[!] Invalid end time /home/yihsin/dataset/midicaps/lmd_full/4/47d3cdab3161a3ede7e4d1a4385a841a.mid: 180\n",
      "[!] Invalid end time /home/yihsin/dataset/midicaps/lmd_full/5/5f76094cd3376017eb712a746e5d9580.mid: 288\n",
      "[!] Invalid end time /home/yihsin/dataset/midicaps/lmd_full/a/a1db3baaf7a56c3f59a2e2aa7403692e.mid: 384\n",
      "[!] Invalid end time /home/yihsin/dataset/midicaps/lmd_full/5/5db56daa6fa74df54bcc477a7eabb9a8.mid: 383\n",
      "[!] Invalid end time /home/yihsin/dataset/midicaps/lmd_full/9/956c25108c5a7a9e271d738ccc1ea80a.mid: 198\n",
      "[!] Invalid end time /home/yihsin/dataset/midicaps/lmd_full/b/b542a519719336ea9ace20bd1c8dacaf.mid: 282\n",
      "[!] Invalid end time /home/yihsin/dataset/midicaps/lmd_full/9/950368a6cc584680b6c2e353c8ff11ed.mid: 470\n",
      "[!] Invalid end time /home/yihsin/dataset/midicaps/lmd_full/8/89fe0e5bfe6cfc959c54bb1c94cdb0a1.mid: 384\n",
      "[!] Invalid end time /home/yihsin/dataset/midicaps/lmd_full/f/f62dbe2e8eb30b9791709d69bc0ef4b2.mid: 384\n",
      "[!] Invalid end time /home/yihsin/dataset/midicaps/lmd_full/a/aabefafe6e07f34f56f87979c45bcf43.mid: 213\n",
      "[!] Invalid end time /home/yihsin/dataset/midicaps/lmd_full/9/9197c0ab1a7e17ef36d31c04429aaa6d.mid: 384\n",
      "[!] Invalid end time /home/yihsin/dataset/midicaps/lmd_full/c/c86b92bdc242e24b9b8dc285af94d7ce.mid: 150\n",
      "[!] Invalid end time /home/yihsin/dataset/midicaps/lmd_full/9/92b6d8b811ed064b39f4c1aa513733c8.mid: 246\n",
      "[!] Invalid end time /home/yihsin/dataset/midicaps/lmd_full/d/dc9d428bbdbcb8060ccf4b1befd82b25.mid: 360\n",
      "[!] Invalid end time /home/yihsin/dataset/midicaps/lmd_full/6/6872339fae0ee1e894e3372459d5aa4d.mid: 297\n",
      "[!] Invalid end time /home/yihsin/dataset/midicaps/lmd_full/8/89a0ecbb764c0e90fd3175806ea81c69.mid: 126\n",
      "[!] Invalid end time /home/yihsin/dataset/midicaps/lmd_full/a/a2a9820013036bc4e468789e1c1eaa1a.mid: 192\n",
      "[!] Invalid end time /home/yihsin/dataset/midicaps/lmd_full/d/d451f41110f8fc2e4878ad8583c4248f.mid: 312\n",
      "[!] Invalid end time /home/yihsin/dataset/midicaps/lmd_full/e/ef492e60711a8b10aa3c5d4b91a3326a.mid: 384\n",
      "[!] Invalid end time /home/yihsin/dataset/midicaps/lmd_full/c/caf2d38b037f4e2013992fa096d07797.mid: 114\n",
      "[!] Invalid end time /home/yihsin/dataset/midicaps/lmd_full/5/5a9f2d73ab711d2d007141ed91884edc.mid: 180\n",
      "[!] Not enough notes /home/yihsin/dataset/midicaps/lmd_full/8/81e72958b3e7a9d3b75dce667576ee22.mid: 0\n",
      "[!] Invalid end time /home/yihsin/dataset/midicaps/lmd_full/8/8f10d8d9067ef119232fb3637da89aa9.mid: 380\n",
      "[!] Invalid end time /home/yihsin/dataset/midicaps/lmd_full/d/de5f4e276d66604d8cb73170feac4696.mid: 392\n",
      "[!] Invalid end time /home/yihsin/dataset/midicaps/lmd_full/3/3d674c052485bfaf06bd9804944dc456.mid: 384\n",
      "[!] Invalid end time /home/yihsin/dataset/midicaps/lmd_full/9/96529cf6ff7fa84eff0dc3bea91dafdb.mid: 384\n",
      "[!] Invalid end time /home/yihsin/dataset/midicaps/lmd_full/f/f6294605a20a7c8713265deb216665b9.mid: 384\n",
      "[!] Invalid end time /home/yihsin/dataset/midicaps/lmd_full/9/91fa4b542d416024800355555e0055a2.mid: 384\n",
      "[!] Invalid end time /home/yihsin/dataset/midicaps/lmd_full/9/97552ffb38dec84ece5110b0dd312684.mid: 96\n",
      "[!] Invalid end time /home/yihsin/dataset/midicaps/lmd_full/3/37f47514b9aeb06ec61641c1cb1b1ac4.mid: 381\n",
      "[!] Invalid end time /home/yihsin/dataset/midicaps/lmd_full/e/e024170f0906115a9078ef9f5b76e414.mid: 227\n",
      "[!] Invalid end time /home/yihsin/dataset/midicaps/lmd_full/a/a0aa88a02e40eaa3a3c5be4ab25249ea.mid: 195\n",
      "[!] Invalid end time /home/yihsin/dataset/midicaps/lmd_full/b/b9a78944d602af850c7447bdbe6a312e.mid: 384\n",
      "[!] Not enough notes /home/yihsin/dataset/midicaps/lmd_full/2/25b8cd37703ea334c25f76ce26e487dc.mid: 38\n",
      "[!] Invalid end time /home/yihsin/dataset/midicaps/lmd_full/e/e7fda2c6140714fd1c5e0cb3cfe52fcc.mid: 60\n",
      "[!] Invalid end time /home/yihsin/dataset/midicaps/lmd_full/4/4f9da2937540c5de78f832612c97694c.mid: 408\n",
      "[!] Invalid end time /home/yihsin/dataset/midicaps/lmd_full/4/45fce12f9015e9071071598c33daf343.mid: 408\n",
      "[!] Invalid end time /home/yihsin/dataset/midicaps/lmd_full/a/a2263226b469dcd2b332d37ddb067f4b.mid: 391\n",
      "[!] Invalid end time /home/yihsin/dataset/midicaps/lmd_full/5/5503831f3f972a3675fec095bceb2280.mid: 282\n",
      "[!] Invalid end time /home/yihsin/dataset/midicaps/lmd_full/7/76f99392f79b32f1cc9150246bbc535b.mid: 384\n",
      "[!] Invalid end time /home/yihsin/dataset/midicaps/lmd_full/f/f41c6c7b7c282df7f496f3a6205a3256.mid: 222\n",
      "[!] Invalid end time /home/yihsin/dataset/midicaps/lmd_full/e/e2ec6e0e5515ae405edd9347dbc8a2da.mid: 145\n",
      "[!] Invalid end time /home/yihsin/dataset/midicaps/lmd_full/e/e22f8e6cab4b6c22fafc7d377e1d9549.mid: 171\n",
      "[!] Invalid end time /home/yihsin/dataset/midicaps/lmd_full/b/b088eb6feb51184711444b1019c71f30.mid: 96\n",
      "[!] Invalid end time /home/yihsin/dataset/midicaps/lmd_full/b/b3f0d78891cec69a93ca1eb8caee555f.mid: 71\n",
      "[!] Invalid end time /home/yihsin/dataset/midicaps/lmd_full/9/9e65dd1210dba97fdf318c2a53171a73.mid: 218\n",
      "[!] Invalid end time /home/yihsin/dataset/midicaps/lmd_full/8/8dc53e895078da797de304759eaf6e3a.mid: 198\n",
      "[!] Invalid end time /home/yihsin/dataset/midicaps/lmd_full/9/92f9c61ed0c87c0e26d6c716d6c0284b.mid: 96\n",
      "[!] Invalid end time /home/yihsin/dataset/midicaps/lmd_full/c/c46dd5133af981d6383ade3c351fc0ec.mid: 384\n",
      "[!] Invalid end time /home/yihsin/dataset/midicaps/lmd_full/3/334329ae88c9e58d79b722a543af13b5.mid: 385\n",
      "[!] Invalid end time /home/yihsin/dataset/midicaps/lmd_full/7/78eff548977802a902c6a32b339013af.mid: 125\n",
      "[!] Invalid end time /home/yihsin/dataset/midicaps/lmd_full/b/b3e26b05111a14d5cf2f60533f2c5a7a.mid: 252\n",
      "[!] Invalid end time /home/yihsin/dataset/midicaps/lmd_full/9/9fc2cf4924d8c86d7765a35e6b5be13b.mid: 345\n",
      "[!] Invalid end time /home/yihsin/dataset/midicaps/lmd_full/5/5a56300ee4937ac44d9043aa9c8616b1.mid: 420\n",
      "[!] Invalid end time /home/yihsin/dataset/midicaps/lmd_full/1/17c19664354e62a60a4aff074848b8df.mid: 180\n",
      "[!] Invalid end time /home/yihsin/dataset/midicaps/lmd_full/0/0295f1596c37ca391493136c4228521c.mid: 384\n",
      "[!] Invalid end time /home/yihsin/dataset/midicaps/lmd_full/b/bd34c345db1d8f7f910d2419bb735711.mid: 384\n",
      "[!] Invalid end time /home/yihsin/dataset/midicaps/lmd_full/1/1bc4355f095353aaebeecf14ad1fe108.mid: 73\n",
      "[!] Invalid end time /home/yihsin/dataset/midicaps/lmd_full/9/99406ac1c50160b83edebc01ec4f3645.mid: 240\n",
      "[!] Invalid end time /home/yihsin/dataset/midicaps/lmd_full/9/9589ce8d6b370a3550c4d15e59d82616.mid: 192\n",
      "[!] Invalid end time /home/yihsin/dataset/midicaps/lmd_full/b/b5126feb7872da5c09912d59cb2ce49b.mid: 96\n",
      "[!] Invalid end time /home/yihsin/dataset/midicaps/lmd_full/a/ada74f87700f01e66397f8012a79558a.mid: 192\n",
      "[!] Invalid end time /home/yihsin/dataset/midicaps/lmd_full/f/f203d755dab67355e9ef86f1c2011c03.mid: 324\n",
      "[!] Invalid end time /home/yihsin/dataset/midicaps/lmd_full/0/0028477d5868aabeb05c850a3b862ad5.mid: 384\n",
      "[!] Invalid end time /home/yihsin/dataset/midicaps/lmd_full/e/ef8be3c8dc4d5ec463786a2041584a11.mid: 384\n",
      "[!] Invalid end time /home/yihsin/dataset/midicaps/lmd_full/a/aa0fc61c31017f22a4e3d030e5e2da63.mid: 384\n",
      "[!] Invalid end time /home/yihsin/dataset/midicaps/lmd_full/e/e5539bfe092068d7177385f5a4fe57c9.mid: 234\n",
      "[!] Invalid end time /home/yihsin/dataset/midicaps/lmd_full/f/f49c0e6d352bd3cc6a8942b6e0b7ed49.mid: 384\n",
      "[!] Invalid end time /home/yihsin/dataset/midicaps/lmd_full/1/1042b289f91be9ef2a35b64eac281a64.mid: 426\n",
      "[!] Invalid end time /home/yihsin/dataset/midicaps/lmd_full/5/5acd76c27cf9a447162f53fc5e9bc282.mid: 384\n",
      "[!] Invalid end time /home/yihsin/dataset/midicaps/lmd_full/3/3228eb9abdd7a1d564cd6161d783f242.mid: 356\n",
      "[!] Invalid end time /home/yihsin/dataset/midicaps/lmd_full/d/d54fe08cb59dafada18fa2f94341fcd4.mid: 180\n",
      "[!] Not enough notes /home/yihsin/dataset/midicaps/lmd_full/c/c955e8aff4ff5dbe1ac8d4b6bdcb54bf.mid: 48\n",
      "[!] Invalid end time /home/yihsin/dataset/midicaps/lmd_full/7/7be21749e093e1f107f1670a71cacca9.mid: 183\n",
      "[!] Invalid end time /home/yihsin/dataset/midicaps/lmd_full/3/33c40898511e51532802cba920cf1f6d.mid: 435\n",
      "[!] Invalid end time /home/yihsin/dataset/midicaps/lmd_full/f/f48f555b210f9149ef468ce67e26e496.mid: 168\n",
      "[!] Invalid end time /home/yihsin/dataset/midicaps/lmd_full/8/8af8b2e54a4a78bfff37c56ac62aa679.mid: 96\n",
      "[!] Invalid end time /home/yihsin/dataset/midicaps/lmd_full/c/c5f40658caf1399123030cdead15a61a.mid: 192\n",
      "[!] Invalid end time /home/yihsin/dataset/midicaps/lmd_full/4/42afaabde26addb153ae3e1426c6aa59.mid: 264\n",
      "[!] Invalid end time /home/yihsin/dataset/midicaps/lmd_full/2/24e064f2744ddc38e3fdbe2edb15cf98.mid: 192\n",
      "[!] Invalid end time /home/yihsin/dataset/midicaps/lmd_full/8/81ccf93cd43f8a7e21e8a425a9952b4d.mid: 384\n",
      "[!] Invalid end time /home/yihsin/dataset/midicaps/lmd_full/1/189d6ba1ec0121035991328d06b0b528.mid: 276\n",
      "[!] Invalid end time /home/yihsin/dataset/midicaps/lmd_full/1/189065459981df9cafa09d42413e6bdb.mid: 384\n",
      "[!] Invalid end time /home/yihsin/dataset/midicaps/lmd_full/0/022597cb93044dd2a814498b6cda5a41.mid: 432\n",
      "[!] Invalid end time /home/yihsin/dataset/midicaps/lmd_full/4/478a030e86c46cf733dea0423996e173.mid: 288\n",
      "[!] Invalid end time /home/yihsin/dataset/midicaps/lmd_full/9/90d1ec584060a3b2579a41795dbe546b.mid: 432\n",
      "[!] Invalid end time /home/yihsin/dataset/midicaps/lmd_full/4/46e1d4b4aad19e0f603ccdcd4835c2cb.mid: 192\n",
      "[!] Invalid end time /home/yihsin/dataset/midicaps/lmd_full/c/cc1098175c31a4264a32332f1dc7ee6a.mid: 414\n",
      "[!] Invalid end time /home/yihsin/dataset/midicaps/lmd_full/9/951c007831f6d86d5b2619ac64d52d6e.mid: 189\n",
      "[!] Invalid end time /home/yihsin/dataset/midicaps/lmd_full/3/36852bea049ef149f8d6fa2926af6701.mid: 430\n",
      "[!] Invalid end time /home/yihsin/dataset/midicaps/lmd_full/0/00e88923efe78c711aa606f345dc87ad.mid: 457\n",
      "[!] Invalid end time /home/yihsin/dataset/midicaps/lmd_full/3/3c00ba13d12bf85452927f8d21649961.mid: 192\n",
      "[!] Invalid end time /home/yihsin/dataset/midicaps/lmd_full/b/b5606610632dd660fdd756b355a6ff3b.mid: 384\n",
      "[!] Invalid end time /home/yihsin/dataset/midicaps/lmd_full/6/6bc31fe7bec64b9a64e50cb0e52a5258.mid: 288\n",
      "[!] Invalid end time /home/yihsin/dataset/midicaps/lmd_full/8/81446f4863d9d76bf994d8da9bb98af5.mid: 384\n",
      "[!] Invalid end time /home/yihsin/dataset/midicaps/lmd_full/e/ea61ac267e0ea90a28c797c5e0d86d6f.mid: 246\n",
      "[!] Invalid end time /home/yihsin/dataset/midicaps/lmd_full/2/2a0e1f3ceef7fe0d159eba0f37d762ab.mid: 381\n",
      "[!] Invalid end time /home/yihsin/dataset/midicaps/lmd_full/9/9e7830a6a3bd2b08e136096ef301f694.mid: 186\n",
      "[!] Invalid end time /home/yihsin/dataset/midicaps/lmd_full/7/72530576bfaac58b41f5d50aecafe3bb.mid: 462\n",
      "[!] Invalid end time /home/yihsin/dataset/midicaps/lmd_full/0/0e3086da821189261de84c0dd27becfe.mid: 240\n",
      "[!] Invalid end time /home/yihsin/dataset/midicaps/lmd_full/f/f000c60fd76800e6a2f6cbbca459733a.mid: 447\n",
      "[!] Invalid end time /home/yihsin/dataset/midicaps/lmd_full/3/39b8dc7dca4ce13e0c5bce9fa43ff207.mid: 381\n",
      "[!] Invalid end time /home/yihsin/dataset/midicaps/lmd_full/5/5e78a6af772dc9efdeb7c4f179bc44c9.mid: 444\n",
      "[!] Invalid end time /home/yihsin/dataset/midicaps/lmd_full/9/90d0305652b1d482811b1fe7a3eef947.mid: 384\n",
      "[!] Invalid end time /home/yihsin/dataset/midicaps/lmd_full/f/f0294b565f1e133628127b6b3b58ad52.mid: 384\n",
      "[!] Invalid end time /home/yihsin/dataset/midicaps/lmd_full/3/34aa4ef2368b1f771050da18d431585c.mid: 176\n",
      "[!] Invalid end time /home/yihsin/dataset/midicaps/lmd_full/1/1e0af953dd06d1bd493a9516607fe38e.mid: 330\n",
      "[!] Invalid end time /home/yihsin/dataset/midicaps/lmd_full/3/360fe3639316cde57e4d337c85517347.mid: 381\n",
      "[!] Invalid end time /home/yihsin/dataset/midicaps/lmd_full/f/fac0e3e729648f900802874236b01bcd.mid: 384\n",
      "[!] Invalid end time /home/yihsin/dataset/midicaps/lmd_full/3/314c67fc7b6bd2337c81e1d6ed358f2b.mid: 324\n",
      "[!] Invalid end time /home/yihsin/dataset/midicaps/lmd_full/4/4d6d9ed639f74d03eed163bbae6226f8.mid: 384\n",
      "[!] Not enough notes /home/yihsin/dataset/midicaps/lmd_full/6/6ba665653bdb2e5704e3523cf409f645.mid: 0\n",
      "[!] Not enough notes /home/yihsin/dataset/midicaps/lmd_full/5/55ddd1da1d1c65dd8b57b09772f3370c.mid: 0\n",
      "[!] Invalid end time /home/yihsin/dataset/midicaps/lmd_full/e/eba5049e59f08009914651c72e1606fe.mid: 384\n",
      "[!] Invalid end time /home/yihsin/dataset/midicaps/lmd_full/d/d03c5273833f3d0f6ed5e87395e58142.mid: 184\n",
      "[!] Invalid end time /home/yihsin/dataset/midicaps/lmd_full/8/8bf2ce07880bcc68373188615d749549.mid: 189\n",
      "[!] Invalid end time /home/yihsin/dataset/midicaps/lmd_full/2/21f8ec8e94fee1c4bf330e34de8c707b.mid: 392\n",
      "[!] Invalid end time /home/yihsin/dataset/midicaps/lmd_full/6/6225c52378d8e5f7116bc19f7c8cbda1.mid: 210\n",
      "[!] Invalid end time /home/yihsin/dataset/midicaps/lmd_full/b/b34a95114dfdd290ba4f59ecaec3893b.mid: 186\n",
      "[!] Invalid end time /home/yihsin/dataset/midicaps/lmd_full/2/2a3e402adfe31b78cb674f617577bdec.mid: 174\n",
      "[!] Invalid end time /home/yihsin/dataset/midicaps/lmd_full/0/0f03765d1748e74ed05c37e7e47784af.mid: 282\n",
      "[!] Invalid end time /home/yihsin/dataset/midicaps/lmd_full/e/eba8eafe13a65ab02dc232d7bbe0674f.mid: 432\n",
      "[!] Invalid end time /home/yihsin/dataset/midicaps/lmd_full/2/2d1b5136fa6f6ae1381cc0db906a4e65.mid: 393\n",
      "[!] Invalid end time /home/yihsin/dataset/midicaps/lmd_full/8/86d56689aad006270f699f08b57aace9.mid: 168\n",
      "[!] Invalid end time /home/yihsin/dataset/midicaps/lmd_full/4/499a7f8c5b047bb6e054a62aaf9cdcf2.mid: 226\n",
      "[!] Invalid end time /home/yihsin/dataset/midicaps/lmd_full/8/8df930b67005dc782520bac3af49cb0f.mid: 353\n",
      "[!] Invalid end time /home/yihsin/dataset/midicaps/lmd_full/f/f60ca65264a6ba711a146e333ddb2272.mid: 384\n",
      "[!] Invalid end time /home/yihsin/dataset/midicaps/lmd_full/a/ab94228b74066b2269f6bb01dcc6a18c.mid: 384\n",
      "[!] Invalid end time /home/yihsin/dataset/midicaps/lmd_full/f/f5bb5359834f4f79aadaa3d351f67c80.mid: 384\n",
      "[!] Invalid end time /home/yihsin/dataset/midicaps/lmd_full/2/26d0c868a57a77664ee936e7d7e94270.mid: 384\n",
      "[!] Invalid end time /home/yihsin/dataset/midicaps/lmd_full/1/145f9a4caf5aba7428db2f0072b1685b.mid: 192\n",
      "[!] Invalid end time /home/yihsin/dataset/midicaps/lmd_full/4/458b2d957a32475619d157902a430866.mid: 384\n",
      "[!] Invalid end time /home/yihsin/dataset/midicaps/lmd_full/7/70c38e71ecca75a984227087554df7f3.mid: 258\n",
      "[!] Invalid end time /home/yihsin/dataset/midicaps/lmd_full/e/eade9675df94cec48c034fa70243555e.mid: 192\n",
      "[!] Invalid end time /home/yihsin/dataset/midicaps/lmd_full/1/1c00d61da3efcf2cc7b739c009afc71b.mid: 192\n",
      "[!] Invalid end time /home/yihsin/dataset/midicaps/lmd_full/4/463592f89e0f2aaba1e2480a78a332c1.mid: 398\n",
      "[!] Invalid end time /home/yihsin/dataset/midicaps/lmd_full/e/ed79ffb6bd167a4371fcb1457f67abf2.mid: 342\n",
      "[!] Invalid end time /home/yihsin/dataset/midicaps/lmd_full/0/0897bafcf2f3e191c9a5f63289ceba91.mid: 384\n",
      "[!] Invalid end time /home/yihsin/dataset/midicaps/lmd_full/5/527201aad836195e654ffaac52c736ee.mid: 410\n",
      "[!] Invalid end time /home/yihsin/dataset/midicaps/lmd_full/a/abfe11b64739e34917d0171de0484666.mid: 294\n",
      "[!] Invalid end time /home/yihsin/dataset/midicaps/lmd_full/e/e7466bfddd07ce7041571b21ab56afb1.mid: 382\n",
      "[!] Invalid end time /home/yihsin/dataset/midicaps/lmd_full/b/bafb4de26e5b1ffe30b45f630a4a502b.mid: 96\n",
      "[!] Invalid end time /home/yihsin/dataset/midicaps/lmd_full/8/840698b0207e412f02bf7e569d3c3708.mid: 249\n",
      "[!] Invalid end time /home/yihsin/dataset/midicaps/lmd_full/c/c3692d806640aeb279991bb944fe8dcf.mid: 384\n",
      "[!] Invalid end time /home/yihsin/dataset/midicaps/lmd_full/a/aef71ee2ab51c2fb730e419875ea99d1.mid: 113\n",
      "[!] Invalid end time /home/yihsin/dataset/midicaps/lmd_full/2/251f9e70819926c4341084b32d48bc2d.mid: 360\n",
      "[!] Invalid end time /home/yihsin/dataset/midicaps/lmd_full/6/63492393fe280dd6254da8d0e5e60f5c.mid: 162\n",
      "[!] Invalid end time /home/yihsin/dataset/midicaps/lmd_full/3/38ec90b7fba4b8a7608588b49425553b.mid: 191\n",
      "[!] Invalid end time /home/yihsin/dataset/midicaps/lmd_full/e/e56a8bf14bd0fcff3a462a861cd2e6ac.mid: 276\n",
      "[!] Invalid end time /home/yihsin/dataset/midicaps/lmd_full/1/18b78c3477ff3b2f9887b36ca0555d54.mid: 186\n",
      "[!] Invalid end time /home/yihsin/dataset/midicaps/lmd_full/0/0f593c5d2e1ddbfed9368fe556b393da.mid: 384\n",
      "[!] Invalid end time /home/yihsin/dataset/midicaps/lmd_full/8/8cab65ded361affd9d32c044223ffdd5.mid: 199\n",
      "[!] Invalid end time /home/yihsin/dataset/midicaps/lmd_full/3/38a4c40e260bfd79ba7d1ad894440982.mid: 384\n",
      "[!] Invalid end time /home/yihsin/dataset/midicaps/lmd_full/7/708a4fd293e0ccb7edd1d79805dc3356.mid: 288\n",
      "[!] Invalid end time /home/yihsin/dataset/midicaps/lmd_full/0/07240f2556f616bc3aa769e3d27f016d.mid: 217\n",
      "[!] Invalid end time /home/yihsin/dataset/midicaps/lmd_full/3/340cc0fef329687c325a13f18f32bd63.mid: 303\n",
      "[!] Invalid end time /home/yihsin/dataset/midicaps/lmd_full/a/acc4de654e7a3b0a025a80313ca22c79.mid: 398\n",
      "[!] Invalid end time /home/yihsin/dataset/midicaps/lmd_full/9/9522d89e5731b7293767317eb4291615.mid: 192\n",
      "[!] Invalid end time /home/yihsin/dataset/midicaps/lmd_full/7/7c32e351b03ab48c9f20c4cfca875830.mid: 371\n",
      "[!] Invalid end time /home/yihsin/dataset/midicaps/lmd_full/a/ad389db38c1c7b976636ddc6477c86bc.mid: 96\n",
      "[!] Not enough notes /home/yihsin/dataset/midicaps/lmd_full/1/13acf8b37e0432061b8d3302f87c2fa5.mid: 44\n",
      "[!] Invalid end time /home/yihsin/dataset/midicaps/lmd_full/3/37afe339b39af57e5defb1d40050b66f.mid: 384\n",
      "[!] Invalid end time /home/yihsin/dataset/midicaps/lmd_full/c/cac8d202af963133954573800a92cdc0.mid: 144\n",
      "[!] Invalid end time /home/yihsin/dataset/midicaps/lmd_full/8/8fa6e6ac3e339437c02b76e6ab3c2c64.mid: 384\n",
      "[!] Invalid end time /home/yihsin/dataset/midicaps/lmd_full/0/007d37ddafb67c5bf8928af9a8d98fe3.mid: 342\n",
      "[!] Invalid end time /home/yihsin/dataset/midicaps/lmd_full/e/e05b24f88db57b4063d316ef56c649ee.mid: 312\n",
      "[!] Invalid end time /home/yihsin/dataset/midicaps/lmd_full/a/aef0273acb76e8c78c9667b231082d2f.mid: 252\n",
      "[!] Invalid end time /home/yihsin/dataset/midicaps/lmd_full/f/f06feb3d91a5b643e5846596334349bf.mid: 384\n",
      "[!] Invalid end time /home/yihsin/dataset/midicaps/lmd_full/b/bb61c7f2457cd28d0e1c507a37cd0017.mid: 468\n",
      "[!] Invalid end time /home/yihsin/dataset/midicaps/lmd_full/3/3a311dbc78fbe18d6d89905544f16ccb.mid: 384\n",
      "[!] Invalid end time /home/yihsin/dataset/midicaps/lmd_full/2/2e5b8aeb54932cef7ab3f665597d457a.mid: 360\n",
      "[!] Invalid end time /home/yihsin/dataset/midicaps/lmd_full/7/72dd264b1b2babd6ed59f0981c9d21e2.mid: 384\n",
      "[!] Invalid end time /home/yihsin/dataset/midicaps/lmd_full/b/bbe106d97662943be6200d234b854a67.mid: 384\n",
      "[!] Invalid end time /home/yihsin/dataset/midicaps/lmd_full/b/b5febd4f13988b10e2d8ebf89f4bb473.mid: 192\n",
      "[!] Invalid end time /home/yihsin/dataset/midicaps/lmd_full/7/75ec223b8d0068968114ec106d3ee156.mid: 210\n",
      "[!] Invalid end time /home/yihsin/dataset/midicaps/lmd_full/9/9edee7a53811315267c12b11d834f025.mid: 421\n",
      "[!] Invalid end time /home/yihsin/dataset/midicaps/lmd_full/0/00efa70c7e86dee73e574d3366874eca.mid: 384\n",
      "[!] Invalid end time /home/yihsin/dataset/midicaps/lmd_full/8/8310c4c9cda0aea71b184ee4e75a619a.mid: 384\n",
      "[!] Invalid end time /home/yihsin/dataset/midicaps/lmd_full/4/439b2dcabbbea0c10c89a295a22abaa6.mid: 228\n",
      "[!] Invalid end time /home/yihsin/dataset/midicaps/lmd_full/3/32e029cfce6836abc11e556b6310ede6.mid: 240\n",
      "[!] Invalid end time /home/yihsin/dataset/midicaps/lmd_full/4/4a7649396a6f8873321a7dd0b04d0725.mid: 384\n",
      "[!] Invalid end time /home/yihsin/dataset/midicaps/lmd_full/9/9dfc5a57202e4b7b5a285d4958071df8.mid: 426\n",
      "[!] Invalid end time /home/yihsin/dataset/midicaps/lmd_full/c/cdbf74a4d57d9b9b77ed5c13f4a56c1e.mid: 384\n",
      "[!] Invalid end time /home/yihsin/dataset/midicaps/lmd_full/a/aaa17155d0a8675ee054c2357c94cb54.mid: 384\n",
      "[!] Invalid end time /home/yihsin/dataset/midicaps/lmd_full/4/42c3fcd53632355620759b673aaf8df1.mid: 384\n",
      "[!] Invalid end time /home/yihsin/dataset/midicaps/lmd_full/d/d04dc6e2685677f3a3ddaa85ce87cc94.mid: 192\n",
      "[!] Invalid end time /home/yihsin/dataset/midicaps/lmd_full/0/04f7e7fc81c767075f6f4fa7e25fd70b.mid: 384\n",
      "[!] Invalid end time /home/yihsin/dataset/midicaps/lmd_full/3/3ab11b45aad4842f1ce71af2a91ac93f.mid: 234\n",
      "[!] Not enough notes /home/yihsin/dataset/midicaps/lmd_full/7/7f53fa7695d1a578ae77ef53f23e382a.mid: 0\n",
      "[!] Invalid end time /home/yihsin/dataset/midicaps/lmd_full/0/0e0b68089594301f710009568ea0574d.mid: 287\n",
      "[!] Invalid end time /home/yihsin/dataset/midicaps/lmd_full/b/b0c1d203c7303ce8d8d7bf3153e77a00.mid: 420\n",
      "[!] Invalid end time /home/yihsin/dataset/midicaps/lmd_full/3/321f827b795fb01ea875685c04382eb8.mid: 426\n",
      "[!] Invalid end time /home/yihsin/dataset/midicaps/lmd_full/f/fe77ea87355a8c41e204535430f699e5.mid: 384\n",
      "[!] Invalid end time /home/yihsin/dataset/midicaps/lmd_full/6/6944400a6e353cd058765d02ced6019d.mid: 384\n",
      "[!] Invalid end time /home/yihsin/dataset/midicaps/lmd_full/6/6aacccc26743a6b9ada984022a921d2d.mid: 186\n",
      "[!] Invalid end time /home/yihsin/dataset/midicaps/lmd_full/d/dd2713d75887c82345aafeeb045da638.mid: 381\n",
      "[!] Not enough notes /home/yihsin/dataset/midicaps/lmd_full/f/f758f423b6de2eb997d6a71bc201903f.mid: 0\n",
      "[!] Invalid end time /home/yihsin/dataset/midicaps/lmd_full/e/ec190900291006ec2865c9e6e016b59f.mid: 384\n",
      "[!] Invalid end time /home/yihsin/dataset/midicaps/lmd_full/4/4400b308e15a681f300b93a1769b68ad.mid: 288\n",
      "[!] Invalid end time /home/yihsin/dataset/midicaps/lmd_full/9/98659c6e0910914f6e0a1354c9a684ec.mid: 95\n",
      "[!] Invalid end time /home/yihsin/dataset/midicaps/lmd_full/8/81e19375bbc4d65a4cd7c37616de5ba1.mid: 285\n",
      "[!] Invalid end time /home/yihsin/dataset/midicaps/lmd_full/d/ddaf59701eb568f8090728240b464806.mid: 384\n",
      "[!] Invalid end time /home/yihsin/dataset/midicaps/lmd_full/a/ac11ba98c570db86c54dc16c7bb4fd98.mid: 336\n",
      "[!] Invalid end time /home/yihsin/dataset/midicaps/lmd_full/c/c8be402bcc0b1115cdee12958b49120b.mid: 384\n",
      "[!] Invalid end time /home/yihsin/dataset/midicaps/lmd_full/1/10e43d77c9969dbbbc76045bf1a12c99.mid: 384\n",
      "[!] Invalid end time /home/yihsin/dataset/midicaps/lmd_full/0/097bf597de9a4cde3f9af6eb73b815c5.mid: 318\n",
      "[!] Invalid end time /home/yihsin/dataset/midicaps/lmd_full/f/f378fdbd3e0558398ee1512cc8ebb664.mid: 54\n",
      "[!] Invalid end time /home/yihsin/dataset/midicaps/lmd_full/3/302abbc1edd0c4b22684b7e95adbb093.mid: 87\n",
      "[!] Invalid end time /home/yihsin/dataset/midicaps/lmd_full/3/3be534b69b750f7b03a675e2388b83f9.mid: 384\n",
      "[!] Invalid end time /home/yihsin/dataset/midicaps/lmd_full/e/ede3af4279482b52c934ce88ac303b3d.mid: 192\n",
      "[!] Invalid end time /home/yihsin/dataset/midicaps/lmd_full/9/9bc750c89153a59dfe84dc465a6bbfb4.mid: 384\n",
      "[!] Invalid end time /home/yihsin/dataset/midicaps/lmd_full/6/63cccae718d2ca1518fea3d204c22f2a.mid: 252\n",
      "[!] Not enough notes /home/yihsin/dataset/midicaps/lmd_full/3/3e225b73c2cda09d42cb982c1ba1b797.mid: 32\n",
      "[!] Invalid end time /home/yihsin/dataset/midicaps/lmd_full/0/01cd751035e2214bfc44bd6775d1ba50.mid: 96\n",
      "[!] Invalid end time /home/yihsin/dataset/midicaps/lmd_full/4/45572972eb3fd7a508e9e584f6754604.mid: 384\n",
      "[!] Invalid end time /home/yihsin/dataset/midicaps/lmd_full/7/76dfe167bb05005c3034088f19042474.mid: 192\n",
      "[!] Invalid end time /home/yihsin/dataset/midicaps/lmd_full/c/ca025b01cae2e3a42eb1322f37bf16a6.mid: 192\n",
      "[!] Invalid end time /home/yihsin/dataset/midicaps/lmd_full/b/b27819dd7b2ca8791bcabc676d24cbda.mid: 192\n",
      "[!] Invalid end time /home/yihsin/dataset/midicaps/lmd_full/4/4d02efb1a6eba95579cd4e56aa4de7bb.mid: 440\n",
      "[!] Invalid end time /home/yihsin/dataset/midicaps/lmd_full/0/09af8d300a9c4629b9e6ea60e92786f7.mid: 384\n",
      "[!] Invalid end time /home/yihsin/dataset/midicaps/lmd_full/b/bca91ce9a51b08f746da1e7c66d12172.mid: 384\n",
      "[!] Invalid end time /home/yihsin/dataset/midicaps/lmd_full/8/8339a3f2677637456d91f7ce580f0949.mid: 192\n",
      "[!] Invalid end time /home/yihsin/dataset/midicaps/lmd_full/9/9ac6dbcdfd188f714fca9288045a52d2.mid: 198\n",
      "[!] Invalid end time /home/yihsin/dataset/midicaps/lmd_full/1/18407924524898ea9a9880d7f0b1f959.mid: 384\n",
      "[!] Invalid end time /home/yihsin/dataset/midicaps/lmd_full/6/6859fe444d566016700452771aaffe2f.mid: 383\n",
      "[!] Invalid end time /home/yihsin/dataset/midicaps/lmd_full/5/5ac89977379af4680b04342edc035439.mid: 384\n",
      "[!] Not enough notes /home/yihsin/dataset/midicaps/lmd_full/9/94ef9d1a56a98ad2b33406db5cce44d7.mid: 31\n",
      "[!] Not enough notes /home/yihsin/dataset/midicaps/lmd_full/c/c90b71e78a1b38d0841534f37519d380.mid: 30\n",
      "[!] Invalid end time /home/yihsin/dataset/midicaps/lmd_full/5/5b825d93cc31732cdcb81c9c5556e707.mid: 150\n",
      "[!] Not enough notes /home/yihsin/dataset/midicaps/lmd_full/c/cd852d3c1ea8a626ad9f2600be216abe.mid: 32\n",
      "[!] Invalid end time /home/yihsin/dataset/midicaps/lmd_full/3/3fe90e941524bb36ab4cf4bf31ddde20.mid: 336\n",
      "[!] Invalid end time /home/yihsin/dataset/midicaps/lmd_full/4/4f5532ab893022bdb40d6bfd69f89e97.mid: 180\n",
      "[!] Invalid end time /home/yihsin/dataset/midicaps/lmd_full/a/af513e1f23b86b3db82730b87ddfbbbb.mid: 192\n",
      "[!] Invalid end time /home/yihsin/dataset/midicaps/lmd_full/7/71e770105579be2fa9611f6a2935c7ae.mid: 426\n",
      "[!] Invalid end time /home/yihsin/dataset/midicaps/lmd_full/e/ef28f8317de387a61005f9fe7b1c4960.mid: 384\n",
      "[!] Invalid end time /home/yihsin/dataset/midicaps/lmd_full/9/9e9392eb9be870c8792ffe97d265680d.mid: 177\n",
      "[!] Invalid end time /home/yihsin/dataset/midicaps/lmd_full/9/9a0afda3ad9bdd88c699bed911539adf.mid: 384\n",
      "[!] Invalid end time /home/yihsin/dataset/midicaps/lmd_full/4/4549fec389818255a1648f016eb484d2.mid: 192\n",
      "[!] Invalid end time /home/yihsin/dataset/midicaps/lmd_full/e/e48b75fa72074716bfacb348034a7d79.mid: 193\n",
      "[!] Invalid end time /home/yihsin/dataset/midicaps/lmd_full/5/5fd82f7971fd5cd2f34f89b1d8618425.mid: 150\n",
      "[!] Invalid end time /home/yihsin/dataset/midicaps/lmd_full/d/dcd41d9f73a72fee6ce93ccc9a90fffb.mid: 192\n",
      "[!] Invalid end time /home/yihsin/dataset/midicaps/lmd_full/8/8174db9e010f23e270c1722b97431d1b.mid: 192\n",
      "[!] Invalid end time /home/yihsin/dataset/midicaps/lmd_full/3/317afe35f860a291e42db6908f25137d.mid: 192\n",
      "[!] Invalid end time /home/yihsin/dataset/midicaps/lmd_full/3/3bff368c222e8322349f20de105acebd.mid: 252\n",
      "[!] Invalid end time /home/yihsin/dataset/midicaps/lmd_full/8/8d3c22b0799a033c15991bd8b4503d42.mid: 396\n",
      "[!] Invalid end time /home/yihsin/dataset/midicaps/lmd_full/4/4c0612cba59bff7fe5f8d83e677ba814.mid: 384\n",
      "[!] Invalid end time /home/yihsin/dataset/midicaps/lmd_full/7/7e8423c92935973714c6fba8cd17ae15.mid: 384\n",
      "[!] Invalid end time /home/yihsin/dataset/midicaps/lmd_full/7/7ed48e252f4fc1b70aef6a4ee2c587a5.mid: 192\n",
      "[!] Invalid end time /home/yihsin/dataset/midicaps/lmd_full/2/2091a07fb8090e03d6165860e863d594.mid: 384\n",
      "[!] Invalid end time /home/yihsin/dataset/midicaps/lmd_full/1/1be0d5bad0973ff990ac3d3c0f1cec4e.mid: 234\n",
      "[!] Invalid end time /home/yihsin/dataset/midicaps/lmd_full/b/bee84b90f1a51c59aa3be39582657a86.mid: 384\n",
      "[!] Invalid end time /home/yihsin/dataset/midicaps/lmd_full/f/f43d085cfad584d2b2ea1db1e92bbc00.mid: 192\n",
      "[!] Not enough notes /home/yihsin/dataset/midicaps/lmd_full/1/14ce828cf72b4171797fe1837f7002c5.mid: 25\n",
      "[!] Invalid end time /home/yihsin/dataset/midicaps/lmd_full/9/95919eaa8fd98ff23d2ac0e20f089bf8.mid: 190\n",
      "[!] Invalid end time /home/yihsin/dataset/midicaps/lmd_full/9/9515e40141b55d261debb41805a225e0.mid: 396\n",
      "[!] Invalid end time /home/yihsin/dataset/midicaps/lmd_full/9/9e0fc8ed33f3d3bb2ff897cc98bc3045.mid: 192\n",
      "[!] Invalid end time /home/yihsin/dataset/midicaps/lmd_full/d/de006b5042f5cb465c666beb2766a951.mid: 468\n",
      "[!] Invalid end time /home/yihsin/dataset/midicaps/lmd_full/2/20cc81441f72041cbdb11cd9173e0348.mid: 192\n",
      "[!] Invalid end time /home/yihsin/dataset/midicaps/lmd_full/3/338daaf40b428e37381f15bf1b1dda9a.mid: 282\n",
      "[!] Invalid end time /home/yihsin/dataset/midicaps/lmd_full/9/9025aa06aad311f2a6cddb58018e38c5.mid: 384\n",
      "[!] Invalid end time /home/yihsin/dataset/midicaps/lmd_full/f/ff15599bebc8b38d5bb996e77fd53ea3.mid: 384\n",
      "[!] Invalid end time /home/yihsin/dataset/midicaps/lmd_full/c/c56517c96e8e4da8b82f816e645dc170.mid: 144\n",
      "[!] Invalid end time /home/yihsin/dataset/midicaps/lmd_full/8/85793e487d719fdb8df6dc5829206636.mid: 191\n",
      "[!] Invalid end time /home/yihsin/dataset/midicaps/lmd_full/b/ba2675853f6bfa6370c209660e1fb0f0.mid: 192\n",
      "[!] Invalid end time /home/yihsin/dataset/midicaps/lmd_full/a/a5a9c36d8fc36d8feb3fb18222794565.mid: 192\n",
      "[!] Invalid end time /home/yihsin/dataset/midicaps/lmd_full/8/8d1d321ca6cfef4d1382f8a8f36dfa35.mid: 432\n",
      "[!] Invalid end time /home/yihsin/dataset/midicaps/lmd_full/7/7f7a8ded29684f1d6526816317752379.mid: 168\n",
      "[!] Invalid end time /home/yihsin/dataset/midicaps/lmd_full/c/cff2918b1b8f22477cb9a8b24710f185.mid: 193\n",
      "[!] Invalid end time /home/yihsin/dataset/midicaps/lmd_full/b/b405ece2fd02d2880cd1b20c001b98b9.mid: 144\n",
      "[!] Invalid end time /home/yihsin/dataset/midicaps/lmd_full/f/faa334773cf266b2ff3a3f6d791ec02c.mid: 420\n",
      "[!] Invalid end time /home/yihsin/dataset/midicaps/lmd_full/4/4459ba8c6fd9623dd9f6bd05e5fe3b14.mid: 123\n",
      "[!] Invalid end time /home/yihsin/dataset/midicaps/lmd_full/5/5427e05497c9dfd082519f8784e361bb.mid: 188\n",
      "[!] Not enough notes /home/yihsin/dataset/midicaps/lmd_full/7/70c8b6c351bf035d75a15bef8ce25700.mid: 0\n",
      "[!] Invalid end time /home/yihsin/dataset/midicaps/lmd_full/d/d93fdd5e4a9c2863b382fbda5173639f.mid: 312\n",
      "[!] Invalid end time /home/yihsin/dataset/midicaps/lmd_full/0/0ec6f18fd1ffeec8219ae4648af5783f.mid: 384\n",
      "[!] Invalid end time /home/yihsin/dataset/midicaps/lmd_full/6/6f1a965a36ccbf1a49904eb847641dfb.mid: 288\n",
      "[!] Invalid end time /home/yihsin/dataset/midicaps/lmd_full/0/01fb957a9de06f50477a107d3c5366fa.mid: 264\n",
      "[!] Invalid end time /home/yihsin/dataset/midicaps/lmd_full/c/cf1f675306f503255c765e1755e5dd5a.mid: 384\n",
      "[!] Invalid end time /home/yihsin/dataset/midicaps/lmd_full/2/26c3fea4f48816c68c05c9b75b797245.mid: 192\n",
      "[!] Invalid end time /home/yihsin/dataset/midicaps/lmd_full/e/ea4572d4d48d92002bdcb9f5a8401d89.mid: 384\n",
      "[!] Invalid end time /home/yihsin/dataset/midicaps/lmd_full/a/a1809ddc82742617c7fd9a130b3cb2b3.mid: 408\n",
      "[!] Invalid end time /home/yihsin/dataset/midicaps/lmd_full/a/aa04dd23faa5dc30da0efa880b33b3ea.mid: 384\n",
      "[!] Invalid end time /home/yihsin/dataset/midicaps/lmd_full/3/3112086ae861c5b7bdacfe1f55826dbb.mid: 384\n",
      "[!] Invalid end time /home/yihsin/dataset/midicaps/lmd_full/4/411ddd72849b013dc14551c884dae702.mid: 192\n",
      "[!] Invalid end time /home/yihsin/dataset/midicaps/lmd_full/8/8c70c1fd587a3b55c2a06eec11680c9a.mid: 366\n",
      "[!] Invalid end time /home/yihsin/dataset/midicaps/lmd_full/8/88e76aa4d1cb88bf09c0fad176482ee4.mid: 192\n",
      "[!] Invalid end time /home/yihsin/dataset/midicaps/lmd_full/e/e5552b8b22c1c17b1edd7ae1009716f9.mid: 384\n",
      "[!] Invalid end time /home/yihsin/dataset/midicaps/lmd_full/5/526744e234a8309895cf374b9a7da194.mid: 156\n",
      "[!] Invalid end time /home/yihsin/dataset/midicaps/lmd_full/b/b868dc6eb49e95e92858ae6431e8f99b.mid: 384\n",
      "[!] Invalid end time /home/yihsin/dataset/midicaps/lmd_full/4/47640faea2a7ddb18491fa19e93b8af3.mid: 384\n",
      "[!] Invalid end time /home/yihsin/dataset/midicaps/lmd_full/9/9e340ce1d463b7021d005f5d5fad5c83.mid: 384\n",
      "[!] Invalid end time /home/yihsin/dataset/midicaps/lmd_full/6/6ede9bdd9137ce42eeac62dddf4dad2e.mid: 387\n",
      "[!] Invalid end time /home/yihsin/dataset/midicaps/lmd_full/7/7ef1ce71e9c59eb95d8ec3c4c2f3c37a.mid: 384\n",
      "[!] Invalid end time /home/yihsin/dataset/midicaps/lmd_full/d/dad77bca45428aa2957e213aef7726f8.mid: 425\n",
      "[!] Invalid end time /home/yihsin/dataset/midicaps/lmd_full/d/df917eb8a598f23d1d2302ec7408333a.mid: 312\n",
      "[!] Invalid end time /home/yihsin/dataset/midicaps/lmd_full/3/38635feb2a7f2e49baf748b7ea00462c.mid: 384\n",
      "[!] Invalid end time /home/yihsin/dataset/midicaps/lmd_full/2/26c59e0cfc3e9bc96868242e787b7bd6.mid: 384\n",
      "[!] Invalid end time /home/yihsin/dataset/midicaps/lmd_full/d/dffb0b058e513ec5c2673e416ca72566.mid: 144\n",
      "[!] Invalid end time /home/yihsin/dataset/midicaps/lmd_full/9/9256e0c048e590634c52bc89f0e1c5e3.mid: 384\n",
      "[!] Invalid end time /home/yihsin/dataset/midicaps/lmd_full/3/3e098edea3a167bfa41efb0acd44e624.mid: 180\n",
      "[!] Invalid end time /home/yihsin/dataset/midicaps/lmd_full/f/fbe9462540134ba261d8a6f254ada4bf.mid: 191\n",
      "[!] Invalid end time /home/yihsin/dataset/midicaps/lmd_full/7/720dc2101e81a51e38d7a1524cda0dad.mid: 276\n",
      "[!] Invalid end time /home/yihsin/dataset/midicaps/lmd_full/5/5941ec6cf0480532260579c6815b7e7b.mid: 192\n",
      "[!] Invalid end time /home/yihsin/dataset/midicaps/lmd_full/4/44ba5107c679258d61ff1de7aa7bc949.mid: 384\n",
      "[!] Invalid end time /home/yihsin/dataset/midicaps/lmd_full/f/f659cedb88e09bd4c1d51548d8d16149.mid: 240\n",
      "[!] Not enough notes /home/yihsin/dataset/midicaps/lmd_full/2/2748074a0292ee71102270fb22ded09b.mid: 34\n",
      "[!] Invalid end time /home/yihsin/dataset/midicaps/lmd_full/d/d4ce6ce1cf5978a20d55c183c6be047f.mid: 192\n",
      "[!] Invalid end time /home/yihsin/dataset/midicaps/lmd_full/f/f61a60b46006c819060d41f9fab6a477.mid: 354\n",
      "[!] Invalid end time /home/yihsin/dataset/midicaps/lmd_full/e/efc11c5118d9f5d34e512c8049642468.mid: 96\n",
      "[!] Invalid end time /home/yihsin/dataset/midicaps/lmd_full/b/bb04c79334d79f7f4ea19a1e5d46934b.mid: 384\n",
      "[!] Invalid end time /home/yihsin/dataset/midicaps/lmd_full/3/3075df51a39701590ad05dcf792a3629.mid: 384\n",
      "[!] Invalid end time /home/yihsin/dataset/midicaps/lmd_full/e/e42b414be9b4f92cc041ccaab7604a82.mid: 336\n",
      "[!] Not enough notes /home/yihsin/dataset/midicaps/lmd_full/7/7585c9927caf46f2d0185b25f31fd581.mid: 16\n",
      "[!] Invalid end time /home/yihsin/dataset/midicaps/lmd_full/a/a4e997ddacc5f3bb38d3df1559d9ac2f.mid: 384\n",
      "[!] Invalid end time /home/yihsin/dataset/midicaps/lmd_full/4/40f4a76385e3a43f321b0203f692e831.mid: 281\n",
      "[!] Invalid end time /home/yihsin/dataset/midicaps/lmd_full/1/1e720867bf0ef74601e0758a31662391.mid: 384\n",
      "[!] Invalid end time /home/yihsin/dataset/midicaps/lmd_full/8/8b88657740e2bdcffb6026ce90ee17df.mid: 384\n",
      "[!] Invalid end time /home/yihsin/dataset/midicaps/lmd_full/0/06bde2608c66fbfc3c25dd1e180cd8a6.mid: 432\n",
      "[!] Invalid end time /home/yihsin/dataset/midicaps/lmd_full/c/cbf86baf84a0fc43d0c35502daf6932e.mid: 372\n",
      "[!] Invalid end time /home/yihsin/dataset/midicaps/lmd_full/d/d76f3f9ad515c296634bb2ab11070709.mid: 432\n",
      "[!] Invalid end time /home/yihsin/dataset/midicaps/lmd_full/b/b7e06b96913e22de3335dabcd4d67063.mid: 384\n",
      "[!] Invalid end time /home/yihsin/dataset/midicaps/lmd_full/c/c926bf13302c0efa238e1d186506f174.mid: 384\n",
      "[!] Invalid end time /home/yihsin/dataset/midicaps/lmd_full/0/07f99811343d868c76d920d3217884f1.mid: 343\n",
      "[!] Invalid end time /home/yihsin/dataset/midicaps/lmd_full/d/d743840d0cd8615daa0d7894d714b68e.mid: 192\n",
      "[!] Invalid end time /home/yihsin/dataset/midicaps/lmd_full/b/be87e12ed12f472ee9cfe3a964f4bdfe.mid: 192\n",
      "[!] Invalid end time /home/yihsin/dataset/midicaps/lmd_full/2/2bbfcb7b645180cd583c829ffc500a52.mid: 234\n",
      "[!] Invalid end time /home/yihsin/dataset/midicaps/lmd_full/2/23ca6b681fb93fafa259c6adf944bc43.mid: 384\n",
      "[!] Invalid end time /home/yihsin/dataset/midicaps/lmd_full/8/87f2c06c56fc5f16b2d58eceae8ef451.mid: 384\n",
      "[!] Not enough notes /home/yihsin/dataset/midicaps/lmd_full/0/0991505c9da196d0f3500a192e21ee10.mid: 37\n",
      "[!] Invalid end time /home/yihsin/dataset/midicaps/lmd_full/b/b00a850e8a38190ed51491df22a16d75.mid: 384\n",
      "[!] Invalid end time /home/yihsin/dataset/midicaps/lmd_full/e/ef4bfa90e27bcce6837313dce0f2113c.mid: 234\n",
      "[!] Invalid end time /home/yihsin/dataset/midicaps/lmd_full/c/ced69b457cdb9285b287c5b7fa521d24.mid: 383\n",
      "[!] Invalid end time /home/yihsin/dataset/midicaps/lmd_full/3/3e61bbe8bd477f94564afeae7af0cf0d.mid: 240\n",
      "[!] Invalid end time /home/yihsin/dataset/midicaps/lmd_full/a/a5a4a1c2b9d89222c932729e2508decf.mid: 294\n",
      "[!] Invalid end time /home/yihsin/dataset/midicaps/lmd_full/a/acd20e1f3001294cf2a959db1251738c.mid: 384\n",
      "[!] Invalid end time /home/yihsin/dataset/midicaps/lmd_full/6/61f6906ead1219c833f23423b441c5d9.mid: 192\n",
      "[!] Invalid end time /home/yihsin/dataset/midicaps/lmd_full/c/c108764ca8efe20c08e8e64b952f8c50.mid: 384\n",
      "[!] Invalid end time /home/yihsin/dataset/midicaps/lmd_full/4/4ff0be7c9f12ee35db14788a7e8df545.mid: 277\n",
      "[!] Invalid end time /home/yihsin/dataset/midicaps/lmd_full/5/5e023e32c7e48dba9238111e2298a85e.mid: 336\n",
      "[!] Invalid end time /home/yihsin/dataset/midicaps/lmd_full/f/f795c4e9ced31408fe2695a6e1120167.mid: 91\n",
      "[!] Invalid end time /home/yihsin/dataset/midicaps/lmd_full/9/9849cac4583d5820394b8f736cedaf74.mid: 191\n",
      "[!] Invalid end time /home/yihsin/dataset/midicaps/lmd_full/4/4c5a314868dd88c6126eccff9fb6d7e3.mid: 351\n",
      "[!] Invalid end time /home/yihsin/dataset/midicaps/lmd_full/9/9c53011820055c2518a2c2af450a54d7.mid: 444\n",
      "[!] Invalid end time /home/yihsin/dataset/midicaps/lmd_full/3/33bc1b26ec41de5c016ff7b81f2cf979.mid: 348\n",
      "[!] Invalid end time /home/yihsin/dataset/midicaps/lmd_full/d/df36c30b03ce2eae24931ad446dd33dc.mid: 378\n",
      "[!] Invalid end time /home/yihsin/dataset/midicaps/lmd_full/2/2d593719f7fee4382487d18bb386744d.mid: 426\n",
      "[!] Not enough notes /home/yihsin/dataset/midicaps/lmd_full/2/2f0726de21a9148b3ec099c7c0d47332.mid: 0\n",
      "[!] Invalid end time /home/yihsin/dataset/midicaps/lmd_full/7/72d6dde9ed5b88d379e03c3072f8f8bf.mid: 97\n",
      "[!] Invalid end time /home/yihsin/dataset/midicaps/lmd_full/5/52184fbabf87a6c66360ad7c35555c2f.mid: 351\n",
      "[!] Invalid end time /home/yihsin/dataset/midicaps/lmd_full/a/a00f0e26e5d51df3c206335695f0a3e8.mid: 228\n",
      "[!] Invalid end time /home/yihsin/dataset/midicaps/lmd_full/7/75e0390d9ca7bc44c5709caacf3114b4.mid: 258\n",
      "[!] Invalid end time /home/yihsin/dataset/midicaps/lmd_full/a/af7ca68f1e4ca2ceaca59744502caf13.mid: 384\n",
      "[!] Invalid end time /home/yihsin/dataset/midicaps/lmd_full/2/22e2198c9b40fca1b579c0207814089c.mid: 365\n",
      "[!] Invalid end time /home/yihsin/dataset/midicaps/lmd_full/8/8c1fc3070bb79df640fa8aad5c1244b8.mid: 384\n",
      "[!] Invalid end time /home/yihsin/dataset/midicaps/lmd_full/6/6912cec609e3023f9e2ee6eba5ba804a.mid: 382\n",
      "[!] Invalid end time /home/yihsin/dataset/midicaps/lmd_full/4/46ac1084023771b9053ef38b26c25b8e.mid: 384\n",
      "[!] Invalid end time /home/yihsin/dataset/midicaps/lmd_full/c/cbbb73e9ea0e5fba30423ac67e565932.mid: 288\n",
      "[!] Invalid end time /home/yihsin/dataset/midicaps/lmd_full/6/6046b7341032376656d617ae7ec324af.mid: 384\n",
      "[!] Invalid end time /home/yihsin/dataset/midicaps/lmd_full/3/3c9d7a9933d5d2f149acd44fce4f624a.mid: 384\n",
      "[!] Invalid end time /home/yihsin/dataset/midicaps/lmd_full/5/53fd47f3a4d81c42621ec747d4be6216.mid: 384\n",
      "[!] Invalid end time /home/yihsin/dataset/midicaps/lmd_full/5/564784dfba41dd563f47cf8118c6c248.mid: 192\n",
      "[!] Invalid end time /home/yihsin/dataset/midicaps/lmd_full/8/8a5dc10fb1bc7a5405b57d222e2edc2f.mid: 384\n",
      "[!] Invalid end time /home/yihsin/dataset/midicaps/lmd_full/c/ce2bcb71cd09798801a6937b521bec7a.mid: 384\n",
      "[!] Invalid end time /home/yihsin/dataset/midicaps/lmd_full/5/5ca72bc507269ed116ed607dbccc17c8.mid: 188\n",
      "[!] Invalid end time /home/yihsin/dataset/midicaps/lmd_full/f/fc4eada4345d97c09d241d57d9762495.mid: 192\n",
      "[!] Invalid end time /home/yihsin/dataset/midicaps/lmd_full/f/f128b4f4cfdb758edd4365c882d8e3d4.mid: 192\n",
      "[!] Invalid end time /home/yihsin/dataset/midicaps/lmd_full/e/e288fbb02fc82bd195eae744ab6d49eb.mid: 343\n",
      "[!] Invalid end time /home/yihsin/dataset/midicaps/lmd_full/f/f887597fd19eafcf82cf6ef206e06b01.mid: 384\n",
      "[!] Invalid end time /home/yihsin/dataset/midicaps/lmd_full/0/098783f694bb9a802edd55daac4a02e7.mid: 380\n",
      "[!] Invalid end time /home/yihsin/dataset/midicaps/lmd_full/7/7243f85f87c3cd4c3284f4db4d248d06.mid: 384\n",
      "[!] Invalid end time /home/yihsin/dataset/midicaps/lmd_full/8/8e08d507af74d0d542be5a79eccdd906.mid: 383\n",
      "[!] Invalid end time /home/yihsin/dataset/midicaps/lmd_full/e/efb0fc25321c1da4305dc119ab40f5e0.mid: 384\n",
      "[!] Invalid end time /home/yihsin/dataset/midicaps/lmd_full/2/2bbcdf370e056230859152bf5d3fa594.mid: 384\n",
      "[!] Invalid end time /home/yihsin/dataset/midicaps/lmd_full/2/2ef387fd79e7637be82a92a510e813c8.mid: 96\n",
      "[!] Invalid end time /home/yihsin/dataset/midicaps/lmd_full/5/50f4f9e8dfaa512f779767be40d48f5a.mid: 438\n",
      "[!] Invalid end time /home/yihsin/dataset/midicaps/lmd_full/0/0b21e78c3391d34723e4ba108a674c8e.mid: 192\n",
      "[!] Invalid end time /home/yihsin/dataset/midicaps/lmd_full/a/af8b4d6d9fde86ab51aefc65e225e33f.mid: 285\n",
      "[!] Not enough notes /home/yihsin/dataset/midicaps/lmd_full/a/abe23bc8d29f34e5a4f9d19585bc1338.mid: 0\n",
      "[!] Not enough notes /home/yihsin/dataset/midicaps/lmd_full/b/b5fb45f61b1f44af669cf9c0efee0a8c.mid: 0\n",
      "[!] Invalid end time /home/yihsin/dataset/midicaps/lmd_full/e/eb2c57bf44c0ef8796aeb9a76ab7d015.mid: 373\n",
      "[!] Invalid end time /home/yihsin/dataset/midicaps/lmd_full/1/1e099b7ac8f499c0448647b7ae224a20.mid: 384\n",
      "[!] Invalid end time /home/yihsin/dataset/midicaps/lmd_full/c/c4133ec1c0a84f3fe6adc5a889abda57.mid: 180\n",
      "[!] Invalid end time /home/yihsin/dataset/midicaps/lmd_full/1/1f54f2c30b50e2e72f513f412fbaf1d1.mid: 186\n",
      "[!] Invalid end time /home/yihsin/dataset/midicaps/lmd_full/f/f676c48eadf9ace8bc456f560250c7af.mid: 338\n",
      "[!] Not enough notes /home/yihsin/dataset/midicaps/lmd_full/9/93688b71048f0339a834ca66094ace38.mid: 22\n",
      "[!] Invalid end time /home/yihsin/dataset/midicaps/lmd_full/6/62b8f70123b64177a0ef3b42603ee8cc.mid: 222\n",
      "[!] Invalid end time /home/yihsin/dataset/midicaps/lmd_full/c/c16554694fae7b6c46b4804966c7f3c4.mid: 138\n",
      "[!] Invalid end time /home/yihsin/dataset/midicaps/lmd_full/1/131476428d850f727f94747d57d708a8.mid: 384\n",
      "[!] Invalid end time /home/yihsin/dataset/midicaps/lmd_full/5/59f9089696dc8342b2b6b9983ac62346.mid: 330\n",
      "[!] Invalid end time /home/yihsin/dataset/midicaps/lmd_full/3/3ba456ea5361cac4581f62de0cfd87a3.mid: 168\n",
      "[!] Invalid end time /home/yihsin/dataset/midicaps/lmd_full/8/8b38c122c2cd954c986d811464f3fb23.mid: 192\n",
      "[!] Invalid end time /home/yihsin/dataset/midicaps/lmd_full/2/2c5102cdad997a86b2dbb4b83f11e0a0.mid: 384\n",
      "[!] Not enough notes /home/yihsin/dataset/midicaps/lmd_full/d/da402898954070244a567ad89b4ff02e.mid: 45\n",
      "[!] Invalid end time /home/yihsin/dataset/midicaps/lmd_full/c/c1a115fa6b7c59508d319fbba07df559.mid: 384\n",
      "[!] Invalid end time /home/yihsin/dataset/midicaps/lmd_full/e/e60a6740166e0b215ac4c4e72d153d37.mid: 457\n",
      "[!] Invalid end time /home/yihsin/dataset/midicaps/lmd_full/b/b0ae2d280db9d7bfea501235576b9df1.mid: 384\n",
      "[!] Invalid end time /home/yihsin/dataset/midicaps/lmd_full/0/04751b90a8933397323374f2373529d1.mid: 270\n",
      "[!] Invalid end time /home/yihsin/dataset/midicaps/lmd_full/8/8bbf18769161c8e120de0f78ab48b980.mid: 338\n",
      "[!] Not enough notes /home/yihsin/dataset/midicaps/lmd_full/8/80013e388373fca6ca310ee77d021e6a.mid: 32\n",
      "[!] Invalid end time /home/yihsin/dataset/midicaps/lmd_full/2/24668773e60dea230dd81d18f0c2d4af.mid: 94\n",
      "[!] Invalid end time /home/yihsin/dataset/midicaps/lmd_full/3/3f602dc1e87386d8139ff4d16cf2cda6.mid: 432\n",
      "[!] Not enough notes /home/yihsin/dataset/midicaps/lmd_full/7/7575e445ea7bcf870679036a93eb7720.mid: 0\n",
      "[!] Invalid end time /home/yihsin/dataset/midicaps/lmd_full/b/b965cdca3b1c9b46809dc626008ecbf4.mid: 318\n",
      "[!] Invalid end time /home/yihsin/dataset/midicaps/lmd_full/f/f8d7a3f8c85055c43ccfd06b4b0b47a2.mid: 94\n",
      "[!] Invalid end time /home/yihsin/dataset/midicaps/lmd_full/9/96b96cb3968e59c476c6c64ea74a4733.mid: 294\n",
      "[!] Invalid end time /home/yihsin/dataset/midicaps/lmd_full/1/1e8688db8d1542b4bea7d3f0a59177bd.mid: 384\n",
      "[!] Invalid end time /home/yihsin/dataset/midicaps/lmd_full/e/e24bec397523057866e442701de78c8b.mid: 294\n",
      "[!] Invalid end time /home/yihsin/dataset/midicaps/lmd_full/7/76ac88eda53b66be382552696f9d568a.mid: 192\n",
      "[!] Invalid end time /home/yihsin/dataset/midicaps/lmd_full/e/ed88cd904869eed6746230eb155220c8.mid: 384\n",
      "[!] Not enough notes /home/yihsin/dataset/midicaps/lmd_full/1/1621338c8842afbd497aad485a30d38e.mid: 46\n",
      "[!] Not enough notes /home/yihsin/dataset/midicaps/lmd_full/e/ec1a0dec191abf79ccc3700eea20d56f.mid: 0\n",
      "[!] Invalid end time /home/yihsin/dataset/midicaps/lmd_full/a/ae6244690b2e22667dcad11361d1093a.mid: 192\n",
      "[!] Not enough notes /home/yihsin/dataset/midicaps/lmd_full/5/5a51b7a3e973508abfe0a4af29b8e840.mid: 29\n",
      "[!] Invalid end time /home/yihsin/dataset/midicaps/lmd_full/a/a2a6f1d7b8dc555085a2b684d959e972.mid: 198\n",
      "[!] Invalid end time /home/yihsin/dataset/midicaps/lmd_full/a/aa8e0018965e06ecdd923191a38db893.mid: 255\n"
     ]
    },
    {
     "name": "stderr",
     "output_type": "stream",
     "text": [
      "\n"
     ]
    }
   ],
   "source": [
    "from concurrent.futures import ProcessPoolExecutor, as_completed\n",
    "from tqdm import tqdm\n",
    "\n",
    "errors = []\n",
    "with ProcessPoolExecutor() as executor:\n",
    "    futures = [executor.submit(process_file, mid_path) for mid_path in all_mid_files]\n",
    "    for f in tqdm(as_completed(futures), total=len(futures), desc=\"Processing MIDI files\"):\n",
    "        result = f.result()\n",
    "        if result is not None:\n",
    "            errors.append(result)\n",
    "\n",
    "for err in errors:\n",
    "    print(err)"
   ]
  },
  {
   "cell_type": "code",
   "execution_count": 34,
   "metadata": {},
   "outputs": [
    {
     "name": "stdout",
     "output_type": "stream",
     "text": [
      "1) Value: 2226, File: /home/yihsin/dataset/midicaps-mini-parsed-mmt/train/7_71e15f7c7fb50579d15923283a84daa5.npy, Position: (32814, 0)\n",
      "2) Value: 2226, File: /home/yihsin/dataset/midicaps-mini-parsed-mmt/train/7_71e15f7c7fb50579d15923283a84daa5.npy, Position: (32818, 0)\n",
      "3) Value: 2226, File: /home/yihsin/dataset/midicaps-mini-parsed-mmt/train/7_71e15f7c7fb50579d15923283a84daa5.npy, Position: (32821, 0)\n",
      "4) Value: 2124, File: /home/yihsin/dataset/midicaps-mini-parsed-mmt/train/5_546cd0e977089204a52226035a7290ec.npy, Position: (6255, 0)\n",
      "5) Value: 2121, File: /home/yihsin/dataset/midicaps-mini-parsed-mmt/train/5_546cd0e977089204a52226035a7290ec.npy, Position: (6252, 0)\n"
     ]
    },
    {
     "data": {
      "image/png": "[encoded data removed]",
      "text/plain": [
       "<Figure size 1200x700 with 1 Axes>"
      ]
     },
     "metadata": {
      "image/png": {
       "height": 689,
       "width": 1190
      }
     },
     "output_type": "display_data"
    }
   ],
   "source": [
    "import os\n",
    "import numpy as np\n",
    "from concurrent.futures import ProcessPoolExecutor, as_completed\n",
    "import heapq\n",
    "\n",
    "# Path to the dataset\n",
    "root_dir = \"/home/yihsin/dataset/midicaps-mini-parsed-mmt/train\"\n",
    "\n",
    "# Collect all .npy files recursively\n",
    "npy_files = []\n",
    "for dirpath, _, filenames in os.walk(root_dir):\n",
    "    for file in filenames:\n",
    "        if file.endswith(\".npy\"):\n",
    "            npy_files.append(os.path.join(dirpath, file))\n",
    "\n",
    "# Function to get top 3 values with positions and filename\n",
    "def get_top_3_from_file(file_path):\n",
    "    try:\n",
    "        array = np.load(file_path, allow_pickle=True)\n",
    "        flat = array.flatten()\n",
    "        # Get indices of top 3 values\n",
    "        if flat.size == 0:\n",
    "            return []\n",
    "        top_indices = np.argpartition(flat, -3)[-3:]\n",
    "        top_values_with_info = []\n",
    "        for idx in top_indices:\n",
    "            val = flat[idx]\n",
    "            orig_pos = np.unravel_index(idx, array.shape)\n",
    "            top_values_with_info.append((val, file_path, orig_pos))\n",
    "        return top_values_with_info\n",
    "    except Exception as e:\n",
    "        print(f\"Error loading {file_path}: {e}\")\n",
    "        return []\n",
    "\n",
    "# Use a heap to track global top 3 values\n",
    "top_k = 5\n",
    "top_heap = []\n",
    "\n",
    "# Run in parallel\n",
    "with ProcessPoolExecutor() as executor:\n",
    "    futures = [executor.submit(get_top_3_from_file, path) for path in npy_files]\n",
    "    for future in as_completed(futures):\n",
    "        local_top = future.result()\n",
    "        for item in local_top:\n",
    "            if len(top_heap) < top_k:\n",
    "                heapq.heappush(top_heap, item)\n",
    "            else:\n",
    "                heapq.heappushpop(top_heap, item)\n",
    "\n",
    "# Sort final top 3 in descending order\n",
    "top_heap.sort(reverse=True, key=lambda x: x[0])\n",
    "\n",
    "import matplotlib.pyplot as plt\n",
    "# plot historgrams\n",
    "# Plot setup\n",
    "plt.figure(figsize=(12, 7))\n",
    "\n",
    "# Display results\n",
    "for rank, (val, filename, position) in enumerate(top_heap, 1):\n",
    "    print(f\"{rank}) Value: {val}, File: {filename}, Position: {position}\")\n",
    "    array = np.load(filename)\n",
    "    \n",
    "    if array.shape[1] < 4:\n",
    "        raise ValueError(f\"{filename} does not have at least 4 columns.\")\n",
    "    \n",
    "    column4 = array[:, 3]\n",
    "    \n",
    "    plt.hist(\n",
    "        column4, \n",
    "        bins=50, \n",
    "        alpha=0.5, \n",
    "        label=filename.split('/')[-1],  # Just use filename as label\n",
    "        edgecolor='black'\n",
    "    )\n",
    "\n",
    "\n",
    "# Final touches\n",
    "plt.title('Histograms of 4th Column (array[:, 3]) Across Files')\n",
    "plt.xlabel('Value')\n",
    "plt.ylabel('Frequency')\n",
    "plt.legend()\n",
    "plt.grid(True)\n",
    "plt.tight_layout()\n",
    "plt.show()\n"
   ]
  },
  {
   "cell_type": "markdown",
   "metadata": {},
   "source": [
    "### Test REMI+ preprocessing"
   ]
  },
  {
   "cell_type": "code",
   "execution_count": null,
   "metadata": {},
   "outputs": [
    {
     "name": "stderr",
     "output_type": "stream",
     "text": [
      "/home/yihsin/miniforge3/envs/mmpy11/lib/python3.11/site-packages/miditok/tokenizations/remi.py:88: UserWarning: Attribute controls are not compatible with 'config.one_token_stream_for_programs' and multi-vocabulary tokenizers. Disabling them from the config.\n",
      "  super().__init__(tokenizer_config, params)\n"
     ]
    }
   ],
   "source": [
    "from miditok import REMI, TokenizerConfig  # here we choose to use REMI\n",
    "\n",
    "# Our parameters <- use default tokens & remi+ for first trial\n",
    "TOKENIZER_PARAMS = {\n",
    "    \"pitch_range\": (21, 109),\n",
    "    \"beat_res\": {(0, 4): 8, (4, 12): 4},\n",
    "    \"num_velocities\": 32,\n",
    "    \"special_tokens\": [\"PAD\", \"BOS\", \"EOS\", \"MASK\"],\n",
    "    \"use_chords\": True,\n",
    "    \"use_rests\": False,\n",
    "    \"use_tempos\": True,\n",
    "    \"use_time_signatures\": True, #remi+\n",
    "    \"use_programs\": True,        #remi+\n",
    "    \"num_tempos\": 32,  # number of tempo bins\n",
    "    \"tempo_range\": (40, 250),  # (min, max)\n",
    "    \"one_token_stream_for_programs\": True\n",
    "}\n",
    "config = TokenizerConfig(**TOKENIZER_PARAMS)\n",
    "\n",
    "# Creates the tokenizer\n",
    "tokenizer = REMI(config)"
   ]
  },
  {
   "cell_type": "code",
   "execution_count": 16,
   "metadata": {},
   "outputs": [],
   "source": [
    "from pathlib import Path\n",
    "\n",
    "# Tokenize a MIDI file\n",
    "tokens = tokenizer(\"/home/yihsin/dataset/midicaps/lmd_full/1/157e84c82fc923cb4e0ed7ada2fb4df6.mid\")  # automatically detects Score objects, paths, tokens\n",
    "\n",
    "# Convert to MIDI and save it\n",
    "generated_midi = tokenizer(tokens)  # MidiTok can handle PyTorch/Numpy/Tensorflow tensors\n",
    "generated_midi.dump_midi(\"./decoded_midi.mid\")"
   ]
  },
  {
   "cell_type": "code",
   "execution_count": 42,
   "metadata": {},
   "outputs": [],
   "source": [
    "import pickle\n",
    "\n",
    "with open(\"/home/yihsin/midicaps-mini-parsed/remi_plus_vocab.pkl\", \"wb\") as f:\n",
    "    pickle.dump(tokenizer.vocab, f)"
   ]
  },
  {
   "cell_type": "code",
   "execution_count": 43,
   "metadata": {},
   "outputs": [
    {
     "data": {
      "text/plain": [
       "530"
      ]
     },
     "execution_count": 43,
     "metadata": {},
     "output_type": "execute_result"
    }
   ],
   "source": [
    "len(tokenizer.vocab)"
   ]
  },
  {
   "cell_type": "code",
   "execution_count": null,
   "metadata": {},
   "outputs": [
    {
     "data": {
      "text/plain": [
       "{'PAD_None': 0,\n",
       " 'BOS_None': 1,\n",
       " 'EOS_None': 2,\n",
       " 'MASK_None': 3,\n",
       " 'Bar_None': 4,\n",
       " 'Pitch_21': 5,\n",
       " 'Pitch_22': 6,\n",
       " 'Pitch_23': 7,\n",
       " 'Pitch_24': 8,\n",
       " 'Pitch_25': 9,\n",
       " 'Pitch_26': 10,\n",
       " 'Pitch_27': 11,\n",
       " 'Pitch_28': 12,\n",
       " 'Pitch_29': 13,\n",
       " 'Pitch_30': 14,\n",
       " 'Pitch_31': 15,\n",
       " 'Pitch_32': 16,\n",
       " 'Pitch_33': 17,\n",
       " 'Pitch_34': 18,\n",
       " 'Pitch_35': 19,\n",
       " 'Pitch_36': 20,\n",
       " 'Pitch_37': 21,\n",
       " 'Pitch_38': 22,\n",
       " 'Pitch_39': 23,\n",
       " 'Pitch_40': 24,\n",
       " 'Pitch_41': 25,\n",
       " 'Pitch_42': 26,\n",
       " 'Pitch_43': 27,\n",
       " 'Pitch_44': 28,\n",
       " 'Pitch_45': 29,\n",
       " 'Pitch_46': 30,\n",
       " 'Pitch_47': 31,\n",
       " 'Pitch_48': 32,\n",
       " 'Pitch_49': 33,\n",
       " 'Pitch_50': 34,\n",
       " 'Pitch_51': 35,\n",
       " 'Pitch_52': 36,\n",
       " 'Pitch_53': 37,\n",
       " 'Pitch_54': 38,\n",
       " 'Pitch_55': 39,\n",
       " 'Pitch_56': 40,\n",
       " 'Pitch_57': 41,\n",
       " 'Pitch_58': 42,\n",
       " 'Pitch_59': 43,\n",
       " 'Pitch_60': 44,\n",
       " 'Pitch_61': 45,\n",
       " 'Pitch_62': 46,\n",
       " 'Pitch_63': 47,\n",
       " 'Pitch_64': 48,\n",
       " 'Pitch_65': 49,\n",
       " 'Pitch_66': 50,\n",
       " 'Pitch_67': 51,\n",
       " 'Pitch_68': 52,\n",
       " 'Pitch_69': 53,\n",
       " 'Pitch_70': 54,\n",
       " 'Pitch_71': 55,\n",
       " 'Pitch_72': 56,\n",
       " 'Pitch_73': 57,\n",
       " 'Pitch_74': 58,\n",
       " 'Pitch_75': 59,\n",
       " 'Pitch_76': 60,\n",
       " 'Pitch_77': 61,\n",
       " 'Pitch_78': 62,\n",
       " 'Pitch_79': 63,\n",
       " 'Pitch_80': 64,\n",
       " 'Pitch_81': 65,\n",
       " 'Pitch_82': 66,\n",
       " 'Pitch_83': 67,\n",
       " 'Pitch_84': 68,\n",
       " 'Pitch_85': 69,\n",
       " 'Pitch_86': 70,\n",
       " 'Pitch_87': 71,\n",
       " 'Pitch_88': 72,\n",
       " 'Pitch_89': 73,\n",
       " 'Pitch_90': 74,\n",
       " 'Pitch_91': 75,\n",
       " 'Pitch_92': 76,\n",
       " 'Pitch_93': 77,\n",
       " 'Pitch_94': 78,\n",
       " 'Pitch_95': 79,\n",
       " 'Pitch_96': 80,\n",
       " 'Pitch_97': 81,\n",
       " 'Pitch_98': 82,\n",
       " 'Pitch_99': 83,\n",
       " 'Pitch_100': 84,\n",
       " 'Pitch_101': 85,\n",
       " 'Pitch_102': 86,\n",
       " 'Pitch_103': 87,\n",
       " 'Pitch_104': 88,\n",
       " 'Pitch_105': 89,\n",
       " 'Pitch_106': 90,\n",
       " 'Pitch_107': 91,\n",
       " 'Pitch_108': 92,\n",
       " 'Velocity_3': 93,\n",
       " 'Velocity_7': 94,\n",
       " 'Velocity_11': 95,\n",
       " 'Velocity_15': 96,\n",
       " 'Velocity_19': 97,\n",
       " 'Velocity_23': 98,\n",
       " 'Velocity_27': 99,\n",
       " 'Velocity_31': 100,\n",
       " 'Velocity_35': 101,\n",
       " 'Velocity_39': 102,\n",
       " 'Velocity_43': 103,\n",
       " 'Velocity_47': 104,\n",
       " 'Velocity_51': 105,\n",
       " 'Velocity_55': 106,\n",
       " 'Velocity_59': 107,\n",
       " 'Velocity_63': 108,\n",
       " 'Velocity_67': 109,\n",
       " 'Velocity_71': 110,\n",
       " 'Velocity_75': 111,\n",
       " 'Velocity_79': 112,\n",
       " 'Velocity_83': 113,\n",
       " 'Velocity_87': 114,\n",
       " 'Velocity_91': 115,\n",
       " 'Velocity_95': 116,\n",
       " 'Velocity_99': 117,\n",
       " 'Velocity_103': 118,\n",
       " 'Velocity_107': 119,\n",
       " 'Velocity_111': 120,\n",
       " 'Velocity_115': 121,\n",
       " 'Velocity_119': 122,\n",
       " 'Velocity_123': 123,\n",
       " 'Velocity_127': 124,\n",
       " 'Duration_0.1.8': 125,\n",
       " 'Duration_0.2.8': 126,\n",
       " 'Duration_0.3.8': 127,\n",
       " 'Duration_0.4.8': 128,\n",
       " 'Duration_0.5.8': 129,\n",
       " 'Duration_0.6.8': 130,\n",
       " 'Duration_0.7.8': 131,\n",
       " 'Duration_1.0.8': 132,\n",
       " 'Duration_1.1.8': 133,\n",
       " 'Duration_1.2.8': 134,\n",
       " 'Duration_1.3.8': 135,\n",
       " 'Duration_1.4.8': 136,\n",
       " 'Duration_1.5.8': 137,\n",
       " 'Duration_1.6.8': 138,\n",
       " 'Duration_1.7.8': 139,\n",
       " 'Duration_2.0.8': 140,\n",
       " 'Duration_2.1.8': 141,\n",
       " 'Duration_2.2.8': 142,\n",
       " 'Duration_2.3.8': 143,\n",
       " 'Duration_2.4.8': 144,\n",
       " 'Duration_2.5.8': 145,\n",
       " 'Duration_2.6.8': 146,\n",
       " 'Duration_2.7.8': 147,\n",
       " 'Duration_3.0.8': 148,\n",
       " 'Duration_3.1.8': 149,\n",
       " 'Duration_3.2.8': 150,\n",
       " 'Duration_3.3.8': 151,\n",
       " 'Duration_3.4.8': 152,\n",
       " 'Duration_3.5.8': 153,\n",
       " 'Duration_3.6.8': 154,\n",
       " 'Duration_3.7.8': 155,\n",
       " 'Duration_4.0.4': 156,\n",
       " 'Duration_4.1.4': 157,\n",
       " 'Duration_4.2.4': 158,\n",
       " 'Duration_4.3.4': 159,\n",
       " 'Duration_5.0.4': 160,\n",
       " 'Duration_5.1.4': 161,\n",
       " 'Duration_5.2.4': 162,\n",
       " 'Duration_5.3.4': 163,\n",
       " 'Duration_6.0.4': 164,\n",
       " 'Duration_6.1.4': 165,\n",
       " 'Duration_6.2.4': 166,\n",
       " 'Duration_6.3.4': 167,\n",
       " 'Duration_7.0.4': 168,\n",
       " 'Duration_7.1.4': 169,\n",
       " 'Duration_7.2.4': 170,\n",
       " 'Duration_7.3.4': 171,\n",
       " 'Duration_8.0.4': 172,\n",
       " 'Duration_8.1.4': 173,\n",
       " 'Duration_8.2.4': 174,\n",
       " 'Duration_8.3.4': 175,\n",
       " 'Duration_9.0.4': 176,\n",
       " 'Duration_9.1.4': 177,\n",
       " 'Duration_9.2.4': 178,\n",
       " 'Duration_9.3.4': 179,\n",
       " 'Duration_10.0.4': 180,\n",
       " 'Duration_10.1.4': 181,\n",
       " 'Duration_10.2.4': 182,\n",
       " 'Duration_10.3.4': 183,\n",
       " 'Duration_11.0.4': 184,\n",
       " 'Duration_11.1.4': 185,\n",
       " 'Duration_11.2.4': 186,\n",
       " 'Duration_11.3.4': 187,\n",
       " 'Duration_12.0.4': 188,\n",
       " 'Position_0': 189,\n",
       " 'Position_1': 190,\n",
       " 'Position_2': 191,\n",
       " 'Position_3': 192,\n",
       " 'Position_4': 193,\n",
       " 'Position_5': 194,\n",
       " 'Position_6': 195,\n",
       " 'Position_7': 196,\n",
       " 'Position_8': 197,\n",
       " 'Position_9': 198,\n",
       " 'Position_10': 199,\n",
       " 'Position_11': 200,\n",
       " 'Position_12': 201,\n",
       " 'Position_13': 202,\n",
       " 'Position_14': 203,\n",
       " 'Position_15': 204,\n",
       " 'Position_16': 205,\n",
       " 'Position_17': 206,\n",
       " 'Position_18': 207,\n",
       " 'Position_19': 208,\n",
       " 'Position_20': 209,\n",
       " 'Position_21': 210,\n",
       " 'Position_22': 211,\n",
       " 'Position_23': 212,\n",
       " 'Position_24': 213,\n",
       " 'Position_25': 214,\n",
       " 'Position_26': 215,\n",
       " 'Position_27': 216,\n",
       " 'Position_28': 217,\n",
       " 'Position_29': 218,\n",
       " 'Position_30': 219,\n",
       " 'Position_31': 220,\n",
       " 'Position_32': 221,\n",
       " 'Position_33': 222,\n",
       " 'Position_34': 223,\n",
       " 'Position_35': 224,\n",
       " 'Position_36': 225,\n",
       " 'Position_37': 226,\n",
       " 'Position_38': 227,\n",
       " 'Position_39': 228,\n",
       " 'Position_40': 229,\n",
       " 'Position_41': 230,\n",
       " 'Position_42': 231,\n",
       " 'Position_43': 232,\n",
       " 'Position_44': 233,\n",
       " 'Position_45': 234,\n",
       " 'Position_46': 235,\n",
       " 'Position_47': 236,\n",
       " 'Position_48': 237,\n",
       " 'Position_49': 238,\n",
       " 'Position_50': 239,\n",
       " 'Position_51': 240,\n",
       " 'Position_52': 241,\n",
       " 'Position_53': 242,\n",
       " 'Position_54': 243,\n",
       " 'Position_55': 244,\n",
       " 'Position_56': 245,\n",
       " 'Position_57': 246,\n",
       " 'Position_58': 247,\n",
       " 'Position_59': 248,\n",
       " 'Position_60': 249,\n",
       " 'Position_61': 250,\n",
       " 'Position_62': 251,\n",
       " 'Position_63': 252,\n",
       " 'Position_64': 253,\n",
       " 'Position_65': 254,\n",
       " 'Position_66': 255,\n",
       " 'Position_67': 256,\n",
       " 'Position_68': 257,\n",
       " 'Position_69': 258,\n",
       " 'Position_70': 259,\n",
       " 'Position_71': 260,\n",
       " 'Position_72': 261,\n",
       " 'Position_73': 262,\n",
       " 'Position_74': 263,\n",
       " 'Position_75': 264,\n",
       " 'Position_76': 265,\n",
       " 'Position_77': 266,\n",
       " 'Position_78': 267,\n",
       " 'Position_79': 268,\n",
       " 'Position_80': 269,\n",
       " 'Position_81': 270,\n",
       " 'Position_82': 271,\n",
       " 'Position_83': 272,\n",
       " 'Position_84': 273,\n",
       " 'Position_85': 274,\n",
       " 'Position_86': 275,\n",
       " 'Position_87': 276,\n",
       " 'Position_88': 277,\n",
       " 'Position_89': 278,\n",
       " 'Position_90': 279,\n",
       " 'Position_91': 280,\n",
       " 'Position_92': 281,\n",
       " 'Position_93': 282,\n",
       " 'Position_94': 283,\n",
       " 'Position_95': 284,\n",
       " 'PitchDrum_27': 285,\n",
       " 'PitchDrum_28': 286,\n",
       " 'PitchDrum_29': 287,\n",
       " 'PitchDrum_30': 288,\n",
       " 'PitchDrum_31': 289,\n",
       " 'PitchDrum_32': 290,\n",
       " 'PitchDrum_33': 291,\n",
       " 'PitchDrum_34': 292,\n",
       " 'PitchDrum_35': 293,\n",
       " 'PitchDrum_36': 294,\n",
       " 'PitchDrum_37': 295,\n",
       " 'PitchDrum_38': 296,\n",
       " 'PitchDrum_39': 297,\n",
       " 'PitchDrum_40': 298,\n",
       " 'PitchDrum_41': 299,\n",
       " 'PitchDrum_42': 300,\n",
       " 'PitchDrum_43': 301,\n",
       " 'PitchDrum_44': 302,\n",
       " 'PitchDrum_45': 303,\n",
       " 'PitchDrum_46': 304,\n",
       " 'PitchDrum_47': 305,\n",
       " 'PitchDrum_48': 306,\n",
       " 'PitchDrum_49': 307,\n",
       " 'PitchDrum_50': 308,\n",
       " 'PitchDrum_51': 309,\n",
       " 'PitchDrum_52': 310,\n",
       " 'PitchDrum_53': 311,\n",
       " 'PitchDrum_54': 312,\n",
       " 'PitchDrum_55': 313,\n",
       " 'PitchDrum_56': 314,\n",
       " 'PitchDrum_57': 315,\n",
       " 'PitchDrum_58': 316,\n",
       " 'PitchDrum_59': 317,\n",
       " 'PitchDrum_60': 318,\n",
       " 'PitchDrum_61': 319,\n",
       " 'PitchDrum_62': 320,\n",
       " 'PitchDrum_63': 321,\n",
       " 'PitchDrum_64': 322,\n",
       " 'PitchDrum_65': 323,\n",
       " 'PitchDrum_66': 324,\n",
       " 'PitchDrum_67': 325,\n",
       " 'PitchDrum_68': 326,\n",
       " 'PitchDrum_69': 327,\n",
       " 'PitchDrum_70': 328,\n",
       " 'PitchDrum_71': 329,\n",
       " 'PitchDrum_72': 330,\n",
       " 'PitchDrum_73': 331,\n",
       " 'PitchDrum_74': 332,\n",
       " 'PitchDrum_75': 333,\n",
       " 'PitchDrum_76': 334,\n",
       " 'PitchDrum_77': 335,\n",
       " 'PitchDrum_78': 336,\n",
       " 'PitchDrum_79': 337,\n",
       " 'PitchDrum_80': 338,\n",
       " 'PitchDrum_81': 339,\n",
       " 'PitchDrum_82': 340,\n",
       " 'PitchDrum_83': 341,\n",
       " 'PitchDrum_84': 342,\n",
       " 'PitchDrum_85': 343,\n",
       " 'PitchDrum_86': 344,\n",
       " 'PitchDrum_87': 345,\n",
       " 'Chord_min': 346,\n",
       " 'Chord_maj': 347,\n",
       " 'Chord_dim': 348,\n",
       " 'Chord_aug': 349,\n",
       " 'Chord_sus2': 350,\n",
       " 'Chord_sus4': 351,\n",
       " 'Chord_7dom': 352,\n",
       " 'Chord_7min': 353,\n",
       " 'Chord_7maj': 354,\n",
       " 'Chord_7halfdim': 355,\n",
       " 'Chord_7dim': 356,\n",
       " 'Chord_7aug': 357,\n",
       " 'Chord_9maj': 358,\n",
       " 'Chord_9min': 359,\n",
       " 'Tempo_40.0': 360,\n",
       " 'Tempo_46.77': 361,\n",
       " 'Tempo_53.55': 362,\n",
       " 'Tempo_60.32': 363,\n",
       " 'Tempo_67.1': 364,\n",
       " 'Tempo_73.87': 365,\n",
       " 'Tempo_80.65': 366,\n",
       " 'Tempo_87.42': 367,\n",
       " 'Tempo_94.19': 368,\n",
       " 'Tempo_100.97': 369,\n",
       " 'Tempo_107.74': 370,\n",
       " 'Tempo_114.52': 371,\n",
       " 'Tempo_121.29': 372,\n",
       " 'Tempo_128.06': 373,\n",
       " 'Tempo_134.84': 374,\n",
       " 'Tempo_141.61': 375,\n",
       " 'Tempo_148.39': 376,\n",
       " 'Tempo_155.16': 377,\n",
       " 'Tempo_161.94': 378,\n",
       " 'Tempo_168.71': 379,\n",
       " 'Tempo_175.48': 380,\n",
       " 'Tempo_182.26': 381,\n",
       " 'Tempo_189.03': 382,\n",
       " 'Tempo_195.81': 383,\n",
       " 'Tempo_202.58': 384,\n",
       " 'Tempo_209.35': 385,\n",
       " 'Tempo_216.13': 386,\n",
       " 'Tempo_222.9': 387,\n",
       " 'Tempo_229.68': 388,\n",
       " 'Tempo_236.45': 389,\n",
       " 'Tempo_243.23': 390,\n",
       " 'Tempo_250.0': 391,\n",
       " 'Program_0': 392,\n",
       " 'Program_1': 393,\n",
       " 'Program_2': 394,\n",
       " 'Program_3': 395,\n",
       " 'Program_4': 396,\n",
       " 'Program_5': 397,\n",
       " 'Program_6': 398,\n",
       " 'Program_7': 399,\n",
       " 'Program_8': 400,\n",
       " 'Program_9': 401,\n",
       " 'Program_10': 402,\n",
       " 'Program_11': 403,\n",
       " 'Program_12': 404,\n",
       " 'Program_13': 405,\n",
       " 'Program_14': 406,\n",
       " 'Program_15': 407,\n",
       " 'Program_16': 408,\n",
       " 'Program_17': 409,\n",
       " 'Program_18': 410,\n",
       " 'Program_19': 411,\n",
       " 'Program_20': 412,\n",
       " 'Program_21': 413,\n",
       " 'Program_22': 414,\n",
       " 'Program_23': 415,\n",
       " 'Program_24': 416,\n",
       " 'Program_25': 417,\n",
       " 'Program_26': 418,\n",
       " 'Program_27': 419,\n",
       " 'Program_28': 420,\n",
       " 'Program_29': 421,\n",
       " 'Program_30': 422,\n",
       " 'Program_31': 423,\n",
       " 'Program_32': 424,\n",
       " 'Program_33': 425,\n",
       " 'Program_34': 426,\n",
       " 'Program_35': 427,\n",
       " 'Program_36': 428,\n",
       " 'Program_37': 429,\n",
       " 'Program_38': 430,\n",
       " 'Program_39': 431,\n",
       " 'Program_40': 432,\n",
       " 'Program_41': 433,\n",
       " 'Program_42': 434,\n",
       " 'Program_43': 435,\n",
       " 'Program_44': 436,\n",
       " 'Program_45': 437,\n",
       " 'Program_46': 438,\n",
       " 'Program_47': 439,\n",
       " 'Program_48': 440,\n",
       " 'Program_49': 441,\n",
       " 'Program_50': 442,\n",
       " 'Program_51': 443,\n",
       " 'Program_52': 444,\n",
       " 'Program_53': 445,\n",
       " 'Program_54': 446,\n",
       " 'Program_55': 447,\n",
       " 'Program_56': 448,\n",
       " 'Program_57': 449,\n",
       " 'Program_58': 450,\n",
       " 'Program_59': 451,\n",
       " 'Program_60': 452,\n",
       " 'Program_61': 453,\n",
       " 'Program_62': 454,\n",
       " 'Program_63': 455,\n",
       " 'Program_64': 456,\n",
       " 'Program_65': 457,\n",
       " 'Program_66': 458,\n",
       " 'Program_67': 459,\n",
       " 'Program_68': 460,\n",
       " 'Program_69': 461,\n",
       " 'Program_70': 462,\n",
       " 'Program_71': 463,\n",
       " 'Program_72': 464,\n",
       " 'Program_73': 465,\n",
       " 'Program_74': 466,\n",
       " 'Program_75': 467,\n",
       " 'Program_76': 468,\n",
       " 'Program_77': 469,\n",
       " 'Program_78': 470,\n",
       " 'Program_79': 471,\n",
       " 'Program_80': 472,\n",
       " 'Program_81': 473,\n",
       " 'Program_82': 474,\n",
       " 'Program_83': 475,\n",
       " 'Program_84': 476,\n",
       " 'Program_85': 477,\n",
       " 'Program_86': 478,\n",
       " 'Program_87': 479,\n",
       " 'Program_88': 480,\n",
       " 'Program_89': 481,\n",
       " 'Program_90': 482,\n",
       " 'Program_91': 483,\n",
       " 'Program_92': 484,\n",
       " 'Program_93': 485,\n",
       " 'Program_94': 486,\n",
       " 'Program_95': 487,\n",
       " 'Program_96': 488,\n",
       " 'Program_97': 489,\n",
       " 'Program_98': 490,\n",
       " 'Program_99': 491,\n",
       " 'Program_100': 492,\n",
       " 'Program_101': 493,\n",
       " 'Program_102': 494,\n",
       " 'Program_103': 495,\n",
       " 'Program_104': 496,\n",
       " 'Program_105': 497,\n",
       " 'Program_106': 498,\n",
       " 'Program_107': 499,\n",
       " 'Program_108': 500,\n",
       " 'Program_109': 501,\n",
       " 'Program_110': 502,\n",
       " 'Program_111': 503,\n",
       " 'Program_112': 504,\n",
       " 'Program_113': 505,\n",
       " 'Program_114': 506,\n",
       " 'Program_115': 507,\n",
       " 'Program_116': 508,\n",
       " 'Program_117': 509,\n",
       " 'Program_118': 510,\n",
       " 'Program_119': 511,\n",
       " 'Program_120': 512,\n",
       " 'Program_121': 513,\n",
       " 'Program_122': 514,\n",
       " 'Program_123': 515,\n",
       " 'Program_124': 516,\n",
       " 'Program_125': 517,\n",
       " 'Program_126': 518,\n",
       " 'Program_127': 519,\n",
       " 'Program_-1': 520,\n",
       " 'TimeSig_3/8': 521,\n",
       " 'TimeSig_12/8': 522,\n",
       " 'TimeSig_6/8': 523,\n",
       " 'TimeSig_5/4': 524,\n",
       " 'TimeSig_6/4': 525,\n",
       " 'TimeSig_3/4': 526,\n",
       " 'TimeSig_2/4': 527,\n",
       " 'TimeSig_1/4': 528,\n",
       " 'TimeSig_4/4': 529}"
      ]
     },
     "execution_count": 19,
     "metadata": {},
     "output_type": "execute_result"
    }
   ],
   "source": [
    "# save vocab to pkl file\n",
    "tokenizer.vocab"
   ]
  },
  {
   "cell_type": "code",
   "execution_count": null,
   "metadata": {},
   "outputs": [
    {
     "data": {
      "text/plain": [
       "['Bar_None',\n",
       " 'TimeSig_4/4',\n",
       " 'Position_0',\n",
       " 'Tempo_94.19',\n",
       " 'Program_0',\n",
       " 'Pitch_62',\n",
       " 'Velocity_79',\n",
       " 'Duration_2.3.8',\n",
       " 'Program_0',\n",
       " 'Pitch_69',\n",
       " 'Velocity_95',\n",
       " 'Duration_1.0.8',\n",
       " 'Program_0',\n",
       " 'Pitch_71',\n",
       " 'Velocity_87',\n",
       " 'Duration_2.3.8',\n",
       " 'Program_33',\n",
       " 'Pitch_43',\n",
       " 'Velocity_91',\n",
       " 'Duration_1.3.8',\n",
       " 'Program_4',\n",
       " 'Pitch_69',\n",
       " 'Velocity_91',\n",
       " 'Duration_2.3.8',\n",
       " 'Program_4',\n",
       " 'Pitch_71',\n",
       " 'Velocity_83',\n",
       " 'Duration_2.3.8',\n",
       " 'Program_4',\n",
       " 'Pitch_62',\n",
       " 'Velocity_91',\n",
       " 'Duration_2.3.8',\n",
       " 'Program_27',\n",
       " 'Pitch_71',\n",
       " 'Velocity_75',\n",
       " 'Duration_2.3.8',\n",
       " 'Program_27',\n",
       " 'Pitch_62',\n",
       " 'Velocity_79',\n",
       " 'Duration_2.3.8',\n",
       " 'Program_27',\n",
       " 'Pitch_69',\n",
       " 'Velocity_87',\n",
       " 'Duration_1.0.8',\n",
       " 'Position_8',\n",
       " 'Program_0',\n",
       " 'Pitch_67',\n",
       " 'Velocity_83',\n",
       " 'Duration_2.3.8',\n",
       " 'Program_27',\n",
       " 'Pitch_67',\n",
       " 'Velocity_83',\n",
       " 'Duration_2.3.8',\n",
       " 'Position_12',\n",
       " 'Program_33',\n",
       " 'Pitch_43',\n",
       " 'Velocity_95',\n",
       " 'Duration_0.4.8',\n",
       " 'Position_16',\n",
       " 'Program_33',\n",
       " 'Pitch_43',\n",
       " 'Velocity_87',\n",
       " 'Duration_1.3.8',\n",
       " 'Position_20',\n",
       " 'Program_0',\n",
       " 'Pitch_72',\n",
       " 'Velocity_87',\n",
       " 'Duration_0.4.8',\n",
       " 'Program_27',\n",
       " 'Pitch_72',\n",
       " 'Velocity_87',\n",
       " 'Duration_0.4.8',\n",
       " 'Position_24',\n",
       " 'Program_0',\n",
       " 'Pitch_74',\n",
       " 'Velocity_87',\n",
       " 'Duration_0.4.8',\n",
       " 'Program_27',\n",
       " 'Pitch_74',\n",
       " 'Velocity_87',\n",
       " 'Duration_0.4.8',\n",
       " 'Position_28',\n",
       " 'Program_0',\n",
       " 'Pitch_74',\n",
       " 'Velocity_79',\n",
       " 'Duration_2.7.8',\n",
       " 'Program_0',\n",
       " 'Pitch_71',\n",
       " 'Velocity_79',\n",
       " 'Duration_2.7.8',\n",
       " 'Program_0',\n",
       " 'Pitch_69',\n",
       " 'Velocity_91',\n",
       " 'Duration_1.3.8',\n",
       " 'Program_33',\n",
       " 'Pitch_40',\n",
       " 'Velocity_87',\n",
       " 'Duration_1.0.8',\n",
       " 'Program_4',\n",
       " 'Pitch_69',\n",
       " 'Velocity_79',\n",
       " 'Duration_2.7.8',\n",
       " 'Program_4',\n",
       " 'Pitch_74',\n",
       " 'Velocity_91',\n",
       " 'Duration_2.7.8',\n",
       " 'Program_4',\n",
       " 'Pitch_71',\n",
       " 'Velocity_83',\n",
       " 'Duration_2.7.8',\n",
       " 'Program_27',\n",
       " 'Pitch_69',\n",
       " 'Velocity_87',\n",
       " 'Duration_1.3.8',\n",
       " 'Program_27',\n",
       " 'Pitch_74',\n",
       " 'Velocity_83',\n",
       " 'Duration_2.7.8',\n",
       " 'Program_27',\n",
       " 'Pitch_71',\n",
       " 'Velocity_95',\n",
       " 'Duration_2.7.8',\n",
       " 'Bar_None',\n",
       " 'TimeSig_4/4',\n",
       " 'Position_4',\n",
       " 'Program_33',\n",
       " 'Pitch_40',\n",
       " 'Velocity_83',\n",
       " 'Duration_0.4.8',\n",
       " 'Position_8',\n",
       " 'Program_0',\n",
       " 'Pitch_67',\n",
       " 'Velocity_83',\n",
       " 'Duration_2.3.8',\n",
       " 'Program_33',\n",
       " 'Pitch_40',\n",
       " 'Velocity_91',\n",
       " 'Duration_2.3.8',\n",
       " 'Program_27',\n",
       " 'Pitch_67',\n",
       " 'Velocity_91',\n",
       " 'Duration_2.3.8',\n",
       " 'Position_20',\n",
       " 'Program_0',\n",
       " 'Pitch_72',\n",
       " 'Velocity_79',\n",
       " 'Duration_0.4.8',\n",
       " 'Program_27',\n",
       " 'Pitch_72',\n",
       " 'Velocity_91',\n",
       " 'Duration_0.4.8',\n",
       " 'Position_24',\n",
       " 'Program_0',\n",
       " 'Pitch_71',\n",
       " 'Velocity_87',\n",
       " 'Duration_0.4.8',\n",
       " 'Program_27',\n",
       " 'Pitch_71',\n",
       " 'Velocity_87',\n",
       " 'Duration_0.4.8',\n",
       " 'Position_28',\n",
       " 'Program_0',\n",
       " 'Pitch_67',\n",
       " 'Velocity_95',\n",
       " 'Duration_1.3.8',\n",
       " 'Program_0',\n",
       " 'Pitch_60',\n",
       " 'Velocity_75',\n",
       " 'Duration_1.3.8',\n",
       " 'Program_0',\n",
       " 'Pitch_69',\n",
       " 'Velocity_83',\n",
       " 'Duration_1.0.8',\n",
       " 'Program_33',\n",
       " 'Pitch_41',\n",
       " 'Velocity_87',\n",
       " 'Duration_1.7.8',\n",
       " 'Program_4',\n",
       " 'Pitch_60',\n",
       " 'Velocity_87',\n",
       " 'Duration_2.3.8',\n",
       " 'Program_4',\n",
       " 'Pitch_67',\n",
       " 'Velocity_87',\n",
       " 'Duration_2.3.8',\n",
       " 'Program_4',\n",
       " 'Pitch_69',\n",
       " 'Velocity_83',\n",
       " 'Duration_2.3.8',\n",
       " 'Program_27',\n",
       " 'Pitch_69',\n",
       " 'Velocity_87',\n",
       " 'Duration_1.0.8',\n",
       " 'Program_27',\n",
       " 'Pitch_60',\n",
       " 'Velocity_87',\n",
       " 'Duration_1.3.8',\n",
       " 'Program_27',\n",
       " 'Pitch_67',\n",
       " 'Velocity_91',\n",
       " 'Duration_1.3.8',\n",
       " 'Bar_None',\n",
       " 'TimeSig_4/4',\n",
       " 'Position_4',\n",
       " 'Program_0',\n",
       " 'Pitch_71',\n",
       " 'Velocity_83',\n",
       " 'Duration_0.4.8',\n",
       " 'Program_27',\n",
       " 'Pitch_71',\n",
       " 'Velocity_83',\n",
       " 'Duration_0.4.8',\n",
       " 'Position_8',\n",
       " 'Program_0',\n",
       " 'Pitch_65',\n",
       " 'Velocity_83',\n",
       " 'Duration_1.3.8',\n",
       " 'Program_0',\n",
       " 'Pitch_69',\n",
       " 'Velocity_87',\n",
       " 'Duration_1.3.8',\n",
       " 'Program_0',\n",
       " 'Pitch_65',\n",
       " 'Velocity_87',\n",
       " 'Duration_1.3.8',\n",
       " 'Program_0',\n",
       " 'Pitch_72',\n",
       " 'Velocity_79',\n",
       " 'Duration_1.3.8',\n",
       " 'Program_0',\n",
       " 'Pitch_72',\n",
       " 'Velocity_83',\n",
       " 'Duration_1.3.8',\n",
       " 'Program_0',\n",
       " 'Pitch_69',\n",
       " 'Velocity_95',\n",
       " 'Duration_1.3.8',\n",
       " 'Program_27',\n",
       " 'Pitch_69',\n",
       " 'Velocity_91',\n",
       " 'Duration_1.3.8',\n",
       " 'Program_27',\n",
       " 'Pitch_65',\n",
       " 'Velocity_79',\n",
       " 'Duration_1.3.8',\n",
       " 'Program_27',\n",
       " 'Pitch_72',\n",
       " 'Velocity_87',\n",
       " 'Duration_1.3.8',\n",
       " 'Program_27',\n",
       " 'Pitch_65',\n",
       " 'Velocity_87',\n",
       " 'Duration_1.3.8',\n",
       " 'Program_27',\n",
       " 'Pitch_69',\n",
       " 'Velocity_91',\n",
       " 'Duration_1.3.8',\n",
       " 'Program_27',\n",
       " 'Pitch_72',\n",
       " 'Velocity_87',\n",
       " 'Duration_1.3.8',\n",
       " 'Position_12',\n",
       " 'Program_33',\n",
       " 'Pitch_41',\n",
       " 'Velocity_83',\n",
       " 'Duration_0.4.8',\n",
       " 'Position_16',\n",
       " 'Program_33',\n",
       " 'Pitch_41',\n",
       " 'Velocity_83',\n",
       " 'Duration_0.4.8',\n",
       " 'Position_20',\n",
       " 'Program_0',\n",
       " 'Pitch_77',\n",
       " 'Velocity_87',\n",
       " 'Duration_1.0.8',\n",
       " 'Program_0',\n",
       " 'Pitch_72',\n",
       " 'Velocity_87',\n",
       " 'Duration_1.0.8',\n",
       " 'Program_0',\n",
       " 'Pitch_69',\n",
       " 'Velocity_87',\n",
       " 'Duration_1.0.8',\n",
       " 'Program_0',\n",
       " 'Pitch_77',\n",
       " 'Velocity_79',\n",
       " 'Duration_1.0.8',\n",
       " 'Program_0',\n",
       " 'Pitch_69',\n",
       " 'Velocity_87',\n",
       " 'Duration_1.0.8',\n",
       " 'Program_0',\n",
       " 'Pitch_72',\n",
       " 'Velocity_79',\n",
       " 'Duration_1.0.8',\n",
       " 'Program_33',\n",
       " 'Pitch_45',\n",
       " 'Velocity_87',\n",
       " 'Duration_1.0.8',\n",
       " 'Program_27',\n",
       " 'Pitch_69',\n",
       " 'Velocity_87',\n",
       " 'Duration_1.0.8',\n",
       " 'Program_27',\n",
       " 'Pitch_77',\n",
       " 'Velocity_83',\n",
       " 'Duration_1.0.8',\n",
       " 'Program_27',\n",
       " 'Pitch_77',\n",
       " 'Velocity_83',\n",
       " 'Duration_1.0.8',\n",
       " 'Program_27',\n",
       " 'Pitch_72',\n",
       " 'Velocity_87',\n",
       " 'Duration_1.0.8',\n",
       " 'Program_27',\n",
       " 'Pitch_69',\n",
       " 'Velocity_79',\n",
       " 'Duration_1.0.8',\n",
       " 'Program_27',\n",
       " 'Pitch_72',\n",
       " 'Velocity_91',\n",
       " 'Duration_1.0.8',\n",
       " 'Position_28',\n",
       " 'Program_0',\n",
       " 'Pitch_69',\n",
       " 'Velocity_91',\n",
       " 'Duration_1.0.8',\n",
       " 'Program_0',\n",
       " 'Pitch_72',\n",
       " 'Velocity_87',\n",
       " 'Duration_1.0.8',\n",
       " 'Program_0',\n",
       " 'Pitch_69',\n",
       " 'Velocity_83',\n",
       " 'Duration_1.0.8',\n",
       " 'Program_0',\n",
       " 'Pitch_72',\n",
       " 'Velocity_95',\n",
       " 'Duration_1.0.8',\n",
       " 'Program_0',\n",
       " 'Pitch_77',\n",
       " 'Velocity_79',\n",
       " 'Duration_1.0.8',\n",
       " 'Program_0',\n",
       " 'Pitch_77',\n",
       " 'Velocity_75',\n",
       " 'Duration_1.0.8',\n",
       " 'Program_33',\n",
       " 'Pitch_48',\n",
       " 'Velocity_83',\n",
       " 'Duration_1.0.8',\n",
       " 'Program_4',\n",
       " 'Pitch_77',\n",
       " 'Velocity_87',\n",
       " 'Duration_1.0.8',\n",
       " 'Program_4',\n",
       " 'Pitch_72',\n",
       " 'Velocity_87',\n",
       " 'Duration_1.0.8',\n",
       " 'Program_4',\n",
       " 'Pitch_69',\n",
       " 'Velocity_79',\n",
       " 'Duration_1.0.8',\n",
       " 'Program_4',\n",
       " 'Pitch_69',\n",
       " 'Velocity_83',\n",
       " 'Duration_1.0.8',\n",
       " 'Program_4',\n",
       " 'Pitch_77',\n",
       " 'Velocity_87',\n",
       " 'Duration_1.0.8',\n",
       " 'Program_4',\n",
       " 'Pitch_72',\n",
       " 'Velocity_95',\n",
       " 'Duration_1.0.8',\n",
       " 'Program_27',\n",
       " 'Pitch_77',\n",
       " 'Velocity_87',\n",
       " 'Duration_1.0.8',\n",
       " 'Program_27',\n",
       " 'Pitch_72',\n",
       " 'Velocity_79',\n",
       " 'Duration_1.0.8',\n",
       " 'Program_27',\n",
       " 'Pitch_69',\n",
       " 'Velocity_79',\n",
       " 'Duration_1.0.8',\n",
       " 'Program_27',\n",
       " 'Pitch_69',\n",
       " 'Velocity_79',\n",
       " 'Duration_1.0.8',\n",
       " 'Program_27',\n",
       " 'Pitch_77',\n",
       " 'Velocity_87',\n",
       " 'Duration_1.0.8',\n",
       " 'Program_27',\n",
       " 'Pitch_72',\n",
       " 'Velocity_83',\n",
       " 'Duration_1.0.8',\n",
       " 'Bar_None',\n",
       " 'TimeSig_2/4',\n",
       " 'Position_4',\n",
       " 'Program_0',\n",
       " 'Pitch_76',\n",
       " 'Velocity_87',\n",
       " 'Duration_0.4.8',\n",
       " 'Program_0',\n",
       " 'Pitch_67',\n",
       " 'Velocity_87',\n",
       " 'Duration_0.4.8',\n",
       " 'Program_0',\n",
       " 'Pitch_72',\n",
       " 'Velocity_87',\n",
       " 'Duration_0.4.8',\n",
       " 'Program_33',\n",
       " 'Pitch_48',\n",
       " 'Velocity_83',\n",
       " 'Duration_0.4.8',\n",
       " 'Program_4',\n",
       " 'Pitch_76',\n",
       " 'Velocity_83',\n",
       " 'Duration_0.4.8',\n",
       " 'Program_4',\n",
       " 'Pitch_67',\n",
       " 'Velocity_87',\n",
       " 'Duration_0.4.8',\n",
       " 'Program_4',\n",
       " 'Pitch_72',\n",
       " 'Velocity_91',\n",
       " 'Duration_0.4.8',\n",
       " 'Program_27',\n",
       " 'Pitch_72',\n",
       " 'Velocity_75',\n",
       " 'Duration_0.4.8',\n",
       " 'Program_27',\n",
       " 'Pitch_67',\n",
       " 'Velocity_91',\n",
       " 'Duration_0.4.8',\n",
       " 'Program_27',\n",
       " 'Pitch_76',\n",
       " 'Velocity_87',\n",
       " 'Duration_0.4.8',\n",
       " 'Position_8',\n",
       " 'Program_0',\n",
       " 'Pitch_76',\n",
       " 'Velocity_87',\n",
       " 'Duration_1.0.8',\n",
       " 'Program_0',\n",
       " 'Pitch_72',\n",
       " 'Velocity_83',\n",
       " 'Duration_1.0.8',\n",
       " 'Program_0',\n",
       " 'Pitch_67',\n",
       " 'Velocity_91',\n",
       " 'Duration_1.0.8',\n",
       " 'Program_33',\n",
       " 'Pitch_48',\n",
       " 'Velocity_87',\n",
       " 'Duration_1.0.8',\n",
       " 'Program_4',\n",
       " 'Pitch_72',\n",
       " 'Velocity_87',\n",
       " 'Duration_1.0.8',\n",
       " 'Program_4',\n",
       " 'Pitch_67',\n",
       " 'Velocity_87',\n",
       " 'Duration_1.0.8',\n",
       " 'Program_4',\n",
       " 'Pitch_76',\n",
       " 'Velocity_87',\n",
       " 'Duration_1.0.8',\n",
       " 'Program_27',\n",
       " 'Pitch_76',\n",
       " 'Velocity_83',\n",
       " 'Duration_1.0.8',\n",
       " 'Program_27',\n",
       " 'Pitch_67',\n",
       " 'Velocity_87',\n",
       " 'Duration_1.0.8',\n",
       " 'Program_27',\n",
       " 'Pitch_72',\n",
       " 'Velocity_87',\n",
       " 'Duration_1.0.8',\n",
       " 'Bar_None',\n",
       " 'TimeSig_4/4',\n",
       " 'Position_0',\n",
       " 'Program_0',\n",
       " 'Pitch_69',\n",
       " 'Velocity_91',\n",
       " 'Duration_1.0.8',\n",
       " 'Program_0',\n",
       " 'Pitch_62',\n",
       " 'Velocity_83',\n",
       " 'Duration_2.3.8',\n",
       " 'Program_0',\n",
       " 'Pitch_71',\n",
       " 'Velocity_87',\n",
       " 'Duration_2.3.8',\n",
       " 'Program_33',\n",
       " 'Pitch_43',\n",
       " 'Velocity_75',\n",
       " 'Duration_1.3.8',\n",
       " 'Program_-1',\n",
       " 'PitchDrum_81',\n",
       " 'Velocity_71',\n",
       " 'Duration_0.1.8',\n",
       " 'Program_-1',\n",
       " 'PitchDrum_36',\n",
       " 'Velocity_71',\n",
       " 'Duration_0.1.8',\n",
       " 'Program_4',\n",
       " 'Pitch_71',\n",
       " 'Velocity_87',\n",
       " 'Duration_2.3.8',\n",
       " 'Program_4',\n",
       " 'Pitch_62',\n",
       " 'Velocity_87',\n",
       " 'Duration_2.3.8',\n",
       " 'Program_4',\n",
       " 'Pitch_69',\n",
       " 'Velocity_87',\n",
       " 'Duration_1.0.8',\n",
       " 'Program_27',\n",
       " 'Pitch_71',\n",
       " 'Velocity_95',\n",
       " 'Duration_2.3.8',\n",
       " 'Program_27',\n",
       " 'Pitch_69',\n",
       " 'Velocity_83',\n",
       " 'Duration_1.0.8',\n",
       " 'Program_27',\n",
       " 'Pitch_62',\n",
       " 'Velocity_87',\n",
       " 'Duration_2.3.8',\n",
       " 'Program_48',\n",
       " 'Pitch_55',\n",
       " 'Velocity_99',\n",
       " 'Duration_3.3.8',\n",
       " 'Program_48',\n",
       " 'Pitch_59',\n",
       " 'Velocity_99',\n",
       " 'Duration_2.3.8',\n",
       " 'Position_8',\n",
       " 'Program_0',\n",
       " 'Pitch_67',\n",
       " 'Velocity_79',\n",
       " 'Duration_2.3.8',\n",
       " 'Program_-1',\n",
       " 'PitchDrum_42',\n",
       " 'Velocity_103',\n",
       " 'Duration_0.1.8',\n",
       " 'Program_27',\n",
       " 'Pitch_67',\n",
       " 'Velocity_91',\n",
       " 'Duration_2.3.8',\n",
       " 'Position_12',\n",
       " 'Program_33',\n",
       " 'Pitch_43',\n",
       " 'Velocity_83',\n",
       " 'Duration_0.4.8',\n",
       " 'Program_-1',\n",
       " 'PitchDrum_36',\n",
       " 'Velocity_71',\n",
       " 'Duration_0.1.8',\n",
       " 'Position_16',\n",
       " 'Program_33',\n",
       " 'Pitch_43',\n",
       " 'Velocity_91',\n",
       " 'Duration_1.3.8',\n",
       " 'Program_-1',\n",
       " 'PitchDrum_36',\n",
       " 'Velocity_71',\n",
       " 'Duration_0.1.8',\n",
       " 'Position_20',\n",
       " 'Program_0',\n",
       " 'Pitch_72',\n",
       " 'Velocity_87',\n",
       " 'Duration_0.4.8',\n",
       " 'Program_27',\n",
       " 'Pitch_72',\n",
       " 'Velocity_79',\n",
       " 'Duration_0.4.8',\n",
       " 'Program_48',\n",
       " 'Pitch_60',\n",
       " 'Velocity_111',\n",
       " 'Duration_0.4.8',\n",
       " 'Position_24',\n",
       " 'Program_0',\n",
       " 'Pitch_74',\n",
       " 'Velocity_95',\n",
       " 'Duration_0.4.8',\n",
       " 'Program_-1',\n",
       " 'PitchDrum_42',\n",
       " 'Velocity_95',\n",
       " 'Duration_0.1.8',\n",
       " 'Program_27',\n",
       " 'Pitch_74',\n",
       " 'Velocity_87',\n",
       " 'Duration_0.4.8',\n",
       " 'Program_48',\n",
       " 'Pitch_62',\n",
       " 'Velocity_103',\n",
       " 'Duration_0.4.8',\n",
       " 'Position_28',\n",
       " 'Program_0',\n",
       " 'Pitch_71',\n",
       " 'Velocity_87',\n",
       " 'Duration_2.7.8',\n",
       " 'Program_0',\n",
       " 'Pitch_74',\n",
       " 'Velocity_75',\n",
       " 'Duration_2.7.8',\n",
       " 'Program_0',\n",
       " 'Pitch_69',\n",
       " 'Velocity_79',\n",
       " 'Duration_1.3.8',\n",
       " 'Program_33',\n",
       " 'Pitch_40',\n",
       " 'Velocity_95',\n",
       " 'Duration_1.0.8',\n",
       " 'Program_-1',\n",
       " 'PitchDrum_36',\n",
       " 'Velocity_63',\n",
       " 'Duration_0.1.8',\n",
       " 'Program_4',\n",
       " 'Pitch_71',\n",
       " 'Velocity_83',\n",
       " 'Duration_2.7.8',\n",
       " 'Program_4',\n",
       " 'Pitch_74',\n",
       " 'Velocity_75',\n",
       " 'Duration_2.7.8',\n",
       " 'Program_4',\n",
       " 'Pitch_69',\n",
       " 'Velocity_79',\n",
       " 'Duration_2.7.8',\n",
       " 'Program_27',\n",
       " 'Pitch_71',\n",
       " 'Velocity_91',\n",
       " 'Duration_2.7.8',\n",
       " 'Program_27',\n",
       " 'Pitch_74',\n",
       " 'Velocity_83',\n",
       " 'Duration_2.7.8',\n",
       " 'Program_27',\n",
       " 'Pitch_69',\n",
       " 'Velocity_83',\n",
       " 'Duration_1.3.8',\n",
       " 'Program_48',\n",
       " 'Pitch_55',\n",
       " 'Velocity_95',\n",
       " 'Duration_3.6.8',\n",
       " 'Program_48',\n",
       " 'Pitch_62',\n",
       " 'Velocity_99',\n",
       " 'Duration_2.7.8',\n",
       " 'Program_48',\n",
       " 'Pitch_59',\n",
       " 'Velocity_99',\n",
       " 'Duration_2.7.8',\n",
       " 'Bar_None',\n",
       " 'TimeSig_4/4',\n",
       " 'Position_4',\n",
       " 'Program_33',\n",
       " 'Pitch_40',\n",
       " 'Velocity_95',\n",
       " 'Duration_0.4.8',\n",
       " 'Program_-1',\n",
       " 'PitchDrum_36',\n",
       " 'Velocity_79',\n",
       " 'Duration_0.1.8',\n",
       " 'Position_8',\n",
       " 'Program_0',\n",
       " 'Pitch_67',\n",
       " 'Velocity_87',\n",
       " 'Duration_2.3.8',\n",
       " 'Program_33',\n",
       " 'Pitch_40',\n",
       " 'Velocity_91',\n",
       " 'Duration_2.3.8',\n",
       " 'Program_-1',\n",
       " 'PitchDrum_36',\n",
       " 'Velocity_71',\n",
       " 'Duration_0.1.8',\n",
       " 'Program_-1',\n",
       " 'PitchDrum_42',\n",
       " 'Velocity_91',\n",
       " 'Duration_0.1.8',\n",
       " 'Program_27',\n",
       " 'Pitch_67',\n",
       " 'Velocity_87',\n",
       " 'Duration_2.3.8',\n",
       " 'Position_20',\n",
       " 'Program_0',\n",
       " 'Pitch_72',\n",
       " 'Velocity_87',\n",
       " 'Duration_0.4.8',\n",
       " 'Program_-1',\n",
       " 'PitchDrum_36',\n",
       " 'Velocity_67',\n",
       " 'Duration_0.1.8',\n",
       " 'Program_27',\n",
       " 'Pitch_72',\n",
       " 'Velocity_87',\n",
       " 'Duration_0.4.8',\n",
       " 'Program_48',\n",
       " 'Pitch_60',\n",
       " 'Velocity_103',\n",
       " 'Duration_0.4.8',\n",
       " 'Position_24',\n",
       " 'Program_0',\n",
       " 'Pitch_71',\n",
       " 'Velocity_87',\n",
       " 'Duration_0.4.8',\n",
       " 'Program_-1',\n",
       " 'PitchDrum_42',\n",
       " 'Velocity_99',\n",
       " 'Duration_0.1.8',\n",
       " 'Program_27',\n",
       " 'Pitch_71',\n",
       " 'Velocity_87',\n",
       " 'Duration_0.4.8',\n",
       " 'Program_48',\n",
       " 'Pitch_59',\n",
       " 'Velocity_99',\n",
       " 'Duration_0.4.8',\n",
       " 'Position_28',\n",
       " 'Program_0',\n",
       " 'Pitch_69',\n",
       " 'Velocity_83',\n",
       " 'Duration_1.0.8',\n",
       " 'Program_0',\n",
       " 'Pitch_67',\n",
       " 'Velocity_91',\n",
       " 'Duration_1.3.8',\n",
       " 'Program_0',\n",
       " 'Pitch_60',\n",
       " 'Velocity_87',\n",
       " 'Duration_1.3.8',\n",
       " 'Program_33',\n",
       " 'Pitch_41',\n",
       " 'Velocity_83',\n",
       " 'Duration_1.7.8',\n",
       " 'Program_-1',\n",
       " 'PitchDrum_36',\n",
       " 'Velocity_71',\n",
       " 'Duration_0.1.8',\n",
       " 'Program_4',\n",
       " 'Pitch_60',\n",
       " 'Velocity_87',\n",
       " 'Duration_2.3.8',\n",
       " 'Program_4',\n",
       " 'Pitch_67',\n",
       " 'Velocity_87',\n",
       " 'Duration_2.3.8',\n",
       " 'Program_4',\n",
       " 'Pitch_69',\n",
       " 'Velocity_87',\n",
       " 'Duration_2.3.8',\n",
       " 'Program_27',\n",
       " 'Pitch_69',\n",
       " 'Velocity_87',\n",
       " 'Duration_1.0.8',\n",
       " 'Program_27',\n",
       " 'Pitch_60',\n",
       " 'Velocity_95',\n",
       " 'Duration_1.3.8',\n",
       " 'Program_27',\n",
       " 'Pitch_67',\n",
       " 'Velocity_83',\n",
       " 'Duration_1.3.8',\n",
       " 'Program_48',\n",
       " 'Pitch_53',\n",
       " 'Velocity_99',\n",
       " 'Duration_2.7.8',\n",
       " 'Program_48',\n",
       " 'Pitch_57',\n",
       " 'Velocity_99',\n",
       " 'Duration_1.0.8',\n",
       " 'Bar_None',\n",
       " 'TimeSig_4/4',\n",
       " 'Position_4',\n",
       " 'Program_0',\n",
       " 'Pitch_71',\n",
       " 'Velocity_91',\n",
       " 'Duration_0.4.8',\n",
       " 'Program_27',\n",
       " 'Pitch_71',\n",
       " 'Velocity_87',\n",
       " 'Duration_0.4.8',\n",
       " 'Program_48',\n",
       " 'Pitch_59',\n",
       " 'Velocity_99',\n",
       " 'Duration_0.4.8',\n",
       " 'Position_8',\n",
       " 'Program_0',\n",
       " 'Pitch_65',\n",
       " 'Velocity_87',\n",
       " 'Duration_1.3.8',\n",
       " 'Program_0',\n",
       " 'Pitch_72',\n",
       " 'Velocity_91',\n",
       " 'Duration_1.3.8',\n",
       " 'Program_0',\n",
       " 'Pitch_72',\n",
       " 'Velocity_91',\n",
       " 'Duration_1.3.8',\n",
       " 'Program_0',\n",
       " 'Pitch_65',\n",
       " 'Velocity_87',\n",
       " 'Duration_1.3.8',\n",
       " 'Program_0',\n",
       " 'Pitch_69',\n",
       " 'Velocity_87',\n",
       " 'Duration_1.3.8',\n",
       " 'Program_0',\n",
       " 'Pitch_69',\n",
       " 'Velocity_87',\n",
       " 'Duration_1.3.8',\n",
       " 'Program_-1',\n",
       " 'PitchDrum_42',\n",
       " 'Velocity_99',\n",
       " 'Duration_0.1.8',\n",
       " 'Program_27',\n",
       " 'Pitch_65',\n",
       " 'Velocity_83',\n",
       " 'Duration_1.3.8',\n",
       " 'Program_27',\n",
       " 'Pitch_72',\n",
       " 'Velocity_83',\n",
       " 'Duration_1.3.8',\n",
       " 'Program_27',\n",
       " 'Pitch_69',\n",
       " 'Velocity_87',\n",
       " 'Duration_1.3.8',\n",
       " 'Program_27',\n",
       " 'Pitch_69',\n",
       " 'Velocity_79',\n",
       " 'Duration_1.3.8',\n",
       " 'Program_27',\n",
       " 'Pitch_72',\n",
       " 'Velocity_87',\n",
       " 'Duration_1.3.8',\n",
       " 'Program_27',\n",
       " 'Pitch_65',\n",
       " 'Velocity_79',\n",
       " 'Duration_1.3.8',\n",
       " 'Program_48',\n",
       " 'Pitch_60',\n",
       " 'Velocity_103',\n",
       " 'Duration_1.3.8',\n",
       " 'Position_12',\n",
       " 'Program_33',\n",
       " 'Pitch_41',\n",
       " 'Velocity_87',\n",
       " 'Duration_0.4.8',\n",
       " 'Program_-1',\n",
       " 'PitchDrum_36',\n",
       " 'Velocity_71',\n",
       " 'Duration_0.1.8',\n",
       " 'Position_16',\n",
       " 'Program_33',\n",
       " 'Pitch_41',\n",
       " 'Velocity_87',\n",
       " 'Duration_0.4.8',\n",
       " 'Program_-1',\n",
       " 'PitchDrum_36',\n",
       " 'Velocity_67',\n",
       " 'Duration_0.1.8',\n",
       " 'Position_20',\n",
       " 'Program_0',\n",
       " 'Pitch_72',\n",
       " 'Velocity_87',\n",
       " 'Duration_1.0.8',\n",
       " 'Program_0',\n",
       " 'Pitch_77',\n",
       " 'Velocity_87',\n",
       " 'Duration_1.0.8',\n",
       " 'Program_0',\n",
       " 'Pitch_69',\n",
       " 'Velocity_87',\n",
       " 'Duration_1.0.8',\n",
       " 'Program_0',\n",
       " 'Pitch_77',\n",
       " 'Velocity_87',\n",
       " 'Duration_1.0.8',\n",
       " 'Program_0',\n",
       " 'Pitch_72',\n",
       " 'Velocity_83',\n",
       " 'Duration_1.0.8',\n",
       " 'Program_0',\n",
       " 'Pitch_69',\n",
       " 'Velocity_75',\n",
       " 'Duration_1.0.8',\n",
       " 'Program_33',\n",
       " 'Pitch_45',\n",
       " 'Velocity_83',\n",
       " 'Duration_1.0.8',\n",
       " 'Program_-1',\n",
       " 'PitchDrum_36',\n",
       " 'Velocity_75',\n",
       " 'Duration_0.1.8',\n",
       " 'Program_27',\n",
       " 'Pitch_77',\n",
       " 'Velocity_87',\n",
       " 'Duration_1.0.8',\n",
       " 'Program_27',\n",
       " 'Pitch_69',\n",
       " 'Velocity_87',\n",
       " 'Duration_1.0.8',\n",
       " 'Program_27',\n",
       " 'Pitch_72',\n",
       " 'Velocity_87',\n",
       " 'Duration_1.0.8',\n",
       " 'Program_27',\n",
       " 'Pitch_77',\n",
       " 'Velocity_79',\n",
       " 'Duration_1.0.8',\n",
       " 'Program_27',\n",
       " 'Pitch_69',\n",
       " 'Velocity_91',\n",
       " 'Duration_1.0.8',\n",
       " 'Program_27',\n",
       " 'Pitch_72',\n",
       " 'Velocity_83',\n",
       " 'Duration_1.0.8',\n",
       " 'Program_48',\n",
       " 'Pitch_60',\n",
       " 'Velocity_91',\n",
       " 'Duration_3.3.8',\n",
       " 'Program_48',\n",
       " 'Pitch_65',\n",
       " 'Velocity_99',\n",
       " 'Duration_1.0.8',\n",
       " 'Position_24',\n",
       " 'Program_-1',\n",
       " 'PitchDrum_42',\n",
       " 'Velocity_99',\n",
       " 'Duration_0.1.8',\n",
       " 'Position_28',\n",
       " 'Program_0',\n",
       " 'Pitch_69',\n",
       " 'Velocity_91',\n",
       " 'Duration_1.0.8',\n",
       " 'Program_0',\n",
       " 'Pitch_72',\n",
       " 'Velocity_79',\n",
       " 'Duration_1.0.8',\n",
       " 'Program_0',\n",
       " 'Pitch_77',\n",
       " 'Velocity_83',\n",
       " 'Duration_1.0.8',\n",
       " 'Program_0',\n",
       " 'Pitch_69',\n",
       " 'Velocity_83',\n",
       " 'Duration_1.0.8',\n",
       " 'Program_0',\n",
       " 'Pitch_72',\n",
       " 'Velocity_83',\n",
       " 'Duration_1.0.8',\n",
       " 'Program_0',\n",
       " 'Pitch_77',\n",
       " 'Velocity_83',\n",
       " 'Duration_1.0.8',\n",
       " 'Program_33',\n",
       " 'Pitch_48',\n",
       " 'Velocity_83',\n",
       " 'Duration_1.0.8',\n",
       " 'Program_-1',\n",
       " 'PitchDrum_36',\n",
       " 'Velocity_71',\n",
       " 'Duration_0.1.8',\n",
       " 'Program_4',\n",
       " 'Pitch_77',\n",
       " 'Velocity_79',\n",
       " 'Duration_1.0.8',\n",
       " 'Program_4',\n",
       " 'Pitch_72',\n",
       " 'Velocity_91',\n",
       " 'Duration_1.0.8',\n",
       " 'Program_4',\n",
       " 'Pitch_69',\n",
       " 'Velocity_79',\n",
       " 'Duration_1.0.8',\n",
       " 'Program_4',\n",
       " 'Pitch_72',\n",
       " 'Velocity_95',\n",
       " 'Duration_1.0.8',\n",
       " 'Program_4',\n",
       " 'Pitch_69',\n",
       " 'Velocity_87',\n",
       " 'Duration_1.0.8',\n",
       " 'Program_4',\n",
       " 'Pitch_77',\n",
       " 'Velocity_87',\n",
       " 'Duration_1.0.8',\n",
       " 'Program_27',\n",
       " 'Pitch_69',\n",
       " ...]"
      ]
     },
     "execution_count": 18,
     "metadata": {},
     "output_type": "execute_result"
    }
   ],
   "source": [
    "# store processed tokens to .pkl file for training\n",
    "tokens.tokens"
   ]
  },
  {
   "cell_type": "markdown",
   "metadata": {},
   "source": [
    "### Clean midicaps dataset"
   ]
  },
  {
   "cell_type": "code",
   "execution_count": 30,
   "metadata": {},
   "outputs": [
    {
     "name": "stderr",
     "output_type": "stream",
     "text": [
      "/home/yihsin/miniforge3/envs/mmpy11/lib/python3.11/site-packages/miditok/tokenizations/remi.py:88: UserWarning: Attribute controls are not compatible with 'config.one_token_stream_for_programs' and multi-vocabulary tokenizers. Disabling them from the config.\n",
      "  super().__init__(tokenizer_config, params)\n"
     ]
    }
   ],
   "source": [
    "# define tokenizer\n",
    "from miditok import REMI, TokenizerConfig  # here we choose to use REMI\n",
    "\n",
    "# Our parameters <- use default tokens & remi+ for first trial\n",
    "TOKENIZER_PARAMS = {\n",
    "    \"pitch_range\": (21, 109),\n",
    "    \"beat_res\": {(0, 4): 8, (4, 12): 4},\n",
    "    \"num_velocities\": 32,\n",
    "    \"special_tokens\": [\"PAD\", \"BOS\", \"EOS\", \"MASK\"],\n",
    "    \"use_chords\": True,\n",
    "    \"use_rests\": False,\n",
    "    \"use_tempos\": True,\n",
    "    \"use_time_signatures\": True, #remi+\n",
    "    \"use_programs\": True,        #remi+\n",
    "    \"num_tempos\": 32,  # number of tempo bins\n",
    "    \"tempo_range\": (40, 250),  # (min, max)\n",
    "    \"one_token_stream_for_programs\": True\n",
    "}\n",
    "config = TokenizerConfig(**TOKENIZER_PARAMS)\n",
    "\n",
    "# Creates the tokenizer\n",
    "tokenizer = REMI(config)\n",
    "event2idx = tokenizer.vocab"
   ]
  },
  {
   "cell_type": "code",
   "execution_count": 32,
   "metadata": {},
   "outputs": [],
   "source": [
    "base_dir = Path(\"/home/yihsin/dataset/midicaps\")\n",
    "output_train = Path(\"/home/yihsin/midicaps-mini-parsed/train\")\n",
    "output_valid = Path(\"/home/yihsin/midicaps-mini-parsed/valid\")\n",
    "output_train.mkdir(parents=True, exist_ok=True)\n",
    "output_valid.mkdir(parents=True, exist_ok=True)"
   ]
  },
  {
   "cell_type": "code",
   "execution_count": 38,
   "metadata": {},
   "outputs": [
    {
     "name": "stdout",
     "output_type": "stream",
     "text": [
      "Found 168385 MIDI files.\n"
     ]
    }
   ],
   "source": [
    "# get 1/10 of the dataset\n",
    "import random\n",
    "import numpy as np\n",
    "from pathlib import Path\n",
    "\n",
    "# Base directory containing subfolders\n",
    "base_dir = Path(base_dir)\n",
    "\n",
    "# Recursively find all .mid files\n",
    "all_mid_files = list(base_dir.rglob(\"*.mid\"))\n",
    "print(f\"Found {len(all_mid_files)} MIDI files.\")\n",
    "\n",
    "# Randomly pick 1/10 of them\n",
    "sample_size = max(1, len(all_mid_files) // 10)\n",
    "sampled_files = random.sample(all_mid_files, sample_size)\n",
    "\n",
    "# Convert to list of strings (paths)\n",
    "sampled_file_paths = [str(p) for p in sampled_files]"
   ]
  },
  {
   "cell_type": "code",
   "execution_count": 14,
   "metadata": {},
   "outputs": [
    {
     "data": {
      "text/plain": [
       "1026"
      ]
     },
     "execution_count": 14,
     "metadata": {},
     "output_type": "execute_result"
    }
   ],
   "source": [
    "len(BEAT_CODE_MAP)"
   ]
  },
  {
   "cell_type": "code",
   "execution_count": 40,
   "metadata": {},
   "outputs": [
    {
     "name": "stdout",
     "output_type": "stream",
     "text": [
      "Found 16838 MIDI files.\n",
      "Processed 0/16838\n",
      "Processed 100/16838\n",
      "Processed 200/16838\n",
      "Processed 300/16838\n",
      "Processed 400/16838\n",
      "Processed 500/16838\n",
      "Processed 600/16838\n",
      "Processed 700/16838\n",
      "Processed 800/16838\n",
      "Processed 900/16838\n",
      "Processed 1000/16838\n",
      "Processed 1100/16838\n",
      "Processed 1200/16838\n",
      "Processed 1300/16838\n",
      "Processed 1400/16838\n",
      "Processed 1500/16838\n",
      "Processed 1600/16838\n",
      "Processed 1700/16838\n",
      "Processed 1800/16838\n",
      "Processed 1900/16838\n",
      "Processed 2000/16838\n",
      "Processed 2100/16838\n",
      "Processed 2200/16838\n",
      "Processed 2300/16838\n",
      "Processed 2400/16838\n",
      "Processed 2500/16838\n",
      "Processed 2600/16838\n",
      "Processed 2700/16838\n",
      "Processed 2800/16838\n",
      "Processed 2900/16838\n",
      "Processed 3000/16838\n",
      "Processed 3100/16838\n",
      "Processed 3200/16838\n",
      "Processed 3300/16838\n",
      "Processed 3400/16838\n",
      "Processed 3500/16838\n",
      "Processed 3600/16838\n",
      "Processed 3700/16838\n",
      "Processed 3800/16838\n",
      "Processed 3900/16838\n",
      "Processed 4000/16838\n",
      "Processed 4100/16838\n",
      "Processed 4200/16838\n",
      "Processed 4300/16838\n",
      "Processed 4400/16838\n",
      "Processed 4500/16838\n",
      "Processed 4600/16838\n",
      "Processed 4700/16838\n",
      "Processed 4800/16838\n",
      "Processed 4900/16838\n",
      "Processed 5000/16838\n",
      "Processed 5100/16838\n",
      "Processed 5200/16838\n",
      "Processed 5300/16838\n",
      "Processed 5400/16838\n",
      "Processed 5500/16838\n",
      "Processed 5600/16838\n",
      "Processed 5700/16838\n",
      "Processed 5800/16838\n",
      "Processed 5900/16838\n",
      "Processed 6000/16838\n",
      "Processed 6100/16838\n",
      "Processed 6200/16838\n",
      "Processed 6300/16838\n",
      "Processed 6400/16838\n",
      "Processed 6500/16838\n",
      "Processed 6600/16838\n",
      "Processed 6700/16838\n",
      "Processed 6800/16838\n",
      "Processed 6900/16838\n",
      "Processed 7000/16838\n",
      "Processed 7100/16838\n",
      "Processed 7200/16838\n",
      "Processed 7300/16838\n",
      "Processed 7400/16838\n",
      "Processed 7500/16838\n",
      "Processed 7600/16838\n",
      "Processed 7700/16838\n",
      "Processed 7800/16838\n",
      "Processed 7900/16838\n",
      "Processed 8000/16838\n",
      "Processed 8100/16838\n",
      "Processed 8200/16838\n",
      "Processed 8300/16838\n",
      "Processed 8400/16838\n",
      "Processed 8500/16838\n",
      "Processed 8600/16838\n",
      "Processed 8700/16838\n",
      "Processed 8800/16838\n",
      "Processed 8900/16838\n",
      "Processed 9000/16838\n",
      "Processed 9100/16838\n",
      "Processed 9200/16838\n",
      "Processed 9300/16838\n",
      "Processed 9400/16838\n",
      "Processed 9500/16838\n",
      "Processed 9600/16838\n",
      "Processed 9700/16838\n",
      "Processed 9800/16838\n",
      "Processed 9900/16838\n",
      "Processed 10000/16838\n",
      "Processed 10100/16838\n",
      "Processed 10200/16838\n",
      "Processed 10300/16838\n",
      "Processed 10400/16838\n",
      "Processed 10500/16838\n",
      "Processed 10600/16838\n",
      "Processed 10700/16838\n",
      "Processed 10800/16838\n",
      "Processed 10900/16838\n",
      "Processed 11000/16838\n",
      "Processed 11100/16838\n",
      "Processed 11200/16838\n",
      "Processed 11300/16838\n",
      "Processed 11400/16838\n",
      "Processed 11500/16838\n",
      "Processed 11600/16838\n",
      "Processed 11700/16838\n",
      "Processed 11800/16838\n",
      "Processed 11900/16838\n",
      "Processed 12000/16838\n",
      "Processed 12100/16838\n",
      "Processed 12200/16838\n",
      "Processed 12300/16838\n",
      "Processed 12400/16838\n",
      "Processed 12500/16838\n",
      "Processed 12600/16838\n",
      "Processed 12700/16838\n",
      "Processed 12800/16838\n",
      "Processed 12900/16838\n",
      "Processed 13000/16838\n",
      "Processed 13100/16838\n",
      "Processed 13200/16838\n",
      "Processed 13300/16838\n",
      "Processed 13400/16838\n",
      "Processed 13500/16838\n",
      "Processed 13600/16838\n",
      "Processed 13700/16838\n",
      "Processed 13800/16838\n",
      "Processed 13900/16838\n",
      "Processed 14000/16838\n",
      "Processed 14100/16838\n",
      "Processed 14200/16838\n",
      "Processed 14300/16838\n",
      "Processed 14400/16838\n",
      "Processed 14500/16838\n",
      "Processed 14600/16838\n",
      "Processed 14700/16838\n",
      "Processed 14800/16838\n",
      "Processed 14900/16838\n",
      "Processed 15000/16838\n",
      "Processed 15100/16838\n",
      "Processed 15200/16838\n",
      "Processed 15300/16838\n",
      "Processed 15400/16838\n",
      "Processed 15500/16838\n",
      "Processed 15600/16838\n",
      "Processed 15700/16838\n",
      "Processed 15800/16838\n",
      "Processed 15900/16838\n",
      "Processed 16000/16838\n",
      "Processed 16100/16838\n",
      "Processed 16200/16838\n",
      "Processed 16300/16838\n",
      "Processed 16400/16838\n",
      "Processed 16500/16838\n",
      "Processed 16600/16838\n",
      "Processed 16700/16838\n",
      "Processed 16800/16838\n",
      "✅ Done.\n"
     ]
    }
   ],
   "source": [
    "# Find all MIDI files\n",
    "all_mid_files = sampled_file_paths\n",
    "print(f\"Found {len(all_mid_files)} MIDI files.\")\n",
    "\n",
    "num_valid = max(1, len(all_mid_files) // 100)\n",
    "valid_set = set(all_mid_files[:num_valid])\n",
    "\n",
    "for i, mid_path in enumerate(all_mid_files):\n",
    "    # Derive unique name: <subfolder>_<id>.npy\n",
    "    pth_obj = Path(mid_path)\n",
    "    relative = pth_obj.relative_to(base_dir)\n",
    "    subfolder = relative.parts[-2]\n",
    "    stem = pth_obj.stem  # filename without .mid\n",
    "    filename = f\"{subfolder}_{stem}.npy\"\n",
    "\n",
    "    try:\n",
    "        tokens = tokenizer(mid_path).tokens\n",
    "        arr = np.array([event2idx[e] for e in tokens])\n",
    "    except Exception as e:\n",
    "        print(f\"[!] Failed to process {mid_path}: {e}\")\n",
    "        continue\n",
    "\n",
    "    # Choose folder\n",
    "    if mid_path in valid_set:\n",
    "        out_path = output_valid / filename\n",
    "    else:\n",
    "        out_path = output_train / filename\n",
    "\n",
    "    np.save(out_path, arr)\n",
    "\n",
    "    if i % 100 == 0:\n",
    "        print(f\"Processed {i}/{len(all_mid_files)}\")\n",
    "\n",
    "print(\"✅ Done.\")"
   ]
  },
  {
   "cell_type": "code",
   "execution_count": 41,
   "metadata": {},
   "outputs": [
    {
     "data": {
      "text/plain": [
       "array([  4, 529, 189, ...,  59, 114, 172], shape=(14635,))"
      ]
     },
     "execution_count": 41,
     "metadata": {},
     "output_type": "execute_result"
    }
   ],
   "source": [
    "np.load(\"/home/yihsin/midicaps-mini-parsed/train/f_fd7b815a42b30bb3fd3f64230698e7a6.npy\")"
   ]
  }
 ],
 "metadata": {
  "kernelspec": {
   "display_name": "mmpy11",
   "language": "python",
   "name": "python3"
  },
  "language_info": {
   "codemirror_mode": {
    "name": "ipython",
    "version": 3
   },
   "file_extension": ".py",
   "mimetype": "text/x-python",
   "name": "python",
   "nbconvert_exporter": "python",
   "pygments_lexer": "ipython3",
   "version": "3.11.12"
  }
 },
 "nbformat": 4,
 "nbformat_minor": 2
}
